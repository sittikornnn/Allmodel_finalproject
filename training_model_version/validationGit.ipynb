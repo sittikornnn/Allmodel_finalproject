{
 "cells": [
  {
   "cell_type": "code",
   "execution_count": 6,
   "id": "c5dc11d4",
   "metadata": {},
   "outputs": [
    {
     "data": {
      "text/html": [
       "<div>\n",
       "<style scoped>\n",
       "    .dataframe tbody tr th:only-of-type {\n",
       "        vertical-align: middle;\n",
       "    }\n",
       "\n",
       "    .dataframe tbody tr th {\n",
       "        vertical-align: top;\n",
       "    }\n",
       "\n",
       "    .dataframe thead th {\n",
       "        text-align: right;\n",
       "    }\n",
       "</style>\n",
       "<table border=\"1\" class=\"dataframe\">\n",
       "  <thead>\n",
       "    <tr style=\"text-align: right;\">\n",
       "      <th></th>\n",
       "      <th>sent1</th>\n",
       "      <th>sent2</th>\n",
       "      <th>score</th>\n",
       "    </tr>\n",
       "  </thead>\n",
       "  <tbody>\n",
       "    <tr>\n",
       "      <th>0</th>\n",
       "      <td>ผู้หญิงกำลังจัดแต่งทรงผมของเธอ</td>\n",
       "      <td>ผู้หญิงคนหนึ่งกำลังแปรงผมของเธอ</td>\n",
       "      <td>2.5</td>\n",
       "    </tr>\n",
       "    <tr>\n",
       "      <th>1</th>\n",
       "      <td>กลุ่มผู้ชายเล่นฟุตบอลบนชายหาด</td>\n",
       "      <td>กลุ่มเด็กผู้ชายกำลังเล่นฟุตบอลบนชายหาด</td>\n",
       "      <td>3.6</td>\n",
       "    </tr>\n",
       "    <tr>\n",
       "      <th>2</th>\n",
       "      <td>ผู้หญิงคนหนึ่งกำลังวัดข้อเท้าของผู้หญิงคนอื่น</td>\n",
       "      <td>ผู้หญิงวัดข้อเท้าของผู้หญิงคนอื่น</td>\n",
       "      <td>5.0</td>\n",
       "    </tr>\n",
       "    <tr>\n",
       "      <th>3</th>\n",
       "      <td>ผู้ชายกำลังตัดแตงกวา</td>\n",
       "      <td>ผู้ชายกำลังหั่นแตงกวา</td>\n",
       "      <td>4.2</td>\n",
       "    </tr>\n",
       "    <tr>\n",
       "      <th>4</th>\n",
       "      <td>ผู้ชายกำลังเล่นพิณ</td>\n",
       "      <td>ผู้ชายกำลังเล่นแป้นพิมพ์</td>\n",
       "      <td>1.5</td>\n",
       "    </tr>\n",
       "  </tbody>\n",
       "</table>\n",
       "</div>"
      ],
      "text/plain": [
       "                                           sent1  \\\n",
       "0                 ผู้หญิงกำลังจัดแต่งทรงผมของเธอ   \n",
       "1                  กลุ่มผู้ชายเล่นฟุตบอลบนชายหาด   \n",
       "2  ผู้หญิงคนหนึ่งกำลังวัดข้อเท้าของผู้หญิงคนอื่น   \n",
       "3                           ผู้ชายกำลังตัดแตงกวา   \n",
       "4                             ผู้ชายกำลังเล่นพิณ   \n",
       "\n",
       "                                    sent2  score  \n",
       "0         ผู้หญิงคนหนึ่งกำลังแปรงผมของเธอ    2.5  \n",
       "1  กลุ่มเด็กผู้ชายกำลังเล่นฟุตบอลบนชายหาด    3.6  \n",
       "2       ผู้หญิงวัดข้อเท้าของผู้หญิงคนอื่น    5.0  \n",
       "3                   ผู้ชายกำลังหั่นแตงกวา    4.2  \n",
       "4                ผู้ชายกำลังเล่นแป้นพิมพ์    1.5  "
      ]
     },
     "execution_count": 6,
     "metadata": {},
     "output_type": "execute_result"
    }
   ],
   "source": [
    "import pandas as pd\n",
    "\n",
    "df = pd.read_csv('data/sts-test_th.csv', header=None, names=['sent1', 'sent2', 'score'])\n",
    "df.head()"
   ]
  },
  {
   "cell_type": "code",
   "execution_count": 7,
   "id": "460d5a80",
   "metadata": {},
   "outputs": [
    {
     "name": "stdout",
     "output_type": "stream",
     "text": [
      "Model loaded successfully!\n"
     ]
    },
    {
     "data": {
      "text/plain": [
       "SentenceTransformer(\n",
       "  (0): Transformer({'max_seq_length': 128, 'do_lower_case': False}) with Transformer model: BertModel \n",
       "  (1): Pooling({'word_embedding_dimension': 384, 'pooling_mode_cls_token': False, 'pooling_mode_mean_tokens': True, 'pooling_mode_max_tokens': False, 'pooling_mode_mean_sqrt_len_tokens': False, 'pooling_mode_weightedmean_tokens': False, 'pooling_mode_lasttoken': False, 'include_prompt': True})\n",
       ")"
      ]
     },
     "execution_count": 7,
     "metadata": {},
     "output_type": "execute_result"
    }
   ],
   "source": [
    "from sentence_transformers import SentenceTransformer\n",
    "\n",
    "# Load the trained model\n",
    "model = SentenceTransformer(\"trained_model\")\n",
    "print(\"Model loaded successfully!\")\n",
    "model.eval()"
   ]
  },
  {
   "cell_type": "code",
   "execution_count": 8,
   "id": "b92f42f5",
   "metadata": {},
   "outputs": [
    {
     "name": "stdout",
     "output_type": "stream",
     "text": [
      "✅ Mean Squared Error (MSE): 5.804272752934105\n"
     ]
    }
   ],
   "source": [
    "import numpy as np\n",
    "from sklearn.metrics import mean_squared_error\n",
    "from sentence_transformers.util import cos_sim\n",
    "\n",
    "# Extract sentences and scores\n",
    "sentences1 = df['sent1']\n",
    "sentences2 = df['sent2']\n",
    "human_scores = df['score']\n",
    "\n",
    "# Compute embeddings\n",
    "sent1_emb = model.encode(sentences1, convert_to_tensor=True)\n",
    "sent2_emb = model.encode(sentences2, convert_to_tensor=True)\n",
    "\n",
    "# Compute cosine similarities (full matrix)\n",
    "cosine_similarities = cos_sim(sent1_emb, sent2_emb).cpu().numpy()\n",
    "\n",
    "# Extract diagonal values (correct pairwise similarity)\n",
    "cosine_similarities = np.diag(cosine_similarities)\n",
    "\n",
    "# Compute Mean Squared Error (MSE)\n",
    "mse = mean_squared_error(human_scores, cosine_similarities)\n",
    "\n",
    "print(f\"✅ Mean Squared Error (MSE): {mse}\")"
   ]
  },
  {
   "cell_type": "code",
   "execution_count": 9,
   "id": "62199e73",
   "metadata": {},
   "outputs": [
    {
     "name": "stdout",
     "output_type": "stream",
     "text": [
      "Model loaded successfully!\n"
     ]
    },
    {
     "data": {
      "text/plain": [
       "SentenceTransformer(\n",
       "  (0): Transformer({'max_seq_length': 128, 'do_lower_case': False}) with Transformer model: BertModel \n",
       "  (1): Pooling({'word_embedding_dimension': 384, 'pooling_mode_cls_token': False, 'pooling_mode_mean_tokens': True, 'pooling_mode_max_tokens': False, 'pooling_mode_mean_sqrt_len_tokens': False, 'pooling_mode_weightedmean_tokens': False, 'pooling_mode_lasttoken': False, 'include_prompt': True})\n",
       ")"
      ]
     },
     "execution_count": 9,
     "metadata": {},
     "output_type": "execute_result"
    }
   ],
   "source": [
    "from sentence_transformers import SentenceTransformer\n",
    "\n",
    "# Load the trained model\n",
    "model = SentenceTransformer(\"token_model\")\n",
    "print(\"Model loaded successfully!\")\n",
    "model.eval()"
   ]
  },
  {
   "cell_type": "code",
   "execution_count": 10,
   "id": "0292ec37",
   "metadata": {},
   "outputs": [
    {
     "name": "stdout",
     "output_type": "stream",
     "text": [
      "✅ Mean Squared Error (MSE): 5.826691381578268\n"
     ]
    }
   ],
   "source": [
    "import numpy as np\n",
    "from sklearn.metrics import mean_squared_error\n",
    "from sentence_transformers.util import cos_sim\n",
    "\n",
    "# Extract sentences and scores\n",
    "sentences1 = df['sent1']\n",
    "sentences2 = df['sent2']\n",
    "human_scores = df['score']\n",
    "\n",
    "# Compute embeddings\n",
    "sent1_emb = model.encode(sentences1, convert_to_tensor=True)\n",
    "sent2_emb = model.encode(sentences2, convert_to_tensor=True)\n",
    "\n",
    "# Compute cosine similarities (full matrix)\n",
    "cosine_similarities = cos_sim(sent1_emb, sent2_emb).cpu().numpy()\n",
    "\n",
    "# Extract diagonal values (correct pairwise similarity)\n",
    "cosine_similarities = np.diag(cosine_similarities)\n",
    "\n",
    "# Compute Mean Squared Error (MSE)\n",
    "mse = mean_squared_error(human_scores, cosine_similarities)\n",
    "\n",
    "print(f\"✅ Mean Squared Error (MSE): {mse}\")"
   ]
  },
  {
   "cell_type": "code",
   "execution_count": 12,
   "id": "70f429cf",
   "metadata": {},
   "outputs": [
    {
     "name": "stderr",
     "output_type": "stream",
     "text": [
      "!!!!!!!!!!!!megablocks not available, using torch.matmul instead\n"
     ]
    },
    {
     "name": "stdout",
     "output_type": "stream",
     "text": [
      "Model loaded successfully!\n"
     ]
    },
    {
     "data": {
      "text/plain": [
       "SentenceTransformer(\n",
       "  (0): Transformer({'max_seq_length': 512, 'do_lower_case': False}) with Transformer model: NomicBertModel \n",
       "  (1): Pooling({'word_embedding_dimension': 768, 'pooling_mode_cls_token': False, 'pooling_mode_mean_tokens': True, 'pooling_mode_max_tokens': False, 'pooling_mode_mean_sqrt_len_tokens': False, 'pooling_mode_weightedmean_tokens': False, 'pooling_mode_lasttoken': False, 'include_prompt': True})\n",
       "  (2): Normalize()\n",
       ")"
      ]
     },
     "execution_count": 12,
     "metadata": {},
     "output_type": "execute_result"
    }
   ],
   "source": [
    "from sentence_transformers import SentenceTransformer\n",
    "\n",
    "# Load the trained model\n",
    "model = SentenceTransformer(\"nomic_trained_model\", trust_remote_code=True)\n",
    "print(\"Model loaded successfully!\")\n",
    "model.eval()"
   ]
  },
  {
   "cell_type": "code",
   "execution_count": 13,
   "id": "13b30569",
   "metadata": {},
   "outputs": [
    {
     "name": "stdout",
     "output_type": "stream",
     "text": [
      "✅ Mean Squared Error (MSE): 5.948592211873445\n"
     ]
    }
   ],
   "source": [
    "import numpy as np\n",
    "from sklearn.metrics import mean_squared_error\n",
    "from sentence_transformers.util import cos_sim\n",
    "\n",
    "# Extract sentences and scores\n",
    "sentences1 = df['sent1']\n",
    "sentences2 = df['sent2']\n",
    "human_scores = df['score']\n",
    "\n",
    "# Compute embeddings\n",
    "sent1_emb = model.encode(sentences1, convert_to_tensor=True)\n",
    "sent2_emb = model.encode(sentences2, convert_to_tensor=True)\n",
    "\n",
    "# Compute cosine similarities (full matrix)\n",
    "cosine_similarities = cos_sim(sent1_emb, sent2_emb).cpu().numpy()\n",
    "\n",
    "# Extract diagonal values (correct pairwise similarity)\n",
    "cosine_similarities = np.diag(cosine_similarities)\n",
    "\n",
    "# Compute Mean Squared Error (MSE)\n",
    "mse = mean_squared_error(human_scores, cosine_similarities)\n",
    "\n",
    "print(f\"✅ Mean Squared Error (MSE): {mse}\")"
   ]
  },
  {
   "cell_type": "code",
   "execution_count": 14,
   "id": "b842adcb",
   "metadata": {},
   "outputs": [
    {
     "name": "stdout",
     "output_type": "stream",
     "text": [
      "Model loaded successfully!\n"
     ]
    },
    {
     "data": {
      "text/plain": [
       "SentenceTransformer(\n",
       "  (0): Transformer({'max_seq_length': 512, 'do_lower_case': False}) with Transformer model: NomicBertModel \n",
       "  (1): Pooling({'word_embedding_dimension': 768, 'pooling_mode_cls_token': False, 'pooling_mode_mean_tokens': True, 'pooling_mode_max_tokens': False, 'pooling_mode_mean_sqrt_len_tokens': False, 'pooling_mode_weightedmean_tokens': False, 'pooling_mode_lasttoken': False, 'include_prompt': True})\n",
       "  (2): Normalize()\n",
       ")"
      ]
     },
     "execution_count": 14,
     "metadata": {},
     "output_type": "execute_result"
    }
   ],
   "source": [
    "from sentence_transformers import SentenceTransformer\n",
    "\n",
    "# Load the trained model\n",
    "model = SentenceTransformer(\"nomic_token_model\", trust_remote_code=True)\n",
    "print(\"Model loaded successfully!\")\n",
    "model.eval()"
   ]
  },
  {
   "cell_type": "code",
   "execution_count": 15,
   "id": "0671857d",
   "metadata": {},
   "outputs": [
    {
     "name": "stdout",
     "output_type": "stream",
     "text": [
      "✅ Mean Squared Error (MSE): 5.920074066861443\n"
     ]
    }
   ],
   "source": [
    "import numpy as np\n",
    "from sklearn.metrics import mean_squared_error\n",
    "from sentence_transformers.util import cos_sim\n",
    "\n",
    "# Extract sentences and scores\n",
    "sentences1 = df['sent1']\n",
    "sentences2 = df['sent2']\n",
    "human_scores = df['score']\n",
    "\n",
    "# Compute embeddings\n",
    "sent1_emb = model.encode(sentences1, convert_to_tensor=True)\n",
    "sent2_emb = model.encode(sentences2, convert_to_tensor=True)\n",
    "\n",
    "# Compute cosine similarities (full matrix)\n",
    "cosine_similarities = cos_sim(sent1_emb, sent2_emb).cpu().numpy()\n",
    "\n",
    "# Extract diagonal values (correct pairwise similarity)\n",
    "cosine_similarities = np.diag(cosine_similarities)\n",
    "\n",
    "# Compute Mean Squared Error (MSE)\n",
    "mse = mean_squared_error(human_scores, cosine_similarities)\n",
    "\n",
    "print(f\"✅ Mean Squared Error (MSE): {mse}\")"
   ]
  },
  {
   "cell_type": "code",
   "execution_count": null,
   "id": "e98e2735",
   "metadata": {},
   "outputs": [],
   "source": []
  }
 ],
 "metadata": {
  "kernelspec": {
   "display_name": ".venv",
   "language": "python",
   "name": "python3"
  },
  "language_info": {
   "codemirror_mode": {
    "name": "ipython",
    "version": 3
   },
   "file_extension": ".py",
   "mimetype": "text/x-python",
   "name": "python",
   "nbconvert_exporter": "python",
   "pygments_lexer": "ipython3",
   "version": "3.12.4"
  }
 },
 "nbformat": 4,
 "nbformat_minor": 5
}
