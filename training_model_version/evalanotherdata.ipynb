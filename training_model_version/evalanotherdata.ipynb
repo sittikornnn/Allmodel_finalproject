{
 "cells": [
  {
   "cell_type": "code",
   "execution_count": 2,
   "metadata": {},
   "outputs": [],
   "source": [
    "import numpy as np\n",
    "import pandas as pd\n",
    "import scipy.stats\n",
    "from sentence_transformers.util import cos_sim\n",
    "from sentence_transformers import SentenceTransformer\n",
    "\n",
    "model = SentenceTransformer(\"sentence-transformers/paraphrase-multilingual-MiniLM-L12-v2\")"
   ]
  },
  {
   "cell_type": "code",
   "execution_count": 3,
   "metadata": {},
   "outputs": [
    {
     "data": {
      "text/html": [
       "<div>\n",
       "<style scoped>\n",
       "    .dataframe tbody tr th:only-of-type {\n",
       "        vertical-align: middle;\n",
       "    }\n",
       "\n",
       "    .dataframe tbody tr th {\n",
       "        vertical-align: top;\n",
       "    }\n",
       "\n",
       "    .dataframe thead th {\n",
       "        text-align: right;\n",
       "    }\n",
       "</style>\n",
       "<table border=\"1\" class=\"dataframe\">\n",
       "  <thead>\n",
       "    <tr style=\"text-align: right;\">\n",
       "      <th></th>\n",
       "      <th>sent1</th>\n",
       "      <th>sent2</th>\n",
       "      <th>score</th>\n",
       "    </tr>\n",
       "  </thead>\n",
       "  <tbody>\n",
       "    <tr>\n",
       "      <th>0</th>\n",
       "      <td>ผู้หญิงกำลังจัดแต่งทรงผมของเธอ</td>\n",
       "      <td>ผู้หญิงคนหนึ่งกำลังแปรงผมของเธอ</td>\n",
       "      <td>2.5</td>\n",
       "    </tr>\n",
       "    <tr>\n",
       "      <th>1</th>\n",
       "      <td>กลุ่มผู้ชายเล่นฟุตบอลบนชายหาด</td>\n",
       "      <td>กลุ่มเด็กผู้ชายกำลังเล่นฟุตบอลบนชายหาด</td>\n",
       "      <td>3.6</td>\n",
       "    </tr>\n",
       "    <tr>\n",
       "      <th>2</th>\n",
       "      <td>ผู้หญิงคนหนึ่งกำลังวัดข้อเท้าของผู้หญิงคนอื่น</td>\n",
       "      <td>ผู้หญิงวัดข้อเท้าของผู้หญิงคนอื่น</td>\n",
       "      <td>5.0</td>\n",
       "    </tr>\n",
       "    <tr>\n",
       "      <th>3</th>\n",
       "      <td>ผู้ชายกำลังตัดแตงกวา</td>\n",
       "      <td>ผู้ชายกำลังหั่นแตงกวา</td>\n",
       "      <td>4.2</td>\n",
       "    </tr>\n",
       "    <tr>\n",
       "      <th>4</th>\n",
       "      <td>ผู้ชายกำลังเล่นพิณ</td>\n",
       "      <td>ผู้ชายกำลังเล่นแป้นพิมพ์</td>\n",
       "      <td>1.5</td>\n",
       "    </tr>\n",
       "  </tbody>\n",
       "</table>\n",
       "</div>"
      ],
      "text/plain": [
       "                                           sent1  \\\n",
       "0                 ผู้หญิงกำลังจัดแต่งทรงผมของเธอ   \n",
       "1                  กลุ่มผู้ชายเล่นฟุตบอลบนชายหาด   \n",
       "2  ผู้หญิงคนหนึ่งกำลังวัดข้อเท้าของผู้หญิงคนอื่น   \n",
       "3                           ผู้ชายกำลังตัดแตงกวา   \n",
       "4                             ผู้ชายกำลังเล่นพิณ   \n",
       "\n",
       "                                    sent2  score  \n",
       "0         ผู้หญิงคนหนึ่งกำลังแปรงผมของเธอ    2.5  \n",
       "1  กลุ่มเด็กผู้ชายกำลังเล่นฟุตบอลบนชายหาด    3.6  \n",
       "2       ผู้หญิงวัดข้อเท้าของผู้หญิงคนอื่น    5.0  \n",
       "3                   ผู้ชายกำลังหั่นแตงกวา    4.2  \n",
       "4                ผู้ชายกำลังเล่นแป้นพิมพ์    1.5  "
      ]
     },
     "execution_count": 3,
     "metadata": {},
     "output_type": "execute_result"
    }
   ],
   "source": [
    "df = pd.read_csv('data/sts-test_th.csv', header=None, names=['sent1', 'sent2', 'score'])\n",
    "df.head()"
   ]
  },
  {
   "cell_type": "code",
   "execution_count": 4,
   "metadata": {},
   "outputs": [
    {
     "name": "stdout",
     "output_type": "stream",
     "text": [
      "✅ Pearson Correlation: 0.7711\n",
      "✅ Spearman Correlation: 0.7823\n"
     ]
    }
   ],
   "source": [
    "\n",
    "# Extract sentences and scores\n",
    "sentences1 = df['sent1']\n",
    "sentences2 = df['sent2']\n",
    "human_scores = df['score']\n",
    "\n",
    "# Compute embeddings\n",
    "sent1_emb = model.encode(sentences1, convert_to_tensor=True)\n",
    "sent2_emb = model.encode(sentences2, convert_to_tensor=True)\n",
    "\n",
    "# Compute cosine similarities (full matrix)\n",
    "cosine_similarities = cos_sim(sent1_emb, sent2_emb).cpu().numpy()\n",
    "\n",
    "# Extract diagonal values (correct pairwise similarity)\n",
    "cosine_similarities = np.diag(cosine_similarities)\n",
    "\n",
    "# Compute Pearson and Spearman correlation\n",
    "pearson_corr, _ = scipy.stats.pearsonr(human_scores, cosine_similarities)\n",
    "spearman_corr, _ = scipy.stats.spearmanr(human_scores, cosine_similarities)\n",
    "\n",
    "print(f\"✅ Pearson Correlation: {pearson_corr:.4f}\")\n",
    "print(f\"✅ Spearman Correlation: {spearman_corr:.4f}\")"
   ]
  },
  {
   "cell_type": "code",
   "execution_count": 5,
   "metadata": {},
   "outputs": [
    {
     "data": {
      "text/html": [
       "<div>\n",
       "<style scoped>\n",
       "    .dataframe tbody tr th:only-of-type {\n",
       "        vertical-align: middle;\n",
       "    }\n",
       "\n",
       "    .dataframe tbody tr th {\n",
       "        vertical-align: top;\n",
       "    }\n",
       "\n",
       "    .dataframe thead th {\n",
       "        text-align: right;\n",
       "    }\n",
       "</style>\n",
       "<table border=\"1\" class=\"dataframe\">\n",
       "  <thead>\n",
       "    <tr style=\"text-align: right;\">\n",
       "      <th></th>\n",
       "      <th>sent1</th>\n",
       "      <th>sent2</th>\n",
       "      <th>normalize</th>\n",
       "    </tr>\n",
       "  </thead>\n",
       "  <tbody>\n",
       "    <tr>\n",
       "      <th>0</th>\n",
       "      <td>ผู้ป่วยชื่ออะไร</td>\n",
       "      <td>ให้คนไข้</td>\n",
       "      <td>0.4</td>\n",
       "    </tr>\n",
       "    <tr>\n",
       "      <th>1</th>\n",
       "      <td>ไอบูโปรเพน</td>\n",
       "      <td>ไอบูโปรเพน</td>\n",
       "      <td>1.0</td>\n",
       "    </tr>\n",
       "    <tr>\n",
       "      <th>2</th>\n",
       "      <td>ความแรง400มิลลิกรัม</td>\n",
       "      <td>ความแรง400มิลลิกรัม</td>\n",
       "      <td>1.0</td>\n",
       "    </tr>\n",
       "    <tr>\n",
       "      <th>3</th>\n",
       "      <td>จำนวน10เม็ด</td>\n",
       "      <td>จำนวน10เม็ด</td>\n",
       "      <td>1.0</td>\n",
       "    </tr>\n",
       "    <tr>\n",
       "      <th>4</th>\n",
       "      <td>ใช้เพื่อบรรเทาอาการปวด</td>\n",
       "      <td>ใช้เพื่อบรรเทาอาการปวด</td>\n",
       "      <td>1.0</td>\n",
       "    </tr>\n",
       "  </tbody>\n",
       "</table>\n",
       "</div>"
      ],
      "text/plain": [
       "                    sent1                   sent2  normalize\n",
       "0         ผู้ป่วยชื่ออะไร                ให้คนไข้        0.4\n",
       "1              ไอบูโปรเพน              ไอบูโปรเพน        1.0\n",
       "2     ความแรง400มิลลิกรัม     ความแรง400มิลลิกรัม        1.0\n",
       "3             จำนวน10เม็ด             จำนวน10เม็ด        1.0\n",
       "4  ใช้เพื่อบรรเทาอาการปวด  ใช้เพื่อบรรเทาอาการปวด        1.0"
      ]
     },
     "execution_count": 5,
     "metadata": {},
     "output_type": "execute_result"
    }
   ],
   "source": [
    "df = pd.read_excel('data/FineTsent.xlsx')\n",
    "df.drop('score', axis=1, inplace=True)\n",
    "df.head()"
   ]
  },
  {
   "cell_type": "code",
   "execution_count": 6,
   "metadata": {},
   "outputs": [
    {
     "name": "stdout",
     "output_type": "stream",
     "text": [
      "✅ Pearson Correlation: 0.7980\n",
      "✅ Spearman Correlation: 0.8936\n"
     ]
    }
   ],
   "source": [
    "\n",
    "# Extract sentences and scores\n",
    "sentences1 = df['sent1']\n",
    "sentences2 = df['sent2']\n",
    "human_scores = df['normalize']\n",
    "\n",
    "# Compute embeddings\n",
    "sent1_emb = model.encode(sentences1, convert_to_tensor=True)\n",
    "sent2_emb = model.encode(sentences2, convert_to_tensor=True)\n",
    "\n",
    "# Compute cosine similarities (full matrix)\n",
    "cosine_similarities = cos_sim(sent1_emb, sent2_emb).cpu().numpy()\n",
    "\n",
    "# Extract diagonal values (correct pairwise similarity)\n",
    "cosine_similarities = np.diag(cosine_similarities)\n",
    "\n",
    "# Compute Pearson and Spearman correlation\n",
    "pearson_corr, _ = scipy.stats.pearsonr(human_scores, cosine_similarities)\n",
    "spearman_corr, _ = scipy.stats.spearmanr(human_scores, cosine_similarities)\n",
    "\n",
    "print(f\"✅ Pearson Correlation: {pearson_corr:.4f}\")\n",
    "print(f\"✅ Spearman Correlation: {spearman_corr:.4f}\")"
   ]
  },
  {
   "cell_type": "code",
   "execution_count": 7,
   "metadata": {},
   "outputs": [],
   "source": [
    "model = SentenceTransformer(\"trained_model\")"
   ]
  },
  {
   "cell_type": "code",
   "execution_count": 8,
   "metadata": {},
   "outputs": [
    {
     "data": {
      "text/html": [
       "<div>\n",
       "<style scoped>\n",
       "    .dataframe tbody tr th:only-of-type {\n",
       "        vertical-align: middle;\n",
       "    }\n",
       "\n",
       "    .dataframe tbody tr th {\n",
       "        vertical-align: top;\n",
       "    }\n",
       "\n",
       "    .dataframe thead th {\n",
       "        text-align: right;\n",
       "    }\n",
       "</style>\n",
       "<table border=\"1\" class=\"dataframe\">\n",
       "  <thead>\n",
       "    <tr style=\"text-align: right;\">\n",
       "      <th></th>\n",
       "      <th>sent1</th>\n",
       "      <th>sent2</th>\n",
       "      <th>score</th>\n",
       "    </tr>\n",
       "  </thead>\n",
       "  <tbody>\n",
       "    <tr>\n",
       "      <th>0</th>\n",
       "      <td>ผู้หญิงกำลังจัดแต่งทรงผมของเธอ</td>\n",
       "      <td>ผู้หญิงคนหนึ่งกำลังแปรงผมของเธอ</td>\n",
       "      <td>2.5</td>\n",
       "    </tr>\n",
       "    <tr>\n",
       "      <th>1</th>\n",
       "      <td>กลุ่มผู้ชายเล่นฟุตบอลบนชายหาด</td>\n",
       "      <td>กลุ่มเด็กผู้ชายกำลังเล่นฟุตบอลบนชายหาด</td>\n",
       "      <td>3.6</td>\n",
       "    </tr>\n",
       "    <tr>\n",
       "      <th>2</th>\n",
       "      <td>ผู้หญิงคนหนึ่งกำลังวัดข้อเท้าของผู้หญิงคนอื่น</td>\n",
       "      <td>ผู้หญิงวัดข้อเท้าของผู้หญิงคนอื่น</td>\n",
       "      <td>5.0</td>\n",
       "    </tr>\n",
       "    <tr>\n",
       "      <th>3</th>\n",
       "      <td>ผู้ชายกำลังตัดแตงกวา</td>\n",
       "      <td>ผู้ชายกำลังหั่นแตงกวา</td>\n",
       "      <td>4.2</td>\n",
       "    </tr>\n",
       "    <tr>\n",
       "      <th>4</th>\n",
       "      <td>ผู้ชายกำลังเล่นพิณ</td>\n",
       "      <td>ผู้ชายกำลังเล่นแป้นพิมพ์</td>\n",
       "      <td>1.5</td>\n",
       "    </tr>\n",
       "  </tbody>\n",
       "</table>\n",
       "</div>"
      ],
      "text/plain": [
       "                                           sent1  \\\n",
       "0                 ผู้หญิงกำลังจัดแต่งทรงผมของเธอ   \n",
       "1                  กลุ่มผู้ชายเล่นฟุตบอลบนชายหาด   \n",
       "2  ผู้หญิงคนหนึ่งกำลังวัดข้อเท้าของผู้หญิงคนอื่น   \n",
       "3                           ผู้ชายกำลังตัดแตงกวา   \n",
       "4                             ผู้ชายกำลังเล่นพิณ   \n",
       "\n",
       "                                    sent2  score  \n",
       "0         ผู้หญิงคนหนึ่งกำลังแปรงผมของเธอ    2.5  \n",
       "1  กลุ่มเด็กผู้ชายกำลังเล่นฟุตบอลบนชายหาด    3.6  \n",
       "2       ผู้หญิงวัดข้อเท้าของผู้หญิงคนอื่น    5.0  \n",
       "3                   ผู้ชายกำลังหั่นแตงกวา    4.2  \n",
       "4                ผู้ชายกำลังเล่นแป้นพิมพ์    1.5  "
      ]
     },
     "execution_count": 8,
     "metadata": {},
     "output_type": "execute_result"
    }
   ],
   "source": [
    "df = pd.read_csv('data/sts-test_th.csv', header=None, names=['sent1', 'sent2', 'score'])\n",
    "df.head()"
   ]
  },
  {
   "cell_type": "code",
   "execution_count": 9,
   "metadata": {},
   "outputs": [
    {
     "name": "stdout",
     "output_type": "stream",
     "text": [
      "✅ Pearson Correlation: 0.7754\n",
      "✅ Spearman Correlation: 0.7836\n"
     ]
    }
   ],
   "source": [
    "\n",
    "# Extract sentences and scores\n",
    "sentences1 = df['sent1']\n",
    "sentences2 = df['sent2']\n",
    "human_scores = df['score']\n",
    "\n",
    "# Compute embeddings\n",
    "sent1_emb = model.encode(sentences1, convert_to_tensor=True)\n",
    "sent2_emb = model.encode(sentences2, convert_to_tensor=True)\n",
    "\n",
    "# Compute cosine similarities (full matrix)\n",
    "cosine_similarities = cos_sim(sent1_emb, sent2_emb).cpu().numpy()\n",
    "\n",
    "# Extract diagonal values (correct pairwise similarity)\n",
    "cosine_similarities = np.diag(cosine_similarities)\n",
    "\n",
    "# Compute Pearson and Spearman correlation\n",
    "pearson_corr, _ = scipy.stats.pearsonr(human_scores, cosine_similarities)\n",
    "spearman_corr, _ = scipy.stats.spearmanr(human_scores, cosine_similarities)\n",
    "\n",
    "print(f\"✅ Pearson Correlation: {pearson_corr:.4f}\")\n",
    "print(f\"✅ Spearman Correlation: {spearman_corr:.4f}\")"
   ]
  },
  {
   "cell_type": "code",
   "execution_count": 10,
   "metadata": {},
   "outputs": [
    {
     "data": {
      "text/html": [
       "<div>\n",
       "<style scoped>\n",
       "    .dataframe tbody tr th:only-of-type {\n",
       "        vertical-align: middle;\n",
       "    }\n",
       "\n",
       "    .dataframe tbody tr th {\n",
       "        vertical-align: top;\n",
       "    }\n",
       "\n",
       "    .dataframe thead th {\n",
       "        text-align: right;\n",
       "    }\n",
       "</style>\n",
       "<table border=\"1\" class=\"dataframe\">\n",
       "  <thead>\n",
       "    <tr style=\"text-align: right;\">\n",
       "      <th></th>\n",
       "      <th>sent1</th>\n",
       "      <th>sent2</th>\n",
       "      <th>normalize</th>\n",
       "    </tr>\n",
       "  </thead>\n",
       "  <tbody>\n",
       "    <tr>\n",
       "      <th>0</th>\n",
       "      <td>ผู้ป่วยชื่ออะไร</td>\n",
       "      <td>ให้คนไข้</td>\n",
       "      <td>0.4</td>\n",
       "    </tr>\n",
       "    <tr>\n",
       "      <th>1</th>\n",
       "      <td>ไอบูโปรเพน</td>\n",
       "      <td>ไอบูโปรเพน</td>\n",
       "      <td>1.0</td>\n",
       "    </tr>\n",
       "    <tr>\n",
       "      <th>2</th>\n",
       "      <td>ความแรง400มิลลิกรัม</td>\n",
       "      <td>ความแรง400มิลลิกรัม</td>\n",
       "      <td>1.0</td>\n",
       "    </tr>\n",
       "    <tr>\n",
       "      <th>3</th>\n",
       "      <td>จำนวน10เม็ด</td>\n",
       "      <td>จำนวน10เม็ด</td>\n",
       "      <td>1.0</td>\n",
       "    </tr>\n",
       "    <tr>\n",
       "      <th>4</th>\n",
       "      <td>ใช้เพื่อบรรเทาอาการปวด</td>\n",
       "      <td>ใช้เพื่อบรรเทาอาการปวด</td>\n",
       "      <td>1.0</td>\n",
       "    </tr>\n",
       "  </tbody>\n",
       "</table>\n",
       "</div>"
      ],
      "text/plain": [
       "                    sent1                   sent2  normalize\n",
       "0         ผู้ป่วยชื่ออะไร                ให้คนไข้        0.4\n",
       "1              ไอบูโปรเพน              ไอบูโปรเพน        1.0\n",
       "2     ความแรง400มิลลิกรัม     ความแรง400มิลลิกรัม        1.0\n",
       "3             จำนวน10เม็ด             จำนวน10เม็ด        1.0\n",
       "4  ใช้เพื่อบรรเทาอาการปวด  ใช้เพื่อบรรเทาอาการปวด        1.0"
      ]
     },
     "execution_count": 10,
     "metadata": {},
     "output_type": "execute_result"
    }
   ],
   "source": [
    "df = pd.read_excel('data/FineTsent.xlsx')\n",
    "df.drop('score', axis=1, inplace=True)\n",
    "df.head()"
   ]
  },
  {
   "cell_type": "code",
   "execution_count": 11,
   "metadata": {},
   "outputs": [
    {
     "name": "stdout",
     "output_type": "stream",
     "text": [
      "✅ Pearson Correlation: 0.9991\n",
      "✅ Spearman Correlation: 0.9517\n"
     ]
    }
   ],
   "source": [
    "\n",
    "# Extract sentences and scores\n",
    "sentences1 = df['sent1']\n",
    "sentences2 = df['sent2']\n",
    "human_scores = df['normalize']\n",
    "\n",
    "# Compute embeddings\n",
    "sent1_emb = model.encode(sentences1, convert_to_tensor=True)\n",
    "sent2_emb = model.encode(sentences2, convert_to_tensor=True)\n",
    "\n",
    "# Compute cosine similarities (full matrix)\n",
    "cosine_similarities = cos_sim(sent1_emb, sent2_emb).cpu().numpy()\n",
    "\n",
    "# Extract diagonal values (correct pairwise similarity)\n",
    "cosine_similarities = np.diag(cosine_similarities)\n",
    "\n",
    "# Compute Pearson and Spearman correlation\n",
    "pearson_corr, _ = scipy.stats.pearsonr(human_scores, cosine_similarities)\n",
    "spearman_corr, _ = scipy.stats.spearmanr(human_scores, cosine_similarities)\n",
    "\n",
    "print(f\"✅ Pearson Correlation: {pearson_corr:.4f}\")\n",
    "print(f\"✅ Spearman Correlation: {spearman_corr:.4f}\")"
   ]
  }
 ],
 "metadata": {
  "kernelspec": {
   "display_name": ".venv",
   "language": "python",
   "name": "python3"
  },
  "language_info": {
   "codemirror_mode": {
    "name": "ipython",
    "version": 3
   },
   "file_extension": ".py",
   "mimetype": "text/x-python",
   "name": "python",
   "nbconvert_exporter": "python",
   "pygments_lexer": "ipython3",
   "version": "3.12.4"
  }
 },
 "nbformat": 4,
 "nbformat_minor": 2
}
