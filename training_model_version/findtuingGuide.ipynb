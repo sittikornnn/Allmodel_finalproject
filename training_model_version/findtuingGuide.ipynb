{
 "cells": [
  {
   "cell_type": "code",
   "execution_count": 61,
   "id": "43ffcf4b",
   "metadata": {},
   "outputs": [],
   "source": [
    "import pandas as pd\n",
    "import torch\n",
    "from sentence_transformers import SentenceTransformer, losses,SentenceTransformerTrainingArguments,SentenceTransformerTrainer\n",
    "from transformers import EarlyStoppingCallback\n",
    "from sentence_transformers.evaluation import EmbeddingSimilarityEvaluator\n",
    "import matplotlib.pyplot as plt\n",
    "import numpy as np\n",
    "from sentence_transformers.training_args import BatchSamplers"
   ]
  },
  {
   "cell_type": "code",
   "execution_count": 62,
   "id": "71fb328d",
   "metadata": {},
   "outputs": [
    {
     "data": {
      "text/html": [
       "<div>\n",
       "<style scoped>\n",
       "    .dataframe tbody tr th:only-of-type {\n",
       "        vertical-align: middle;\n",
       "    }\n",
       "\n",
       "    .dataframe tbody tr th {\n",
       "        vertical-align: top;\n",
       "    }\n",
       "\n",
       "    .dataframe thead th {\n",
       "        text-align: right;\n",
       "    }\n",
       "</style>\n",
       "<table border=\"1\" class=\"dataframe\">\n",
       "  <thead>\n",
       "    <tr style=\"text-align: right;\">\n",
       "      <th></th>\n",
       "      <th>sent1</th>\n",
       "      <th>sent2</th>\n",
       "      <th>score</th>\n",
       "      <th>normalize</th>\n",
       "    </tr>\n",
       "  </thead>\n",
       "  <tbody>\n",
       "    <tr>\n",
       "      <th>0</th>\n",
       "      <td>ผู้ป่วยชื่ออะไร</td>\n",
       "      <td>ให้คนไข้</td>\n",
       "      <td>2</td>\n",
       "      <td>0.4</td>\n",
       "    </tr>\n",
       "    <tr>\n",
       "      <th>1</th>\n",
       "      <td>ไอบูโปรเพน</td>\n",
       "      <td>ไอบูโปรเพน</td>\n",
       "      <td>5</td>\n",
       "      <td>1.0</td>\n",
       "    </tr>\n",
       "    <tr>\n",
       "      <th>2</th>\n",
       "      <td>ความแรง400มิลลิกรัม</td>\n",
       "      <td>ความแรง400มิลลิกรัม</td>\n",
       "      <td>5</td>\n",
       "      <td>1.0</td>\n",
       "    </tr>\n",
       "    <tr>\n",
       "      <th>3</th>\n",
       "      <td>จำนวน10เม็ด</td>\n",
       "      <td>จำนวน10เม็ด</td>\n",
       "      <td>5</td>\n",
       "      <td>1.0</td>\n",
       "    </tr>\n",
       "    <tr>\n",
       "      <th>4</th>\n",
       "      <td>ใช้เพื่อบรรเทาอาการปวด</td>\n",
       "      <td>ใช้เพื่อบรรเทาอาการปวด</td>\n",
       "      <td>5</td>\n",
       "      <td>1.0</td>\n",
       "    </tr>\n",
       "  </tbody>\n",
       "</table>\n",
       "</div>"
      ],
      "text/plain": [
       "                    sent1                   sent2  score  normalize\n",
       "0         ผู้ป่วยชื่ออะไร                ให้คนไข้      2        0.4\n",
       "1              ไอบูโปรเพน              ไอบูโปรเพน      5        1.0\n",
       "2     ความแรง400มิลลิกรัม     ความแรง400มิลลิกรัม      5        1.0\n",
       "3             จำนวน10เม็ด             จำนวน10เม็ด      5        1.0\n",
       "4  ใช้เพื่อบรรเทาอาการปวด  ใช้เพื่อบรรเทาอาการปวด      5        1.0"
      ]
     },
     "execution_count": 62,
     "metadata": {},
     "output_type": "execute_result"
    }
   ],
   "source": [
    "df = pd.read_excel('data/FineTsent.xlsx')\n",
    "df.head()"
   ]
  },
  {
   "cell_type": "code",
   "execution_count": 63,
   "id": "631ab83c",
   "metadata": {},
   "outputs": [
    {
     "data": {
      "text/html": [
       "<div>\n",
       "<style scoped>\n",
       "    .dataframe tbody tr th:only-of-type {\n",
       "        vertical-align: middle;\n",
       "    }\n",
       "\n",
       "    .dataframe tbody tr th {\n",
       "        vertical-align: top;\n",
       "    }\n",
       "\n",
       "    .dataframe thead th {\n",
       "        text-align: right;\n",
       "    }\n",
       "</style>\n",
       "<table border=\"1\" class=\"dataframe\">\n",
       "  <thead>\n",
       "    <tr style=\"text-align: right;\">\n",
       "      <th></th>\n",
       "      <th>sent1</th>\n",
       "      <th>sent2</th>\n",
       "      <th>label</th>\n",
       "    </tr>\n",
       "  </thead>\n",
       "  <tbody>\n",
       "    <tr>\n",
       "      <th>0</th>\n",
       "      <td>ผู้ป่วยชื่ออะไร</td>\n",
       "      <td>ให้คนไข้</td>\n",
       "      <td>0.4</td>\n",
       "    </tr>\n",
       "    <tr>\n",
       "      <th>1</th>\n",
       "      <td>ไอบูโปรเพน</td>\n",
       "      <td>ไอบูโปรเพน</td>\n",
       "      <td>1.0</td>\n",
       "    </tr>\n",
       "    <tr>\n",
       "      <th>2</th>\n",
       "      <td>ความแรง400มิลลิกรัม</td>\n",
       "      <td>ความแรง400มิลลิกรัม</td>\n",
       "      <td>1.0</td>\n",
       "    </tr>\n",
       "    <tr>\n",
       "      <th>3</th>\n",
       "      <td>จำนวน10เม็ด</td>\n",
       "      <td>จำนวน10เม็ด</td>\n",
       "      <td>1.0</td>\n",
       "    </tr>\n",
       "    <tr>\n",
       "      <th>4</th>\n",
       "      <td>ใช้เพื่อบรรเทาอาการปวด</td>\n",
       "      <td>ใช้เพื่อบรรเทาอาการปวด</td>\n",
       "      <td>1.0</td>\n",
       "    </tr>\n",
       "  </tbody>\n",
       "</table>\n",
       "</div>"
      ],
      "text/plain": [
       "                    sent1                   sent2  label\n",
       "0         ผู้ป่วยชื่ออะไร                ให้คนไข้    0.4\n",
       "1              ไอบูโปรเพน              ไอบูโปรเพน    1.0\n",
       "2     ความแรง400มิลลิกรัม     ความแรง400มิลลิกรัม    1.0\n",
       "3             จำนวน10เม็ด             จำนวน10เม็ด    1.0\n",
       "4  ใช้เพื่อบรรเทาอาการปวด  ใช้เพื่อบรรเทาอาการปวด    1.0"
      ]
     },
     "execution_count": 63,
     "metadata": {},
     "output_type": "execute_result"
    }
   ],
   "source": [
    "df.drop('score', axis=1, inplace=True)\n",
    "df.rename(columns={'normalize': 'label'}, inplace=True)\n",
    "df.head()"
   ]
  },
  {
   "cell_type": "code",
   "execution_count": 64,
   "id": "41944300",
   "metadata": {},
   "outputs": [
    {
     "name": "stdout",
     "output_type": "stream",
     "text": [
      "sent1     object\n",
      "sent2     object\n",
      "label    float64\n",
      "dtype: object\n"
     ]
    }
   ],
   "source": [
    "# Ensure all values are strings and drop NaNs\n",
    "df.dropna(subset=['sent1', 'sent2', 'label'], inplace=True)\n",
    "df['sent1'] = df['sent1'].astype(str)\n",
    "df['sent2'] = df['sent2'].astype(str)\n",
    "print(df.dtypes)"
   ]
  },
  {
   "cell_type": "code",
   "execution_count": 65,
   "id": "b166e2af",
   "metadata": {},
   "outputs": [
    {
     "name": "stdout",
     "output_type": "stream",
     "text": [
      "<class 'pandas.core.frame.DataFrame'>\n",
      "RangeIndex: 569 entries, 0 to 568\n",
      "Data columns (total 3 columns):\n",
      " #   Column  Non-Null Count  Dtype  \n",
      "---  ------  --------------  -----  \n",
      " 0   sent1   569 non-null    object \n",
      " 1   sent2   569 non-null    object \n",
      " 2   label   569 non-null    float64\n",
      "dtypes: float64(1), object(2)\n",
      "memory usage: 13.5+ KB\n"
     ]
    }
   ],
   "source": [
    "df.info()"
   ]
  },
  {
   "cell_type": "code",
   "execution_count": 66,
   "id": "f4d4b747",
   "metadata": {},
   "outputs": [],
   "source": [
    "from datasets import Dataset\n",
    "dataset = Dataset.from_pandas(df)"
   ]
  },
  {
   "cell_type": "code",
   "execution_count": 67,
   "id": "ce7b8b98",
   "metadata": {},
   "outputs": [
    {
     "name": "stdout",
     "output_type": "stream",
     "text": [
      "<class 'float'>\n"
     ]
    }
   ],
   "source": [
    "print(type(dataset['label'][0]))"
   ]
  },
  {
   "cell_type": "code",
   "execution_count": 68,
   "id": "621cbde0",
   "metadata": {},
   "outputs": [],
   "source": [
    "all_dataset = dataset.train_test_split(test_size=0.2, seed=42)"
   ]
  },
  {
   "cell_type": "code",
   "execution_count": 69,
   "id": "2524c323",
   "metadata": {},
   "outputs": [
    {
     "data": {
      "text/plain": [
       "DatasetDict({\n",
       "    train: Dataset({\n",
       "        features: ['sent1', 'sent2', 'label'],\n",
       "        num_rows: 455\n",
       "    })\n",
       "    test: Dataset({\n",
       "        features: ['sent1', 'sent2', 'label'],\n",
       "        num_rows: 114\n",
       "    })\n",
       "})"
      ]
     },
     "execution_count": 69,
     "metadata": {},
     "output_type": "execute_result"
    }
   ],
   "source": [
    "all_dataset"
   ]
  },
  {
   "cell_type": "code",
   "execution_count": 70,
   "id": "91756754",
   "metadata": {},
   "outputs": [],
   "source": [
    "dataset_val = all_dataset['test']"
   ]
  },
  {
   "cell_type": "code",
   "execution_count": 71,
   "id": "a93e4cb4",
   "metadata": {},
   "outputs": [
    {
     "data": {
      "text/plain": [
       "Dataset({\n",
       "    features: ['sent1', 'sent2', 'label'],\n",
       "    num_rows: 114\n",
       "})"
      ]
     },
     "execution_count": 71,
     "metadata": {},
     "output_type": "execute_result"
    }
   ],
   "source": [
    "dataset_val"
   ]
  },
  {
   "cell_type": "code",
   "execution_count": 72,
   "id": "6a0fe8c8",
   "metadata": {},
   "outputs": [],
   "source": [
    "dataset_train = all_dataset['train'].train_test_split(test_size=0.2,seed=42)"
   ]
  },
  {
   "cell_type": "code",
   "execution_count": 73,
   "id": "eb203738",
   "metadata": {},
   "outputs": [
    {
     "data": {
      "text/plain": [
       "DatasetDict({\n",
       "    train: Dataset({\n",
       "        features: ['sent1', 'sent2', 'label'],\n",
       "        num_rows: 364\n",
       "    })\n",
       "    test: Dataset({\n",
       "        features: ['sent1', 'sent2', 'label'],\n",
       "        num_rows: 91\n",
       "    })\n",
       "})"
      ]
     },
     "execution_count": 73,
     "metadata": {},
     "output_type": "execute_result"
    }
   ],
   "source": [
    "dataset_train"
   ]
  },
  {
   "cell_type": "code",
   "execution_count": 74,
   "id": "4cd36a73",
   "metadata": {},
   "outputs": [],
   "source": [
    "for example in dataset_train['train']:\n",
    "    if not isinstance(example['sent1'], str) or not isinstance(example['sent2'], str):\n",
    "        print(\"Found bad sample:\", example)"
   ]
  },
  {
   "cell_type": "code",
   "execution_count": 75,
   "id": "85d1ea52",
   "metadata": {},
   "outputs": [
    {
     "name": "stdout",
     "output_type": "stream",
     "text": [
      "\n",
      "Using device: cuda\n"
     ]
    }
   ],
   "source": [
    "# --- 3. Model Loading and Setup ---\n",
    "# Load the pre-trained SentenceTransformer model\n",
    "model = SentenceTransformer(\"sentence-transformers/paraphrase-multilingual-MiniLM-L12-v2\")\n",
    "\n",
    "# Choose a loss function: CosineSimilarityLoss is suitable for similarity tasks\n",
    "train_loss = losses.CosineSimilarityLoss(model)\n",
    "\n",
    "# Define optimizer\n",
    "optimizer = torch.optim.AdamW(model.parameters(), lr=2e-5) # Common learning rate for SBERT fine-tuning\n",
    "\n",
    "# Check for GPU\n",
    "device = torch.device('cuda' if torch.cuda.is_available() else 'cpu')\n",
    "model.to(device)\n",
    "print(f\"\\nUsing device: {device}\")"
   ]
  },
  {
   "cell_type": "code",
   "execution_count": 80,
   "id": "435b5a11",
   "metadata": {},
   "outputs": [],
   "source": [
    "# 5. (Optional) Specify training arguments\n",
    "args = SentenceTransformerTrainingArguments(\n",
    "    # Required parameter:\n",
    "    output_dir=\"evaluation_results_trained_model\",\n",
    "    # Optional training parameters:\n",
    "    num_train_epochs=100,\n",
    "    per_device_train_batch_size=16,\n",
    "    per_device_eval_batch_size=16,\n",
    "    learning_rate=2e-5,\n",
    "    warmup_ratio=0.1,\n",
    "    fp16=True,  # Set to False if you get an error that your GPU can't run on FP16\n",
    "    bf16=False,  # Set to True if you have a GPU that supports BF16\n",
    "    batch_sampler=BatchSamplers.NO_DUPLICATES,  # MultipleNegativesRankingLoss benefits from no duplicate samples in a batch\n",
    "    # Optional tracking/debugging parameters:\n",
    "    metric_for_best_model=\"eval_loss\",\n",
    "    eval_strategy=\"steps\",\n",
    "    eval_steps=100,\n",
    "    save_strategy=\"steps\",\n",
    "    save_steps=100,\n",
    "    save_total_limit=2,\n",
    "    logging_steps=100,\n",
    "    run_name=\"paraphrase-multilingual-MiniLM-L12-v2-find-turning\",  # Will be used in W&B if `wandb` is installed\n",
    ")"
   ]
  },
  {
   "cell_type": "code",
   "execution_count": 81,
   "id": "ae9fa492",
   "metadata": {},
   "outputs": [
    {
     "data": {
      "text/plain": [
       "{'val_pearson_cosine': 0.7967373681726905,\n",
       " 'val_spearman_cosine': 0.7909745277289721}"
      ]
     },
     "execution_count": 81,
     "metadata": {},
     "output_type": "execute_result"
    }
   ],
   "source": [
    "#6. (Optional) Create an evaluator & evaluate the base model\n",
    "ese_acc_evaluator = EmbeddingSimilarityEvaluator(\n",
    "    sentences1=dataset_val[\"sent1\"],\n",
    "    sentences2=dataset_val[\"sent2\"],\n",
    "    scores=dataset_val[\"label\"],\n",
    "    name=\"val\",\n",
    ")\n",
    "ese_acc_evaluator(model)"
   ]
  },
  {
   "cell_type": "code",
   "execution_count": 82,
   "id": "db93f0b0",
   "metadata": {},
   "outputs": [],
   "source": [
    "early_stopper = EarlyStoppingCallback(\n",
    "    early_stopping_patience=2, # you can change this value if needed\n",
    "    early_stopping_threshold=0.05 # you can change this value if needed\n",
    ")"
   ]
  },
  {
   "cell_type": "code",
   "execution_count": 83,
   "id": "2c287fd5",
   "metadata": {},
   "outputs": [
    {
     "name": "stderr",
     "output_type": "stream",
     "text": [
      "Using EarlyStoppingCallback without load_best_model_at_end=True. Once training is finished, the best model will not be loaded automatically.\n"
     ]
    },
    {
     "data": {
      "text/html": [
       "\n",
       "    <div>\n",
       "      \n",
       "      <progress value='300' max='2300' style='width:300px; height:20px; vertical-align: middle;'></progress>\n",
       "      [ 300/2300 01:47 < 12:01, 2.77 it/s, Epoch 13/100]\n",
       "    </div>\n",
       "    <table border=\"1\" class=\"dataframe\">\n",
       "  <thead>\n",
       " <tr style=\"text-align: left;\">\n",
       "      <th>Step</th>\n",
       "      <th>Training Loss</th>\n",
       "      <th>Validation Loss</th>\n",
       "      <th>Val Pearson Cosine</th>\n",
       "      <th>Val Spearman Cosine</th>\n",
       "    </tr>\n",
       "  </thead>\n",
       "  <tbody>\n",
       "    <tr>\n",
       "      <td>100</td>\n",
       "      <td>0.023200</td>\n",
       "      <td>0.031355</td>\n",
       "      <td>0.800857</td>\n",
       "      <td>0.797188</td>\n",
       "    </tr>\n",
       "    <tr>\n",
       "      <td>200</td>\n",
       "      <td>0.010700</td>\n",
       "      <td>0.029861</td>\n",
       "      <td>0.798798</td>\n",
       "      <td>0.790765</td>\n",
       "    </tr>\n",
       "    <tr>\n",
       "      <td>300</td>\n",
       "      <td>0.005200</td>\n",
       "      <td>0.028922</td>\n",
       "      <td>0.757562</td>\n",
       "      <td>0.753270</td>\n",
       "    </tr>\n",
       "  </tbody>\n",
       "</table><p>"
      ],
      "text/plain": [
       "<IPython.core.display.HTML object>"
      ]
     },
     "metadata": {},
     "output_type": "display_data"
    },
    {
     "data": {
      "text/plain": [
       "TrainOutput(global_step=300, training_loss=0.01305209219455719, metrics={'train_runtime': 107.9047, 'train_samples_per_second': 337.335, 'train_steps_per_second': 21.315, 'total_flos': 0.0, 'train_loss': 0.01305209219455719, 'epoch': 13.043478260869565})"
      ]
     },
     "execution_count": 83,
     "metadata": {},
     "output_type": "execute_result"
    }
   ],
   "source": [
    "# 7. Create a trainer & train\n",
    "trainer = SentenceTransformerTrainer(\n",
    "    model=model,\n",
    "    args=args,\n",
    "    train_dataset=dataset_train['train'],\n",
    "    eval_dataset=dataset_train['test'],\n",
    "    loss=train_loss,\n",
    "    evaluator=ese_acc_evaluator,\n",
    "    callbacks=[early_stopper],\n",
    ")\n",
    "trainer.train()"
   ]
  },
  {
   "cell_type": "code",
   "execution_count": 86,
   "id": "3d29359b",
   "metadata": {},
   "outputs": [],
   "source": [
    "# 8. Save the final model\n",
    "final_output_dir = f\"evaluation_results_trained_model_full_log\"\n",
    "model.save_pretrained(final_output_dir)"
   ]
  },
  {
   "cell_type": "code",
   "execution_count": null,
   "id": "95763a74",
   "metadata": {},
   "outputs": [],
   "source": []
  }
 ],
 "metadata": {
  "kernelspec": {
   "display_name": ".venv",
   "language": "python",
   "name": "python3"
  },
  "language_info": {
   "codemirror_mode": {
    "name": "ipython",
    "version": 3
   },
   "file_extension": ".py",
   "mimetype": "text/x-python",
   "name": "python",
   "nbconvert_exporter": "python",
   "pygments_lexer": "ipython3",
   "version": "3.12.4"
  }
 },
 "nbformat": 4,
 "nbformat_minor": 5
}
