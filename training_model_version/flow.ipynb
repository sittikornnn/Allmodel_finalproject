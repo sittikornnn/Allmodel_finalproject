{
 "cells": [
  {
   "cell_type": "markdown",
   "metadata": {},
   "source": [
    "https://www.researchgate.net/publication/220345072_Semantic_Text_Similarity_Using_Corpus-Based_Word_Similarity_and_String_Similarity\n",
    "#threshold is 0.6 best for do this task"
   ]
  },
  {
   "cell_type": "markdown",
   "metadata": {},
   "source": [
    "# Test GPT Model"
   ]
  },
  {
   "cell_type": "code",
   "execution_count": 3,
   "metadata": {},
   "outputs": [
    {
     "name": "stdout",
     "output_type": "stream",
     "text": [
      "Collecting python-crfsuite\n",
      "  Using cached python_crfsuite-0.9.11-cp312-cp312-win_amd64.whl.metadata (4.4 kB)\n",
      "Using cached python_crfsuite-0.9.11-cp312-cp312-win_amd64.whl (301 kB)\n",
      "Installing collected packages: python-crfsuite\n",
      "Successfully installed python-crfsuite-0.9.11\n"
     ]
    }
   ],
   "source": [
    "!pip install python-crfsuite"
   ]
  },
  {
   "cell_type": "code",
   "execution_count": 5,
   "metadata": {},
   "outputs": [
    {
     "name": "stdout",
     "output_type": "stream",
     "text": [
      "['เดี๋ยววันนี้คุณหมอจะมีการจ่ายยาทั้งหมด2รายการนะครับมียาลอราทาดีน400มิลลิกรัมเป็นยาสำหรับบรรเทาอาการแพ้รับประทานครั้งละ1เม็ดวันละ1ครั้งหลังอาหารทันทีตอนเช้าจำนวน30เม็ดครับ']\n"
     ]
    }
   ],
   "source": [
    "from pythainlp import sent_tokenize\n",
    "\n",
    "text = \"เดี๋ยววันนี้คุณหมอจะมีการจ่ายยาทั้งหมด2รายการนะครับมียาลอราทาดีน400มิลลิกรัมเป็นยาสำหรับบรรเทาอาการแพ้รับประทานครั้งละ1เม็ดวันละ1ครั้งหลังอาหารทันทีตอนเช้าจำนวน30เม็ดครับ\"\n",
    "sentences = sent_tokenize(text, engine=\"crfcut\")  # ใช้โมเดล CRF เพื่อแบ่งประโยค\n",
    "print(sentences)\n",
    "# Output: ['ข้อความยาวๆที่ต้องการแบ่งเป็นประโยค', 'เช่นมีการวัดคะแนนแบบchecklistเป็นประโยคและคะแนนที่ได้อยู่']"
   ]
  },
  {
   "cell_type": "code",
   "execution_count": 29,
   "metadata": {},
   "outputs": [],
   "source": [
    "import psycopg2\n",
    "from psycopg2.extras import RealDictCursor\n",
    "\n",
    "def get_db_connection():\n",
    "    conn = psycopg2.connect(\n",
    "        dbname='ScoringT',\n",
    "        user='postgres',\n",
    "        password='123456789',\n",
    "        host='localhost'\n",
    "    )\n",
    "    return conn\n",
    "\n",
    "selection_situ = 24\n",
    "\n",
    "def get_data():\n",
    "    conn = get_db_connection()\n",
    "    cursor = conn.cursor(cursor_factory=RealDictCursor)\n",
    "    cursor.execute('SELECT check_sent,score,prerequired,topic FROM \"having\" h,situation s,checklist cl where h.\"ID_situ\" = s.\"ID_situ\" and cl.\"ID_checklist\" = h.\"ID_checklist\" and s.\"ID_situ\"=%s order by cl.topic,cl.\"ID_checklist\"',(selection_situ,))\n",
    "    processing = cursor.fetchall()\n",
    "    cursor.close()\n",
    "    conn.close()\n",
    "    return processing\n",
    "\n",
    "def get_name_patient():\n",
    "    conn = get_db_connection()\n",
    "    cursor = conn.cursor(cursor_factory=RealDictCursor)\n",
    "    cursor.execute('SELECT fname_patient,lname_patient FROM situation s where s.\"ID_situ\"=%s',(selection_situ,))\n",
    "    processing = cursor.fetchall()\n",
    "    cursor.close()\n",
    "    conn.close()\n",
    "    return processing\n",
    "\n",
    "data = get_data()\n",
    "checklist = [item['check_sent'] for item in data]\n",
    "topic = [item['topic'] for item in data]\n",
    "score = [item['score'] for item in data]\n",
    "request = [item['prerequired'] for item in data]\n",
    "\n",
    "name_patient = get_name_patient()\n",
    "fname_patient = [item['fname_patient'] for item in name_patient]\n",
    "lname_patient = [item['lname_patient'] for item in name_patient]\n",
    "temp = checklist[2].split('fname')\n",
    "temp.insert(1,fname_patient[0])\n",
    "checklist[2] = ''.join(temp)\n",
    "temp = checklist[3].split('fullname')\n",
    "temp.insert(1,fname_patient[0])\n",
    "temp.insert(2,lname_patient[0])\n",
    "checklist[3] = ''.join(temp)\n",
    "\n",
    "std_name = \"สมชายยิ่งใหญ่\"\n",
    "checklist[0] = checklist[0]+std_name"
   ]
  },
  {
   "cell_type": "code",
   "execution_count": 34,
   "metadata": {},
   "outputs": [
    {
     "name": "stderr",
     "output_type": "stream",
     "text": [
      "Device set to use cuda:0\n"
     ]
    },
    {
     "name": "stdout",
     "output_type": "stream",
     "text": [
      "แนะนำตัวเภสัชกรสมชายยิ่งใหญ่: ไม่ใช่ (ความมั่นใจ: 96.22%)\n",
      "ผู้ป่วยชื่อนามสกุลอะไร: ไม่ใช่ (ความมั่นใจ: 87.05%)\n",
      "ผู้ป่วยชื่อสวยนามสกุลอะไร: ไม่ใช่ (ความมั่นใจ: 92.58%)\n",
      "ผู้ป่วยชื่อสวยสราญลมใช่ไหม: ไม่ใช่ (ความมั่นใจ: 87.12%)\n",
      "ผู้ป่วยมีประวัติแพ้ยาอะไรไหม: ไม่ใช่ (ความมั่นใจ: 73.31%)\n",
      "ผู้ป่วยแพ้ยามีอาการผื่นคันใช่ไหม: ไม่ใช่ (ความมั่นใจ: 92.05%)\n",
      "พาราเซตามอล: ไม่ใช่ (ความมั่นใจ: 60.81%)\n",
      "120มิลลิกรัมใน5มิลลิลิตร: ไม่ใช่ (ความมั่นใจ: 42.83%)\n",
      "ใช้เพื่อบรรเทาอาการไข้และปวด: ไม่ใช่ (ความมั่นใจ: 2.51%)\n",
      "รับประทานครั้งละ2จุด5มิลลิลิตร: ไม่ใช่ (ความมั่นใจ: 29.06%)\n",
      "ทุก6ชั่วโมง: ไม่ใช่ (ความมั่นใจ: 6.88%)\n",
      "เมื่อเวลามีอาการไข้หรือปวด: ไม่ใช่ (ความมั่นใจ: 9.96%)\n",
      "ยานี้ไม่ควรรับประทานต่อเนื่องเกิน5วัน: ใช่ (ความมั่นใจ: 64.79%)\n",
      "อะมอกซีซิลิน: ไม่ใช่ (ความมั่นใจ: 84.01%)\n",
      "ความแรง500มิลลิกรัม: ไม่ใช่ (ความมั่นใจ: 94.60%)\n",
      "จำนวน30เม็ด: ไม่ใช่ (ความมั่นใจ: 86.54%)\n",
      "ใช้รักษาอาการติดเชื้อที่หู: ไม่ใช่ (ความมั่นใจ: 99.50%)\n",
      "รับประทานครั้งละ1เม็ด: ไม่ใช่ (ความมั่นใจ: 45.20%)\n",
      "วันละ3ครั้ง: ไม่ใช่ (ความมั่นใจ: 88.67%)\n",
      "หลังอาหารเช้ากลางวันเย็น: ไม่ใช่ (ความมั่นใจ: 93.95%)\n",
      "ควรรับประทานติดต่อกันทุกวันจนหมด: ใช่ (ความมั่นใจ: 50.54%)\n",
      "เด็กซ์ออฟ: ไม่ใช่ (ความมั่นใจ: 70.49%)\n",
      "ใช้รักษาหูชั้นกลางอักเสบ: ไม่ใช่ (ความมั่นใจ: 99.13%)\n",
      "หยอดหูซ้าย3หยด: ไม่ใช่ (ความมั่นใจ: 96.98%)\n",
      "วันละ3ครั้ง: ไม่ใช่ (ความมั่นใจ: 88.67%)\n",
      "หลังอาหารเช้ากลางวันเย็น: ไม่ใช่ (ความมั่นใจ: 93.95%)\n",
      "ล้างมือให้สะอาด: ไม่ใช่ (ความมั่นใจ: 93.94%)\n",
      "นอนตะแคงหรือนั่งเอียงศีรษะให้หูข้างที่จะหยอดยาอยู่ด้านบน: ไม่ใช่ (ความมั่นใจ: 88.52%)\n",
      "ให้ดึงใบหูข้างที่จะหยอดยาไปด้านหลังและดึงขึ้นด้านบน: ไม่ใช่ (ความมั่นใจ: 97.29%)\n",
      "หยอดยาเข้าไปในหูตามที่แพทย์สั่ง: ไม่ใช่ (ความมั่นใจ: 91.19%)\n",
      "ระวังอย่าเอาหลอดหยดสอดเข้าไปในรูหู: ไม่ใช่ (ความมั่นใจ: 99.41%)\n",
      "เอียงตะแคงอยู่ท่าเดิมประมาณ3ถึง5นาที: ไม่ใช่ (ความมั่นใจ: 95.76%)\n",
      "อาจเอาสำลีใส่ในรูหูไว้อีกระยะหนึ่งเพื่อไม่ให้ยาไหลออกมา: ไม่ใช่ (ความมั่นใจ: 98.29%)\n",
      "ให้เขย่าขวดก่อนใช้ทุกครั้ง: ไม่ใช่ (ความมั่นใจ: 86.56%)\n",
      "ใช้ไม้พันสำลีเช็ดหนองในใบหูหรือรูหูให้สะอาดก่อนและหลังหยอดยา: ไม่ใช่ (ความมั่นใจ: 97.03%)\n",
      "ยาหยอดหูหากเก็บไว้ในตู้เย็นก่อนใช้ยาให้กำหลอดยาไว้ในอุ้งมือสักครู่: ไม่ใช่ (ความมั่นใจ: 97.18%)\n",
      "เพื่อปรับอุณหภูมิให้ใกล้เคียงกับร่างกายก่อนหยอด: ไม่ใช่ (ความมั่นใจ: 98.97%)\n"
     ]
    }
   ],
   "source": [
    "from transformers import pipeline\n",
    "\n",
    "def check_medicine_existence(medicine_keyword, context):\n",
    "    # สร้างคำถามให้ชัดเจนพร้อมรูปแบบคำตอบที่ต้องการ\n",
    "    question = f\"ข้อความนี้กล่าวถึง{medicine_keyword}หรือไม่? ให้ตอบว่าใช่หรือไม่ใช่\"\n",
    "    \n",
    "    # โหลดโมเดลครั้งเดียวเพื่อประสิทธิภาพ (ควรโหลดนอกฟังก์ชันถ้าใช้ซ้ำๆ)\n",
    "    if not hasattr(check_medicine_existence, \"model\"):\n",
    "        check_medicine_existence.model = pipeline(\n",
    "            \"question-answering\", \n",
    "            model='wicharnkeisei/thai-xlm-roberta-base-squad2'\n",
    "        )\n",
    "    \n",
    "    # ดำเนินการหาคำตอบ\n",
    "    result = check_medicine_existence.model(\n",
    "        question=question,\n",
    "        context=context,\n",
    "        max_answer_len=15,  # จำกัดความยาวคำตอบเพื่อความแม่นยำ\n",
    "        handle_impossible_answer=True  # เปิดใช้งานการตรวจคำตอบที่เป็นไปไม่ได้\n",
    "    )\n",
    "    \n",
    "    # ตรวจสอบความน่าเชื่อถือและประมวลผลคำตอบ\n",
    "    if result['score'] > 0.5:  # เพิ่ม threshold ความเชื่อมั่น\n",
    "        # ตรวจสอบทั้งคำตอบและคำถามย้อนกลับ\n",
    "        is_positive = any(word in result['answer'] for word in [\"ใช่\", \"มี\", \"กล่าวถึง\"])\n",
    "        return \"ใช่\" if is_positive else \"ไม่ใช่\", result['score']\n",
    "    else:\n",
    "        return \"ไม่ใช่\", result['score']\n",
    "    \n",
    "# ตัวอย่างการใช้งาน\n",
    "context = \"\"\"ยานี้ชื่อพาราเซตามอน้ำเชื่อม120มิลลิกรัมต่อ5มิลลิลิตร1ขวดใช้เพื่อบรรเทาอาการไข้และปวดรับประทานครั้งละ2มิลลิลิตรครึ่งทุก6ชั่วโมงเวลามีอาการไข้หรือปวดยานี้ไม่ควรรับประทานต่อเนื่องเกิน5วัน\"\"\"\n",
    "\n",
    "for medicine_to_check in checklist:\n",
    "    answer, confidence = check_medicine_existence(medicine_to_check, context)\n",
    "    print(f\"{medicine_to_check}: {answer} (ความมั่นใจ: {confidence:.2%})\")"
   ]
  },
  {
   "cell_type": "code",
   "execution_count": 20,
   "metadata": {},
   "outputs": [
    {
     "name": "stderr",
     "output_type": "stream",
     "text": [
      "Device set to use cuda:0\n"
     ]
    },
    {
     "data": {
      "text/plain": [
       "{'score': 0.16739019751548767,\n",
       " 'start': 53,\n",
       " 'end': 580,\n",
       " 'answer': ' 120มิลลิกรัมต่อ5มิลลิลิตร1ขวดใช้เพื่อบรรเทาอาการไข้และปวดรับประทานครั้งละ2มิลลิลิตรครึ่งทุก6ชั่วโมงเวลามีอาการไข้หรือปวดยานี้ไม่ควรรับประทานต่อเนื่องเกิน5วันส่วนยานี้ชื่ออะมอกซีซิลินความแรง500มิลลิกรัมจำนวน30เม็ดใช้รักษาอาการติดเชื้อที่หูรับประทานครั้งละ1เม็ดวันละ3ครั้งหลังอาหารเช้ากลางวันเย็นยานี้ควรรับประทานติดต่อกันทุกวันจนหมดและยานี้ชื่อเด็กซ์ออฟจำนวน1ขวดใช้สำหรับหยอดหูเพื่อรักษาอาการติดเชื้อที่หูหยอด3หยดที่หูข้างซ้ายวันละ3ครั้งหลังอาหารเช้ากลางวันเย็นซึ่งยานี้มีวิธีการใช้ในลักษณะพิเศษเดี๋ยวฉันสอนวิธีการใช้งานให้นะคะ'}"
      ]
     },
     "execution_count": 20,
     "metadata": {},
     "output_type": "execute_result"
    }
   ],
   "source": [
    "from transformers import pipeline\n",
    "\n",
    "qa_model = pipeline(\"question-answering\", \"timpal0l/mdeberta-v3-base-squad2\")\n",
    "question = \"มี การบอก ชื่อยา พาราเซตามอล ไหม\"\n",
    "context = \"วันนี้มารับยา3ตัวนะคะยานี้ ชื่อ พาราเซตามอล น้ำเชื่อม 120มิลลิกรัมต่อ5มิลลิลิตร1ขวดใช้เพื่อบรรเทาอาการไข้และปวดรับประทานครั้งละ2มิลลิลิตรครึ่งทุก6ชั่วโมงเวลามีอาการไข้หรือปวดยานี้ไม่ควรรับประทานต่อเนื่องเกิน5วันส่วนยานี้ชื่ออะมอกซีซิลินความแรง500มิลลิกรัมจำนวน30เม็ดใช้รักษาอาการติดเชื้อที่หูรับประทานครั้งละ1เม็ดวันละ3ครั้งหลังอาหารเช้ากลางวันเย็นยานี้ควรรับประทานติดต่อกันทุกวันจนหมดและยานี้ชื่อเด็กซ์ออฟจำนวน1ขวดใช้สำหรับหยอดหูเพื่อรักษาอาการติดเชื้อที่หูหยอด3หยดที่หูข้างซ้ายวันละ3ครั้งหลังอาหารเช้ากลางวันเย็นซึ่งยานี้มีวิธีการใช้ในลักษณะพิเศษเดี๋ยวฉันสอนวิธีการใช้งานให้นะคะ\"\n",
    "qa_model(question = question, context = context)"
   ]
  },
  {
   "cell_type": "code",
   "execution_count": 4,
   "metadata": {},
   "outputs": [
    {
     "name": "stdout",
     "output_type": "stream",
     "text": [
      "True\n",
      "1\n",
      "NVIDIA GeForce RTX 3050 6GB Laptop GPU\n"
     ]
    }
   ],
   "source": [
    "import torch\n",
    "print(torch.cuda.is_available())  # Should return True\n",
    "print(torch.cuda.device_count())  # Number of GPUs available\n",
    "print(torch.cuda.get_device_name(0))  # Name of the first GPU"
   ]
  },
  {
   "cell_type": "code",
   "execution_count": 1,
   "metadata": {},
   "outputs": [
    {
     "name": "stdout",
     "output_type": "stream",
     "text": [
      "Fri Mar  7 16:31:56 2025       \n",
      "+-----------------------------------------------------------------------------------------+\n",
      "| NVIDIA-SMI 566.26                 Driver Version: 566.26         CUDA Version: 12.7     |\n",
      "|-----------------------------------------+------------------------+----------------------+\n",
      "| GPU  Name                  Driver-Model | Bus-Id          Disp.A | Volatile Uncorr. ECC |\n",
      "| Fan  Temp   Perf          Pwr:Usage/Cap |           Memory-Usage | GPU-Util  Compute M. |\n",
      "|                                         |                        |               MIG M. |\n",
      "|=========================================+========================+======================|\n",
      "|   0  NVIDIA GeForce RTX 3050 ...  WDDM  |   00000000:01:00.0 Off |                  N/A |\n",
      "| N/A   42C    P0              7W /   95W |       0MiB /   6144MiB |      0%      Default |\n",
      "|                                         |                        |                  N/A |\n",
      "+-----------------------------------------+------------------------+----------------------+\n",
      "                                                                                         \n",
      "+-----------------------------------------------------------------------------------------+\n",
      "| Processes:                                                                              |\n",
      "|  GPU   GI   CI        PID   Type   Process name                              GPU Memory |\n",
      "|        ID   ID                                                               Usage      |\n",
      "|=========================================================================================|\n",
      "|  No running processes found                                                             |\n",
      "+-----------------------------------------------------------------------------------------+\n"
     ]
    }
   ],
   "source": [
    "!nvidia-smi\n"
   ]
  },
  {
   "cell_type": "code",
   "execution_count": 2,
   "metadata": {},
   "outputs": [],
   "source": [
    "import torch\n",
    "torch.backends.cuda.enable_flash_sdp(False)\n",
    "torch.backends.cuda.enable_math_sdp(True)\n",
    "torch.backends.cuda.enable_mem_efficient_sdp(False)"
   ]
  },
  {
   "cell_type": "code",
   "execution_count": 13,
   "metadata": {},
   "outputs": [
    {
     "ename": "OutOfMemoryError",
     "evalue": "CUDA out of memory. Tried to allocate 892.00 MiB. GPU 0 has a total capacity of 6.00 GiB of which 0 bytes is free. Of the allocated memory 12.38 GiB is allocated by PyTorch, and 215.76 MiB is reserved by PyTorch but unallocated. If reserved but unallocated memory is large try setting PYTORCH_CUDA_ALLOC_CONF=expandable_segments:True to avoid fragmentation.  See documentation for Memory Management  (https://pytorch.org/docs/stable/notes/cuda.html#environment-variables)",
     "output_type": "error",
     "traceback": [
      "\u001b[31m---------------------------------------------------------------------------\u001b[39m",
      "\u001b[31mOutOfMemoryError\u001b[39m                          Traceback (most recent call last)",
      "\u001b[36mCell\u001b[39m\u001b[36m \u001b[39m\u001b[32mIn[13]\u001b[39m\u001b[32m, line 11\u001b[39m\n\u001b[32m      9\u001b[39m \u001b[38;5;66;03m# Move to GPU if available\u001b[39;00m\n\u001b[32m     10\u001b[39m device = \u001b[33m\"\u001b[39m\u001b[33mcuda\u001b[39m\u001b[33m\"\u001b[39m \u001b[38;5;28;01mif\u001b[39;00m torch.cuda.is_available() \u001b[38;5;28;01melse\u001b[39;00m \u001b[33m\"\u001b[39m\u001b[33mcpu\u001b[39m\u001b[33m\"\u001b[39m\n\u001b[32m---> \u001b[39m\u001b[32m11\u001b[39m \u001b[43mmodel\u001b[49m\u001b[43m.\u001b[49m\u001b[43mto\u001b[49m\u001b[43m(\u001b[49m\u001b[43mdevice\u001b[49m\u001b[43m)\u001b[49m\n\u001b[32m     13\u001b[39m \u001b[38;5;66;03m# Data for grading\u001b[39;00m\n\u001b[32m     14\u001b[39m student_response = \u001b[33m\"\u001b[39m\u001b[33mนักศึกษาเทน้ำเกลือใส่แก้วแล้วใช้กระบอกฉีดยาดูดน้ำเกลือ จากนั้นให้ผู้ป่วยก้มหน้าและเอียงหัวไปทางขวา\u001b[39m\u001b[33m\"\u001b[39m\n",
      "\u001b[36mFile \u001b[39m\u001b[32mc:\\Users\\LENOVO\\Desktop\\DemoP\\.venv\\Lib\\site-packages\\transformers\\modeling_utils.py:3162\u001b[39m, in \u001b[36mPreTrainedModel.to\u001b[39m\u001b[34m(self, *args, **kwargs)\u001b[39m\n\u001b[32m   3157\u001b[39m     \u001b[38;5;28;01mif\u001b[39;00m dtype_present_in_args:\n\u001b[32m   3158\u001b[39m         \u001b[38;5;28;01mraise\u001b[39;00m \u001b[38;5;167;01mValueError\u001b[39;00m(\n\u001b[32m   3159\u001b[39m             \u001b[33m\"\u001b[39m\u001b[33mYou cannot cast a GPTQ model in a new `dtype`. Make sure to load the model using `from_pretrained` using the desired\u001b[39m\u001b[33m\"\u001b[39m\n\u001b[32m   3160\u001b[39m             \u001b[33m\"\u001b[39m\u001b[33m `dtype` by passing the correct `torch_dtype` argument.\u001b[39m\u001b[33m\"\u001b[39m\n\u001b[32m   3161\u001b[39m         )\n\u001b[32m-> \u001b[39m\u001b[32m3162\u001b[39m \u001b[38;5;28;01mreturn\u001b[39;00m \u001b[38;5;28;43msuper\u001b[39;49m\u001b[43m(\u001b[49m\u001b[43m)\u001b[49m\u001b[43m.\u001b[49m\u001b[43mto\u001b[49m\u001b[43m(\u001b[49m\u001b[43m*\u001b[49m\u001b[43margs\u001b[49m\u001b[43m,\u001b[49m\u001b[43m \u001b[49m\u001b[43m*\u001b[49m\u001b[43m*\u001b[49m\u001b[43mkwargs\u001b[49m\u001b[43m)\u001b[49m\n",
      "\u001b[36mFile \u001b[39m\u001b[32mc:\\Users\\LENOVO\\Desktop\\DemoP\\.venv\\Lib\\site-packages\\torch\\nn\\modules\\module.py:1343\u001b[39m, in \u001b[36mModule.to\u001b[39m\u001b[34m(self, *args, **kwargs)\u001b[39m\n\u001b[32m   1340\u001b[39m         \u001b[38;5;28;01melse\u001b[39;00m:\n\u001b[32m   1341\u001b[39m             \u001b[38;5;28;01mraise\u001b[39;00m\n\u001b[32m-> \u001b[39m\u001b[32m1343\u001b[39m \u001b[38;5;28;01mreturn\u001b[39;00m \u001b[38;5;28;43mself\u001b[39;49m\u001b[43m.\u001b[49m\u001b[43m_apply\u001b[49m\u001b[43m(\u001b[49m\u001b[43mconvert\u001b[49m\u001b[43m)\u001b[49m\n",
      "\u001b[36mFile \u001b[39m\u001b[32mc:\\Users\\LENOVO\\Desktop\\DemoP\\.venv\\Lib\\site-packages\\torch\\nn\\modules\\module.py:903\u001b[39m, in \u001b[36mModule._apply\u001b[39m\u001b[34m(self, fn, recurse)\u001b[39m\n\u001b[32m    901\u001b[39m \u001b[38;5;28;01mif\u001b[39;00m recurse:\n\u001b[32m    902\u001b[39m     \u001b[38;5;28;01mfor\u001b[39;00m module \u001b[38;5;129;01min\u001b[39;00m \u001b[38;5;28mself\u001b[39m.children():\n\u001b[32m--> \u001b[39m\u001b[32m903\u001b[39m         \u001b[43mmodule\u001b[49m\u001b[43m.\u001b[49m\u001b[43m_apply\u001b[49m\u001b[43m(\u001b[49m\u001b[43mfn\u001b[49m\u001b[43m)\u001b[49m\n\u001b[32m    905\u001b[39m \u001b[38;5;28;01mdef\u001b[39;00m\u001b[38;5;250m \u001b[39m\u001b[34mcompute_should_use_set_data\u001b[39m(tensor, tensor_applied):\n\u001b[32m    906\u001b[39m     \u001b[38;5;28;01mif\u001b[39;00m torch._has_compatible_shallow_copy_type(tensor, tensor_applied):\n\u001b[32m    907\u001b[39m         \u001b[38;5;66;03m# If the new tensor has compatible tensor type as the existing tensor,\u001b[39;00m\n\u001b[32m    908\u001b[39m         \u001b[38;5;66;03m# the current behavior is to change the tensor in-place using `.data =`,\u001b[39;00m\n\u001b[32m   (...)\u001b[39m\u001b[32m    913\u001b[39m         \u001b[38;5;66;03m# global flag to let the user control whether they want the future\u001b[39;00m\n\u001b[32m    914\u001b[39m         \u001b[38;5;66;03m# behavior of overwriting the existing tensor or not.\u001b[39;00m\n",
      "\u001b[36mFile \u001b[39m\u001b[32mc:\\Users\\LENOVO\\Desktop\\DemoP\\.venv\\Lib\\site-packages\\torch\\nn\\modules\\module.py:930\u001b[39m, in \u001b[36mModule._apply\u001b[39m\u001b[34m(self, fn, recurse)\u001b[39m\n\u001b[32m    926\u001b[39m \u001b[38;5;66;03m# Tensors stored in modules are graph leaves, and we don't want to\u001b[39;00m\n\u001b[32m    927\u001b[39m \u001b[38;5;66;03m# track autograd history of `param_applied`, so we have to use\u001b[39;00m\n\u001b[32m    928\u001b[39m \u001b[38;5;66;03m# `with torch.no_grad():`\u001b[39;00m\n\u001b[32m    929\u001b[39m \u001b[38;5;28;01mwith\u001b[39;00m torch.no_grad():\n\u001b[32m--> \u001b[39m\u001b[32m930\u001b[39m     param_applied = \u001b[43mfn\u001b[49m\u001b[43m(\u001b[49m\u001b[43mparam\u001b[49m\u001b[43m)\u001b[49m\n\u001b[32m    931\u001b[39m p_should_use_set_data = compute_should_use_set_data(param, param_applied)\n\u001b[32m    933\u001b[39m \u001b[38;5;66;03m# subclasses may have multiple child tensors so we need to use swap_tensors\u001b[39;00m\n",
      "\u001b[36mFile \u001b[39m\u001b[32mc:\\Users\\LENOVO\\Desktop\\DemoP\\.venv\\Lib\\site-packages\\torch\\nn\\modules\\module.py:1329\u001b[39m, in \u001b[36mModule.to.<locals>.convert\u001b[39m\u001b[34m(t)\u001b[39m\n\u001b[32m   1322\u001b[39m     \u001b[38;5;28;01mif\u001b[39;00m convert_to_format \u001b[38;5;129;01mis\u001b[39;00m \u001b[38;5;129;01mnot\u001b[39;00m \u001b[38;5;28;01mNone\u001b[39;00m \u001b[38;5;129;01mand\u001b[39;00m t.dim() \u001b[38;5;129;01min\u001b[39;00m (\u001b[32m4\u001b[39m, \u001b[32m5\u001b[39m):\n\u001b[32m   1323\u001b[39m         \u001b[38;5;28;01mreturn\u001b[39;00m t.to(\n\u001b[32m   1324\u001b[39m             device,\n\u001b[32m   1325\u001b[39m             dtype \u001b[38;5;28;01mif\u001b[39;00m t.is_floating_point() \u001b[38;5;129;01mor\u001b[39;00m t.is_complex() \u001b[38;5;28;01melse\u001b[39;00m \u001b[38;5;28;01mNone\u001b[39;00m,\n\u001b[32m   1326\u001b[39m             non_blocking,\n\u001b[32m   1327\u001b[39m             memory_format=convert_to_format,\n\u001b[32m   1328\u001b[39m         )\n\u001b[32m-> \u001b[39m\u001b[32m1329\u001b[39m     \u001b[38;5;28;01mreturn\u001b[39;00m \u001b[43mt\u001b[49m\u001b[43m.\u001b[49m\u001b[43mto\u001b[49m\u001b[43m(\u001b[49m\n\u001b[32m   1330\u001b[39m \u001b[43m        \u001b[49m\u001b[43mdevice\u001b[49m\u001b[43m,\u001b[49m\n\u001b[32m   1331\u001b[39m \u001b[43m        \u001b[49m\u001b[43mdtype\u001b[49m\u001b[43m \u001b[49m\u001b[38;5;28;43;01mif\u001b[39;49;00m\u001b[43m \u001b[49m\u001b[43mt\u001b[49m\u001b[43m.\u001b[49m\u001b[43mis_floating_point\u001b[49m\u001b[43m(\u001b[49m\u001b[43m)\u001b[49m\u001b[43m \u001b[49m\u001b[38;5;129;43;01mor\u001b[39;49;00m\u001b[43m \u001b[49m\u001b[43mt\u001b[49m\u001b[43m.\u001b[49m\u001b[43mis_complex\u001b[49m\u001b[43m(\u001b[49m\u001b[43m)\u001b[49m\u001b[43m \u001b[49m\u001b[38;5;28;43;01melse\u001b[39;49;00m\u001b[43m \u001b[49m\u001b[38;5;28;43;01mNone\u001b[39;49;00m\u001b[43m,\u001b[49m\n\u001b[32m   1332\u001b[39m \u001b[43m        \u001b[49m\u001b[43mnon_blocking\u001b[49m\u001b[43m,\u001b[49m\n\u001b[32m   1333\u001b[39m \u001b[43m    \u001b[49m\u001b[43m)\u001b[49m\n\u001b[32m   1334\u001b[39m \u001b[38;5;28;01mexcept\u001b[39;00m \u001b[38;5;167;01mNotImplementedError\u001b[39;00m \u001b[38;5;28;01mas\u001b[39;00m e:\n\u001b[32m   1335\u001b[39m     \u001b[38;5;28;01mif\u001b[39;00m \u001b[38;5;28mstr\u001b[39m(e) == \u001b[33m\"\u001b[39m\u001b[33mCannot copy out of meta tensor; no data!\u001b[39m\u001b[33m\"\u001b[39m:\n",
      "\u001b[31mOutOfMemoryError\u001b[39m: CUDA out of memory. Tried to allocate 892.00 MiB. GPU 0 has a total capacity of 6.00 GiB of which 0 bytes is free. Of the allocated memory 12.38 GiB is allocated by PyTorch, and 215.76 MiB is reserved by PyTorch but unallocated. If reserved but unallocated memory is large try setting PYTORCH_CUDA_ALLOC_CONF=expandable_segments:True to avoid fragmentation.  See documentation for Memory Management  (https://pytorch.org/docs/stable/notes/cuda.html#environment-variables)"
     ]
    }
   ],
   "source": [
    "import torch\n",
    "from transformers import AutoTokenizer, AutoModelForCausalLM\n",
    "\n",
    "# Load model and tokenizer\n",
    "model_name = \"deepseek-ai/DeepSeek-R1-Distill-Qwen-1.5B\"\n",
    "tokenizer = AutoTokenizer.from_pretrained(model_name)\n",
    "model = AutoModelForCausalLM.from_pretrained(model_name)\n",
    "\n",
    "# Move to GPU if available\n",
    "device = \"cuda\" if torch.cuda.is_available() else \"cpu\"\n",
    "model.to(device)\n",
    "\n",
    "# Data for grading\n",
    "student_response = \"นักศึกษาเทน้ำเกลือใส่แก้วแล้วใช้กระบอกฉีดยาดูดน้ำเกลือ จากนั้นให้ผู้ป่วยก้มหน้าและเอียงหัวไปทางขวา\"\n",
    "grading_criteria = \"นั่งหรือยืนก้มหน้าเล็กน้อย เอนศีรษะไปด้านใดด้านหนึ่ง\"\n",
    "\n",
    "# Construct prompt\n",
    "prompt = f\"\"\"ข้อความ: \"{student_response}\"\\n\n",
    "คำถาม: \"{grading_criteria}\"\\n\n",
    "ข้อความนี้เกี่ยวข้องกับคำถามหรือไม่? กรุณาตอบ \"มี\" หรือ \"ไม่มี\" และอธิบายเหตุผลสั้นๆ:\n",
    "\"\"\"\n",
    "\n",
    "# Tokenize input\n",
    "inputs = tokenizer(prompt, return_tensors=\"pt\").to(device)\n",
    "\n",
    "# Generate response with controlled length\n",
    "output = model.generate(**inputs, max_length=200)\n",
    "\n",
    "# Decode response\n",
    "response_text = tokenizer.decode(output[0], skip_special_tokens=True)\n",
    "\n",
    "print(response_text)"
   ]
  },
  {
   "cell_type": "markdown",
   "metadata": {},
   "source": [
    "# test word in sentence similarity"
   ]
  },
  {
   "cell_type": "code",
   "execution_count": 1,
   "metadata": {},
   "outputs": [
    {
     "name": "stderr",
     "output_type": "stream",
     "text": [
      "c:\\Users\\LENOVO\\Desktop\\DemoP\\.venv\\Lib\\site-packages\\tqdm\\auto.py:21: TqdmWarning: IProgress not found. Please update jupyter and ipywidgets. See https://ipywidgets.readthedocs.io/en/stable/user_install.html\n",
      "  from .autonotebook import tqdm as notebook_tqdm\n",
      "c:\\Users\\LENOVO\\Desktop\\DemoP\\.venv\\Lib\\site-packages\\huggingface_hub\\file_download.py:142: UserWarning: `huggingface_hub` cache-system uses symlinks by default to efficiently store duplicated files but your machine does not support them in C:\\Users\\LENOVO\\.cache\\huggingface\\hub\\models--sentence-transformers--paraphrase-multilingual-MiniLM-L12-v2. Caching files will still work but in a degraded version that might require more space on your disk. This warning can be disabled by setting the `HF_HUB_DISABLE_SYMLINKS_WARNING` environment variable. For more details, see https://huggingface.co/docs/huggingface_hub/how-to-cache#limitations.\n",
      "To support symlinks on Windows, you either need to activate Developer Mode or to run Python as an administrator. In order to activate developer mode, see this article: https://docs.microsoft.com/en-us/windows/apps/get-started/enable-your-device-for-development\n",
      "  warnings.warn(message)\n"
     ]
    },
    {
     "name": "stdout",
     "output_type": "stream",
     "text": [
      "tensor([[1.0000, 0.8402],\n",
      "        [0.8402, 1.0000]])\n"
     ]
    }
   ],
   "source": [
    "from sentence_transformers import SentenceTransformer, util\n",
    "\n",
    "# โหลดโมเดลสำหรับสร้าง Text Embedding\n",
    "model = SentenceTransformer('paraphrase-multilingual-MiniLM-L12-v2')\n",
    "\n",
    "s = ['ความแรง400มิลลิกรัม', \"400มิลลิกรัม\",]\n",
    "\n",
    "# สร้าง Embedding\n",
    "sent_embedding = model.encode(s)\n",
    "\n",
    "# คำนวณ Cosine Similarity\n",
    "cos_sim = util.pytorch_cos_sim(sent_embedding, sent_embedding)\n",
    "\n",
    "# แสดงผลลัพธ์\n",
    "print(cos_sim)"
   ]
  },
  {
   "cell_type": "markdown",
   "metadata": {},
   "source": [
    "# don't work solution"
   ]
  },
  {
   "cell_type": "code",
   "execution_count": 100,
   "metadata": {},
   "outputs": [],
   "source": [
    "import psycopg2\n",
    "from psycopg2.extras import RealDictCursor\n",
    "\n",
    "def get_db_connection():\n",
    "    conn = psycopg2.connect(\n",
    "        dbname='ScoringT',\n",
    "        user='postgres',\n",
    "        password='123456789',\n",
    "        host='localhost'\n",
    "    )\n",
    "    return conn"
   ]
  },
  {
   "cell_type": "code",
   "execution_count": 101,
   "metadata": {},
   "outputs": [],
   "source": [
    "def get_data():\n",
    "    conn = get_db_connection()\n",
    "    cursor = conn.cursor(cursor_factory=RealDictCursor)\n",
    "    cursor.execute('SELECT check_sent,score,prerequired,topic FROM \"having\" h,situation s,checklist cl where h.\"ID_situ\" = s.\"ID_situ\" and cl.\"ID_checklist\" = h.\"ID_checklist\" and s.\"ID_situ\"=1 order by cl.topic')\n",
    "    processing = cursor.fetchall()\n",
    "    cursor.close()\n",
    "    conn.close()\n",
    "    return processing"
   ]
  },
  {
   "cell_type": "code",
   "execution_count": 102,
   "metadata": {},
   "outputs": [],
   "source": [
    "data = get_data()\n",
    "checklist = [item['check_sent'] for item in data]\n",
    "topic = [item['topic'] for item in data]\n",
    "score = [item['score'] for item in data]\n",
    "request = [item['prerequired'] for item in data]"
   ]
  },
  {
   "cell_type": "code",
   "execution_count": 103,
   "metadata": {},
   "outputs": [],
   "source": [
    "text = [\n",
    "    \"สวัสดีครับผมเภสัชกรสมชายยิ่งใหญ่คนไข้ชื่อนามสกุลอะไรครับ\",\n",
    "    \"คนไข้มาด้วยอาการคันจมูกใช่ไหมครับ\",\n",
    "    \"คนไข้มีโรคประจำตัวอะไรไหมครับ\",\n",
    "    \"คนไข้มีประวัติการแพ้ยาอะไรไหมครับ\",\n",
    "    \"มีอาการแพ้ยาแบบผื่นขึ้นแล้วคันใช่ไหมครับ\",\n",
    "    \"เดี๋ยววันนี้คุณหมอจะมีการจ่ายยาทั้งหมด2รายการนะครับมียาลอราทาดีน400มิลลิกรัมเป็นยาสำหรับบรรเทาอาการแพ้รับประทานครั้งละ1เม็ดวันละ1ครั้งหลังอาหารทันทีตอนเช้าจำนวน30เม็ดครับ\",\n",
    "    \"ส่วนอีกยาเป็นนอร์มอลซาไลน์นะครับขนาด1000มิลลิลิตรจำนวน2ขวดเป็นยาสำหรับล้างจมูกนะครับให้ล้างจมูกทั้ง2ข้างวันละ2ครั้งเช้าเย็น\",\n",
    "    \"เดี๋ยวเภสัชขอแนะนำวิธีการใช้ยาสำหรับล้างจมูกนะครับหาแก้วสำหรับเทน้ำเกลือ0.9เปอร์เซ็นต์แล้วใช้กระบอกฉีดยาขนาด20ถึง50มิลลิลิตรดูดน้ำเกลือจนเต็มหลอดจากนั้นก้มหน้าลงเล็กน้อยเอียงหัวไปด้านหนึ่งกลั้นหายใจเพื่อไม่ให้สำลักฉีกน้ำเกลือประมาณ10-20ซีซีเข้ารูจมูกให้น้ำเกลือไหลออกทางจมูกอีกข้างใช้ลูกยางแดงดูดน้ำมูกในจมูกออกหรือสั่งน้ำมูกออกทำซ้ำหลายหลายครั้งในแต่ละข้างจนน้ำเกลือไหลออกทางจมูกจนไม่มีน้ำมูกหลังใช้งานเสร็จให้ล้างกระบวกฉีกยาให้สะอาดและทิ้งไว้ให้แห้งสนิท\",\n",
    "    \"อาจใช้จุกล้างจมูกสวมที่ปลายกระบอกฉีดยาทำให้ล้างจมูกง่ายขึ้นถ้าแสบจมูกในช่วงแรกเป็นภาวะปกติไม่มีอันตรายตอนล้างจมูกอาจมีน้ำเกลือไหลลงคอทำให้รู้รึกเค็มหลังล้างจมูกเสร็จคนไข้สามารถกลั้วคอด้วยน้ำเปล่าได้เพื่อลดความเค็มลงส่วนกระบอกฉีกยาไม่ควรใช้ร่วมกับผู้อื่น\",\n",
    "]"
   ]
  },
  {
   "cell_type": "code",
   "execution_count": 104,
   "metadata": {},
   "outputs": [
    {
     "data": {
      "text/plain": [
       "'สวัสดีครับผมเภสัชกรสมชายยิ่งใหญ่คนไข้ชื่อนามสกุลอะไรครับ'"
      ]
     },
     "execution_count": 104,
     "metadata": {},
     "output_type": "execute_result"
    }
   ],
   "source": [
    "text = text[0]\n",
    "text"
   ]
  },
  {
   "cell_type": "code",
   "execution_count": 8,
   "metadata": {},
   "outputs": [
    {
     "name": "stdout",
     "output_type": "stream",
     "text": [
      "📌 แนะนำตัวเภสัชกร: เภสัชกร\n",
      "📌 ผู้ป่วยชื่อนามสกุลอะไร: ชื่อนามสกุลอะไร\n",
      "📌 ผู้ป่วยชื่อพิมนามสกุลอะไร: ชื่อนามสกุลอะไร\n",
      "📌 ผู้ป่วยชื่อพิมมั่นใจใช่ไหม: ชื่อ\n",
      "📌 ผู้ป่วยมีประวัติแพ้ยาอะไรไหม: อะไร\n"
     ]
    }
   ],
   "source": [
    "from pythainlp.tokenize import word_tokenize\n",
    "\n",
    "# Tokenize checklist และเก็บใน dictionary (เก็บ key เป็น string)\n",
    "cl_token = {item: word_tokenize(item, keep_whitespace=False) for item in checklist}\n",
    "\n",
    "# Tokenize input text\n",
    "input_tokens = word_tokenize(text, keep_whitespace=False)\n",
    "\n",
    "# สร้าง dictionary สำหรับเก็บผลลัพธ์\n",
    "matched_dict = {key: [] for key in cl_token}\n",
    "\n",
    "used_words = set()\n",
    "for word in input_tokens:\n",
    "    for key, sublist in cl_token.items():\n",
    "        if word in sublist and word not in used_words:\n",
    "            matched_dict[key].append(word)\n",
    "            used_words.add(word)  # ป้องกันคำซ้ำ\n",
    "\n",
    "# ลบคำซ้ำในแต่ละหัวข้อของ matched_dict โดยรักษาลำดับ\n",
    "for key in matched_dict:\n",
    "    matched_dict[key] = []\n",
    "    used_words_in_key = set()  # ชุดสำหรับคำที่พบแล้วในแต่ละหัวข้อ\n",
    "    for word in input_tokens:\n",
    "        for cl_word in cl_token[key]:\n",
    "            if word in cl_word and word not in used_words_in_key:\n",
    "                matched_dict[key].append(word)\n",
    "                used_words_in_key.add(word)\n",
    "\n",
    "# ลบหัวข้อที่ไม่มีคำตรงกัน\n",
    "matched_dict = {key: words for key, words in matched_dict.items() if words}\n",
    "\n",
    "split_sent = []\n",
    "# แสดงผล\n",
    "for key, words in matched_dict.items():\n",
    "    print(f\"📌 {key}: {''.join(words)}\")\n",
    "    split_sent.append(''.join(words))\n"
   ]
  },
  {
   "cell_type": "code",
   "execution_count": 9,
   "metadata": {},
   "outputs": [
    {
     "name": "stdout",
     "output_type": "stream",
     "text": [
      "['เภสัชกร', 'ชื่อนามสกุลอะไร', 'ชื่อนามสกุลอะไร', 'ชื่อ', 'อะไร']\n"
     ]
    }
   ],
   "source": [
    "print(split_sent)"
   ]
  },
  {
   "cell_type": "code",
   "execution_count": 10,
   "metadata": {},
   "outputs": [
    {
     "name": "stdout",
     "output_type": "stream",
     "text": [
      "[{'checklist_item': 'แนะนำตัวเภสัชกร', 'matched_sentence': 'เภสัชกร', 'similarity_score': tensor(0.9346), 'topic': 0, 'score': 0.5}, {'checklist_item': 'ผู้ป่วยชื่อนามสกุลอะไร', 'matched_sentence': 'เภสัชกร', 'similarity_score': tensor(0.6141), 'topic': 1, 'score': 1.0}, {'checklist_item': 'ผู้ป่วยชื่อนามสกุลอะไร', 'matched_sentence': 'ชื่อนามสกุลอะไร', 'similarity_score': tensor(0.6362), 'topic': 1, 'score': 1.0}, {'checklist_item': 'ผู้ป่วยชื่อพิมนามสกุลอะไร', 'matched_sentence': 'ชื่อนามสกุลอะไร', 'similarity_score': tensor(0.6471), 'topic': 1, 'score': 0.5}, {'checklist_item': 'ผู้ป่วยชื่อนามสกุลอะไร', 'matched_sentence': 'ชื่อนามสกุลอะไร', 'similarity_score': tensor(0.6362), 'topic': 1, 'score': 1.0}, {'checklist_item': 'ผู้ป่วยชื่อพิมนามสกุลอะไร', 'matched_sentence': 'ชื่อนามสกุลอะไร', 'similarity_score': tensor(0.6471), 'topic': 1, 'score': 0.5}]\n",
      "Checklist Status:\n",
      "แนะนำตัวเภสัชกร : True\n",
      "ผู้ป่วยชื่อนามสกุลอะไร : True\n",
      "ผู้ป่วยชื่อพิมนามสกุลอะไร : True\n",
      "ผู้ป่วยชื่อพิมมั่นใจใช่ไหม : False\n",
      "ผู้ป่วยมีประวัติแพ้ยาอะไรไหม : False\n",
      "ผู้ป่วยแพ้ยามีอาการผื่นคันใช่ไหม : False\n",
      "ลอราทาดีน : False\n",
      "ความแรง10มิลลิกรัม : False\n",
      "จำนวน30เม็ด : False\n",
      "ใช้เพื่อบรรเทาอาการแพ้ : False\n",
      "รับประทานครั้งละ1เม็ด : False\n",
      "วันละ1ครั้ง : False\n",
      "หลังอาหารเช้า : False\n",
      "นอร์มอลซาไลน์ : False\n",
      "ขนาด1000มิลลิลิตร : False\n",
      "จำนวน2ขวด : False\n",
      "ใช้สำหรับล้างจมูก : False\n",
      "ล้างจมูกทั้ง2ข้าง : False\n",
      "วันละ2ครั้ง : False\n",
      "เช้าและเย็น : False\n",
      "เทน้ำเกลือ0.9เปอร์เซ็นต์ใส่ถ้วยหรือแก้วที่เตรียมไว้แล้วใช้กระบอกฉีดยาขนาด20ถึง50มิลลิลิตรดูดน้ำเกลือจนเต็ม : False\n",
      "นั่งหรือยืนก้มหน้าเล็กน้อยเอนศีรษะไปด้านใดด้านหนึ่ง : False\n",
      "กลั้นหายใจหรือหายใจทางปากเพื่อป้องกันการสำลัก : False\n",
      "ค่อยค่อยฉีดน้ำเกลือประมาณ10-20ซีซีเข้าไปในรูจมูกด้านบนให้น้ำเกลือไหลออกทางรูจมูกอีกข้าง : False\n",
      "ใช้ลูกยางแดงดูดน้ำมูกในจมูกออกหรือสั่งน้ำมูกออก : False\n",
      "ทำซ้ำหลายหลายครั้งในรูจมูกแต่ละข้างจนน้ำเกลือที่ไหลออกทางจมูกมีลักษณะใสไม่มีสีไม่มีน้ำมูก : False\n",
      "ล้างกระบอกฉีดยาให้สะอาดและทิ้งไว้ให้แห้งสนิท : False\n",
      "ใช้จุกล้างจมูกสวมที่ปลายกระบอกฉีดยาช่วยให้ล้างจมูกได้ง่ายขึ้น : False\n",
      "อาจมีอาการระคายเคืองหรือแสบจมูกในระยะแรกเป็นภาวะปกติไม่มีอันตราย : False\n",
      "น้ำเกลือล้างจมูกส่วนหนึ่งอาจไหลลงคอทำให้รู้สึกเค็มในคอขณะล้างจมูกหรือภายหลังล้างจมูกเสร็จผู้ป่วยสามารถกลั้วคอด้วยน้ำเปล่าหลังล้างจมูกเสร็จเพื่อลดความรู้สึกเค็มในคอ : False\n",
      "ไม่ควรใช้กระบอกฉีดยาร่วมกับผู้อื่น : False\n",
      "Total Score: 1.5\n"
     ]
    }
   ],
   "source": [
    "from sentence_transformers import SentenceTransformer, util\n",
    "import pandas as pd\n",
    "\n",
    "model = SentenceTransformer('paraphrase-multilingual-MiniLM-L12-v2')\n",
    "threshold = 0.6\n",
    "recording = []\n",
    "count = 0\n",
    "matched_topics = {-1} # Track matched topics to avoid duplicate scoring\n",
    "\n",
    "# Track whether each checklist item is matched\n",
    "checklist_status = [False] * len(checklist)\n",
    "\n",
    "# Encode the checklist sentences\n",
    "checklit_embeddings = model.encode(checklist)\n",
    "\n",
    "# Iterate through split_sent and check for similarity\n",
    "for sent in split_sent:\n",
    "    sent_embedding = model.encode(sent)\n",
    "    similarities = util.cos_sim(sent_embedding, checklit_embeddings)\n",
    "\n",
    "    for i, check in enumerate(checklist):\n",
    "        if similarities[0][i] > threshold:\n",
    "            best_match_index = i\n",
    "            matched_checklist_item = checklist[best_match_index]\n",
    "            matched_topic = topic[best_match_index]\n",
    "            matched_score = score[best_match_index]\n",
    "            required_topic = request[best_match_index]\n",
    "\n",
    "            # Ensure dependencies are met\n",
    "            if required_topic != -1 and required_topic not in matched_topics:\n",
    "                continue  # Skip if required topic was not mentioned first\n",
    "\n",
    "            checklist_status[best_match_index] = True  # Mark as matched\n",
    "\n",
    "            # Add score only if the topic has not been counted before\n",
    "            if matched_topic not in matched_topics:\n",
    "                count += matched_score\n",
    "                matched_topics.add(matched_topic)\n",
    "\n",
    "            recording.append({\n",
    "                \"checklist_item\": matched_checklist_item,\n",
    "                \"matched_sentence\": sent,\n",
    "                \"similarity_score\": similarities[0][i],\n",
    "                \"topic\": matched_topic,\n",
    "                \"score\": matched_score\n",
    "            })\n",
    "\n",
    "# Save results to an Excel file\n",
    "df = pd.DataFrame(recording)\n",
    "df.to_excel(\"recording_results.xlsx\", index=False)\n",
    "\n",
    "# Print the recorded matches\n",
    "print(recording)\n",
    "print(\"Checklist Status:\")\n",
    "for i,check in enumerate(checklist):\n",
    "    print(check,\":\",checklist_status[i])\n",
    "print(\"Total Score:\", count)"
   ]
  },
  {
   "cell_type": "code",
   "execution_count": null,
   "metadata": {},
   "outputs": [
    {
     "name": "stdout",
     "output_type": "stream",
     "text": [
      "[{'checklist_item': 'เป็นเภสัชกร', 'matched_sentence': 'เภสัช', 'similarity_score': tensor(0.8488), 'topic': 0, 'score': 0.5}, {'checklist_item': 'ใช้จุกล้างจมูกสวมที่ปลายกระบอกฉีดยาช่วยให้ล้างจมูกได้ง่ายขึ้น', 'matched_sentence': 'ใช้สำหรับล้างจมูก', 'similarity_score': tensor(0.7831), 'topic': 25, 'score': 0.5}, {'checklist_item': 'เทน้ำเกลือ0.9เปอร์เซ็นต์ใส่ถ้วยหรือแก้วที่เตรียมไว้แล้วใช้กระบอกฉีดยาขนาด20ถึง50มิลลิลิตรดูดน้ำเกลือจนเต็ม', 'matched_sentence': 'ใช้ยาแก้วเทน้ำเกลือ0.9เปอร์เซ็นต์แล้วกระบอกฉีดยาขนาด20ถึง50มิลลิลิตรดูดจนเต็มหรือกระไว้', 'similarity_score': tensor(0.9464), 'topic': 18, 'score': 0.5}, {'checklist_item': 'นั่งหรือยืนก้มหน้าเล็กน้อยเอนศีรษะไปด้านใดด้านหนึ่ง', 'matched_sentence': 'ก้มหน้าเล็กน้อยไปด้านหนึ่งหรือ', 'similarity_score': tensor(0.8079), 'topic': 19, 'score': 0.5}, {'checklist_item': 'ค่อยค่อยฉีดน้ำเกลือประมาณ10-20ซีซีเข้าไปในรูจมูกด้านบนให้น้ำเกลือไหลออกทางรูจมูกอีกข้าง', 'matched_sentence': 'จมูกน้ำเกลือ20ไปด้านให้ประมาณ10-ซีเข้ารูไหลออกทางอีกข้างใน', 'similarity_score': tensor(0.8609), 'topic': 21, 'score': 1.0}, {'checklist_item': 'ใช้ลูกยางแดงดูดน้ำมูกในจมูกออกหรือสั่งน้ำมูกออก', 'matched_sentence': 'ใช้ยาจมูกดูดออกลูกยางแดงน้ำมูกในหรือสั่งน้ำมูก', 'similarity_score': tensor(0.8874), 'topic': 22, 'score': 1.0}, {'checklist_item': 'ทำซ้ำหลายหลายครั้งในรูจมูกแต่ละข้างจนน้ำเกลือที่ไหลออกทางจมูกมีลักษณะใสไม่มีสีไม่มีน้ำมูก', 'matched_sentence': 'จมูกน้ำเกลือจนไม่รูไหลออกทางข้างน้ำมูกในทำซ้ำหลายหลายครั้งแต่ละมี', 'similarity_score': tensor(0.8244), 'topic': 23, 'score': 0.5}, {'checklist_item': 'ล้างกระบอกฉีดยาให้สะอาดและทิ้งไว้ให้แห้งสนิท', 'matched_sentence': 'ยาล้างกระบอกฉีดยาให้กระสะอาดและทิ้งไว้แห้งสนิท', 'similarity_score': tensor(0.9402), 'topic': 24, 'score': 0.5}, {'checklist_item': 'ใช้จุกล้างจมูกสวมที่ปลายกระบอกฉีดยาช่วยให้ล้างจมูกได้ง่ายขึ้น', 'matched_sentence': 'ใช้ยาล้างจมูกกระบอกฉีดยาให้กระ', 'similarity_score': tensor(0.8554), 'topic': 25, 'score': 0.5}]\n",
      "Checklist Status:\n",
      "เป็นเภสัชกร : True\n",
      "ผู้ป่วยชื่อนามสกุลอะไร : False\n",
      "ผู้ป่วยชื่อพิมนามสกุลอะไร : False\n",
      "ผู้ป่วยชื่อพิมมั่นใจใช่ไหม : False\n",
      "ผู้ป่วยมีประวัติแพ้ยาอะไรไหม : False\n",
      "ผู้ป่วยแพ้ยามีอาการผื่นคันใช่ไหม : False\n",
      "ลอราทาดีน : False\n",
      "ความแรง10มิลลิกรัม : False\n",
      "จำนวน30เม็ด : False\n",
      "ใช้เพื่อบรรเทาอาการแพ้ : False\n",
      "รับประทานครั้งละ1เม็ด : False\n",
      "วันละ1ครั้ง : False\n",
      "หลังอาหารเช้า : False\n",
      "นอร์มอลซาไลน์ : False\n",
      "ขนาด1000มิลลิลิตร : False\n",
      "จำนวน2ขวด : False\n",
      "ใช้สำหรับล้างจมูก : False\n",
      "ล้างจมูกทั้ง2ข้าง : False\n",
      "วันละ2ครั้ง : False\n",
      "เช้าและเย็น : False\n",
      "เทน้ำเกลือ0.9เปอร์เซ็นต์ใส่ถ้วยหรือแก้วที่เตรียมไว้แล้วใช้กระบอกฉีดยาขนาด20ถึง50มิลลิลิตรดูดน้ำเกลือจนเต็ม : True\n",
      "นั่งหรือยืนก้มหน้าเล็กน้อยเอนศีรษะไปด้านใดด้านหนึ่ง : True\n",
      "กลั้นหายใจหรือหายใจทางปากเพื่อป้องกันการสำลัก : False\n",
      "ค่อยค่อยฉีดน้ำเกลือประมาณ10-20ซีซีเข้าไปในรูจมูกด้านบนให้น้ำเกลือไหลออกทางรูจมูกอีกข้าง : True\n",
      "ใช้ลูกยางแดงดูดน้ำมูกในจมูกออกหรือสั่งน้ำมูกออก : True\n",
      "ทำซ้ำหลายหลายครั้งในรูจมูกแต่ละข้างจนน้ำเกลือที่ไหลออกทางจมูกมีลักษณะใสไม่มีสีไม่มีน้ำมูก : True\n",
      "ล้างกระบอกฉีดยาให้สะอาดและทิ้งไว้ให้แห้งสนิท : True\n",
      "ใช้จุกล้างจมูกสวมที่ปลายกระบอกฉีดยาช่วยให้ล้างจมูกได้ง่ายขึ้น : True\n",
      "อาจมีอาการระคายเคืองหรือแสบจมูกในระยะแรกเป็นภาวะปกติไม่มีอันตราย : False\n",
      "น้ำเกลือล้างจมูกส่วนหนึ่งอาจไหลลงคอทำให้รู้สึกเค็มในคอขณะล้างจมูกหรือภายหลังล้างจมูกเสร็จผู้ป่วยสามารถกลั้วคอด้วยน้ำเปล่าหลังล้างจมูกเสร็จเพื่อลดความรู้สึกเค็มในคอ : False\n",
      "ไม่ควรใช้กระบอกฉีดยาร่วมกับผู้อื่น : False\n",
      "Total Score: 5.0\n"
     ]
    }
   ],
   "source": [
    "from sentence_transformers import SentenceTransformer, util\n",
    "import pandas as pd\n",
    "\n",
    "model = SentenceTransformer(\"trained_model\")\n",
    "threshold = 0.6\n",
    "recording = []\n",
    "count = 0\n",
    "matched_topics = {-1} # Track matched topics to avoid duplicate scoring\n",
    "\n",
    "# Track whether each checklist item is matched\n",
    "checklist_status = [False] * len(checklist)\n",
    "\n",
    "# Encode the checklist sentences\n",
    "checklit_embeddings = model.encode(checklist)\n",
    "\n",
    "# Iterate through split_sent and check for similarity\n",
    "for sent in split_sent:\n",
    "    sent_embedding = model.encode(sent)\n",
    "    similarities = util.cos_sim(sent_embedding, checklit_embeddings)\n",
    "\n",
    "    for i, check in enumerate(checklist):\n",
    "        if similarities[0][i] > threshold:\n",
    "            best_match_index = i\n",
    "            matched_checklist_item = checklist[best_match_index]\n",
    "            matched_topic = topic[best_match_index]\n",
    "            matched_score = score[best_match_index]\n",
    "            required_topic = request[best_match_index]\n",
    "\n",
    "            # Ensure dependencies are met\n",
    "            if required_topic != -1 and required_topic not in matched_topics:\n",
    "                continue  # Skip if required topic was not mentioned first\n",
    "\n",
    "            checklist_status[best_match_index] = True  # Mark as matched\n",
    "\n",
    "            # Add score only if the topic has not been counted before\n",
    "            if matched_topic not in matched_topics:\n",
    "                count += matched_score\n",
    "                matched_topics.add(matched_topic)\n",
    "\n",
    "            recording.append({\n",
    "                \"checklist_item\": matched_checklist_item,\n",
    "                \"matched_sentence\": sent,\n",
    "                \"similarity_score\": similarities[0][i],\n",
    "                \"topic\": matched_topic,\n",
    "                \"score\": matched_score\n",
    "            })\n",
    "\n",
    "# Save results to an Excel file\n",
    "df = pd.DataFrame(recording)\n",
    "df.to_excel(\"recording_results.xlsx\", index=False)\n",
    "\n",
    "# Print the recorded matches\n",
    "print(recording)\n",
    "print(\"Checklist Status:\")\n",
    "for i,check in enumerate(checklist):\n",
    "    print(check,\":\",checklist_status[i])\n",
    "print(\"Total Score:\", count)"
   ]
  },
  {
   "cell_type": "markdown",
   "metadata": {},
   "source": [
    "# new solution _before word sentence in checklist for tokenize sentence"
   ]
  },
  {
   "cell_type": "code",
   "execution_count": 1,
   "metadata": {},
   "outputs": [],
   "source": [
    "import psycopg2\n",
    "from psycopg2.extras import RealDictCursor\n",
    "\n",
    "def get_db_connection():\n",
    "    conn = psycopg2.connect(\n",
    "        dbname='ScoringT',\n",
    "        user='postgres',\n",
    "        password='123456789',\n",
    "        host='localhost'\n",
    "    )\n",
    "    return conn"
   ]
  },
  {
   "cell_type": "code",
   "execution_count": 163,
   "metadata": {},
   "outputs": [],
   "source": [
    "selection_situ = 24"
   ]
  },
  {
   "cell_type": "code",
   "execution_count": 164,
   "metadata": {},
   "outputs": [],
   "source": [
    "def get_data():\n",
    "    conn = get_db_connection()\n",
    "    cursor = conn.cursor(cursor_factory=RealDictCursor)\n",
    "    cursor.execute('SELECT check_sent,score,prerequired,topic FROM \"having\" h,situation s,checklist cl where h.\"ID_situ\" = s.\"ID_situ\" and cl.\"ID_checklist\" = h.\"ID_checklist\" and s.\"ID_situ\"=%s order by cl.topic,cl.\"ID_checklist\"',(selection_situ,))\n",
    "    processing = cursor.fetchall()\n",
    "    cursor.close()\n",
    "    conn.close()\n",
    "    return processing"
   ]
  },
  {
   "cell_type": "code",
   "execution_count": 165,
   "metadata": {},
   "outputs": [],
   "source": [
    "data = get_data()\n",
    "checklist = [item['check_sent'] for item in data]\n",
    "topic = [item['topic'] for item in data]\n",
    "score = [item['score'] for item in data]\n",
    "request = [item['prerequired'] for item in data]"
   ]
  },
  {
   "cell_type": "code",
   "execution_count": 166,
   "metadata": {},
   "outputs": [
    {
     "name": "stdout",
     "output_type": "stream",
     "text": [
      "Total score (ไม่ซ้ำ topic): 10.0\n"
     ]
    }
   ],
   "source": [
    "total_score = 0\n",
    "pass_topics = set()\n",
    "\n",
    "for i in range(len(data)):\n",
    "    current_topic = data[i]['topic']\n",
    "    current_score = data[i]['score']\n",
    "    \n",
    "    if current_topic not in pass_topics:\n",
    "        total_score += current_score\n",
    "        pass_topics.add(current_topic)\n",
    "\n",
    "print(\"Total score (ไม่ซ้ำ topic):\", total_score)"
   ]
  },
  {
   "cell_type": "code",
   "execution_count": 167,
   "metadata": {},
   "outputs": [],
   "source": [
    "def get_name_patient():\n",
    "    conn = get_db_connection()\n",
    "    cursor = conn.cursor(cursor_factory=RealDictCursor)\n",
    "    cursor.execute('SELECT fname_patient,lname_patient FROM situation s where s.\"ID_situ\"=%s',(selection_situ,))\n",
    "    processing = cursor.fetchall()\n",
    "    cursor.close()\n",
    "    conn.close()\n",
    "    return processing"
   ]
  },
  {
   "cell_type": "code",
   "execution_count": 168,
   "metadata": {},
   "outputs": [],
   "source": [
    "name_patient = get_name_patient()\n",
    "fname_patient = [item['fname_patient'] for item in name_patient]\n",
    "lname_patient = [item['lname_patient'] for item in name_patient]\n",
    "temp = checklist[2].split('fname')\n",
    "temp.insert(1,fname_patient[0])\n",
    "checklist[2] = ''.join(temp)\n",
    "temp = checklist[3].split('fullname')\n",
    "temp.insert(1,fname_patient[0])\n",
    "temp.insert(2,lname_patient[0])\n",
    "checklist[3] = ''.join(temp)"
   ]
  },
  {
   "cell_type": "code",
   "execution_count": 169,
   "metadata": {},
   "outputs": [
    {
     "data": {
      "text/plain": [
       "['แนะนำตัวเภสัชกรสมชายยิ่งใหญ่',\n",
       " 'ผู้ป่วยชื่อนามสกุลอะไร',\n",
       " 'ผู้ป่วยชื่อสวยนามสกุลอะไร',\n",
       " 'ผู้ป่วยชื่อสวยสราญลมใช่ไหม',\n",
       " 'ผู้ป่วยมีประวัติแพ้ยาอะไรไหม',\n",
       " 'ผู้ป่วยแพ้ยามีอาการผื่นคันใช่ไหม',\n",
       " 'พาราเซตามอล',\n",
       " '120มิลลิกรัมใน5มิลลิลิตร',\n",
       " 'ใช้เพื่อบรรเทาอาการไข้และปวด',\n",
       " 'รับประทานครั้งละ2จุด5มิลลิลิตร',\n",
       " 'ทุก6ชั่วโมง',\n",
       " 'เมื่อเวลามีอาการไข้หรือปวด',\n",
       " 'ยานี้ไม่ควรรับประทานต่อเนื่องเกิน5วัน',\n",
       " 'อะมอกซีซิลิน',\n",
       " 'ความแรง500มิลลิกรัม',\n",
       " 'จำนวน30เม็ด',\n",
       " 'ใช้รักษาอาการติดเชื้อที่หู',\n",
       " 'รับประทานครั้งละ1เม็ด',\n",
       " 'วันละ3ครั้ง',\n",
       " 'หลังอาหารเช้ากลางวันเย็น',\n",
       " 'ควรรับประทานติดต่อกันทุกวันจนหมด',\n",
       " 'เด็กซ์ออฟ',\n",
       " 'ใช้รักษาหูชั้นกลางอักเสบ',\n",
       " 'หยอดหูซ้าย3หยด',\n",
       " 'วันละ3ครั้ง',\n",
       " 'หลังอาหารเช้ากลางวันเย็น',\n",
       " 'ล้างมือให้สะอาด',\n",
       " 'นอนตะแคงหรือนั่งเอียงศีรษะให้หูข้างที่จะหยอดยาอยู่ด้านบน',\n",
       " 'ให้ดึงใบหูข้างที่จะหยอดยาไปด้านหลังและดึงขึ้นด้านบน',\n",
       " 'หยอดยาเข้าไปในหูตามที่แพทย์สั่ง',\n",
       " 'ระวังอย่าเอาหลอดหยดสอดเข้าไปในรูหู',\n",
       " 'เอียงตะแคงอยู่ท่าเดิมประมาณ3ถึง5นาที',\n",
       " 'อาจเอาสำลีใส่ในรูหูไว้อีกระยะหนึ่งเพื่อไม่ให้ยาไหลออกมา',\n",
       " 'ให้เขย่าขวดก่อนใช้ทุกครั้ง',\n",
       " 'ใช้ไม้พันสำลีเช็ดหนองในใบหูหรือรูหูให้สะอาดก่อนและหลังหยอดยา',\n",
       " 'ยาหยอดหูหากเก็บไว้ในตู้เย็นก่อนใช้ยาให้กำหลอดยาไว้ในอุ้งมือสักครู่',\n",
       " 'เพื่อปรับอุณหภูมิให้ใกล้เคียงกับร่างกายก่อนหยอด',\n",
       " 'จำนวน1ขวด']"
      ]
     },
     "execution_count": 169,
     "metadata": {},
     "output_type": "execute_result"
    }
   ],
   "source": [
    "std_name = \"สมชายยิ่งใหญ่\"\n",
    "checklist[0] = checklist[0]+std_name\n",
    "checklist"
   ]
  },
  {
   "cell_type": "code",
   "execution_count": 16,
   "metadata": {},
   "outputs": [],
   "source": [
    "text = [\n",
    "    \"วันนี้ มา รับ ยา 3 ตัว นะ ครับ อัน นี้ เป็น ยา ไอ บู โปร เพ นค วาม แรง 400 มิลลิกรัม จำนวน 10 เม็ด ใช้ เพื่อ บรรเทา อาการ ปวด รับประทาน ครั้ง ละ 1 เม็ด วัน ละ 3 ครั้งหลัง อาหารเช้า กลางวัน เย็น ยา นี้ ควร รับประทาน หลัง อาหาร ทันที ส่วน ยา นี้ ชื่อ อะ มอ ก ซี ซิ ลิ นค วาม แรง 500 มิลลิกรัม จำนวน 30 เม็ด ใช้ รักษา อาการ ติดเชื้อ ที่ หู รับประทาน ครั้ง ละ 1 เม็ด วัน ละ 3 ครั้งหลัง อาหารเช้า กลางวัน เย็น ยา นี้ ควร รับประทาน ติดต่อกัน ทุกวัน จน หมด\",\n",
    "    \"จากนั้น ให้ ดึง ใบ หู ที่จะ หยอด ยา ไป ไว้ ด้านหลัง และ ดึง ขึ้น ด้านบน โดย หยอด ยา เข้าไป ใน หู ตามที่ แพทย์ สั่ง ระวัง อย่า เอา หยอด สอด เข้าไป ใน รูหู ให้ คนไข้ เอียง ตะแคง อยู่ ท่า เดิม ประมาณ 3 ถึง 5 นาที ซึ่ง อาจจะ เอา สำนิท ใส่ ไว้ ใน รูหู อีก ระยะ หนึ่ง เพื่อ ไม่ ให้ ยา ไหล ออกมา ได้\",\n",
    "    \"ส่วนอีกยาเป็นน้ำเกลือ1000มิลลิลิตรจำนวน2ขวดเป็นยาสำหรับล้างจมูกนะครับให้ล้างจมูกทั้ง2ข้างวันละ2ครั้งเช้าเย็น\",\n",
    "    \"เดี๋ยวเภสัชขอแนะนำวิธีการใช้ยาสำหรับล้างจมูกนะครับหาแก้วสำหรับเทน้ำเกลือแล้วใช้กระบอกฉีดยาขนาด20ถึง50มิลลิลิตรดูดน้ำเกลือจนเต็มหลอดจากนั้นก้มหน้าลงเล็กน้อยเอียงหัวไปด้านหนึ่งกลั้นหายใจเพื่อไม่ให้สำลักฉีกน้ำเกลือประมาณ10ถึง20ซีซีเข้ารูจมูกให้น้ำเกลือไหลออกทางจมูกอีกข้างใช้ลูกยางแดงดูดน้ำมูกในจมูกออกหรือสั่งน้ำมูกออกทำซ้ำหลายหลายครั้งในแต่ละข้างจนน้ำเกลือไหลออกทางจมูกจนไม่มีน้ำมูกหลังใช้งานเสร็จให้ล้างกระบวกฉีกยาให้สะอาดและทิ้งไว้ให้แห้งสนิท\",\n",
    "    \"อาจใช้จุกล้างจมูกสวมที่ปลายกระบอกฉีดยาทำให้ล้างจมูกง่ายขึ้นถ้าแสบจมูกในช่วงแรกเป็นภาวะปกติไม่มีอันตรายตอนล้างจมูกอาจมีน้ำเกลือไหลลงคอทำให้รู้รึกเค็มหลังล้างจมูกเสร็จคนไข้สามารถกลั้วคอด้วยน้ำเปล่าได้เพื่อลดความเค็มลงส่วนกระบอกฉีกยาไม่ควรใช้ร่วมกับผู้อื่น\",\n",
    "    \"วันนี้หมอจัดยาให้ทั้งหมด3รายการนะคะขออธิบายการใช้ให้ฟังก่อนค่ะรายการแรกเป็นยาพาราเซตามอลชนิดน้ำเชื่อม1ขวดมีความแรงของยา120มิลลิกรัมต่อ5มิลลิลิตรใช้ลดไข้และบรรเทาอาการไม่สบายให้รับประทานครั้งละ2.5มิลลิลิตรทุก6ชั่วโมงหรือเมื่อมีไข้ยานี้ไม่ควรใช้ต่อเนื่องเกิน5วันค่ะรายการที่2คืออะมอกซีซิลลินขนาด500มิลลิกรัมจำนวน30เม็ดเป็นยาปฏิชีวนะสำหรับรักษาการติดเชื้อที่หูให้ทานครั้งละ1เม็ดวันละ3เวลาหลังอาหารเช้ากลางวันและเย็นยานี้ต้องทานให้ครบตามจำนวนที่แพทย์สั่งถึงแม้อาการจะดีขึ้นแล้วก็ตามนะคะรายการสุดท้ายคือยาหยอดหูชื่อเด็กซ์ออฟ1ขวดใช้หยอดที่หูข้างซ้ายครั้งละ3หยดวันละ3ครั้งหลังอาหารเช้ากลางวันและเย็นยานี้มีวิธีการใช้เฉพาะเดี๋ยวหนูจะสอนให้นะคะ\",\n",
    "    \"ก่อนใช้ยาควรล้างมือให้สะอาดใช้ไม้พันสำลีเช็ดทำความสะอาดหนองหรือสิ่งสกปรกบริเวณรูหูทั้งก่อนและหลังการหยอดยาจากนั้นหยิบขวดยาขึ้นมาเขย่าขวดก่อนใช้ทุกครั้งให้นั่งเอียงศีรษะหูข้างที่ต้องการหยอดควรอยู่ด้านบนใช้นิ้วดึงใบหูไปทางด้านหลังและยกขึ้นเล็กน้อยหยอดยาลงในหูตามจำนวนที่กำหนดโดยระวังอย่าให้ปลายหลอดหยดยาเข้าไปในรูหูหลังจากหยอดยาแล้วให้นอนตะแคงหรือเอียงศีรษะค้างไว้ในท่าเดิมประมาณ3–5นาทีอาจใช้สำลีปิดรูหูไว้ชั่วคราวเพื่อป้องกันไม่ให้ยาหยดไหลย้อนออกมา\",\n",
    "    \"หากคุณเก็บยานี้ไว้ในตู้เย็นก่อนใช้ควรกำขวดยาไว้ในอุ้งมือสักครู่เพื่อปรับอุณหภูมิของยาให้ใกล้เคียงกับร่างกายก่อนหยอดค่ะ\",\n",
    "    \"ขั้นตอนการฉีดยา:ทำความสะอาดบริเวณที่จะฉีดด้วยสำลีแอลกอฮอล์ใช้มือข้าง1ดึงผิวหนังให้ตึงส่วนอีกข้างถือกระบอกฉีดยาให้คล้ายปากกาแล้วแทงเข็มเข้าไปที่ผิวหนังอย่างรวดเร็วโดยเอียงเข็มประมาณ45ถึง90องศาค่อยกดฉีดยาช้าจนสุดแล้วถอนเข็มออกอย่างรวดเร็วจากนั้นใช้สำลีชุบแอลกอฮอล์กดที่ตำแหน่งฉีดยาเบาโดยไม่ต้องคลึงหลังใช้แล้วให้ทิ้งกระบอกฉีดยาและเข็มอย่างมิดชิดในภาชนะที่ปลอดภัย\",\n",
    "    \"ตำแหน่งที่แนะนำในการฉีดยาได้แก่หน้าท้องต้นแขนต้นขาและบริเวณสะโพกครับพยายามเปลี่ยนจุดฉีดบ้างอย่าฉีดจุดเดิมซ้ำโดยให้ห่างจากตำแหน่งเดิมประมาณ1นิ้วส่วนการเก็บรักษาอินซูลิน:ขวดยาที่ยังไม่เปิดใช้ควรเก็บไว้ในตู้เย็นถ้าเปิดใช้แล้วให้ใช้ให้หมดภายใน30วันและเก็บในอุณหภูมิห้องที่ไม่โดนแสงหรือความร้อนโดยตรงหลังฉีดยาควรสังเกตอาการเช่นมือสั่นใจสั่นเหงื่อออกมากหรือรู้สึกหิวผิดปกติหากเกิดอาการเหล่านี้อาจเป็นภาวะน้ำตาลในเลือดต่ำให้รีบรับประทานอาหารหรือของหวานและปรึกษาแพทย์หรือเภสัชกรทันทีนะครับ\",\n",
    "]"
   ]
  },
  {
   "cell_type": "code",
   "execution_count": 33,
   "metadata": {},
   "outputs": [
    {
     "data": {
      "text/plain": [
       "'อาจใช้จุกล้างจมูกสวมที่ปลายกระบอกฉีดยาทำให้ล้างจมูกง่ายขึ้นถ้าแสบจมูกในช่วงแรกเป็นภาวะปกติไม่มีอันตรายตอนล้างจมูกอาจมีน้ำเกลือไหลลงคอทำให้รู้รึกเค็มหลังล้างจมูกเสร็จคนไข้สามารถกลั้วคอด้วยน้ำเปล่าได้เพื่อลดความเค็มลงส่วนกระบอกฉีกยาไม่ควรใช้ร่วมกับผู้อื่น'"
      ]
     },
     "execution_count": 33,
     "metadata": {},
     "output_type": "execute_result"
    }
   ],
   "source": [
    "sentence = text[4]\n",
    "sentence"
   ]
  },
  {
   "cell_type": "markdown",
   "metadata": {},
   "source": [
    "## start idea word tokenize"
   ]
  },
  {
   "cell_type": "code",
   "execution_count": 64,
   "metadata": {},
   "outputs": [],
   "source": [
    "# custom_words = [\n",
    "#     \"คนไข้\",\n",
    "#     \"พาราเซตามอล\",\"120มิลลิกรัมใน5มิลลิลิตร\",\"จำนวน1ขวด\",\"ใช้เพื่อบรรเทาอาการไข้และปวด\",\"รับประทานครั้งละ2จุด5มิลลิลิตร\",\"ทุก6ชั่วโมง\",\"เวลามีอาการไข้หรือปวด\",\"ไม่ควรรับประทานต่อเนื่องเกิน5วัน\",\n",
    "#     \"อะมอกซีซิลิน\",\"ความแรง500มิลลิกรัม\",\"จำนวน30เม็ด\",\"รักษาอาการติดเชื้อที่หู\",\"ควรรับประทานติดต่อกันทุกวันจนหมด\",\n",
    "#     \"เด็กซ์ออฟ\",\"จำนวน1ขวด\",\"หยอด3หยดที่หูข้างซ้าย\",\"วันละ3ครั้ง\",\n",
    "#     \"ล้างมือให้สะอาด\",\"นอนตะแคงหรือนั่งเอียงศีรษะให้หูข้างที่จะหยอดยาอยู่ด้านบน\",\"ให้ดึงใบหูข้างที่จะหยอดยาไปด้านหลังและดึงขึ้นด้านบน\",\n",
    "#     \"หยอดยาเข้าไปในหูตามที่แพทย์สั่ง\",\"ระวังอย่าเอาหลอดหยดสอดเข้าไปในรูหู\",\"เอียงตะแคงอยู่ท่าเดิมประมาณ3ถึง5นาที\",\"สำลีใส่ในรูหูไว้อีกระยะหนึ่งเพื่อไม่ให้ยาไหลออกมา\",\n",
    "#     \"ให้เขย่าขวดก่อนใช้ทุกครั้ง\",\"ใช้ไม้พันสำลีเช็ดหนองในใบหูหรือรูหูให้สะอาดก่อนและหลังหยอดยา\",\"หากเก็บไว้ในตู้เย็นก่อนใช้ยาให้กำหลอดยาไว้ในอุ้งมือสักครู่\",\n",
    "#     \"เพื่อปรับอุณหภูมิให้ใกล้เคียงกับร่างกายก่อนหยอด\",\"ซึ่งยานี้มีวิธีการใช้ในลักษณะพิเศษเดี๋ยวฉันสอนวิธีการใช้งานให้นะคะ\",\"เขย่า\",\n",
    "# ]"
   ]
  },
  {
   "cell_type": "code",
   "execution_count": 65,
   "metadata": {},
   "outputs": [],
   "source": [
    "# from pythainlp.util import Trie\n",
    "\n",
    "# new_words = [\n",
    "#     \"ผู้ป่วย\",\"คนไข้\",\n",
    "#     \"พาราเซตามอล\",\"120มิลลิกรัมต่อ5มิลลิลิตร\",\"120มิลลิกรัมใน5มิลลิลิตร\",\"1ขวด\",\"จำนวน1ขวด\",\"บรรเทาอาการไข้\",\"บรรเทาอาการไข้และปวด\",\"ใช้เพื่อบรรเทาอาการไข้และปวด\",\"รับประทานครั้งละ2มิลลิลิตรครึ่ง\",\"รับประทานครั้งละ2จุด5มิลลิลิตร\",\"ทุก6ชั่วโมง\",\"เวลามีอาการไข้หรือปวด\",\"ไม่ควรรับประทานต่อเนื่องเกิน5วัน\",\n",
    "#     \"อะมอกซีซิลิน\",\"500มิลลิกรัม\",\"ความแรง500มิลลิกรัม\",\"30เม็ด\",\"จำนวน30เม็ด\",\"รักษาอาการติดเชื้อที่หู\",\"ควรรับประทานติดต่อกันทุกวันจนหมด\",\"ควรทานจนหมด\",\n",
    "#     \"เด็กซ์ออฟ\",\"1ขวด\",\"จำนวน1ขวด\",\"หยอด3หยดที่หูข้างซ้าย\",\"วันละ3ครั้ง\",\n",
    "#     \"ล้างมือให้สะอาด\",\"นอนตะแคงหรือนั่งเอียงศีรษะให้หูข้างที่จะหยอดยาอยู่ด้านบน\",\"ให้ดึงใบหูข้างที่จะหยอดยาไปด้านหลังและดึงขึ้นด้านบน\",\n",
    "#     \"หยอดยาเข้าไปในหูตามที่แพทย์สั่ง\",\"ระวังอย่าเอาหลอดหยดสอดเข้าไปในรูหู\",\"เอียงตะแคงอยู่ท่าเดิมประมาณ3ถึง5นาที\",\"สำลีใส่ในรูหูไว้อีกระยะหนึ่งเพื่อไม่ให้ยาไหลออกมา\",\n",
    "#     \"ให้เขย่าขวดก่อนใช้ทุกครั้ง\",\"ใช้ไม้พันสำลีเช็ดหนองในใบหูหรือรูหูให้สะอาดก่อนและหลังหยอดยา\",\"หากเก็บไว้ในตู้เย็นก่อนใช้ยาให้กำหลอดยาไว้ในอุ้งมือสักครู่\",\n",
    "#     \"เพื่อปรับอุณหภูมิให้ใกล้เคียงกับร่างกายก่อนหยอด\",\"ซึ่งยานี้มีวิธีการใช้ในลักษณะพิเศษเดี๋ยวฉันสอนวิธีการใช้งานให้นะคะ\",\"เขย่า\",\n",
    "# ]\n",
    "\n",
    "# trie = Trie(new_words)"
   ]
  },
  {
   "cell_type": "code",
   "execution_count": 20,
   "metadata": {},
   "outputs": [],
   "source": [
    "def get_custom_words():\n",
    "    conn = get_db_connection()\n",
    "    cursor = conn.cursor(cursor_factory=RealDictCursor)\n",
    "    cursor.execute('SELECT sem_word_token FROM public.semantic_token_situ sts where sts.\"ID_situ\"=%s',(selection_situ,))\n",
    "    processing = cursor.fetchall()\n",
    "    processing = [row['sem_word_token'] for row in processing]\n",
    "    cursor.close()\n",
    "    conn.close()\n",
    "    return processing"
   ]
  },
  {
   "cell_type": "code",
   "execution_count": 21,
   "metadata": {},
   "outputs": [],
   "source": [
    "def get_new_words():\n",
    "    conn = get_db_connection()\n",
    "    cursor = conn.cursor(cursor_factory=RealDictCursor)\n",
    "    cursor.execute('SELECT word_token FROM public.token_situ ts where ts.\"ID_situ\"=%s',(selection_situ,))\n",
    "    processing = cursor.fetchall()\n",
    "    processing = [row['word_token'] for row in processing]\n",
    "    cursor.close()\n",
    "    conn.close()\n",
    "    return processing"
   ]
  },
  {
   "cell_type": "code",
   "execution_count": 36,
   "metadata": {},
   "outputs": [],
   "source": [
    "custom_words = get_custom_words()\n",
    "new_words = get_new_words()\n",
    "from pythainlp.util import Trie\n",
    "trie = Trie(new_words)"
   ]
  },
  {
   "cell_type": "code",
   "execution_count": 37,
   "metadata": {},
   "outputs": [
    {
     "name": "stdout",
     "output_type": "stream",
     "text": [
      "อาจ มีความคล้ายกับหนึ่งใน อาจ (similarity: 1.00)\n",
      "ใช้ มีความคล้ายกับหนึ่งใน ใช้ (similarity: 1.00)\n",
      "กระบอกฉีดยา มีความคล้ายกับหนึ่งใน กระบอกฉีดยา (similarity: 1.00)\n",
      "ถ้า มีความคล้ายกับหนึ่งใน ถ้า (similarity: 1.00)\n",
      "อาจ มีความคล้ายกับหนึ่งใน อาจ (similarity: 1.00)\n",
      "มี มีความคล้ายกับหนึ่งใน หาก (similarity: 0.73)\n",
      "น้ำเกลือ มีความคล้ายกับหนึ่งใน น้ำเกลือ (similarity: 1.00)\n",
      "หลัง มีความคล้ายกับหนึ่งใน หลัง (similarity: 1.00)\n",
      "ล้างจมูกเสร็จ มีความคล้ายกับหนึ่งใน เสร็จ (similarity: 0.72)\n",
      "คนไข้ มีความคล้ายกับหนึ่งใน คนไข้ (similarity: 1.00)\n",
      "กระบอกฉีกยาไม่ควรใช้ร่วมกับผู้อื่น มีความคล้ายกับหนึ่งใน กระบอกฉีกยาไม่ควรใช้ร่วมกับผู้อื่นครับ (similarity: 1.00)\n",
      "['อาจ', 'ใช้', 'จุกล้างจมูกสวมที่ปลาย', 'กระบอกฉีดยา', 'ทำให้ล้างจมูกง่ายขึ้น', 'ถ้า', 'แสบจมูกในช่วงแรกเป็นภาวะปกติไม่มีอันตรายตอนล้างจมูก', 'อาจ', 'มี', 'น้ำเกลือ', 'ไหลลงคอทำให้รู้รึกเค็ม', 'หลัง', 'ล้างจมูกเสร็จ', 'คนไข้', 'สามารถกลั้วคอด้วยน้ำเปล่าได้เพื่อลดความเค็มลง', 'ส่วน', 'กระบอกฉีกยาไม่ควรใช้ร่วมกับผู้อื่น']\n",
      "[0, 1, 3, 5, 7, 8, 9, 11, 12, 13, 16]\n",
      "['อาจ', 'ใช้จุกล้างจมูกสวมที่ปลาย', 'กระบอกฉีดยาทำให้ล้างจมูกง่ายขึ้น', 'ถ้าแสบจมูกในช่วงแรกเป็นภาวะปกติไม่มีอันตรายตอนล้างจมูก', 'อาจ', 'มี', 'น้ำเกลือไหลลงคอทำให้รู้รึกเค็ม', 'หลัง', 'ล้างจมูกเสร็จ', 'คนไข้สามารถกลั้วคอด้วยน้ำเปล่าได้เพื่อลดความเค็มลงส่วน', 'กระบอกฉีกยาไม่ควรใช้ร่วมกับผู้อื่น']\n"
     ]
    }
   ],
   "source": [
    "import torch\n",
    "from pythainlp.tokenize import word_tokenize\n",
    "from sentence_transformers import SentenceTransformer, util\n",
    "\n",
    "torch.cuda.empty_cache()\n",
    "torch.cuda.ipc_collect()\n",
    "\n",
    "# โหลดโมเดล\n",
    "model = SentenceTransformer(\"token_model\")\n",
    "\n",
    "words_to_delete = {\n",
    "    \"อืม\", \"อ่า\", \"เอ่อ\", \"อือ\", \"เอ้อ\", \"แบบ\", \"ไง\", \"มั้ง\",\"เออ\",\n",
    "    \"งั้น\", \"ก็\", \"อ่ะ\", \"เหรอ\", \"นะ\", \"น่ะ\", \"ล่ะ\", \"แหละ\", \"หรอก\",\n",
    "    \"หรือยัง\", \"ใช่มั้ย\", \"ไหม\", \"มั้ย\", \"แฮะ\", \"อุ๊ย\", \"ว้าว\", \"อ้าว\", \"เฮ้ย\",\n",
    "    \"อ๊ะ\", \"อิอิ\", \"555\", \"เอะ\", \"เอิ่ม\", \"โอ้\", \"โอ๊ะ\", \"หืม\", \"โธ่\", \"จ๊ะ\", \"จ้ะ\", \"เจ๊า\",\"นะ\",\"เนี่ย\",\n",
    "    }  # คำที่ต้องการลบ\n",
    "\n",
    "words_to_replace = {}\n",
    "\n",
    "sentence = sentence.replace('\\n', '')\n",
    "sentence = sentence.replace('สอง', '2')\n",
    "sentence = sentence.replace('หนึ่ง', '1')\n",
    "sentence = sentence.replace('ๆ', '')\n",
    "sentence = sentence.replace('-', '')\n",
    "sentence = sentence.replace('.','จุด')\n",
    "sentence = sentence.replace(' ', '')   # ลบช่องว่างทั้งหมด\n",
    "\n",
    "# ตัดคำ\n",
    "token_basic_words = word_tokenize(sentence, keep_whitespace=False)\n",
    "\n",
    "# ลบคำที่อยู่ใน words_to_delete\n",
    "filtered_words = [word for word in token_basic_words if word not in words_to_delete]\n",
    "\n",
    "# รวมคำกลับเป็นประโยค\n",
    "new_sentence = ''.join(filtered_words)\n",
    "\n",
    "# ตัดคำประโยค\n",
    "words = word_tokenize(new_sentence,keep_whitespace=False,custom_dict=trie)\n",
    "\n",
    "# คำนวณความคล้ายคลึงของแต่ละคำในประโยคกับ custom_words\n",
    "sentence_embeddings = model.encode(words)\n",
    "custom_embeddings = model.encode(custom_words)\n",
    "\n",
    "# ตรวจหาคำที่มี similarity สูงกับ custom_words\n",
    "split_positions = []\n",
    "for i, word_embedding in enumerate(sentence_embeddings):\n",
    "    similarity = util.cos_sim(word_embedding, custom_embeddings).argmax().item()\n",
    "    similarities = util.cos_sim(word_embedding, custom_embeddings)  # คำนวณ similarity matrix\n",
    "    max_index = similarities.argmax().item()\n",
    "    \n",
    "    if similarities[0][max_index].item() > 0.6:  # เช็ค threshold\n",
    "        print(f\"{words[i]} มีความคล้ายกับหนึ่งใน {custom_words[max_index]} (similarity: {similarities[0][max_index].item():.2f})\")\n",
    "        split_positions.append(i)\n",
    "\n",
    "print(words)\n",
    "print(split_positions)\n",
    "\n",
    "# แบ่งประโยคตามตำแหน่งที่พบ\n",
    "split_sentences = []\n",
    "prev_idx = 0\n",
    "for idx in split_positions:\n",
    "    if idx != 0:\n",
    "        split_sentences.append(\"\".join(words[prev_idx:idx]))\n",
    "        prev_idx = idx\n",
    "split_sentences.append(\"\".join(words[prev_idx:]))\n",
    "\n",
    "# แสดงผลลัพธ์\n",
    "print(split_sentences)"
   ]
  },
  {
   "cell_type": "code",
   "execution_count": 58,
   "metadata": {},
   "outputs": [],
   "source": [
    "# import torch\n",
    "# from sentence_transformers import SentenceTransformer, util\n",
    "# import pandas as pd\n",
    "\n",
    "# torch.cuda.empty_cache()\n",
    "\n",
    "# model = SentenceTransformer('paraphrase-multilingual-MiniLM-L12-v2')\n",
    "# threshold = 0.6\n",
    "# recording = []\n",
    "# count = 0\n",
    "# matched_topics = {-1} # Track matched topics to avoid duplicate scoring\n",
    "\n",
    "# # Track whether each checklist item is matched\n",
    "# checklist_status = [False] * len(checklist)\n",
    "\n",
    "# # Encode the checklist sentences\n",
    "# checklit_embeddings = model.encode(checklist)\n",
    "\n",
    "# # Iterate through split_sent and check for similarity\n",
    "# for sent in split_sentences:\n",
    "#     sent_embedding = model.encode(sent)\n",
    "#     similarities = util.cos_sim(sent_embedding, checklit_embeddings)\n",
    "\n",
    "#     # best_match_index = similarities[0].argmax().item()  # Get index of highest similarity\n",
    "#     # best_score = similarities[0][best_match_index].item()\n",
    "\n",
    "#     for i, check in enumerate(checklist):\n",
    "#         if similarities[0][i] > threshold:\n",
    "#             best_match_index = i\n",
    "#             matched_checklist_item = checklist[best_match_index]\n",
    "#             matched_topic = topic[best_match_index]\n",
    "#             matched_score = score[best_match_index]\n",
    "#             required_topic = request[best_match_index]\n",
    "\n",
    "#             # Ensure dependencies are met\n",
    "#             if required_topic != -1 and required_topic not in matched_topics:\n",
    "#                 continue  # Skip if required topic was not mentioned first\n",
    "\n",
    "#             checklist_status[best_match_index] = True  # Mark as matched\n",
    "\n",
    "#             # Add score only if the topic has not been counted before\n",
    "#             if matched_topic not in matched_topics:\n",
    "#                 count += matched_score\n",
    "#                 matched_topics.add(matched_topic)\n",
    "\n",
    "#             recording.append({\n",
    "#                 \"checklist_item\": matched_checklist_item,\n",
    "#                 \"matched_sentence\": sent,\n",
    "#                 \"similarity_score\": similarities[0][i],\n",
    "#                 \"topic\": matched_topic,\n",
    "#                 \"score\": matched_score\n",
    "#             })\n",
    "\n",
    "# # Save results to an Excel file\n",
    "# df = pd.DataFrame(recording)\n",
    "# df.to_excel(\"recording_results.xlsx\", index=False)\n",
    "\n",
    "# # Print the recorded matches\n",
    "# print(recording)\n",
    "# print(\"Checklist Status:\")\n",
    "# for i,check in enumerate(checklist):\n",
    "#     print(check,\":\",checklist_status[i])\n",
    "# print(\"Total Score:\", count)"
   ]
  },
  {
   "cell_type": "code",
   "execution_count": 38,
   "metadata": {},
   "outputs": [
    {
     "name": "stdout",
     "output_type": "stream",
     "text": [
      "[{'checklist_item': 'ใช้จุกล้างจมูกสวมที่ปลายกระบอกฉีดยา', 'matched_sentence': 'ใช้จุกล้างจมูกสวมที่ปลาย', 'similarity_score': tensor(0.8982), 'CER_score': 0.3142857142857143, 'WER_score': 0.2857142857142857, 'topic': 25, 'score': 0.25}, {'checklist_item': 'ช่วยให้ล้างจมูกได้ง่ายขึ้น', 'matched_sentence': 'กระบอกฉีดยาทำให้ล้างจมูกง่ายขึ้น', 'similarity_score': tensor(0.6022), 'CER_score': 0.5769230769230769, 'WER_score': 0.5714285714285714, 'topic': 30, 'score': 0.25}, {'checklist_item': 'อาจมีอาการระคายเคืองหรือแสบจมูกในระยะแรกเป็นภาวะปกติไม่มีอันตราย', 'matched_sentence': 'ถ้าแสบจมูกในช่วงแรกเป็นภาวะปกติไม่มีอันตรายตอนล้างจมูก', 'similarity_score': tensor(0.8084), 'CER_score': 0.59375, 'WER_score': 0.6428571428571429, 'topic': 26, 'score': 0.5}, {'checklist_item': 'น้ำเกลือล้างจมูกส่วนหนึ่งอาจไหลลงคอทำให้รู้สึกเค็มในคอขณะล้างจมูกหรือภายหลังล้างจมูกเสร็จ', 'matched_sentence': 'น้ำเกลือไหลลงคอทำให้รู้รึกเค็ม', 'similarity_score': tensor(0.7545), 'CER_score': 0.6741573033707865, 'WER_score': 2.0, 'topic': 27, 'score': 0.25}, {'checklist_item': 'ผู้ป่วยสามารถกลั้วคอด้วยน้ำเปล่าหลังล้างจมูกเสร็จเพื่อลดความรู้สึกเค็มในคอ', 'matched_sentence': 'คนไข้สามารถกลั้วคอด้วยน้ำเปล่าได้เพื่อลดความเค็มลงส่วน', 'similarity_score': tensor(0.9187), 'CER_score': 0.47297297297297297, 'WER_score': 0.8181818181818182, 'topic': 31, 'score': 0.25}, {'checklist_item': 'ไม่ควรใช้กระบอกฉีดยาร่วมกับผู้อื่น', 'matched_sentence': 'กระบอกฉีกยาไม่ควรใช้ร่วมกับผู้อื่น', 'similarity_score': tensor(0.7376), 'CER_score': 0.5588235294117647, 'WER_score': 0.625, 'topic': 28, 'score': 0.5}]\n",
      "Checklist Status:\n",
      "แนะนำตัวเภสัชกรสมชายยิ่งใหญ่ : False\n",
      "ผู้ป่วยชื่อนามสกุลอะไร : False\n",
      "ผู้ป่วยชื่อพิมนามสกุลอะไร : False\n",
      "ผู้ป่วยชื่อพิมมั่นใจใช่ไหม : False\n",
      "ผู้ป่วยมีประวัติแพ้ยาอะไรไหม : False\n",
      "ผู้ป่วยแพ้ยามีอาการผื่นคันใช่ไหม : False\n",
      "ลอราทาดีน : False\n",
      "ความแรง10มิลลิกรัม : False\n",
      "จำนวน30เม็ด : False\n",
      "ใช้เพื่อบรรเทาอาการแพ้ : False\n",
      "รับประทานครั้งละ1เม็ด : False\n",
      "วันละ1ครั้ง : False\n",
      "หลังอาหารเช้า : False\n",
      "นอร์มอลซาไลน์ : False\n",
      "ขนาด1000มิลลิลิตร : False\n",
      "จำนวน2ขวด : False\n",
      "ใช้สำหรับล้างจมูก : False\n",
      "ล้างจมูกทั้ง2ข้าง : False\n",
      "วันละ2ครั้ง : False\n",
      "เช้าและเย็น : False\n",
      "เทน้ำเกลือ0.9เปอร์เซ็นต์ใส่ถ้วยหรือแก้วที่เตรียมไว้ : False\n",
      "นั่งหรือยืนก้มหน้าเล็กน้อยเอนศีรษะไปด้านใดด้านหนึ่ง : False\n",
      "กลั้นหายใจหรือหายใจทางปากเพื่อป้องกันการสำลัก : False\n",
      "ค่อยค่อยฉีดน้ำเกลือประมาณ10ถึง20ซีซีเข้าไปในรูจมูกด้านบนให้น้ำเกลือไหลออกทางรูจมูกอีกข้าง : False\n",
      "ใช้ลูกยางแดงดูดน้ำมูกในจมูกออกหรือสั่งน้ำมูกออก : False\n",
      "ทำซ้ำหลายหลายครั้งในรูจมูกแต่ละข้างจนน้ำเกลือที่ไหลออกทางจมูกมีลักษณะใสไม่มีสีไม่มีน้ำมูก : False\n",
      "ล้างกระบอกฉีดยาให้สะอาดและทิ้งไว้ให้แห้งสนิท : False\n",
      "ใช้จุกล้างจมูกสวมที่ปลายกระบอกฉีดยา : True\n",
      "อาจมีอาการระคายเคืองหรือแสบจมูกในระยะแรกเป็นภาวะปกติไม่มีอันตราย : True\n",
      "น้ำเกลือล้างจมูกส่วนหนึ่งอาจไหลลงคอทำให้รู้สึกเค็มในคอขณะล้างจมูกหรือภายหลังล้างจมูกเสร็จ : True\n",
      "ไม่ควรใช้กระบอกฉีดยาร่วมกับผู้อื่น : True\n",
      "ใช้กระบอกฉีดยาขนาด20ถึง50มิลลิลิตรดูดน้ำเกลือจนเต็ม : False\n",
      "ช่วยให้ล้างจมูกได้ง่ายขึ้น : True\n",
      "ผู้ป่วยสามารถกลั้วคอด้วยน้ำเปล่าหลังล้างจมูกเสร็จเพื่อลดความรู้สึกเค็มในคอ : True\n",
      "คนไข้มีโรคประจำอะไรไหม : False\n",
      "Total Score: 2.0\n"
     ]
    }
   ],
   "source": [
    "from sentence_transformers import SentenceTransformer, util\n",
    "import pandas as pd\n",
    "from evaluate import load\n",
    "from jiwer import wer\n",
    "cer = load(\"cer\")\n",
    "\n",
    "torch.cuda.empty_cache()\n",
    "torch.cuda.ipc_collect()\n",
    "\n",
    "model = SentenceTransformer('trained_model')\n",
    "threshold = 0.6\n",
    "recording = []\n",
    "count = 0\n",
    "matched_topics = {-1} # Track matched topics to avoid duplicate scoring\n",
    "\n",
    "# Track whether each checklist item is matched\n",
    "checklist_status = [False] * len(checklist)\n",
    "\n",
    "# Encode the checklist sentences\n",
    "checklit_embeddings = model.encode(checklist)\n",
    "\n",
    "# Iterate through split_sent and check for similarity\n",
    "for sent in split_sentences:\n",
    "    sent_embedding = model.encode(sent)\n",
    "    similarities = util.cos_sim(sent_embedding, checklit_embeddings)\n",
    "\n",
    "    # best_match_index = similarities[0].argmax().item()  # Get index of highest similarity\n",
    "    # best_score = similarities[0][best_match_index].item()\n",
    "\n",
    "    for i, check in enumerate(checklist):\n",
    "        if similarities[0][i] > threshold:\n",
    "            best_match_index = i\n",
    "            matched_checklist_item = checklist[best_match_index]\n",
    "            matched_topic = topic[best_match_index]\n",
    "            matched_score = score[best_match_index]\n",
    "            required_topic = request[best_match_index]\n",
    "            \n",
    "            cer_score = cer.compute(predictions=[sent], references=[matched_checklist_item])\n",
    "            tokenized_sent = ' '.join(word_tokenize(sent, keep_whitespace=False))\n",
    "            tokenized_ref = ' '.join(word_tokenize(matched_checklist_item, keep_whitespace=False))\n",
    "            wer_score = wer(tokenized_sent, tokenized_ref)\n",
    "\n",
    "            # Ensure dependencies are met\n",
    "            if required_topic != -1 and required_topic not in matched_topics:\n",
    "                continue  # Skip if required topic was not mentioned first\n",
    "\n",
    "            checklist_status[best_match_index] = True  # Mark as matched\n",
    "\n",
    "            # Add score only if the topic has not been counted before\n",
    "            if matched_topic not in matched_topics:\n",
    "                count += matched_score\n",
    "                matched_topics.add(matched_topic)\n",
    "\n",
    "            recording.append({\n",
    "                \"checklist_item\": matched_checklist_item,\n",
    "                \"matched_sentence\": sent,\n",
    "                \"similarity_score\": similarities[0][i],\n",
    "                \"CER_score\": cer_score,\n",
    "                \"WER_score\": wer_score,\n",
    "                \"topic\": matched_topic,\n",
    "                \"score\": matched_score\n",
    "            })\n",
    "\n",
    "# Save results to an Excel file\n",
    "df = pd.DataFrame(recording)\n",
    "df.to_excel(\"recording_results.xlsx\", index=False)\n",
    "\n",
    "# Print the recorded matches\n",
    "print(recording)\n",
    "print(\"Checklist Status:\")\n",
    "for i,check in enumerate(checklist):\n",
    "    print(check,\":\",checklist_status[i])\n",
    "print(\"Total Score:\", count)"
   ]
  },
  {
   "cell_type": "code",
   "execution_count": 19,
   "metadata": {},
   "outputs": [
    {
     "name": "stdout",
     "output_type": "stream",
     "text": [
      "[{'checklist_item': 'ให้ดึงใบหูข้างที่จะหยอดยาไปด้านหลังและดึงขึ้นด้านบน', 'matched_sentence': 'ให้ดึงใบหูที่จะหยอดยาไปไว้ด้านหลังและดึงขึ้นด้านบน', 'similarity_score': tensor(0.9903), 'topic': 27, 'score': 0.5}, {'checklist_item': 'หยอดยาเข้าไปในหูตามที่แพทย์สั่ง', 'matched_sentence': 'ให้ดึงใบหูที่จะหยอดยาไปไว้ด้านหลังและดึงขึ้นด้านบน', 'similarity_score': tensor(0.8179), 'topic': 28, 'score': 0.5}, {'checklist_item': 'ให้ดึงใบหูข้างที่จะหยอดยาไปด้านหลังและดึงขึ้นด้านบน', 'matched_sentence': 'หยอดยาเข้าไปในหูตามที่แพทย์สั่ง', 'similarity_score': tensor(0.8302), 'topic': 27, 'score': 0.5}, {'checklist_item': 'หยอดยาเข้าไปในหูตามที่แพทย์สั่ง', 'matched_sentence': 'หยอดยาเข้าไปในหูตามที่แพทย์สั่ง', 'similarity_score': tensor(1.), 'topic': 28, 'score': 0.5}, {'checklist_item': 'ระวังอย่าเอาหลอดหยดสอดเข้าไปในรูหู', 'matched_sentence': 'ระวังอย่าเอาหยอดสอดเข้าไปในรูหูให้', 'similarity_score': tensor(0.9682), 'topic': 29, 'score': 1.0}, {'checklist_item': 'เอียงตะแคงอยู่ท่าเดิมประมาณ3ถึง5นาที', 'matched_sentence': 'เอียงตะแคงอยู่ท่าเดิมประมาณ3ถึง5นาทีซึ่งอาจจะเอาสำนิทใส่ไว้ในรูหูอีกระยะ1', 'similarity_score': tensor(0.8743), 'topic': 30, 'score': 0.5}, {'checklist_item': 'อาจเอาสำลีใส่ในรูหูไว้อีกระยะหนึ่งเพื่อไม่ให้ยาไหลออกมา', 'matched_sentence': 'เพื่อไม่ให้ยาไหลออกมาได้', 'similarity_score': tensor(0.6306), 'topic': 31, 'score': 0.5}, {'checklist_item': 'ให้ดึงใบหูข้างที่จะหยอดยาไปด้านหลังและดึงขึ้นด้านบน', 'matched_sentence': 'ให้ดึงใบหูที่จะหยอดยาไปไว้ด้านหลังและดึงขึ้นด้านบน', 'similarity_score': tensor(0.9903), 'topic': 27, 'score': 0.5}, {'checklist_item': 'หยอดยาเข้าไปในหูตามที่แพทย์สั่ง', 'matched_sentence': 'ให้ดึงใบหูที่จะหยอดยาไปไว้ด้านหลังและดึงขึ้นด้านบน', 'similarity_score': tensor(0.8179), 'topic': 28, 'score': 0.5}, {'checklist_item': 'ให้ดึงใบหูข้างที่จะหยอดยาไปด้านหลังและดึงขึ้นด้านบน', 'matched_sentence': 'หยอดยาเข้าไปในหูตามที่แพทย์สั่ง', 'similarity_score': tensor(0.8302), 'topic': 27, 'score': 0.5}, {'checklist_item': 'หยอดยาเข้าไปในหูตามที่แพทย์สั่ง', 'matched_sentence': 'หยอดยาเข้าไปในหูตามที่แพทย์สั่ง', 'similarity_score': tensor(1.), 'topic': 28, 'score': 0.5}, {'checklist_item': 'ระวังอย่าเอาหลอดหยดสอดเข้าไปในรูหู', 'matched_sentence': 'ระวังอย่าเอาหยอดสอดเข้าไปในรูหูให้', 'similarity_score': tensor(0.9682), 'topic': 29, 'score': 1.0}, {'checklist_item': 'เอียงตะแคงอยู่ท่าเดิมประมาณ3ถึง5นาที', 'matched_sentence': 'เอียงตะแคงอยู่ท่าเดิมประมาณ3ถึง5นาทีซึ่งอาจจะเอาสำนิทใส่ไว้ในรูหูอีกระยะ1', 'similarity_score': tensor(0.8743), 'topic': 30, 'score': 0.5}, {'checklist_item': 'อาจเอาสำลีใส่ในรูหูไว้อีกระยะหนึ่งเพื่อไม่ให้ยาไหลออกมา', 'matched_sentence': 'เพื่อไม่ให้ยาไหลออกมาได้', 'similarity_score': tensor(0.6306), 'topic': 31, 'score': 0.5}]\n",
      "Checklist Status:\n",
      "แนะนำตัวเภสัชกรสมชายยิ่งใหญ่ : False\n",
      "ผู้ป่วยชื่อนามสกุลอะไร : False\n",
      "ผู้ป่วยชื่อชาตินามสกุลอะไร : False\n",
      "ผู้ป่วยชื่อชาติตระการตาใช่ไหม : False\n",
      "ไอบูโปรเพน : False\n",
      "ความแรง400มิลลิกรัม : False\n",
      "จำนวน10เม็ด : False\n",
      "ใช้เพื่อบรรเทาอาการปวด : False\n",
      "รับประทานครั้งละ1เม็ด : False\n",
      "วันละ3ครั้ง : False\n",
      "หลังอาหารเช้ากลางวันเย็น : False\n",
      "ควรรับประทานหลังอาหารทันที : False\n",
      "อะมอกซีซิลิน : False\n",
      "ความแรง500มิลลิกรัม : False\n",
      "จำนวน30เม็ด : False\n",
      "ใช้รักษาอาการติดเชื้อที่หู : False\n",
      "รับประทานครั้งละ1เม็ด : False\n",
      "วันละ3ครั้ง : False\n",
      "หลังอาหารเช้ากลางวันเย็น : False\n",
      "ควรรับประทานติดต่อกันทุกวันจนหมด : False\n",
      "เด็กซ์ออฟ : False\n",
      "ใช้รักษาหูชั้นกลางอักเสบ : False\n",
      "หยอดหูซ้าย3หยด : False\n",
      "วันละ3ครั้ง : False\n",
      "หลังอาหารเช้ากลางวันเย็น : False\n",
      "ล้างมือให้สะอาด : False\n",
      "นอนตะแคงหรือนั่งเอียงศีรษะให้หูข้างที่จะหยอดยาอยู่ด้านบน : False\n",
      "ให้ดึงใบหูข้างที่จะหยอดยาไปด้านหลังและดึงขึ้นด้านบน : True\n",
      "หยอดยาเข้าไปในหูตามที่แพทย์สั่ง : True\n",
      "ระวังอย่าเอาหลอดหยดสอดเข้าไปในรูหู : True\n",
      "เอียงตะแคงอยู่ท่าเดิมประมาณ3ถึง5นาที : True\n",
      "อาจเอาสำลีใส่ในรูหูไว้อีกระยะหนึ่งเพื่อไม่ให้ยาไหลออกมา : True\n",
      "ให้เขย่าขวดก่อนใช้ทุกครั้ง : False\n",
      "ใช้ไม้พันสำลีเช็ดหนองในใบหูหรือรูหูให้สะอาดก่อนและหลังหยอดยา : False\n",
      "ยาหยอดหูหากเก็บไว้ในตู้เย็นก่อนใช้ยาให้กำหลอดยาไว้ในอุ้งมือสักครู่ : False\n",
      "เพื่อปรับอุณหภูมิให้ใกล้เคียงกับร่างกายก่อนหยอด : False\n",
      "จำนวน1ขวด : False\n",
      "Total Score: 3.0\n"
     ]
    }
   ],
   "source": [
    "from sentence_transformers import SentenceTransformer, util\n",
    "import pandas as pd\n",
    "\n",
    "torch.cuda.empty_cache()\n",
    "torch.cuda.ipc_collect()\n",
    "\n",
    "model = SentenceTransformer('trained_model')\n",
    "threshold = 0.6\n",
    "recording = []\n",
    "count = 0\n",
    "matched_topics = {-1} # Track matched topics to avoid duplicate scoring\n",
    "\n",
    "# Track whether each checklist item is matched\n",
    "checklist_status = [False] * len(checklist)\n",
    "\n",
    "# Encode the checklist sentences\n",
    "checklit_embeddings = model.encode(checklist)\n",
    "\n",
    "# Iterate through split_sent and check for similarity\n",
    "for doublecheck in range(0,2):\n",
    "    for sent in split_sentences:\n",
    "        sent_embedding = model.encode(sent)\n",
    "        similarities = util.cos_sim(sent_embedding, checklit_embeddings)\n",
    "\n",
    "        # best_match_index = similarities[0].argmax().item()  # Get index of highest similarity\n",
    "        # best_score = similarities[0][best_match_index].item()\n",
    "\n",
    "        for i, check in enumerate(checklist):\n",
    "            if similarities[0][i] > threshold:\n",
    "                best_match_index = i\n",
    "                matched_checklist_item = checklist[best_match_index]\n",
    "                matched_topic = topic[best_match_index]\n",
    "                matched_score = score[best_match_index]\n",
    "                required_topic = request[best_match_index]\n",
    "\n",
    "                # Ensure dependencies are met\n",
    "                if required_topic != -1 and required_topic not in matched_topics:\n",
    "                    continue  # Skip if required topic was not mentioned first\n",
    "\n",
    "                checklist_status[best_match_index] = True  # Mark as matched\n",
    "\n",
    "                # Add score only if the topic has not been counted before\n",
    "                if matched_topic not in matched_topics:\n",
    "                    count += matched_score\n",
    "                    matched_topics.add(matched_topic)\n",
    "\n",
    "                recording.append({\n",
    "                    \"checklist_item\": matched_checklist_item,\n",
    "                    \"matched_sentence\": sent,\n",
    "                    \"similarity_score\": similarities[0][i],\n",
    "                    \"topic\": matched_topic,\n",
    "                    \"score\": matched_score\n",
    "                })\n",
    "\n",
    "# Save results to an Excel file\n",
    "df = pd.DataFrame(recording)\n",
    "df.to_excel(\"recording_results.xlsx\", index=False)\n",
    "\n",
    "# Print the recorded matches\n",
    "print(recording)\n",
    "print(\"Checklist Status:\")\n",
    "for i,check in enumerate(checklist):\n",
    "    print(check,\":\",checklist_status[i])\n",
    "print(\"Total Score:\", count)"
   ]
  },
  {
   "cell_type": "code",
   "execution_count": 21,
   "metadata": {},
   "outputs": [
    {
     "name": "stdout",
     "output_type": "stream",
     "text": [
      "[{'checklist_item': 'เทน้ำเกลือ0.9เปอร์เซ็นต์ใส่ถ้วยหรือแก้วที่เตรียมไว้', 'matched_sentence': 'เทน้ำเกลือ0จุด9เปอร์เซ็นต์แล้ว', 'similarity_score': tensor(0.6209), 'topic': 18, 'score': 0.25}, {'checklist_item': 'ใช้กระบอกฉีดยาขนาด20ถึง50มิลลิลิตรดูดน้ำเกลือจนเต็ม', 'matched_sentence': 'กระบอกฉีดยาความจุประมาณ20ถึง50มิลลิลิตรดูดน้ำเกลือจนเต็มหลอด', 'similarity_score': tensor(0.8903), 'topic': 29, 'score': 0.25}, {'checklist_item': 'ใช้ลูกยางแดงดูดน้ำมูกในจมูกออกหรือสั่งน้ำมูกออก', 'matched_sentence': 'ใช้ลูกยางแดงดูดน้ำมูกให้หมดก่อนจากนั้นยืน', 'similarity_score': tensor(0.7456), 'topic': 22, 'score': 1.0}, {'checklist_item': 'นั่งหรือยืนก้มหน้าเล็กน้อยเอนศีรษะไปด้านใดด้านหนึ่ง', 'matched_sentence': 'ลงเล็กน้อยเอียงหัวไปด้านหนึ่ง', 'similarity_score': tensor(0.6478), 'topic': 19, 'score': 0.5}, {'checklist_item': 'กลั้นหายใจหรือหายใจทางปากเพื่อป้องกันการสำลัก', 'matched_sentence': 'กลั้นหายใจเพื่อไม่ให้สำลัก', 'similarity_score': tensor(0.8448), 'topic': 20, 'score': 1.0}, {'checklist_item': 'ค่อยค่อยฉีดน้ำเกลือประมาณ10ถึง20ซีซีเข้าไปในรูจมูกด้านบนให้น้ำเกลือไหลออกทางรูจมูกอีกข้าง', 'matched_sentence': 'ฉีกน้ำเกลือประมาณ10ถึง20ซีซีเข้ารูจมูกให้น้ำเกลือไหลออกทางจมูกอีกข้าง', 'similarity_score': tensor(0.7570), 'topic': 21, 'score': 1.0}, {'checklist_item': 'ทำซ้ำหลายหลายครั้งในรูจมูกแต่ละข้างจนน้ำเกลือที่ไหลออกทางจมูกมีลักษณะใสไม่มีสีไม่มีน้ำมูก', 'matched_sentence': 'ทำซ้ำหลายหลายครั้งในแต่ละข้างจนน้ำเกลือไหลออกทางจมูกจนไม่มีน้ำมูกพอ', 'similarity_score': tensor(0.7495), 'topic': 23, 'score': 0.5}, {'checklist_item': 'ล้างกระบอกฉีดยาให้สะอาดและทิ้งไว้ให้แห้งสนิท', 'matched_sentence': 'ทำเสร็จให้ล้างกระบวกฉีกยาให้สะอาดและผึ่งไว้ให้แห้งสนิท', 'similarity_score': tensor(0.6203), 'topic': 24, 'score': 0.5}, {'checklist_item': 'เทน้ำเกลือ0.9เปอร์เซ็นต์ใส่ถ้วยหรือแก้วที่เตรียมไว้', 'matched_sentence': 'เทน้ำเกลือ0จุด9เปอร์เซ็นต์แล้ว', 'similarity_score': tensor(0.6209), 'topic': 18, 'score': 0.25}, {'checklist_item': 'ใช้กระบอกฉีดยาขนาด20ถึง50มิลลิลิตรดูดน้ำเกลือจนเต็ม', 'matched_sentence': 'กระบอกฉีดยาความจุประมาณ20ถึง50มิลลิลิตรดูดน้ำเกลือจนเต็มหลอด', 'similarity_score': tensor(0.8903), 'topic': 29, 'score': 0.25}, {'checklist_item': 'ใช้ลูกยางแดงดูดน้ำมูกในจมูกออกหรือสั่งน้ำมูกออก', 'matched_sentence': 'ใช้ลูกยางแดงดูดน้ำมูกให้หมดก่อนจากนั้นยืน', 'similarity_score': tensor(0.7456), 'topic': 22, 'score': 1.0}, {'checklist_item': 'นั่งหรือยืนก้มหน้าเล็กน้อยเอนศีรษะไปด้านใดด้านหนึ่ง', 'matched_sentence': 'ลงเล็กน้อยเอียงหัวไปด้านหนึ่ง', 'similarity_score': tensor(0.6478), 'topic': 19, 'score': 0.5}, {'checklist_item': 'กลั้นหายใจหรือหายใจทางปากเพื่อป้องกันการสำลัก', 'matched_sentence': 'กลั้นหายใจเพื่อไม่ให้สำลัก', 'similarity_score': tensor(0.8448), 'topic': 20, 'score': 1.0}, {'checklist_item': 'ค่อยค่อยฉีดน้ำเกลือประมาณ10ถึง20ซีซีเข้าไปในรูจมูกด้านบนให้น้ำเกลือไหลออกทางรูจมูกอีกข้าง', 'matched_sentence': 'ฉีกน้ำเกลือประมาณ10ถึง20ซีซีเข้ารูจมูกให้น้ำเกลือไหลออกทางจมูกอีกข้าง', 'similarity_score': tensor(0.7570), 'topic': 21, 'score': 1.0}, {'checklist_item': 'ทำซ้ำหลายหลายครั้งในรูจมูกแต่ละข้างจนน้ำเกลือที่ไหลออกทางจมูกมีลักษณะใสไม่มีสีไม่มีน้ำมูก', 'matched_sentence': 'ทำซ้ำหลายหลายครั้งในแต่ละข้างจนน้ำเกลือไหลออกทางจมูกจนไม่มีน้ำมูกพอ', 'similarity_score': tensor(0.7495), 'topic': 23, 'score': 0.5}, {'checklist_item': 'ล้างกระบอกฉีดยาให้สะอาดและทิ้งไว้ให้แห้งสนิท', 'matched_sentence': 'ทำเสร็จให้ล้างกระบวกฉีกยาให้สะอาดและผึ่งไว้ให้แห้งสนิท', 'similarity_score': tensor(0.6203), 'topic': 24, 'score': 0.5}]\n",
      "Checklist Status:\n",
      "แนะนำตัวเภสัชกรสมชายยิ่งใหญ่ : False\n",
      "ผู้ป่วยชื่อนามสกุลอะไร : False\n",
      "ผู้ป่วยชื่อพิมนามสกุลอะไร : False\n",
      "ผู้ป่วยชื่อพิมมั่นใจใช่ไหม : False\n",
      "ผู้ป่วยมีประวัติแพ้ยาอะไรไหม : False\n",
      "ผู้ป่วยแพ้ยามีอาการผื่นคันใช่ไหม : False\n",
      "ลอราทาดีน : False\n",
      "ความแรง10มิลลิกรัม : False\n",
      "จำนวน30เม็ด : False\n",
      "ใช้เพื่อบรรเทาอาการแพ้ : False\n",
      "รับประทานครั้งละ1เม็ด : False\n",
      "วันละ1ครั้ง : False\n",
      "หลังอาหารเช้า : False\n",
      "นอร์มอลซาไลน์ : False\n",
      "ขนาด1000มิลลิลิตร : False\n",
      "จำนวน2ขวด : False\n",
      "ใช้สำหรับล้างจมูก : False\n",
      "ล้างจมูกทั้ง2ข้าง : False\n",
      "วันละ2ครั้ง : False\n",
      "เช้าและเย็น : False\n",
      "เทน้ำเกลือ0.9เปอร์เซ็นต์ใส่ถ้วยหรือแก้วที่เตรียมไว้ : True\n",
      "นั่งหรือยืนก้มหน้าเล็กน้อยเอนศีรษะไปด้านใดด้านหนึ่ง : True\n",
      "กลั้นหายใจหรือหายใจทางปากเพื่อป้องกันการสำลัก : True\n",
      "ค่อยค่อยฉีดน้ำเกลือประมาณ10ถึง20ซีซีเข้าไปในรูจมูกด้านบนให้น้ำเกลือไหลออกทางรูจมูกอีกข้าง : True\n",
      "ใช้ลูกยางแดงดูดน้ำมูกในจมูกออกหรือสั่งน้ำมูกออก : True\n",
      "ทำซ้ำหลายหลายครั้งในรูจมูกแต่ละข้างจนน้ำเกลือที่ไหลออกทางจมูกมีลักษณะใสไม่มีสีไม่มีน้ำมูก : True\n",
      "ล้างกระบอกฉีดยาให้สะอาดและทิ้งไว้ให้แห้งสนิท : True\n",
      "ใช้จุกล้างจมูกสวมที่ปลายกระบอกฉีดยา : False\n",
      "อาจมีอาการระคายเคืองหรือแสบจมูกในระยะแรกเป็นภาวะปกติไม่มีอันตราย : False\n",
      "น้ำเกลือล้างจมูกส่วนหนึ่งอาจไหลลงคอทำให้รู้สึกเค็มในคอขณะล้างจมูกหรือภายหลังล้างจมูกเสร็จ : False\n",
      "ไม่ควรใช้กระบอกฉีดยาร่วมกับผู้อื่น : False\n",
      "ใช้กระบอกฉีดยาขนาด20ถึง50มิลลิลิตรดูดน้ำเกลือจนเต็ม : True\n",
      "ช่วยให้ล้างจมูกได้ง่ายขึ้น : False\n",
      "ผู้ป่วยสามารถกลั้วคอด้วยน้ำเปล่าหลังล้างจมูกเสร็จเพื่อลดความรู้สึกเค็มในคอ : False\n",
      "Total Score: 5.0\n"
     ]
    }
   ],
   "source": [
    "from sentence_transformers import SentenceTransformer, util\n",
    "import pandas as pd\n",
    "\n",
    "torch.cuda.empty_cache()\n",
    "torch.cuda.ipc_collect()\n",
    "\n",
    "model = SentenceTransformer('nomic_trained_model', trust_remote_code=True)\n",
    "threshold = 0.6\n",
    "recording = []\n",
    "count = 0\n",
    "matched_topics = {-1} # Track matched topics to avoid duplicate scoring\n",
    "\n",
    "# Track whether each checklist item is matched\n",
    "checklist_status = [False] * len(checklist)\n",
    "\n",
    "# Encode the checklist sentences\n",
    "checklit_embeddings = model.encode(checklist)\n",
    "\n",
    "# Iterate through split_sent and check for similarity\n",
    "for doublecheck in range(0,2):\n",
    "    for sent in split_sentences:\n",
    "        sent_embedding = model.encode(sent)\n",
    "        similarities = util.cos_sim(sent_embedding, checklit_embeddings)\n",
    "\n",
    "        # best_match_index = similarities[0].argmax().item()  # Get index of highest similarity\n",
    "        # best_score = similarities[0][best_match_index].item()\n",
    "\n",
    "        for i, check in enumerate(checklist):\n",
    "            if similarities[0][i] > threshold:\n",
    "                best_match_index = i\n",
    "                matched_checklist_item = checklist[best_match_index]\n",
    "                matched_topic = topic[best_match_index]\n",
    "                matched_score = score[best_match_index]\n",
    "                required_topic = request[best_match_index]\n",
    "\n",
    "                # Ensure dependencies are met\n",
    "                if required_topic != -1 and required_topic not in matched_topics:\n",
    "                    continue  # Skip if required topic was not mentioned first\n",
    "\n",
    "                checklist_status[best_match_index] = True  # Mark as matched\n",
    "\n",
    "                # Add score only if the topic has not been counted before\n",
    "                if matched_topic not in matched_topics:\n",
    "                    count += matched_score\n",
    "                    matched_topics.add(matched_topic)\n",
    "\n",
    "                recording.append({\n",
    "                    \"checklist_item\": matched_checklist_item,\n",
    "                    \"matched_sentence\": sent,\n",
    "                    \"similarity_score\": similarities[0][i],\n",
    "                    \"topic\": matched_topic,\n",
    "                    \"score\": matched_score\n",
    "                })\n",
    "\n",
    "# Save results to an Excel file\n",
    "df = pd.DataFrame(recording)\n",
    "df.to_excel(\"recording_results.xlsx\", index=False)\n",
    "\n",
    "# Print the recorded matches\n",
    "print(recording)\n",
    "print(\"Checklist Status:\")\n",
    "for i,check in enumerate(checklist):\n",
    "    print(check,\":\",checklist_status[i])\n",
    "print(\"Total Score:\", count)"
   ]
  },
  {
   "cell_type": "code",
   "execution_count": 58,
   "metadata": {},
   "outputs": [],
   "source": [
    "#token 792\n",
    "#semantic token 636"
   ]
  },
  {
   "cell_type": "markdown",
   "metadata": {},
   "source": [
    "# test code version 1"
   ]
  },
  {
   "cell_type": "code",
   "execution_count": 73,
   "metadata": {},
   "outputs": [],
   "source": [
    "from pythainlp.tokenize import word_tokenize\n",
    "from pythainlp.util import Trie"
   ]
  },
  {
   "cell_type": "code",
   "execution_count": null,
   "metadata": {},
   "outputs": [],
   "source": [
    "# Define custom words\n",
    "#custom_words = [\"ครับ\",\"ชื่อ\",\"ยานี้ชื่อ\",\"มิลลิกรัม\", \"เม็ด\",\"ความแรง\",\"รับประทานครั้งละ\",\"ครั้ง\",\"ขวด\",\"จำนวน\",\"วันละ\",\"ควรรับประทานหลังอาหารทันที\",\"ควรรับประทานติดต่อกันทุกวันจนหมด\"]\n",
    "# Create a Trie for custom dictionary\n",
    "#trie = Trie(custom_words)"
   ]
  },
  {
   "cell_type": "code",
   "execution_count": null,
   "metadata": {},
   "outputs": [],
   "source": [
    "#text = \"วันนี้มารับยา3ตัวนะครับยานี้ชื่อไอบูโปรเพนความแรง400มิลลิกรัมจำนวน10เม็ดใช้เพื่อบรรเทาอาการปวดรับประทานครั้งละ1เม็ดวันละ3ครั้งหลังอาหารเช้ากลางวันเย็นยานี้ควรรับประทานหลังอาหารทันทีส่วนยานี้ชื่ออะมอกซีซิลินความแรง500มิลลิกรัมจำนวน30เม็ดใช้รักษาอาการติดเชื้อที่หูรับประทานครั้งละ1เม็ดวันละ3ครั้งหลังอาหารเช้ากลางวันเย็นยานี้ควรรับประทานติดต่อกันทุกวันจนหมดและยานี้ชื่อเด็กซ์ออฟจำนวน1ขวดใช้สำหรับหยอดหูเพื่อรักษาอาการติดเชื้อที่หูหยอด3หยดที่หูข้างซ้ายวันละ3ครั้งหลังอาหารเช้ากลางวันเย็น\"\n",
    "#text = \"สวัสดีครับผมเป็นเภสัชกรชื่อสิทธิกรเฉลิมกิจที่ชัยคนไข้ชื่อนามสกุลอะไรครับคนไข้มีอาการปวดหูใช่ไหมครับ\"\n",
    "#text = \"วันนี้มารับยา 3 ตัวนะครับยานี้ชื่อไอบูโพรเฟนความแรง 400 มิลลิกรัมจำนวน 10 เม็ดใช้เพื่อบรรเทาอาการปวดรับประทานครั้งละ 1 เม็ดวันละ 3 ครั้งหลังอาหารเช้ากลางวันเย                           ย็นยานี้ควรรับประทานหลังอาหารทันทีส่วนยานี้ชื่ออะม็อกซี่ซีเมนต์ความแรง 500 มิลลิกรัมจำนวน 30 เม็ดใช้รักษาอาการติดเชื้อที่หูรับประทานครั้งละ 1 เม็ดวันละ 3 ครั้ง                                   งหลังอาหารเช้ากลางวันเย็นยานี้ควรรับประทานติดต่อกันทุกวันจนหมดและยานี้ชื่อ Desktop จำนวน 1 ขวดใช้สำหรับหยอดหูเพื่อรักษาอาการติดเชื้อที่หูหยอด 3 หยดขี้หูข้างซ้า                                ายวันละ 3 ครั้งหลังอาหารเช้ากลางวันเย็น\""
   ]
  },
  {
   "cell_type": "code",
   "execution_count": 2,
   "metadata": {},
   "outputs": [],
   "source": [
    "text = [\n",
    "    \"สวัสดีค่ะหนูเป็นเภสัชกรชื่อสมหญิงใจดีคนไข้ชื่อนามสกุลอะไรคะ\",\n",
    "    \"คนไข้มาด้วยอาการปวดหูใช่ไหมคะ\",\n",
    "    \"\"\"วันนี้มารับยา3ตัวนะค่ะยานี้ชื่อไอบูโปรเพนความแรง400มิลลิกรัมจำนวน10เม็ดใช้เพื่อบรรเทาอาการปวดรับประทานครั้งละ1เม็ดวันละ3ครั้งหลังอาหารเช้ากลางวันเย็นยานี้ควรรับประทานหลังอาหารทันทีส่วนยานี้ชื่ออะมอกซีซิลินความแรง500มิลลิกรัมจำนวน30เม็ดใช้รักษาอาการติดเชื้อที่หูรับประทานครั้งละ1เม็ดวันละ3ครั้งหลังอาหารเช้ากลางวันเย็นยานี้ควรรับประทานติดต่อกันทุกวันจนหมดและยานี้ชื่อเด็กซ์ออฟจำนวน1ขวดใช้สำหรับหยอดหูเพื่อรักษาอาการติดเชื้อที่หูหยอด3หยดที่หูข้างซ้ายวันละ3ครั้งหลังอาหารเช้ากลางวันเย็นซึ่งยานี้มีวิธีการใช้ในลักษณะพิเศษเดี๋ยวฉันสอนวิธีการใช้งานให้นะคะเริ่มด้วยการล้างมือให้สะอาดก่อนใช้ยาจากนั้นใช้ไม้พันสำลีเช็ดหนองในใบหูหรือรูหูให้สะอาดก่อนและหลังหยอดยาต่อมาให้หยิบยาจากกล่องมาถือไว้ที่มือและเขย่าขวดก่อนใช้ทุกครั้งถัดไปให้คนไข้นอนตะแคงหรือนั่งเอียงศีรษะให้หูข้างที่จะหยอดยาอยู่ด้านบนถัดมาให้ดึงใบหูข้างที่จะหยอดยาไปด้านหลังและดึงขึ้นด้านบนโดยหยอดยาเข้าไปในหูตามที่แพทย์สั่งระวังอย่าเอาหลอดหยดสอดเข้าไปในรูหูให้คนไข้เอียงตะแคงอยู่ท่าเดิมประมาณ3ถึง5นาทีซึ่งอาจจะเอาสำลีใส่ในรูหูไว้อีกระยะหนึ่งเพื่อไม่ให้ยาไหลออกมาหากเก็บยาหยอดหูไว้ในตู้เย็นก่อนใช้ยาให้กำหยอดยาไว้ในอุ้งมือสักครู่เพื่อปรับอุณหภูมิให้ใกล้เคียงกับร่างกายก่อนหยอด\"\"\",\n",
    "]"
   ]
  },
  {
   "cell_type": "code",
   "execution_count": 3,
   "metadata": {},
   "outputs": [],
   "source": [
    "# Define custom words\n",
    "custom_words = [\n",
    "    \"คนไข้ชื่อนามสกุลอะไร\",\"สวัสดี\",\"ไอบูโปรเพน\",\"ความแรง400มิลลิกรัม\",\"จำนวน10เม็ด\",\"รับประทานครั้งละ1เม็ด\",\"วันละ3ครั้ง\",\"หลังอาหารเช้ากลางวันเย็น\",\n",
    "    \"ควรรับประทานหลังอาหารทันที\",\"อะมอกซีซิลิน\",\"ความแรง500มิลลิกรัม\",\"จำนวน30เม็ด\",\"ควรรับประทานติดต่อกันทุกวันจนหมด\",\"เด็กซ์ออฟ\",\"จำนวน1ขวด\",\n",
    "    \"หยอด3หยดที่หูข้างซ้าย\",\"วันละ3ครั้ง\",\"ล้างมือให้สะอาด\"\n",
    "    ]\n",
    "# Create a Trie for custom dictionary\n",
    "trie = Trie(custom_words)"
   ]
  },
  {
   "cell_type": "code",
   "execution_count": 4,
   "metadata": {},
   "outputs": [],
   "source": [
    "split_sent = word_tokenize(text[2], custom_dict=trie)"
   ]
  },
  {
   "cell_type": "code",
   "execution_count": 5,
   "metadata": {},
   "outputs": [
    {
     "name": "stdout",
     "output_type": "stream",
     "text": [
      "['วันนี้มารับยา', '3', 'ตัวนะค่ะยานี้ชื่อ', 'ไอบูโปรเพน', 'ความแรง400มิลลิกรัม', 'จำนวน10เม็ด', 'ใช้เพื่อบรรเทาอาการปวด', 'รับประทานครั้งละ1เม็ด', 'วันละ3ครั้ง', 'หลังอาหารเช้ากลางวันเย็น', 'ยานี้', 'ควรรับประทานหลังอาหารทันที', 'ส่วนยานี้ชื่อ', 'อะมอกซีซิลิน', 'ความแรง500มิลลิกรัม', 'จำนวน30เม็ด', 'ใช้รักษาอาการติดเชื้อที่หู', 'รับประทานครั้งละ1เม็ด', 'วันละ3ครั้ง', 'หลังอาหารเช้ากลางวันเย็น', 'ยานี้', 'ควรรับประทานติดต่อกันทุกวันจนหมด', 'และยานี้ชื่อ', 'เด็กซ์ออฟ', 'จำนวน1ขวด', 'ใช้สำหรับหยอดหูเพื่อรักษาอาการติดเชื้อที่หู', 'หยอด3หยดที่หูข้างซ้าย', 'วันละ3ครั้ง', 'หลังอาหารเช้ากลางวันเย็น', 'ซึ่งยานี้มีวิธีการใช้ในลักษณะพิเศษเดี๋ยวฉันสอนวิธีการใช้งานให้นะคะเริ่มด้วยการ', 'ล้างมือให้สะอาด', 'ก่อนใช้ยาจากนั้นใช้ไม้พันสำลีเช็ดหนองในใบหูหรือรูหูให้สะอาดก่อนและหลังหยอดยาต่อมาให้หยิบยาจากกล่องมาถือไว้ที่มือและเขย่าขวดก่อนใช้ทุกครั้งถัดไปให้คนไข้นอนตะแคงหรือนั่งเอียงศีรษะให้หูข้างที่จะหยอดยาอยู่ด้านบนถัดมาให้ดึงใบหูข้างที่จะหยอดยาไปด้านหลังและดึงขึ้นด้านบนโดยหยอดยาเข้าไปในหูตามที่แพทย์สั่งระวังอย่าเอาหลอดหยดสอดเข้าไปในรูหูให้คนไข้เอียงตะแคงอยู่ท่าเดิมประมาณ', '3', 'ถึง', '5', 'นาทีซึ่งอาจจะเอาสำลีใส่ในรูหูไว้อีกระยะหนึ่งเพื่อไม่ให้ยาไหลออกมาหากเก็บยาหยอดหูไว้ในตู้เย็นก่อนใช้ยาให้กำหยอดยาไว้ในอุ้งมือสักครู่เพื่อปรับอุณหภูมิให้ใกล้เคียงกับร่างกายก่อนหยอด']\n"
     ]
    }
   ],
   "source": [
    "print(split_sent)"
   ]
  },
  {
   "cell_type": "code",
   "execution_count": 6,
   "metadata": {},
   "outputs": [
    {
     "name": "stdout",
     "output_type": "stream",
     "text": [
      "0.7\n"
     ]
    }
   ],
   "source": [
    "x = 3.5\n",
    "MIN = 0\n",
    "MAX = 5\n",
    "normalize = (x - MIN)/(MAX - MIN)\n",
    "print(normalize)"
   ]
  },
  {
   "cell_type": "code",
   "execution_count": 7,
   "metadata": {},
   "outputs": [],
   "source": [
    "recording = []\n",
    "threshold = 0.75\n",
    "\n",
    "topic = [\n",
    "    0,  # \"ผมเป็นเป็นเภสัชกร\"\n",
    "    1,  # \"ผู้ป่วยชื่อนามสกุลอะไร\"\n",
    "    1,  # \"ผู้ป่วยชื่ออะไร\"\n",
    "    1,  # \"ชาติ\"\n",
    "    1,  # \"ชาติตระการตา\"\n",
    "    2,\n",
    "    3,\n",
    "    4,\n",
    "    5,\n",
    "    6,\n",
    "    7,\n",
    "    8,\n",
    "    9,  \n",
    "    10,  \n",
    "    11,  \n",
    "    12, \n",
    "    13,\n",
    "    14,\n",
    "    15,\n",
    "    16,\n",
    "    17,\n",
    "    18,\n",
    "    19,\n",
    "    20,\n",
    "    21,\n",
    "    22,\n",
    "]\n",
    "\n",
    "checklit = [\n",
    "    \"ผมเป็นเป็นเภสัชกร\",\n",
    "    \"ผู้ป่วยชื่อนามสกุลอะไร\",\n",
    "    \"ผู้ป่วยชื่ออะไร\",\n",
    "    \"ผู้ป่วยชื่อชาตินามสกุลอะไร\",\n",
    "    \"ผู้ป่วยชื่อชาติตระการตาใช่ไหม\",\n",
    "    \"ไอบูโปรเพน\",\n",
    "    \"ความแรง400มิลลิกรัม\",\n",
    "    \"จำนวน10เม็ด\",\n",
    "    \"ใช้เพื่อบรรเทาอาการปวด\",\n",
    "    \"รับประทานครั้งละ1เม็ด\",\n",
    "    \"วันละ3ครั้ง\",\n",
    "    \"หลังอาหารเช้ากลางวันเย็น\",\n",
    "    \"ควรรับประทานหลังอาหารทันที\",\n",
    "    \"อะมอกซีซิลิน\",\n",
    "    \"ความแรง500มิลลิกรัม\",\n",
    "    \"จำนวน30เม็ด\",\n",
    "    \"ใช้รักษาอาการติดเชื้อที่หู\",\n",
    "    \"รับประทานครั้งละ1เม็ด\",\n",
    "    \"วันละ3ครั้ง\",\n",
    "    \"หลังอาหารเช้ากลางวันเย็น\",\n",
    "    \"ควรรับประทานติดต่อกันทุกวันจนหมด\",\n",
    "    \"เด็กซ์ออฟ\",\n",
    "    \"ใช้รักษาหูชั้นกลางอักเสบ\",\n",
    "    \"หยอดหูซ้าย3หยด\",\n",
    "    \"วันละ3ครั้ง\",\n",
    "    \"หลังอาหารเช้ากลางวันเย็น\",\n",
    "]\n",
    "\n",
    "score = [\n",
    "    1,    # \"ผมเป็นเป็นเภสัชกร\"\n",
    "    1,    # \"ผู้ป่วยชื่อนามสกุลอะไร\"\n",
    "    1,    # \"ผู้ป่วยชื่ออะไร\"\n",
    "    0.5,  # \"ชาติ\"\n",
    "    0.25, # \"ชาติตระการตา\"\n",
    "    0,\n",
    "    0,\n",
    "    0,\n",
    "    0,\n",
    "    0,\n",
    "    0,\n",
    "    0,\n",
    "    0,\n",
    "    0,\n",
    "    0, \n",
    "    0,\n",
    "    0,\n",
    "    0,\n",
    "    0,\n",
    "    0,   # เด็กซ์ออฟ\n",
    "    0.25, # \"ใช้รักษาหูชั้นกลางอักเสบ\"\n",
    "    0.25, # \"หยอดหูซ้าย3หยด\"\n",
    "    0.25, # \"วันละ3ครั้ง\"\n",
    "    0.25, # \"เช้ากลางวันเย็น\"\n",
    "]\n",
    "\n",
    "request = [\n",
    "    -1,  # \"ผมเป็นเป็นเภสัชกร\"\n",
    "    -1,  # \"ผู้ป่วยชื่อนามสกุลอะไร\"\n",
    "    -1,  # \"ผู้ป่วยชื่ออะไร\"\n",
    "    -1,  # \"ชาติ\"\n",
    "    -1,  # \"ชาติตระการตา\"\n",
    "    -1,\n",
    "    2,\n",
    "    3,\n",
    "    4,\n",
    "    5,\n",
    "    6,\n",
    "    7,\n",
    "    8,\n",
    "    -1,\n",
    "    9,\n",
    "    10,\n",
    "    11,\n",
    "    12,\n",
    "    13,\n",
    "    14,\n",
    "    15,\n",
    "    -1,  # เด็กซ์ออฟ\n",
    "    16,  # \"ใช้รักษาหูชั้นกลางอักเสบ\"\n",
    "    17,  # \"หยอดหูซ้าย3หยด\"\n",
    "    18,  # \"วันละ3ครั้ง\"\n",
    "    19,  # \"เช้ากลางวันเย็น\"\n",
    "]"
   ]
  },
  {
   "cell_type": "code",
   "execution_count": 8,
   "metadata": {},
   "outputs": [
    {
     "name": "stdout",
     "output_type": "stream",
     "text": [
      "topic =  26\n",
      "checklit =  26\n",
      "request =  26\n"
     ]
    }
   ],
   "source": [
    "print(\"topic = \",len(topic))\n",
    "print(\"checklit = \",len(checklit))\n",
    "print(\"request = \",len(request))"
   ]
  },
  {
   "cell_type": "code",
   "execution_count": 9,
   "metadata": {},
   "outputs": [
    {
     "name": "stdout",
     "output_type": "stream",
     "text": [
      "[{'checklist_item': 'ไอบูโปรเพน', 'matched_sentence': 'ไอบูโปรเพน', 'similarity_score': 0.9999999403953552, 'topic': 2, 'score': 0}, {'checklist_item': 'ความแรง400มิลลิกรัม', 'matched_sentence': 'ความแรง400มิลลิกรัม', 'similarity_score': 1.0000001192092896, 'topic': 3, 'score': 0}, {'checklist_item': 'จำนวน10เม็ด', 'matched_sentence': 'จำนวน10เม็ด', 'similarity_score': 1.0, 'topic': 4, 'score': 0}, {'checklist_item': 'ใช้เพื่อบรรเทาอาการปวด', 'matched_sentence': 'ใช้เพื่อบรรเทาอาการปวด', 'similarity_score': 0.9999998807907104, 'topic': 5, 'score': 0}, {'checklist_item': 'รับประทานครั้งละ1เม็ด', 'matched_sentence': 'รับประทานครั้งละ1เม็ด', 'similarity_score': 0.9999999403953552, 'topic': 6, 'score': 0}, {'checklist_item': 'วันละ3ครั้ง', 'matched_sentence': 'วันละ3ครั้ง', 'similarity_score': 1.0, 'topic': 7, 'score': 0}, {'checklist_item': 'หลังอาหารเช้ากลางวันเย็น', 'matched_sentence': 'หลังอาหารเช้ากลางวันเย็น', 'similarity_score': 1.0, 'topic': 8, 'score': 0}, {'checklist_item': 'ควรรับประทานหลังอาหารทันที', 'matched_sentence': 'ควรรับประทานหลังอาหารทันที', 'similarity_score': 0.9999998807907104, 'topic': 9, 'score': 0}, {'checklist_item': 'อะมอกซีซิลิน', 'matched_sentence': 'อะมอกซีซิลิน', 'similarity_score': 0.9999998211860657, 'topic': 10, 'score': 0}, {'checklist_item': 'ความแรง500มิลลิกรัม', 'matched_sentence': 'ความแรง500มิลลิกรัม', 'similarity_score': 1.0, 'topic': 11, 'score': 0}, {'checklist_item': 'จำนวน30เม็ด', 'matched_sentence': 'จำนวน30เม็ด', 'similarity_score': 1.0, 'topic': 12, 'score': 0}, {'checklist_item': 'ใช้รักษาอาการติดเชื้อที่หู', 'matched_sentence': 'ใช้รักษาอาการติดเชื้อที่หู', 'similarity_score': 0.9999999403953552, 'topic': 13, 'score': 0}, {'checklist_item': 'รับประทานครั้งละ1เม็ด', 'matched_sentence': 'รับประทานครั้งละ1เม็ด', 'similarity_score': 0.9999999403953552, 'topic': 6, 'score': 0}, {'checklist_item': 'วันละ3ครั้ง', 'matched_sentence': 'วันละ3ครั้ง', 'similarity_score': 1.0, 'topic': 7, 'score': 0}, {'checklist_item': 'หลังอาหารเช้ากลางวันเย็น', 'matched_sentence': 'หลังอาหารเช้ากลางวันเย็น', 'similarity_score': 1.0, 'topic': 8, 'score': 0}, {'checklist_item': 'เด็กซ์ออฟ', 'matched_sentence': 'เด็กซ์ออฟ', 'similarity_score': 0.9999999403953552, 'topic': 18, 'score': 0.25}, {'checklist_item': 'ใช้รักษาอาการติดเชื้อที่หู', 'matched_sentence': 'ใช้สำหรับหยอดหูเพื่อรักษาอาการติดเชื้อที่หู', 'similarity_score': 0.955645740032196, 'topic': 13, 'score': 0}, {'checklist_item': 'วันละ3ครั้ง', 'matched_sentence': 'วันละ3ครั้ง', 'similarity_score': 1.0, 'topic': 7, 'score': 0}, {'checklist_item': 'หลังอาหารเช้ากลางวันเย็น', 'matched_sentence': 'หลังอาหารเช้ากลางวันเย็น', 'similarity_score': 1.0, 'topic': 8, 'score': 0}, {'checklist_item': 'ใช้รักษาอาการติดเชื้อที่หู', 'matched_sentence': 'ก่อนใช้ยาจากนั้นใช้ไม้พันสำลีเช็ดหนองในใบหูหรือรูหูให้สะอาดก่อนและหลังหยอดยาต่อมาให้หยิบยาจากกล่องมาถือไว้ที่มือและเขย่าขวดก่อนใช้ทุกครั้งถัดไปให้คนไข้นอนตะแคงหรือนั่งเอียงศีรษะให้หูข้างที่จะหยอดยาอยู่ด้านบนถัดมาให้ดึงใบหูข้างที่จะหยอดยาไปด้านหลังและดึงขึ้นด้านบนโดยหยอดยาเข้าไปในหูตามที่แพทย์สั่งระวังอย่าเอาหลอดหยดสอดเข้าไปในรูหูให้คนไข้เอียงตะแคงอยู่ท่าเดิมประมาณ', 'similarity_score': 0.789130449295044, 'topic': 13, 'score': 0}, {'checklist_item': 'เด็กซ์ออฟ', 'matched_sentence': 'ถึง', 'similarity_score': 0.8575413227081299, 'topic': 18, 'score': 0.25}]\n",
      "Checklist Status: {'ผมเป็นเป็นเภสัชกร': False, 'ผู้ป่วยชื่อนามสกุลอะไร': False, 'ผู้ป่วยชื่ออะไร': False, 'ผู้ป่วยชื่อชาตินามสกุลอะไร': False, 'ผู้ป่วยชื่อชาติตระการตาใช่ไหม': False, 'ไอบูโปรเพน': True, 'ความแรง400มิลลิกรัม': True, 'จำนวน10เม็ด': True, 'ใช้เพื่อบรรเทาอาการปวด': True, 'รับประทานครั้งละ1เม็ด': True, 'วันละ3ครั้ง': True, 'หลังอาหารเช้ากลางวันเย็น': True, 'ควรรับประทานหลังอาหารทันที': True, 'อะมอกซีซิลิน': True, 'ความแรง500มิลลิกรัม': True, 'จำนวน30เม็ด': True, 'ใช้รักษาอาการติดเชื้อที่หู': True, 'ควรรับประทานติดต่อกันทุกวันจนหมด': False, 'เด็กซ์ออฟ': True, 'ใช้รักษาหูชั้นกลางอักเสบ': False, 'หยอดหูซ้าย3หยด': False}\n",
      "Total Score: 0.25\n"
     ]
    }
   ],
   "source": [
    "from sentence_transformers import SentenceTransformer, util\n",
    "\n",
    "model = SentenceTransformer('paraphrase-multilingual-MiniLM-L12-v2')\n",
    "\n",
    "count = 0\n",
    "matched_topics = {-1} # Track matched topics to avoid duplicate scoring\n",
    "\n",
    "# Track whether each checklist item is matched\n",
    "checklist_status = {check: False for check in checklit}\n",
    "\n",
    "# Encode the checklist sentences\n",
    "checklit_embeddings = model.encode(checklit)\n",
    "\n",
    "# Iterate through split_sent and check for similarity\n",
    "for sent in split_sent:\n",
    "    sent_embedding = model.encode(sent)\n",
    "    similarities = util.cos_sim(sent_embedding, checklit_embeddings)\n",
    "\n",
    "    best_match_index = similarities[0].argmax().item()  # Get index of highest similarity\n",
    "    best_score = similarities[0][best_match_index].item()\n",
    "\n",
    "    if best_score > threshold:\n",
    "        matched_checklist_item = checklit[best_match_index]\n",
    "        matched_topic = topic[best_match_index]\n",
    "        matched_score = score[best_match_index]\n",
    "        required_topic = request[best_match_index]\n",
    "\n",
    "       # Ensure dependencies are met\n",
    "        if required_topic != -1 and required_topic not in matched_topics:\n",
    "            continue  # Skip if required topic was not mentioned first\n",
    "\n",
    "        checklist_status[matched_checklist_item] = True  # Mark as matched\n",
    "\n",
    "        # Add score only if the topic has not been counted before\n",
    "        if matched_topic not in matched_topics:\n",
    "            count += matched_score\n",
    "            matched_topics.add(matched_topic)\n",
    "\n",
    "        recording.append({\n",
    "            \"checklist_item\": matched_checklist_item,\n",
    "            \"matched_sentence\": sent,\n",
    "            \"similarity_score\": best_score,\n",
    "            \"topic\": matched_topic,\n",
    "            \"score\": matched_score\n",
    "        })\n",
    "\n",
    "# Print the recorded matches\n",
    "print(recording)\n",
    "print(\"Checklist Status:\", checklist_status)\n",
    "print(\"Total Score:\", count)\n"
   ]
  },
  {
   "cell_type": "code",
   "execution_count": 93,
   "metadata": {},
   "outputs": [
    {
     "name": "stdout",
     "output_type": "stream",
     "text": [
      "[]\n"
     ]
    }
   ],
   "source": [
    "from sentence_transformers import SentenceTransformer, util\n",
    "\n",
    "# โหลดโมเดลสำหรับสร้าง Text Embedding\n",
    "model = SentenceTransformer('paraphrase-multilingual-MiniLM-L12-v2')\n",
    "# กำหนดเกณฑ์ (เช่น 0.7)\n",
    "threshold = 0.85\n",
    "\n",
    "# ขั้นตอนมาตรฐาน\n",
    "steps = [\n",
    "    #check information\n",
    "    \"เป็นเภสัชกร\",\n",
    "    \"นามสกุลอะไร\",\n",
    "    \"ชาติ\",\n",
    "    \"ชาติตระการตา\",\n",
    "    \"ปวดหูข้างที่ข้างซ้าย\",\n",
    "    \"ความดัน\",\n",
    "    \"ตั้งครรภ์\",\n",
    "    #check drug\n",
    "    \"ไอบูโปรเพน\",\n",
    "    \"ความแรง\",\n",
    "    \"400\",\n",
    "    \"จำนวน\",\n",
    "    \"10\",\n",
    "    \"ใช้เพื่อบรรเทาอาการปวด\",\n",
    "    \"รับประทานครั้งละ\",\n",
    "    \"1\",\n",
    "    \"วันละ\",\n",
    "    \"3\",\n",
    "    \"หลังอาหารเช้ากลางวันเย็น\",\n",
    "    \"ควรรับประทานหลังอาหารทันที\",\n",
    "    \"อะมอกซีซิลิน\",\n",
    "    \"ขนาดยา\",\n",
    "    \"500\",\n",
    "    \"จำนวน\",\n",
    "    \"30\",\n",
    "    \"ใช้รักษาอาการติดเชื้อที่หู\",\n",
    "    \"รับประทานครั้งละ\",\n",
    "    \"1\",\n",
    "    \"วันละ\",\n",
    "    \"3\",\n",
    "    \"หลังอาหารเช้ากลางวันเย็น\",\n",
    "    \"ควรรับประทานติดต่อกันทุกวันจนหมด\",\n",
    "    \"เด็กซ์ออฟ\",\n",
    "    \"จำนวน\",\n",
    "    \"1\",\n",
    "    \"ใช้สำหรับหยอดหูเพื่อรักษาอาการติดเชื้อที่หู\",\n",
    "    \"3\",\n",
    "    \"หูข้างซ้าย\",\n",
    "    \"วันละ\",\n",
    "    \"3\",\n",
    "    \"หลังอาหารเช้ากลางวันเย็น\",\n",
    "    \"มีวิธีการใช้ในลักษณะพิเศษดังนี้\",\n",
    "    #howtouse\n",
    "    \"ล้างมือให้สะอาด\",\n",
    "    \"นอนตะแคงหรือนั่งเอียงศีรษะให้หูข้างที่จะหยอดยาอยู่ด้านบน\",\n",
    "    \"ให้ดึงใบหูข้างที่จะหยอดยาไปด้านหลังและดึงขึ้นด้านบน\",\n",
    "    \"หยอดยาเข้าไปในหูตามที่แพทย์สั่ง\",\n",
    "    \"ระวังอย่าเอาหลอดหยดสอดเข้าไปในรูหู\",\n",
    "    \"เอียงตะแคงอยู่ท่าเดิมประมาณ3ถึง5นาที\",\n",
    "    \"เอาสำลีใส่ในรูหูไว้อีกระยะหนึ่งเพื่อไม่ให้ยาไหลออกมา\",\n",
    "    #addition\n",
    "    \"ให้เขย่าขวดก่อนใช้ทุกครั้ง\",\n",
    "    \"ใช้ไม้พันสำลีเช็ดหนองในใบหูหรือรูหูให้สะอาดก่อนและหลังหยอดยา\",\n",
    "    \"เก็บไว้ในตู้เย็นก่อนใช้ยาให้กำหลอดยาไว้ในอุ้งมือสักครู่\",\n",
    "    \"เพื่อปรับอุณหภูมิให้ใกล้เคียงกับร่างกายก่อนหยอด\",\n",
    "]\n",
    "\n",
    "# Track whether each step is covered by at least one sentence\n",
    "coverage = {step: False for step in steps}\n",
    "doublecheck = []\n",
    "\n",
    "# แปลงขั้นตอนมาตรฐานและข้อความเภสัชกรเป็น Embedding\n",
    "step_embeddings = model.encode(steps)\n",
    "\n",
    "for sent in split_sent:\n",
    "    sent_embedding = model.encode(sent)\n",
    "    similarities = util.cos_sim(sent_embedding, step_embeddings)\n",
    "    \n",
    "    # อัปเดตผลลัพธ์หากเจอข้อความที่ตรงกับขั้นตอนมาตรฐาน\n",
    "    for i, step in enumerate(steps):\n",
    "        if similarities[0][i] > threshold:\n",
    "            coverage[step] = True\n",
    "            doublecheck.append(step)\n",
    "            doublecheck.append(sent)\n",
    "            doublecheck.append(similarities[0][i])\n",
    "\n",
    "#แสดงผล\n",
    "# for step, covered in coverage.items():\n",
    "#     status = \"ผ่าน\" if covered else \"ไม่ผ่าน\"\n",
    "#     print(f\"{step}: {status}\")\n",
    "\n",
    "print(doublecheck)"
   ]
  },
  {
   "cell_type": "code",
   "execution_count": 5,
   "metadata": {},
   "outputs": [
    {
     "name": "stdout",
     "output_type": "stream",
     "text": [
      "tensor([[1.0000, 0.9775, 0.4064, 0.2396, 0.5751, 0.5104],\n",
      "        [0.9775, 1.0000, 0.4477, 0.2841, 0.5666, 0.5100],\n",
      "        [0.4064, 0.4477, 1.0000, 0.6624, 0.2733, 0.3100],\n",
      "        [0.2396, 0.2841, 0.6624, 1.0000, 0.2770, 0.3379],\n",
      "        [0.5751, 0.5666, 0.2733, 0.2770, 1.0000, 0.8012],\n",
      "        [0.5104, 0.5100, 0.3100, 0.3379, 0.8012, 1.0000]])\n"
     ]
    }
   ],
   "source": [
    "from sentence_transformers import SentenceTransformer, util\n",
    "\n",
    "# โหลดโมเดลสำหรับสร้าง Text Embedding\n",
    "model = SentenceTransformer('paraphrase-multilingual-MiniLM-L12-v2')\n",
    "\n",
    "s = ['ล้างจมูกทั้ง2ข้าง', \"ล้างจมูกทั้งสองข้าง\", \"เช้าและเย็น\",\"เช้าเย็น\",\"ให้ดึงใบหูข้างที่จะหยอดยาไปด้านหลังและดึงขึ้นด้านบน\",\"เอาหูด้านซ้ายขึ้นด้านบน\"]\n",
    "\n",
    "# สร้าง Embedding\n",
    "sent_embedding = model.encode(s)\n",
    "\n",
    "# คำนวณ Cosine Similarity\n",
    "cos_sim = util.pytorch_cos_sim(sent_embedding, sent_embedding)\n",
    "\n",
    "# แสดงผลลัพธ์\n",
    "print(cos_sim)"
   ]
  },
  {
   "cell_type": "code",
   "execution_count": 10,
   "metadata": {},
   "outputs": [
    {
     "name": "stdout",
     "output_type": "stream",
     "text": [
      "tensor([[1.0000, 0.9401, 0.8331, 0.0737, 0.1158],\n",
      "        [0.9401, 1.0000, 0.9091, 0.0889, 0.1377],\n",
      "        [0.8331, 0.9091, 1.0000, 0.1590, 0.2501],\n",
      "        [0.0737, 0.0889, 0.1590, 1.0000, 0.8800],\n",
      "        [0.1158, 0.1377, 0.2501, 0.8800, 1.0000]])\n"
     ]
    }
   ],
   "source": [
    "from sentence_transformers import SentenceTransformer, util\n",
    "\n",
    "# โหลดโมเดลสำหรับสร้าง Text Embedding\n",
    "model = SentenceTransformer('paraphrase-multilingual-MiniLM-L12-v2')\n",
    "\n",
    "s = ['เทน้ำเกลือ0.9เปอร์เซ็นต์ใส่ถ้วยหรือแก้วที่เตรียมไว้แล้วใช้กระบอกฉีดยาขนาด20-50มิลลิลิตรดูดน้ำเกลือจนเต็ม','เทน้ำเกลือใส่ถ้วยหรือแก้วที่เตรียมไว้แล้วใช้กระบอกฉีดยาขนาด20-50มิลลิลิตรดูดน้ำเกลือจนเต็ม', \"เทน้ำเกลือใส่ถ้วยที่เตรียมไว้แล้วใช้กระบอกฉีดยาดูดน้ำเกลือจนเต็มหยอด\",\n",
    "    \"นั่งหรือยืนก้มหน้าเล็กน้อยเอนศีรษะไปด้านใดด้านหนึ่ง\",\"ก้มหน้านิดหน่อยแล้วเอนศีรษะไปทางด้านใดด้านหนึ่ง\"]\n",
    "\n",
    "# สร้าง Embedding\n",
    "sent_embedding = model.encode(s)\n",
    "\n",
    "# คำนวณ Cosine Similarity\n",
    "cos_sim = util.pytorch_cos_sim(sent_embedding, sent_embedding)\n",
    "\n",
    "# แสดงผลลัพธ์\n",
    "print(cos_sim)"
   ]
  },
  {
   "cell_type": "code",
   "execution_count": null,
   "metadata": {},
   "outputs": [],
   "source": []
  },
  {
   "cell_type": "markdown",
   "metadata": {},
   "source": [
    "# database version2"
   ]
  },
  {
   "cell_type": "code",
   "execution_count": 21,
   "metadata": {},
   "outputs": [],
   "source": [
    "import psycopg2\n",
    "from psycopg2.extras import RealDictCursor\n",
    "\n",
    "def get_db_connection():\n",
    "    conn = psycopg2.connect(\n",
    "        dbname='Testing',\n",
    "        user='postgres',\n",
    "        password='123456789',\n",
    "        host='localhost'\n",
    "    )\n",
    "    return conn"
   ]
  },
  {
   "cell_type": "code",
   "execution_count": 22,
   "metadata": {},
   "outputs": [],
   "source": [
    "def get_data():\n",
    "    conn = get_db_connection()\n",
    "    cursor = conn.cursor(cursor_factory=RealDictCursor)\n",
    "    cursor.execute('SELECT * FROM processing order by topic')\n",
    "    processing = cursor.fetchall()\n",
    "    cursor.close()\n",
    "    conn.close()\n",
    "    return processing"
   ]
  },
  {
   "cell_type": "code",
   "execution_count": 23,
   "metadata": {},
   "outputs": [],
   "source": [
    "data = get_data()\n",
    "checklist = [item['checklist'] for item in data]\n",
    "topic = [item['topic'] for item in data]\n",
    "score = [item['score'] for item in data]\n",
    "request = [item['prerequest'] for item in data]"
   ]
  },
  {
   "cell_type": "code",
   "execution_count": 24,
   "metadata": {},
   "outputs": [],
   "source": [
    "from pythainlp.tokenize import word_tokenize\n",
    "from pythainlp.util import Trie"
   ]
  },
  {
   "cell_type": "code",
   "execution_count": 25,
   "metadata": {},
   "outputs": [],
   "source": [
    "text = [\n",
    "    \"สวัสดีค่ะหนูเป็นเภสัชกรชื่อสมหญิงใจดีคนไข้ชื่อนามสกุลอะไรคะ\",\n",
    "    \"คนไข้มาด้วยอาการปวดหูใช่ไหมคะ\",\n",
    "    \"\"\"วันนี้มารับยา3ตัวนะค่ะยานี้ชื่อไอบูโปรเพนความแรง400มิลลิกรัมจำนวน10เม็ดใช้เพื่อบรรเทาอาการปวดรับประทานครั้งละ1เม็ดวันละ3ครั้งหลังอาหารเช้ากลางวันเย็นยานี้ควรรับประทานหลังอาหารทันทีส่วนยานี้ชื่ออะมอกซีซิลินความแรง500มิลลิกรัมจำนวน30เม็ดใช้รักษาอาการติดเชื้อที่หูรับประทานครั้งละ1เม็ดวันละ3ครั้งหลังอาหารเช้ากลางวันเย็นยานี้ควรรับประทานติดต่อกันทุกวันจนหมดและยานี้ชื่อเด็กซ์ออฟจำนวน1ขวดใช้สำหรับหยอดหูเพื่อรักษาอาการติดเชื้อที่หูหยอด3หยดที่หูข้างซ้ายวันละ3ครั้งหลังอาหารเช้ากลางวันเย็นซึ่งยานี้มีวิธีการใช้ในลักษณะพิเศษเดี๋ยวฉันสอนวิธีการใช้งานให้นะคะเริ่มด้วยการล้างมือให้สะอาดก่อนใช้ยาจากนั้นใช้ไม้พันสำลีเช็ดหนองในใบหูหรือรูหูให้สะอาดก่อนและหลังหยอดยาต่อมาให้หยิบยาจากกล่องมาถือไว้ที่มือและเขย่าขวดก่อนใช้ทุกครั้งถัดไปให้คนไข้นอนตะแคงหรือนั่งเอียงศีรษะให้หูข้างที่จะหยอดยาอยู่ด้านบนถัดมาให้ดึงใบหูข้างที่จะหยอดยาไปด้านหลังและดึงขึ้นด้านบนโดยหยอดยาเข้าไปในหูตามที่แพทย์สั่งระวังอย่าเอาหลอดหยดสอดเข้าไปในรูหูให้คนไข้เอียงตะแคงอยู่ท่าเดิมประมาณ3ถึง5นาทีซึ่งอาจจะเอาสำลีใส่ในรูหูไว้อีกระยะหนึ่งเพื่อไม่ให้ยาไหลออกมาหากเก็บยาหยอดหูไว้ในตู้เย็นก่อนใช้ยาให้กำหยอดยาไว้ในอุ้งมือสักครู่เพื่อปรับอุณหภูมิให้ใกล้เคียงกับร่างกายก่อนหยอด\"\"\",\n",
    "]"
   ]
  },
  {
   "cell_type": "code",
   "execution_count": 26,
   "metadata": {},
   "outputs": [],
   "source": [
    "# Define custom words\n",
    "custom_words = [\n",
    "    \"คนไข้ชื่อนามสกุลอะไร\",\"สวัสดี\",\"ไอบูโปรเพน\",\"ความแรง400มิลลิกรัม\",\"จำนวน10เม็ด\",\"รับประทานครั้งละ1เม็ด\",\"วันละ3ครั้ง\",\"หลังอาหารเช้ากลางวันเย็น\",\n",
    "    \"ควรรับประทานหลังอาหารทันที\",\"อะมอกซีซิลิน\",\"ความแรง500มิลลิกรัม\",\"จำนวน30เม็ด\",\"ควรรับประทานติดต่อกันทุกวันจนหมด\",\"เด็กซ์ออฟ\",\"จำนวน1ขวด\",\n",
    "    \"หยอด3หยดที่หูข้างซ้าย\",\"วันละ3ครั้ง\",\"ล้างมือให้สะอาด\",\"นอนตะแคงหรือนั่งเอียงศีรษะให้หูข้างที่จะหยอดยาอยู่ด้านบน\",\"ให้ดึงใบหูข้างที่จะหยอดยาไปด้านหลังและดึงขึ้นด้านบน\",\n",
    "    \"หยอดยาเข้าไปในหูตามที่แพทย์สั่ง\",\"ระวังอย่าเอาหลอดหยดสอดเข้าไปในรูหู\",\"เอียงตะแคงอยู่ท่าเดิมประมาณ3ถึง5นาที\",\"สำลีใส่ในรูหูไว้อีกระยะหนึ่งเพื่อไม่ให้ยาไหลออกมา\",\n",
    "    \"ให้เขย่าขวดก่อนใช้ทุกครั้ง\",\"ใช้ไม้พันสำลีเช็ดหนองในใบหูหรือรูหูให้สะอาดก่อนและหลังหยอดยา\",\"หากเก็บไว้ในตู้เย็นก่อนใช้ยาให้กำหลอดยาไว้ในอุ้งมือสักครู่\",\n",
    "    \"เพื่อปรับอุณหภูมิให้ใกล้เคียงกับร่างกายก่อนหยอด\",\n",
    "    ]\n",
    "# Create a Trie for custom dictionary\n",
    "trie = Trie(custom_words)"
   ]
  },
  {
   "cell_type": "code",
   "execution_count": 27,
   "metadata": {},
   "outputs": [
    {
     "name": "stdout",
     "output_type": "stream",
     "text": [
      "['วันนี้มารับยา', '3', 'ตัวนะค่ะยานี้ชื่อ', 'ไอบูโปรเพน', 'ความแรง400มิลลิกรัม', 'จำนวน10เม็ด', 'ใช้เพื่อบรรเทาอาการปวด', 'รับประทานครั้งละ1เม็ด', 'วันละ3ครั้ง', 'หลังอาหารเช้ากลางวันเย็น', 'ยานี้', 'ควรรับประทานหลังอาหารทันที', 'ส่วนยานี้ชื่อ', 'อะมอกซีซิลิน', 'ความแรง500มิลลิกรัม', 'จำนวน30เม็ด', 'ใช้รักษาอาการติดเชื้อที่หู', 'รับประทานครั้งละ1เม็ด', 'วันละ3ครั้ง', 'หลังอาหารเช้ากลางวันเย็น', 'ยานี้', 'ควรรับประทานติดต่อกันทุกวันจนหมด', 'และยานี้ชื่อ', 'เด็กซ์ออฟ', 'จำนวน1ขวด', 'ใช้สำหรับหยอดหูเพื่อรักษาอาการติดเชื้อที่หู', 'หยอด3หยดที่หูข้างซ้าย', 'วันละ3ครั้ง', 'หลังอาหารเช้ากลางวันเย็น', 'ซึ่งยานี้มีวิธีการใช้ในลักษณะพิเศษเดี๋ยวฉันสอนวิธีการใช้งานให้นะคะเริ่มด้วยการ', 'ล้างมือให้สะอาด', 'ก่อนใช้ยาจากนั้น', 'ใช้ไม้พันสำลีเช็ดหนองในใบหูหรือรูหูให้สะอาดก่อนและหลังหยอดยา', 'ต่อมาให้หยิบยาจากกล่องมาถือไว้ที่มือและเขย่าขวดก่อนใช้ทุกครั้งถัดไปให้คนไข้', 'นอนตะแคงหรือนั่งเอียงศีรษะให้หูข้างที่จะหยอดยาอยู่ด้านบน', 'ถัดมา', 'ให้ดึงใบหูข้างที่จะหยอดยาไปด้านหลังและดึงขึ้นด้านบน', 'โดย', 'หยอดยาเข้าไปในหูตามที่แพทย์สั่ง', 'ระวังอย่าเอาหลอดหยดสอดเข้าไปในรูหู', 'ให้คนไข้', 'เอียงตะแคงอยู่ท่าเดิมประมาณ3ถึง5นาที', 'ซึ่งอาจจะเอา', 'สำลีใส่ในรูหูไว้อีกระยะหนึ่งเพื่อไม่ให้ยาไหลออกมา', 'หากเก็บยาหยอดหูไว้ในตู้เย็นก่อนใช้ยาให้กำหยอดยาไว้ในอุ้งมือสักครู่', 'เพื่อปรับอุณหภูมิให้ใกล้เคียงกับร่างกายก่อนหยอด']\n"
     ]
    }
   ],
   "source": [
    "split_sent = word_tokenize(text[2], custom_dict=trie)\n",
    "print(split_sent)"
   ]
  },
  {
   "cell_type": "markdown",
   "metadata": {},
   "source": [
    "test score"
   ]
  },
  {
   "cell_type": "code",
   "execution_count": 28,
   "metadata": {},
   "outputs": [
    {
     "name": "stdout",
     "output_type": "stream",
     "text": [
      "[{'checklist_item': 'ไอบูโปรเพน', 'matched_sentence': 'ไอบูโปรเพน', 'similarity_score': tensor(1.0000), 'topic': 2, 'score': 0.0}, {'checklist_item': 'ความแรง400มิลลิกรัม', 'matched_sentence': 'ความแรง400มิลลิกรัม', 'similarity_score': tensor(1.0000), 'topic': 3, 'score': 0.0}, {'checklist_item': 'จำนวน10เม็ด', 'matched_sentence': 'จำนวน10เม็ด', 'similarity_score': tensor(1.), 'topic': 4, 'score': 0.0}, {'checklist_item': 'ใช้เพื่อบรรเทาอาการปวด', 'matched_sentence': 'ใช้เพื่อบรรเทาอาการปวด', 'similarity_score': tensor(1.0000), 'topic': 5, 'score': 0.0}, {'checklist_item': 'รับประทานครั้งละ1เม็ด', 'matched_sentence': 'รับประทานครั้งละ1เม็ด', 'similarity_score': tensor(1.), 'topic': 6, 'score': 0.0}, {'checklist_item': 'วันละ3ครั้ง', 'matched_sentence': 'วันละ3ครั้ง', 'similarity_score': tensor(1.0000), 'topic': 7, 'score': 0.0}, {'checklist_item': 'หลังอาหารเช้ากลางวันเย็น', 'matched_sentence': 'หลังอาหารเช้ากลางวันเย็น', 'similarity_score': tensor(1.), 'topic': 8, 'score': 0.0}, {'checklist_item': 'ควรรับประทานหลังอาหารทันที', 'matched_sentence': 'ควรรับประทานหลังอาหารทันที', 'similarity_score': tensor(1.), 'topic': 9, 'score': 0.0}, {'checklist_item': 'อะมอกซีซิลิน', 'matched_sentence': 'อะมอกซีซิลิน', 'similarity_score': tensor(1.), 'topic': 10, 'score': 0.0}, {'checklist_item': 'ความแรง400มิลลิกรัม', 'matched_sentence': 'ความแรง500มิลลิกรัม', 'similarity_score': tensor(0.8853), 'topic': 3, 'score': 0.0}, {'checklist_item': 'ความแรง500มิลลิกรัม', 'matched_sentence': 'ความแรง500มิลลิกรัม', 'similarity_score': tensor(1.), 'topic': 11, 'score': 0.0}, {'checklist_item': 'จำนวน30เม็ด', 'matched_sentence': 'จำนวน30เม็ด', 'similarity_score': tensor(1.0000), 'topic': 12, 'score': 0.0}, {'checklist_item': 'ใช้รักษาอาการติดเชื้อที่หู', 'matched_sentence': 'ใช้รักษาอาการติดเชื้อที่หู', 'similarity_score': tensor(1.), 'topic': 13, 'score': 0.0}, {'checklist_item': 'หยอดยาเข้าไปในหูตามที่แพทย์สั่ง', 'matched_sentence': 'ใช้รักษาอาการติดเชื้อที่หู', 'similarity_score': tensor(0.8319), 'topic': 26, 'score': 0.5}, {'checklist_item': 'ใช้ไม้พันสำลีเช็ดหนองในใบหูหรือรูหูให้สะอาดก่อนและหลังหยอดยา', 'matched_sentence': 'ใช้รักษาอาการติดเชื้อที่หู', 'similarity_score': tensor(0.8236), 'topic': 31, 'score': 0.5}, {'checklist_item': 'รับประทานครั้งละ1เม็ด', 'matched_sentence': 'รับประทานครั้งละ1เม็ด', 'similarity_score': tensor(1.), 'topic': 6, 'score': 0.0}, {'checklist_item': 'รับประทานครั้งละ1เม็ด', 'matched_sentence': 'รับประทานครั้งละ1เม็ด', 'similarity_score': tensor(1.), 'topic': 14, 'score': 0.0}, {'checklist_item': 'วันละ3ครั้ง', 'matched_sentence': 'วันละ3ครั้ง', 'similarity_score': tensor(1.0000), 'topic': 7, 'score': 0.0}, {'checklist_item': 'วันละ3ครั้ง', 'matched_sentence': 'วันละ3ครั้ง', 'similarity_score': tensor(1.0000), 'topic': 15, 'score': 0.0}, {'checklist_item': 'หลังอาหารเช้ากลางวันเย็น', 'matched_sentence': 'หลังอาหารเช้ากลางวันเย็น', 'similarity_score': tensor(1.), 'topic': 8, 'score': 0.0}, {'checklist_item': 'หลังอาหารเช้ากลางวันเย็น', 'matched_sentence': 'หลังอาหารเช้ากลางวันเย็น', 'similarity_score': tensor(1.), 'topic': 16, 'score': 0.0}, {'checklist_item': 'ควรรับประทานติดต่อกันทุกวันจนหมด', 'matched_sentence': 'ควรรับประทานติดต่อกันทุกวันจนหมด', 'similarity_score': tensor(1.), 'topic': 17, 'score': 0.0}, {'checklist_item': 'เด็กซ์ออฟ', 'matched_sentence': 'เด็กซ์ออฟ', 'similarity_score': tensor(1.0000), 'topic': 18, 'score': 0.0}, {'checklist_item': 'ใช้รักษาอาการติดเชื้อที่หู', 'matched_sentence': 'ใช้สำหรับหยอดหูเพื่อรักษาอาการติดเชื้อที่หู', 'similarity_score': tensor(0.9556), 'topic': 13, 'score': 0.0}, {'checklist_item': 'ใช้รักษาหูชั้นกลางอักเสบ', 'matched_sentence': 'ใช้สำหรับหยอดหูเพื่อรักษาอาการติดเชื้อที่หู', 'similarity_score': tensor(0.9235), 'topic': 19, 'score': 0.25}, {'checklist_item': 'หยอดยาเข้าไปในหูตามที่แพทย์สั่ง', 'matched_sentence': 'ใช้สำหรับหยอดหูเพื่อรักษาอาการติดเชื้อที่หู', 'similarity_score': tensor(0.7692), 'topic': 26, 'score': 0.5}, {'checklist_item': 'ใช้ไม้พันสำลีเช็ดหนองในใบหูหรือรูหูให้สะอาดก่อนและหลังหยอดยา', 'matched_sentence': 'ใช้สำหรับหยอดหูเพื่อรักษาอาการติดเชื้อที่หู', 'similarity_score': tensor(0.8058), 'topic': 31, 'score': 0.5}, {'checklist_item': 'หยอดหูซ้าย3หยด', 'matched_sentence': 'หยอด3หยดที่หูข้างซ้าย', 'similarity_score': tensor(0.9796), 'topic': 20, 'score': 0.25}, {'checklist_item': 'ให้ดึงใบหูข้างที่จะหยอดยาไปด้านหลังและดึงขึ้นด้านบน', 'matched_sentence': 'หยอด3หยดที่หูข้างซ้าย', 'similarity_score': tensor(0.7866), 'topic': 25, 'score': 0.5}, {'checklist_item': 'วันละ3ครั้ง', 'matched_sentence': 'วันละ3ครั้ง', 'similarity_score': tensor(1.0000), 'topic': 7, 'score': 0.0}, {'checklist_item': 'วันละ3ครั้ง', 'matched_sentence': 'วันละ3ครั้ง', 'similarity_score': tensor(1.0000), 'topic': 15, 'score': 0.0}, {'checklist_item': 'วันละ3ครั้ง', 'matched_sentence': 'วันละ3ครั้ง', 'similarity_score': tensor(1.0000), 'topic': 21, 'score': 0.25}, {'checklist_item': 'หลังอาหารเช้ากลางวันเย็น', 'matched_sentence': 'หลังอาหารเช้ากลางวันเย็น', 'similarity_score': tensor(1.), 'topic': 8, 'score': 0.0}, {'checklist_item': 'หลังอาหารเช้ากลางวันเย็น', 'matched_sentence': 'หลังอาหารเช้ากลางวันเย็น', 'similarity_score': tensor(1.), 'topic': 16, 'score': 0.0}, {'checklist_item': 'หลังอาหารเช้ากลางวันเย็น', 'matched_sentence': 'หลังอาหารเช้ากลางวันเย็น', 'similarity_score': tensor(1.), 'topic': 22, 'score': 0.25}, {'checklist_item': 'ล้างมือให้สะอาด', 'matched_sentence': 'ล้างมือให้สะอาด', 'similarity_score': tensor(1.), 'topic': 23, 'score': 1.0}, {'checklist_item': 'ใช้รักษาอาการติดเชื้อที่หู', 'matched_sentence': 'ใช้ไม้พันสำลีเช็ดหนองในใบหูหรือรูหูให้สะอาดก่อนและหลังหยอดยา', 'similarity_score': tensor(0.8236), 'topic': 13, 'score': 0.0}, {'checklist_item': 'ใช้รักษาหูชั้นกลางอักเสบ', 'matched_sentence': 'ใช้ไม้พันสำลีเช็ดหนองในใบหูหรือรูหูให้สะอาดก่อนและหลังหยอดยา', 'similarity_score': tensor(0.8028), 'topic': 19, 'score': 0.25}, {'checklist_item': 'หยอดยาเข้าไปในหูตามที่แพทย์สั่ง', 'matched_sentence': 'ใช้ไม้พันสำลีเช็ดหนองในใบหูหรือรูหูให้สะอาดก่อนและหลังหยอดยา', 'similarity_score': tensor(0.7726), 'topic': 26, 'score': 0.5}, {'checklist_item': 'อาจเอาสำลีใส่ในรูหูไว้อีกระยะหนึ่งเพื่อไม่ให้ยาไหลออกมา', 'matched_sentence': 'ใช้ไม้พันสำลีเช็ดหนองในใบหูหรือรูหูให้สะอาดก่อนและหลังหยอดยา', 'similarity_score': tensor(0.7964), 'topic': 29, 'score': 0.5}, {'checklist_item': 'ใช้ไม้พันสำลีเช็ดหนองในใบหูหรือรูหูให้สะอาดก่อนและหลังหยอดยา', 'matched_sentence': 'ใช้ไม้พันสำลีเช็ดหนองในใบหูหรือรูหูให้สะอาดก่อนและหลังหยอดยา', 'similarity_score': tensor(1.), 'topic': 31, 'score': 0.5}, {'checklist_item': 'ยาหยอดหูหากเก็บไว้ในตู้เย็นก่อนใช้ยาให้กำหลอดยาไว้ในอุ้งมือสักครู่', 'matched_sentence': 'ต่อมาให้หยิบยาจากกล่องมาถือไว้ที่มือและเขย่าขวดก่อนใช้ทุกครั้งถัดไปให้คนไข้', 'similarity_score': tensor(0.7576), 'topic': 32, 'score': 0.5}, {'checklist_item': 'นอนตะแคงหรือนั่งเอียงศีรษะให้หูข้างที่จะหยอดยาอยู่ด้านบน', 'matched_sentence': 'นอนตะแคงหรือนั่งเอียงศีรษะให้หูข้างที่จะหยอดยาอยู่ด้านบน', 'similarity_score': tensor(1.0000), 'topic': 24, 'score': 1.0}, {'checklist_item': 'ให้ดึงใบหูข้างที่จะหยอดยาไปด้านหลังและดึงขึ้นด้านบน', 'matched_sentence': 'นอนตะแคงหรือนั่งเอียงศีรษะให้หูข้างที่จะหยอดยาอยู่ด้านบน', 'similarity_score': tensor(0.7722), 'topic': 25, 'score': 0.5}, {'checklist_item': 'หยอดหูซ้าย3หยด', 'matched_sentence': 'ให้ดึงใบหูข้างที่จะหยอดยาไปด้านหลังและดึงขึ้นด้านบน', 'similarity_score': tensor(0.7540), 'topic': 20, 'score': 0.25}, {'checklist_item': 'นอนตะแคงหรือนั่งเอียงศีรษะให้หูข้างที่จะหยอดยาอยู่ด้านบน', 'matched_sentence': 'ให้ดึงใบหูข้างที่จะหยอดยาไปด้านหลังและดึงขึ้นด้านบน', 'similarity_score': tensor(0.7722), 'topic': 24, 'score': 1.0}, {'checklist_item': 'ให้ดึงใบหูข้างที่จะหยอดยาไปด้านหลังและดึงขึ้นด้านบน', 'matched_sentence': 'ให้ดึงใบหูข้างที่จะหยอดยาไปด้านหลังและดึงขึ้นด้านบน', 'similarity_score': tensor(1.), 'topic': 25, 'score': 0.5}, {'checklist_item': 'หยอดยาเข้าไปในหูตามที่แพทย์สั่ง', 'matched_sentence': 'ให้ดึงใบหูข้างที่จะหยอดยาไปด้านหลังและดึงขึ้นด้านบน', 'similarity_score': tensor(0.8051), 'topic': 26, 'score': 0.5}, {'checklist_item': 'อาจเอาสำลีใส่ในรูหูไว้อีกระยะหนึ่งเพื่อไม่ให้ยาไหลออกมา', 'matched_sentence': 'ให้ดึงใบหูข้างที่จะหยอดยาไปด้านหลังและดึงขึ้นด้านบน', 'similarity_score': tensor(0.7516), 'topic': 29, 'score': 0.5}, {'checklist_item': 'เด็กซ์ออฟ', 'matched_sentence': 'โดย', 'similarity_score': tensor(0.8710), 'topic': 18, 'score': 0.0}, {'checklist_item': 'ใช้รักษาอาการติดเชื้อที่หู', 'matched_sentence': 'หยอดยาเข้าไปในหูตามที่แพทย์สั่ง', 'similarity_score': tensor(0.8319), 'topic': 13, 'score': 0.0}, {'checklist_item': 'ใช้รักษาหูชั้นกลางอักเสบ', 'matched_sentence': 'หยอดยาเข้าไปในหูตามที่แพทย์สั่ง', 'similarity_score': tensor(0.7891), 'topic': 19, 'score': 0.25}, {'checklist_item': 'ให้ดึงใบหูข้างที่จะหยอดยาไปด้านหลังและดึงขึ้นด้านบน', 'matched_sentence': 'หยอดยาเข้าไปในหูตามที่แพทย์สั่ง', 'similarity_score': tensor(0.8051), 'topic': 25, 'score': 0.5}, {'checklist_item': 'หยอดยาเข้าไปในหูตามที่แพทย์สั่ง', 'matched_sentence': 'หยอดยาเข้าไปในหูตามที่แพทย์สั่ง', 'similarity_score': tensor(1.0000), 'topic': 26, 'score': 0.5}, {'checklist_item': 'ใช้ไม้พันสำลีเช็ดหนองในใบหูหรือรูหูให้สะอาดก่อนและหลังหยอดยา', 'matched_sentence': 'หยอดยาเข้าไปในหูตามที่แพทย์สั่ง', 'similarity_score': tensor(0.7726), 'topic': 31, 'score': 0.5}, {'checklist_item': 'ระวังอย่าเอาหลอดหยดสอดเข้าไปในรูหู', 'matched_sentence': 'ระวังอย่าเอาหลอดหยดสอดเข้าไปในรูหู', 'similarity_score': tensor(1.), 'topic': 27, 'score': 1.0}, {'checklist_item': 'อาจเอาสำลีใส่ในรูหูไว้อีกระยะหนึ่งเพื่อไม่ให้ยาไหลออกมา', 'matched_sentence': 'ระวังอย่าเอาหลอดหยดสอดเข้าไปในรูหู', 'similarity_score': tensor(0.7628), 'topic': 29, 'score': 0.5}, {'checklist_item': 'ผู้ป่วยชื่ออะไร', 'matched_sentence': 'ให้คนไข้', 'similarity_score': tensor(0.7705), 'topic': 1, 'score': 1.0}, {'checklist_item': 'เอียงตะแคงอยู่ท่าเดิมประมาณ3ถึง5นาที', 'matched_sentence': 'เอียงตะแคงอยู่ท่าเดิมประมาณ3ถึง5นาที', 'similarity_score': tensor(1.), 'topic': 28, 'score': 0.5}, {'checklist_item': 'ให้ดึงใบหูข้างที่จะหยอดยาไปด้านหลังและดึงขึ้นด้านบน', 'matched_sentence': 'สำลีใส่ในรูหูไว้อีกระยะหนึ่งเพื่อไม่ให้ยาไหลออกมา', 'similarity_score': tensor(0.7533), 'topic': 25, 'score': 0.5}, {'checklist_item': 'ระวังอย่าเอาหลอดหยดสอดเข้าไปในรูหู', 'matched_sentence': 'สำลีใส่ในรูหูไว้อีกระยะหนึ่งเพื่อไม่ให้ยาไหลออกมา', 'similarity_score': tensor(0.7930), 'topic': 27, 'score': 1.0}, {'checklist_item': 'อาจเอาสำลีใส่ในรูหูไว้อีกระยะหนึ่งเพื่อไม่ให้ยาไหลออกมา', 'matched_sentence': 'สำลีใส่ในรูหูไว้อีกระยะหนึ่งเพื่อไม่ให้ยาไหลออกมา', 'similarity_score': tensor(0.9707), 'topic': 29, 'score': 0.5}, {'checklist_item': 'ใช้ไม้พันสำลีเช็ดหนองในใบหูหรือรูหูให้สะอาดก่อนและหลังหยอดยา', 'matched_sentence': 'สำลีใส่ในรูหูไว้อีกระยะหนึ่งเพื่อไม่ให้ยาไหลออกมา', 'similarity_score': tensor(0.8214), 'topic': 31, 'score': 0.5}, {'checklist_item': 'อาจเอาสำลีใส่ในรูหูไว้อีกระยะหนึ่งเพื่อไม่ให้ยาไหลออกมา', 'matched_sentence': 'หากเก็บยาหยอดหูไว้ในตู้เย็นก่อนใช้ยาให้กำหยอดยาไว้ในอุ้งมือสักครู่', 'similarity_score': tensor(0.8182), 'topic': 29, 'score': 0.5}, {'checklist_item': 'ยาหยอดหูหากเก็บไว้ในตู้เย็นก่อนใช้ยาให้กำหลอดยาไว้ในอุ้งมือสักครู่', 'matched_sentence': 'หากเก็บยาหยอดหูไว้ในตู้เย็นก่อนใช้ยาให้กำหยอดยาไว้ในอุ้งมือสักครู่', 'similarity_score': tensor(0.9278), 'topic': 32, 'score': 0.5}, {'checklist_item': 'เพื่อปรับอุณหภูมิให้ใกล้เคียงกับร่างกายก่อนหยอด', 'matched_sentence': 'เพื่อปรับอุณหภูมิให้ใกล้เคียงกับร่างกายก่อนหยอด', 'similarity_score': tensor(1.), 'topic': 33, 'score': 0.5}]\n",
      "Checklist Status:\n",
      "ผมเป็นเภสัชกร : False\n",
      "ผู้ป่วยชื่ออะไร : True\n",
      "ผู้ป่วยชื่อชาตินามสกุลอะไร : False\n",
      "ผู้ป่วยชื่อชาติตระการตาใช่ไหม : False\n",
      "ผู้ป่วยชื่อนามสกุลอะไร : False\n",
      "ไอบูโปรเพน : True\n",
      "ความแรง400มิลลิกรัม : True\n",
      "จำนวน10เม็ด : True\n",
      "ใช้เพื่อบรรเทาอาการปวด : True\n",
      "รับประทานครั้งละ1เม็ด : True\n",
      "วันละ3ครั้ง : True\n",
      "หลังอาหารเช้ากลางวันเย็น : True\n",
      "ควรรับประทานหลังอาหารทันที : True\n",
      "อะมอกซีซิลิน : True\n",
      "ความแรง500มิลลิกรัม : True\n",
      "จำนวน30เม็ด : True\n",
      "ใช้รักษาอาการติดเชื้อที่หู : True\n",
      "รับประทานครั้งละ1เม็ด : True\n",
      "วันละ3ครั้ง : True\n",
      "หลังอาหารเช้ากลางวันเย็น : True\n",
      "ควรรับประทานติดต่อกันทุกวันจนหมด : True\n",
      "เด็กซ์ออฟ : True\n",
      "ใช้รักษาหูชั้นกลางอักเสบ : True\n",
      "หยอดหูซ้าย3หยด : True\n",
      "วันละ3ครั้ง : True\n",
      "หลังอาหารเช้ากลางวันเย็น : True\n",
      "ล้างมือให้สะอาด : True\n",
      "นอนตะแคงหรือนั่งเอียงศีรษะให้หูข้างที่จะหยอดยาอยู่ด้านบน : True\n",
      "ให้ดึงใบหูข้างที่จะหยอดยาไปด้านหลังและดึงขึ้นด้านบน : True\n",
      "หยอดยาเข้าไปในหูตามที่แพทย์สั่ง : True\n",
      "ระวังอย่าเอาหลอดหยดสอดเข้าไปในรูหู : True\n",
      "เอียงตะแคงอยู่ท่าเดิมประมาณ3ถึง5นาที : True\n",
      "อาจเอาสำลีใส่ในรูหูไว้อีกระยะหนึ่งเพื่อไม่ให้ยาไหลออกมา : True\n",
      "ให้เขย่าขวดก่อนใช้ทุกครั้ง : False\n",
      "ใช้ไม้พันสำลีเช็ดหนองในใบหูหรือรูหูให้สะอาดก่อนและหลังหยอดยา : True\n",
      "ยาหยอดหูหากเก็บไว้ในตู้เย็นก่อนใช้ยาให้กำหลอดยาไว้ในอุ้งมือสักครู่ : True\n",
      "เพื่อปรับอุณหภูมิให้ใกล้เคียงกับร่างกายก่อนหยอด : True\n",
      "Total Score: 8.5\n"
     ]
    }
   ],
   "source": [
    "from sentence_transformers import SentenceTransformer, util\n",
    "import pandas as pd\n",
    "\n",
    "model = SentenceTransformer('paraphrase-multilingual-MiniLM-L12-v2')\n",
    "threshold = 0.75\n",
    "recording = []\n",
    "count = 0\n",
    "matched_topics = {-1} # Track matched topics to avoid duplicate scoring\n",
    "\n",
    "# Track whether each checklist item is matched\n",
    "checklist_status = [False] * len(checklist)\n",
    "\n",
    "# Encode the checklist sentences\n",
    "checklit_embeddings = model.encode(checklist)\n",
    "\n",
    "# Iterate through split_sent and check for similarity\n",
    "for sent in split_sent:\n",
    "    sent_embedding = model.encode(sent)\n",
    "    similarities = util.cos_sim(sent_embedding, checklit_embeddings)\n",
    "\n",
    "    # best_match_index = similarities[0].argmax().item()  # Get index of highest similarity\n",
    "    # best_score = similarities[0][best_match_index].item()\n",
    "\n",
    "    for i, check in enumerate(checklist):\n",
    "        if similarities[0][i] > threshold:\n",
    "            best_match_index = i\n",
    "            matched_checklist_item = checklist[best_match_index]\n",
    "            matched_topic = topic[best_match_index]\n",
    "            matched_score = score[best_match_index]\n",
    "            required_topic = request[best_match_index]\n",
    "\n",
    "            # Ensure dependencies are met\n",
    "            if required_topic != -1 and required_topic not in matched_topics:\n",
    "                continue  # Skip if required topic was not mentioned first\n",
    "\n",
    "            checklist_status[best_match_index] = True  # Mark as matched\n",
    "\n",
    "            # Add score only if the topic has not been counted before\n",
    "            if matched_topic not in matched_topics:\n",
    "                count += matched_score\n",
    "                matched_topics.add(matched_topic)\n",
    "\n",
    "            recording.append({\n",
    "                \"checklist_item\": matched_checklist_item,\n",
    "                \"matched_sentence\": sent,\n",
    "                \"similarity_score\": similarities[0][i],\n",
    "                \"topic\": matched_topic,\n",
    "                \"score\": matched_score\n",
    "            })\n",
    "\n",
    "# Save results to an Excel file\n",
    "df = pd.DataFrame(recording)\n",
    "df.to_excel(\"recording_results.xlsx\", index=False)\n",
    "\n",
    "# Print the recorded matches\n",
    "print(recording)\n",
    "print(\"Checklist Status:\")\n",
    "for i,check in enumerate(checklist):\n",
    "    print(check,\":\",checklist_status[i])\n",
    "print(\"Total Score:\", count)"
   ]
  },
  {
   "cell_type": "markdown",
   "metadata": {},
   "source": [
    "test model"
   ]
  },
  {
   "cell_type": "code",
   "execution_count": 9,
   "metadata": {},
   "outputs": [
    {
     "name": "stdout",
     "output_type": "stream",
     "text": [
      "[{'checklist_item': 'ผมเป็นเภสัชกร', 'matched_sentence': 'วันนี้มารับยา', 'similarity_score': tensor(0.5094), 'topic': 0, 'score': 1.0}, {'checklist_item': 'ผู้ป่วยชื่ออะไร', 'matched_sentence': 'วันนี้มารับยา', 'similarity_score': tensor(0.3116), 'topic': 1, 'score': 1.0}, {'checklist_item': 'ผู้ป่วยชื่อชาตินามสกุลอะไร', 'matched_sentence': 'วันนี้มารับยา', 'similarity_score': tensor(0.2984), 'topic': 1, 'score': 0.5}, {'checklist_item': 'ผู้ป่วยชื่อชาติตระการตาใช่ไหม', 'matched_sentence': 'วันนี้มารับยา', 'similarity_score': tensor(0.4396), 'topic': 1, 'score': 0.25}, {'checklist_item': 'ผู้ป่วยชื่อนามสกุลอะไร', 'matched_sentence': 'วันนี้มารับยา', 'similarity_score': tensor(0.2865), 'topic': 1, 'score': 1.0}, {'checklist_item': 'ไอบูโปรเพน', 'matched_sentence': 'วันนี้มารับยา', 'similarity_score': tensor(0.3425), 'topic': 2, 'score': 0.0}, {'checklist_item': 'ความแรง400มิลลิกรัม', 'matched_sentence': 'วันนี้มารับยา', 'similarity_score': tensor(0.0390), 'topic': 3, 'score': 0.0}, {'checklist_item': 'จำนวน10เม็ด', 'matched_sentence': 'วันนี้มารับยา', 'similarity_score': tensor(0.3053), 'topic': 4, 'score': 0.0}, {'checklist_item': 'ใช้เพื่อบรรเทาอาการปวด', 'matched_sentence': 'วันนี้มารับยา', 'similarity_score': tensor(0.4072), 'topic': 5, 'score': 0.0}, {'checklist_item': 'รับประทานครั้งละ1เม็ด', 'matched_sentence': 'วันนี้มารับยา', 'similarity_score': tensor(0.3679), 'topic': 6, 'score': 0.0}, {'checklist_item': 'วันละ3ครั้ง', 'matched_sentence': 'วันนี้มารับยา', 'similarity_score': tensor(0.3771), 'topic': 7, 'score': 0.0}, {'checklist_item': 'หลังอาหารเช้ากลางวันเย็น', 'matched_sentence': 'วันนี้มารับยา', 'similarity_score': tensor(0.4270), 'topic': 8, 'score': 0.0}, {'checklist_item': 'ควรรับประทานหลังอาหารทันที', 'matched_sentence': 'วันนี้มารับยา', 'similarity_score': tensor(0.4808), 'topic': 9, 'score': 0.0}, {'checklist_item': 'อะมอกซีซิลิน', 'matched_sentence': 'วันนี้มารับยา', 'similarity_score': tensor(0.4560), 'topic': 10, 'score': 0.0}, {'checklist_item': 'ความแรง500มิลลิกรัม', 'matched_sentence': 'วันนี้มารับยา', 'similarity_score': tensor(0.0894), 'topic': 11, 'score': 0.0}, {'checklist_item': 'จำนวน30เม็ด', 'matched_sentence': 'วันนี้มารับยา', 'similarity_score': tensor(0.3061), 'topic': 12, 'score': 0.0}, {'checklist_item': 'ใช้รักษาอาการติดเชื้อที่หู', 'matched_sentence': 'วันนี้มารับยา', 'similarity_score': tensor(0.2605), 'topic': 13, 'score': 0.0}, {'checklist_item': 'รับประทานครั้งละ1เม็ด', 'matched_sentence': 'วันนี้มารับยา', 'similarity_score': tensor(0.3679), 'topic': 14, 'score': 0.0}, {'checklist_item': 'วันละ3ครั้ง', 'matched_sentence': 'วันนี้มารับยา', 'similarity_score': tensor(0.3771), 'topic': 15, 'score': 0.0}, {'checklist_item': 'หลังอาหารเช้ากลางวันเย็น', 'matched_sentence': 'วันนี้มารับยา', 'similarity_score': tensor(0.4270), 'topic': 16, 'score': 0.0}, {'checklist_item': 'ควรรับประทานติดต่อกันทุกวันจนหมด', 'matched_sentence': 'วันนี้มารับยา', 'similarity_score': tensor(0.3622), 'topic': 17, 'score': 0.0}, {'checklist_item': 'เด็กซ์ออฟ', 'matched_sentence': 'วันนี้มารับยา', 'similarity_score': tensor(0.5675), 'topic': 18, 'score': 0.0}, {'checklist_item': 'ใช้รักษาหูชั้นกลางอักเสบ', 'matched_sentence': 'วันนี้มารับยา', 'similarity_score': tensor(0.2302), 'topic': 19, 'score': 0.25}, {'checklist_item': 'หยอดหูซ้าย3หยด', 'matched_sentence': 'วันนี้มารับยา', 'similarity_score': tensor(0.3284), 'topic': 20, 'score': 0.25}, {'checklist_item': 'วันละ3ครั้ง', 'matched_sentence': 'วันนี้มารับยา', 'similarity_score': tensor(0.3771), 'topic': 21, 'score': 0.25}, {'checklist_item': 'หลังอาหารเช้ากลางวันเย็น', 'matched_sentence': 'วันนี้มารับยา', 'similarity_score': tensor(0.4270), 'topic': 22, 'score': 0.25}, {'checklist_item': 'ล้างมือให้สะอาด', 'matched_sentence': 'วันนี้มารับยา', 'similarity_score': tensor(0.3763), 'topic': 23, 'score': 1.0}, {'checklist_item': 'นอนตะแคงหรือนั่งเอียงศีรษะให้หูข้างที่จะหยอดยาอยู่ด้านบน', 'matched_sentence': 'วันนี้มารับยา', 'similarity_score': tensor(0.5170), 'topic': 24, 'score': 1.0}, {'checklist_item': 'ให้ดึงใบหูข้างที่จะหยอดยาไปด้านหลังและดึงขึ้นด้านบน', 'matched_sentence': 'วันนี้มารับยา', 'similarity_score': tensor(0.4781), 'topic': 25, 'score': 0.5}, {'checklist_item': 'หยอดยาเข้าไปในหูตามที่แพทย์สั่ง', 'matched_sentence': 'วันนี้มารับยา', 'similarity_score': tensor(0.4557), 'topic': 26, 'score': 0.5}, {'checklist_item': 'ระวังอย่าเอาหลอดหยดสอดเข้าไปในรูหู', 'matched_sentence': 'วันนี้มารับยา', 'similarity_score': tensor(0.3055), 'topic': 27, 'score': 1.0}, {'checklist_item': 'เอียงตะแคงอยู่ท่าเดิมประมาณ3ถึง5นาที', 'matched_sentence': 'วันนี้มารับยา', 'similarity_score': tensor(0.2808), 'topic': 28, 'score': 0.5}, {'checklist_item': 'อาจเอาสำลีใส่ในรูหูไว้อีกระยะหนึ่งเพื่อไม่ให้ยาไหลออกมา', 'matched_sentence': 'วันนี้มารับยา', 'similarity_score': tensor(0.4427), 'topic': 29, 'score': 0.5}, {'checklist_item': 'ให้เขย่าขวดก่อนใช้ทุกครั้ง', 'matched_sentence': 'วันนี้มารับยา', 'similarity_score': tensor(0.5434), 'topic': 30, 'score': 0.5}, {'checklist_item': 'ใช้ไม้พันสำลีเช็ดหนองในใบหูหรือรูหูให้สะอาดก่อนและหลังหยอดยา', 'matched_sentence': 'วันนี้มารับยา', 'similarity_score': tensor(0.3005), 'topic': 31, 'score': 0.5}, {'checklist_item': 'ยาหยอดหูหากเก็บไว้ในตู้เย็นก่อนใช้ยาให้กำหลอดยาไว้ในอุ้งมือสักครู่', 'matched_sentence': 'วันนี้มารับยา', 'similarity_score': tensor(0.5592), 'topic': 32, 'score': 0.5}, {'checklist_item': 'เพื่อปรับอุณหภูมิให้ใกล้เคียงกับร่างกายก่อนหยอด', 'matched_sentence': 'วันนี้มารับยา', 'similarity_score': tensor(0.2248), 'topic': 33, 'score': 0.5}, {'checklist_item': 'ผมเป็นเภสัชกร', 'matched_sentence': '3', 'similarity_score': tensor(0.1682), 'topic': 0, 'score': 1.0}, {'checklist_item': 'ผู้ป่วยชื่ออะไร', 'matched_sentence': '3', 'similarity_score': tensor(0.1481), 'topic': 1, 'score': 1.0}, {'checklist_item': 'ผู้ป่วยชื่อชาตินามสกุลอะไร', 'matched_sentence': '3', 'similarity_score': tensor(0.1881), 'topic': 1, 'score': 0.5}, {'checklist_item': 'ผู้ป่วยชื่อชาติตระการตาใช่ไหม', 'matched_sentence': '3', 'similarity_score': tensor(0.2157), 'topic': 1, 'score': 0.25}, {'checklist_item': 'ผู้ป่วยชื่อนามสกุลอะไร', 'matched_sentence': '3', 'similarity_score': tensor(0.1606), 'topic': 1, 'score': 1.0}, {'checklist_item': 'ไอบูโปรเพน', 'matched_sentence': '3', 'similarity_score': tensor(0.4433), 'topic': 2, 'score': 0.0}, {'checklist_item': 'ความแรง400มิลลิกรัม', 'matched_sentence': '3', 'similarity_score': tensor(0.1348), 'topic': 3, 'score': 0.0}, {'checklist_item': 'จำนวน10เม็ด', 'matched_sentence': '3', 'similarity_score': tensor(0.4576), 'topic': 4, 'score': 0.0}, {'checklist_item': 'ใช้เพื่อบรรเทาอาการปวด', 'matched_sentence': '3', 'similarity_score': tensor(0.2427), 'topic': 5, 'score': 0.0}, {'checklist_item': 'รับประทานครั้งละ1เม็ด', 'matched_sentence': '3', 'similarity_score': tensor(0.2540), 'topic': 6, 'score': 0.0}, {'checklist_item': 'วันละ3ครั้ง', 'matched_sentence': '3', 'similarity_score': tensor(0.4791), 'topic': 7, 'score': 0.0}, {'checklist_item': 'หลังอาหารเช้ากลางวันเย็น', 'matched_sentence': '3', 'similarity_score': tensor(0.2161), 'topic': 8, 'score': 0.0}, {'checklist_item': 'ควรรับประทานหลังอาหารทันที', 'matched_sentence': '3', 'similarity_score': tensor(0.1833), 'topic': 9, 'score': 0.0}, {'checklist_item': 'อะมอกซีซิลิน', 'matched_sentence': '3', 'similarity_score': tensor(0.3934), 'topic': 10, 'score': 0.0}, {'checklist_item': 'ความแรง500มิลลิกรัม', 'matched_sentence': '3', 'similarity_score': tensor(0.1499), 'topic': 11, 'score': 0.0}, {'checklist_item': 'จำนวน30เม็ด', 'matched_sentence': '3', 'similarity_score': tensor(0.4555), 'topic': 12, 'score': 0.0}, {'checklist_item': 'ใช้รักษาอาการติดเชื้อที่หู', 'matched_sentence': '3', 'similarity_score': tensor(0.1800), 'topic': 13, 'score': 0.0}, {'checklist_item': 'รับประทานครั้งละ1เม็ด', 'matched_sentence': '3', 'similarity_score': tensor(0.2540), 'topic': 14, 'score': 0.0}, {'checklist_item': 'วันละ3ครั้ง', 'matched_sentence': '3', 'similarity_score': tensor(0.4791), 'topic': 15, 'score': 0.0}, {'checklist_item': 'หลังอาหารเช้ากลางวันเย็น', 'matched_sentence': '3', 'similarity_score': tensor(0.2161), 'topic': 16, 'score': 0.0}, {'checklist_item': 'ควรรับประทานติดต่อกันทุกวันจนหมด', 'matched_sentence': '3', 'similarity_score': tensor(0.0954), 'topic': 17, 'score': 0.0}, {'checklist_item': 'เด็กซ์ออฟ', 'matched_sentence': '3', 'similarity_score': tensor(0.7047), 'topic': 18, 'score': 0.0}, {'checklist_item': 'ใช้รักษาหูชั้นกลางอักเสบ', 'matched_sentence': '3', 'similarity_score': tensor(0.1623), 'topic': 19, 'score': 0.25}, {'checklist_item': 'หยอดหูซ้าย3หยด', 'matched_sentence': '3', 'similarity_score': tensor(0.4472), 'topic': 20, 'score': 0.25}, {'checklist_item': 'วันละ3ครั้ง', 'matched_sentence': '3', 'similarity_score': tensor(0.4791), 'topic': 21, 'score': 0.25}, {'checklist_item': 'หลังอาหารเช้ากลางวันเย็น', 'matched_sentence': '3', 'similarity_score': tensor(0.2161), 'topic': 22, 'score': 0.25}, {'checklist_item': 'ล้างมือให้สะอาด', 'matched_sentence': '3', 'similarity_score': tensor(0.2288), 'topic': 23, 'score': 1.0}, {'checklist_item': 'นอนตะแคงหรือนั่งเอียงศีรษะให้หูข้างที่จะหยอดยาอยู่ด้านบน', 'matched_sentence': '3', 'similarity_score': tensor(0.2226), 'topic': 24, 'score': 1.0}, {'checklist_item': 'ให้ดึงใบหูข้างที่จะหยอดยาไปด้านหลังและดึงขึ้นด้านบน', 'matched_sentence': '3', 'similarity_score': tensor(0.2713), 'topic': 25, 'score': 0.5}, {'checklist_item': 'หยอดยาเข้าไปในหูตามที่แพทย์สั่ง', 'matched_sentence': '3', 'similarity_score': tensor(0.1546), 'topic': 26, 'score': 0.5}, {'checklist_item': 'ระวังอย่าเอาหลอดหยดสอดเข้าไปในรูหู', 'matched_sentence': '3', 'similarity_score': tensor(0.2226), 'topic': 27, 'score': 1.0}, {'checklist_item': 'เอียงตะแคงอยู่ท่าเดิมประมาณ3ถึง5นาที', 'matched_sentence': '3', 'similarity_score': tensor(0.3235), 'topic': 28, 'score': 0.5}, {'checklist_item': 'อาจเอาสำลีใส่ในรูหูไว้อีกระยะหนึ่งเพื่อไม่ให้ยาไหลออกมา', 'matched_sentence': '3', 'similarity_score': tensor(0.1408), 'topic': 29, 'score': 0.5}, {'checklist_item': 'ให้เขย่าขวดก่อนใช้ทุกครั้ง', 'matched_sentence': '3', 'similarity_score': tensor(0.2962), 'topic': 30, 'score': 0.5}, {'checklist_item': 'ใช้ไม้พันสำลีเช็ดหนองในใบหูหรือรูหูให้สะอาดก่อนและหลังหยอดยา', 'matched_sentence': '3', 'similarity_score': tensor(0.1223), 'topic': 31, 'score': 0.5}, {'checklist_item': 'ยาหยอดหูหากเก็บไว้ในตู้เย็นก่อนใช้ยาให้กำหลอดยาไว้ในอุ้งมือสักครู่', 'matched_sentence': '3', 'similarity_score': tensor(0.1871), 'topic': 32, 'score': 0.5}, {'checklist_item': 'เพื่อปรับอุณหภูมิให้ใกล้เคียงกับร่างกายก่อนหยอด', 'matched_sentence': '3', 'similarity_score': tensor(0.2079), 'topic': 33, 'score': 0.5}, {'checklist_item': 'ผมเป็นเภสัชกร', 'matched_sentence': 'ตัวนะค่ะยานี้ชื่อ', 'similarity_score': tensor(0.5311), 'topic': 0, 'score': 1.0}, {'checklist_item': 'ผู้ป่วยชื่ออะไร', 'matched_sentence': 'ตัวนะค่ะยานี้ชื่อ', 'similarity_score': tensor(0.5904), 'topic': 1, 'score': 1.0}, {'checklist_item': 'ผู้ป่วยชื่อชาตินามสกุลอะไร', 'matched_sentence': 'ตัวนะค่ะยานี้ชื่อ', 'similarity_score': tensor(0.5837), 'topic': 1, 'score': 0.5}, {'checklist_item': 'ผู้ป่วยชื่อชาติตระการตาใช่ไหม', 'matched_sentence': 'ตัวนะค่ะยานี้ชื่อ', 'similarity_score': tensor(0.5694), 'topic': 1, 'score': 0.25}, {'checklist_item': 'ผู้ป่วยชื่อนามสกุลอะไร', 'matched_sentence': 'ตัวนะค่ะยานี้ชื่อ', 'similarity_score': tensor(0.5946), 'topic': 1, 'score': 1.0}, {'checklist_item': 'ไอบูโปรเพน', 'matched_sentence': 'ตัวนะค่ะยานี้ชื่อ', 'similarity_score': tensor(0.4386), 'topic': 2, 'score': 0.0}, {'checklist_item': 'ความแรง400มิลลิกรัม', 'matched_sentence': 'ตัวนะค่ะยานี้ชื่อ', 'similarity_score': tensor(0.0467), 'topic': 3, 'score': 0.0}, {'checklist_item': 'จำนวน10เม็ด', 'matched_sentence': 'ตัวนะค่ะยานี้ชื่อ', 'similarity_score': tensor(0.3100), 'topic': 4, 'score': 0.0}, {'checklist_item': 'ใช้เพื่อบรรเทาอาการปวด', 'matched_sentence': 'ตัวนะค่ะยานี้ชื่อ', 'similarity_score': tensor(0.4470), 'topic': 5, 'score': 0.0}, {'checklist_item': 'รับประทานครั้งละ1เม็ด', 'matched_sentence': 'ตัวนะค่ะยานี้ชื่อ', 'similarity_score': tensor(0.2622), 'topic': 6, 'score': 0.0}, {'checklist_item': 'วันละ3ครั้ง', 'matched_sentence': 'ตัวนะค่ะยานี้ชื่อ', 'similarity_score': tensor(0.2286), 'topic': 7, 'score': 0.0}, {'checklist_item': 'หลังอาหารเช้ากลางวันเย็น', 'matched_sentence': 'ตัวนะค่ะยานี้ชื่อ', 'similarity_score': tensor(0.1976), 'topic': 8, 'score': 0.0}, {'checklist_item': 'ควรรับประทานหลังอาหารทันที', 'matched_sentence': 'ตัวนะค่ะยานี้ชื่อ', 'similarity_score': tensor(0.2164), 'topic': 9, 'score': 0.0}, {'checklist_item': 'อะมอกซีซิลิน', 'matched_sentence': 'ตัวนะค่ะยานี้ชื่อ', 'similarity_score': tensor(0.5780), 'topic': 10, 'score': 0.0}, {'checklist_item': 'ความแรง500มิลลิกรัม', 'matched_sentence': 'ตัวนะค่ะยานี้ชื่อ', 'similarity_score': tensor(0.0861), 'topic': 11, 'score': 0.0}, {'checklist_item': 'จำนวน30เม็ด', 'matched_sentence': 'ตัวนะค่ะยานี้ชื่อ', 'similarity_score': tensor(0.3180), 'topic': 12, 'score': 0.0}, {'checklist_item': 'ใช้รักษาอาการติดเชื้อที่หู', 'matched_sentence': 'ตัวนะค่ะยานี้ชื่อ', 'similarity_score': tensor(0.3288), 'topic': 13, 'score': 0.0}, {'checklist_item': 'รับประทานครั้งละ1เม็ด', 'matched_sentence': 'ตัวนะค่ะยานี้ชื่อ', 'similarity_score': tensor(0.2622), 'topic': 14, 'score': 0.0}, {'checklist_item': 'วันละ3ครั้ง', 'matched_sentence': 'ตัวนะค่ะยานี้ชื่อ', 'similarity_score': tensor(0.2286), 'topic': 15, 'score': 0.0}, {'checklist_item': 'หลังอาหารเช้ากลางวันเย็น', 'matched_sentence': 'ตัวนะค่ะยานี้ชื่อ', 'similarity_score': tensor(0.1976), 'topic': 16, 'score': 0.0}, {'checklist_item': 'ควรรับประทานติดต่อกันทุกวันจนหมด', 'matched_sentence': 'ตัวนะค่ะยานี้ชื่อ', 'similarity_score': tensor(0.0733), 'topic': 17, 'score': 0.0}, {'checklist_item': 'เด็กซ์ออฟ', 'matched_sentence': 'ตัวนะค่ะยานี้ชื่อ', 'similarity_score': tensor(0.6098), 'topic': 18, 'score': 0.0}, {'checklist_item': 'ใช้รักษาหูชั้นกลางอักเสบ', 'matched_sentence': 'ตัวนะค่ะยานี้ชื่อ', 'similarity_score': tensor(0.2934), 'topic': 19, 'score': 0.25}, {'checklist_item': 'หยอดหูซ้าย3หยด', 'matched_sentence': 'ตัวนะค่ะยานี้ชื่อ', 'similarity_score': tensor(0.3628), 'topic': 20, 'score': 0.25}, {'checklist_item': 'วันละ3ครั้ง', 'matched_sentence': 'ตัวนะค่ะยานี้ชื่อ', 'similarity_score': tensor(0.2286), 'topic': 21, 'score': 0.25}, {'checklist_item': 'หลังอาหารเช้ากลางวันเย็น', 'matched_sentence': 'ตัวนะค่ะยานี้ชื่อ', 'similarity_score': tensor(0.1976), 'topic': 22, 'score': 0.25}, {'checklist_item': 'ล้างมือให้สะอาด', 'matched_sentence': 'ตัวนะค่ะยานี้ชื่อ', 'similarity_score': tensor(0.3201), 'topic': 23, 'score': 1.0}, {'checklist_item': 'นอนตะแคงหรือนั่งเอียงศีรษะให้หูข้างที่จะหยอดยาอยู่ด้านบน', 'matched_sentence': 'ตัวนะค่ะยานี้ชื่อ', 'similarity_score': tensor(0.4141), 'topic': 24, 'score': 1.0}, {'checklist_item': 'ให้ดึงใบหูข้างที่จะหยอดยาไปด้านหลังและดึงขึ้นด้านบน', 'matched_sentence': 'ตัวนะค่ะยานี้ชื่อ', 'similarity_score': tensor(0.4352), 'topic': 25, 'score': 0.5}, {'checklist_item': 'หยอดยาเข้าไปในหูตามที่แพทย์สั่ง', 'matched_sentence': 'ตัวนะค่ะยานี้ชื่อ', 'similarity_score': tensor(0.4636), 'topic': 26, 'score': 0.5}, {'checklist_item': 'ระวังอย่าเอาหลอดหยดสอดเข้าไปในรูหู', 'matched_sentence': 'ตัวนะค่ะยานี้ชื่อ', 'similarity_score': tensor(0.3182), 'topic': 27, 'score': 1.0}, {'checklist_item': 'เอียงตะแคงอยู่ท่าเดิมประมาณ3ถึง5นาที', 'matched_sentence': 'ตัวนะค่ะยานี้ชื่อ', 'similarity_score': tensor(0.1818), 'topic': 28, 'score': 0.5}, {'checklist_item': 'อาจเอาสำลีใส่ในรูหูไว้อีกระยะหนึ่งเพื่อไม่ให้ยาไหลออกมา', 'matched_sentence': 'ตัวนะค่ะยานี้ชื่อ', 'similarity_score': tensor(0.4075), 'topic': 29, 'score': 0.5}, {'checklist_item': 'ให้เขย่าขวดก่อนใช้ทุกครั้ง', 'matched_sentence': 'ตัวนะค่ะยานี้ชื่อ', 'similarity_score': tensor(0.4508), 'topic': 30, 'score': 0.5}, {'checklist_item': 'ใช้ไม้พันสำลีเช็ดหนองในใบหูหรือรูหูให้สะอาดก่อนและหลังหยอดยา', 'matched_sentence': 'ตัวนะค่ะยานี้ชื่อ', 'similarity_score': tensor(0.3057), 'topic': 31, 'score': 0.5}, {'checklist_item': 'ยาหยอดหูหากเก็บไว้ในตู้เย็นก่อนใช้ยาให้กำหลอดยาไว้ในอุ้งมือสักครู่', 'matched_sentence': 'ตัวนะค่ะยานี้ชื่อ', 'similarity_score': tensor(0.5752), 'topic': 32, 'score': 0.5}, {'checklist_item': 'เพื่อปรับอุณหภูมิให้ใกล้เคียงกับร่างกายก่อนหยอด', 'matched_sentence': 'ตัวนะค่ะยานี้ชื่อ', 'similarity_score': tensor(0.1697), 'topic': 33, 'score': 0.5}, {'checklist_item': 'ผมเป็นเภสัชกร', 'matched_sentence': 'ไอบูโปรเพน', 'similarity_score': tensor(0.2530), 'topic': 0, 'score': 1.0}, {'checklist_item': 'ผู้ป่วยชื่ออะไร', 'matched_sentence': 'ไอบูโปรเพน', 'similarity_score': tensor(0.2202), 'topic': 1, 'score': 1.0}, {'checklist_item': 'ผู้ป่วยชื่อชาตินามสกุลอะไร', 'matched_sentence': 'ไอบูโปรเพน', 'similarity_score': tensor(0.2357), 'topic': 1, 'score': 0.5}, {'checklist_item': 'ผู้ป่วยชื่อชาติตระการตาใช่ไหม', 'matched_sentence': 'ไอบูโปรเพน', 'similarity_score': tensor(0.2959), 'topic': 1, 'score': 0.25}, {'checklist_item': 'ผู้ป่วยชื่อนามสกุลอะไร', 'matched_sentence': 'ไอบูโปรเพน', 'similarity_score': tensor(0.2151), 'topic': 1, 'score': 1.0}, {'checklist_item': 'ไอบูโปรเพน', 'matched_sentence': 'ไอบูโปรเพน', 'similarity_score': tensor(1.0000), 'topic': 2, 'score': 0.0}, {'checklist_item': 'ความแรง400มิลลิกรัม', 'matched_sentence': 'ไอบูโปรเพน', 'similarity_score': tensor(0.1120), 'topic': 3, 'score': 0.0}, {'checklist_item': 'จำนวน10เม็ด', 'matched_sentence': 'ไอบูโปรเพน', 'similarity_score': tensor(0.3165), 'topic': 4, 'score': 0.0}, {'checklist_item': 'ใช้เพื่อบรรเทาอาการปวด', 'matched_sentence': 'ไอบูโปรเพน', 'similarity_score': tensor(0.3995), 'topic': 5, 'score': 0.0}, {'checklist_item': 'รับประทานครั้งละ1เม็ด', 'matched_sentence': 'ไอบูโปรเพน', 'similarity_score': tensor(0.2339), 'topic': 6, 'score': 0.0}, {'checklist_item': 'วันละ3ครั้ง', 'matched_sentence': 'ไอบูโปรเพน', 'similarity_score': tensor(0.1907), 'topic': 7, 'score': 0.0}, {'checklist_item': 'หลังอาหารเช้ากลางวันเย็น', 'matched_sentence': 'ไอบูโปรเพน', 'similarity_score': tensor(0.0959), 'topic': 8, 'score': 0.0}, {'checklist_item': 'ควรรับประทานหลังอาหารทันที', 'matched_sentence': 'ไอบูโปรเพน', 'similarity_score': tensor(0.1220), 'topic': 9, 'score': 0.0}, {'checklist_item': 'อะมอกซีซิลิน', 'matched_sentence': 'ไอบูโปรเพน', 'similarity_score': tensor(0.5152), 'topic': 10, 'score': 0.0}, {'checklist_item': 'ความแรง500มิลลิกรัม', 'matched_sentence': 'ไอบูโปรเพน', 'similarity_score': tensor(0.1289), 'topic': 11, 'score': 0.0}, {'checklist_item': 'จำนวน30เม็ด', 'matched_sentence': 'ไอบูโปรเพน', 'similarity_score': tensor(0.3466), 'topic': 12, 'score': 0.0}, {'checklist_item': 'ใช้รักษาอาการติดเชื้อที่หู', 'matched_sentence': 'ไอบูโปรเพน', 'similarity_score': tensor(0.3632), 'topic': 13, 'score': 0.0}, {'checklist_item': 'รับประทานครั้งละ1เม็ด', 'matched_sentence': 'ไอบูโปรเพน', 'similarity_score': tensor(0.2339), 'topic': 14, 'score': 0.0}, {'checklist_item': 'วันละ3ครั้ง', 'matched_sentence': 'ไอบูโปรเพน', 'similarity_score': tensor(0.1907), 'topic': 15, 'score': 0.0}, {'checklist_item': 'หลังอาหารเช้ากลางวันเย็น', 'matched_sentence': 'ไอบูโปรเพน', 'similarity_score': tensor(0.0959), 'topic': 16, 'score': 0.0}, {'checklist_item': 'ควรรับประทานติดต่อกันทุกวันจนหมด', 'matched_sentence': 'ไอบูโปรเพน', 'similarity_score': tensor(0.0655), 'topic': 17, 'score': 0.0}, {'checklist_item': 'เด็กซ์ออฟ', 'matched_sentence': 'ไอบูโปรเพน', 'similarity_score': tensor(0.4831), 'topic': 18, 'score': 0.0}, {'checklist_item': 'ใช้รักษาหูชั้นกลางอักเสบ', 'matched_sentence': 'ไอบูโปรเพน', 'similarity_score': tensor(0.3312), 'topic': 19, 'score': 0.25}, {'checklist_item': 'หยอดหูซ้าย3หยด', 'matched_sentence': 'ไอบูโปรเพน', 'similarity_score': tensor(0.3151), 'topic': 20, 'score': 0.25}, {'checklist_item': 'วันละ3ครั้ง', 'matched_sentence': 'ไอบูโปรเพน', 'similarity_score': tensor(0.1907), 'topic': 21, 'score': 0.25}, {'checklist_item': 'หลังอาหารเช้ากลางวันเย็น', 'matched_sentence': 'ไอบูโปรเพน', 'similarity_score': tensor(0.0959), 'topic': 22, 'score': 0.25}, {'checklist_item': 'ล้างมือให้สะอาด', 'matched_sentence': 'ไอบูโปรเพน', 'similarity_score': tensor(0.2240), 'topic': 23, 'score': 1.0}, {'checklist_item': 'นอนตะแคงหรือนั่งเอียงศีรษะให้หูข้างที่จะหยอดยาอยู่ด้านบน', 'matched_sentence': 'ไอบูโปรเพน', 'similarity_score': tensor(0.2382), 'topic': 24, 'score': 1.0}, {'checklist_item': 'ให้ดึงใบหูข้างที่จะหยอดยาไปด้านหลังและดึงขึ้นด้านบน', 'matched_sentence': 'ไอบูโปรเพน', 'similarity_score': tensor(0.3124), 'topic': 25, 'score': 0.5}, {'checklist_item': 'หยอดยาเข้าไปในหูตามที่แพทย์สั่ง', 'matched_sentence': 'ไอบูโปรเพน', 'similarity_score': tensor(0.2775), 'topic': 26, 'score': 0.5}, {'checklist_item': 'ระวังอย่าเอาหลอดหยดสอดเข้าไปในรูหู', 'matched_sentence': 'ไอบูโปรเพน', 'similarity_score': tensor(0.2341), 'topic': 27, 'score': 1.0}, {'checklist_item': 'เอียงตะแคงอยู่ท่าเดิมประมาณ3ถึง5นาที', 'matched_sentence': 'ไอบูโปรเพน', 'similarity_score': tensor(0.2082), 'topic': 28, 'score': 0.5}, {'checklist_item': 'อาจเอาสำลีใส่ในรูหูไว้อีกระยะหนึ่งเพื่อไม่ให้ยาไหลออกมา', 'matched_sentence': 'ไอบูโปรเพน', 'similarity_score': tensor(0.2477), 'topic': 29, 'score': 0.5}, {'checklist_item': 'ให้เขย่าขวดก่อนใช้ทุกครั้ง', 'matched_sentence': 'ไอบูโปรเพน', 'similarity_score': tensor(0.3734), 'topic': 30, 'score': 0.5}, {'checklist_item': 'ใช้ไม้พันสำลีเช็ดหนองในใบหูหรือรูหูให้สะอาดก่อนและหลังหยอดยา', 'matched_sentence': 'ไอบูโปรเพน', 'similarity_score': tensor(0.2729), 'topic': 31, 'score': 0.5}, {'checklist_item': 'ยาหยอดหูหากเก็บไว้ในตู้เย็นก่อนใช้ยาให้กำหลอดยาไว้ในอุ้งมือสักครู่', 'matched_sentence': 'ไอบูโปรเพน', 'similarity_score': tensor(0.3091), 'topic': 32, 'score': 0.5}, {'checklist_item': 'เพื่อปรับอุณหภูมิให้ใกล้เคียงกับร่างกายก่อนหยอด', 'matched_sentence': 'ไอบูโปรเพน', 'similarity_score': tensor(0.1610), 'topic': 33, 'score': 0.5}, {'checklist_item': 'ผมเป็นเภสัชกร', 'matched_sentence': 'ความแรง400มิลลิกรัม', 'similarity_score': tensor(0.0567), 'topic': 0, 'score': 1.0}, {'checklist_item': 'ผู้ป่วยชื่ออะไร', 'matched_sentence': 'ความแรง400มิลลิกรัม', 'similarity_score': tensor(-0.0301), 'topic': 1, 'score': 1.0}, {'checklist_item': 'ผู้ป่วยชื่อชาตินามสกุลอะไร', 'matched_sentence': 'ความแรง400มิลลิกรัม', 'similarity_score': tensor(-0.0528), 'topic': 1, 'score': 0.5}, {'checklist_item': 'ผู้ป่วยชื่อชาติตระการตาใช่ไหม', 'matched_sentence': 'ความแรง400มิลลิกรัม', 'similarity_score': tensor(-0.0295), 'topic': 1, 'score': 0.25}, {'checklist_item': 'ผู้ป่วยชื่อนามสกุลอะไร', 'matched_sentence': 'ความแรง400มิลลิกรัม', 'similarity_score': tensor(-0.0544), 'topic': 1, 'score': 1.0}, {'checklist_item': 'ไอบูโปรเพน', 'matched_sentence': 'ความแรง400มิลลิกรัม', 'similarity_score': tensor(0.1120), 'topic': 2, 'score': 0.0}, {'checklist_item': 'ความแรง400มิลลิกรัม', 'matched_sentence': 'ความแรง400มิลลิกรัม', 'similarity_score': tensor(1.0000), 'topic': 3, 'score': 0.0}, {'checklist_item': 'จำนวน10เม็ด', 'matched_sentence': 'ความแรง400มิลลิกรัม', 'similarity_score': tensor(0.3958), 'topic': 4, 'score': 0.0}, {'checklist_item': 'ใช้เพื่อบรรเทาอาการปวด', 'matched_sentence': 'ความแรง400มิลลิกรัม', 'similarity_score': tensor(0.1414), 'topic': 5, 'score': 0.0}, {'checklist_item': 'รับประทานครั้งละ1เม็ด', 'matched_sentence': 'ความแรง400มิลลิกรัม', 'similarity_score': tensor(0.1935), 'topic': 6, 'score': 0.0}, {'checklist_item': 'วันละ3ครั้ง', 'matched_sentence': 'ความแรง400มิลลิกรัม', 'similarity_score': tensor(0.0916), 'topic': 7, 'score': 0.0}, {'checklist_item': 'หลังอาหารเช้ากลางวันเย็น', 'matched_sentence': 'ความแรง400มิลลิกรัม', 'similarity_score': tensor(0.0071), 'topic': 8, 'score': 0.0}, {'checklist_item': 'ควรรับประทานหลังอาหารทันที', 'matched_sentence': 'ความแรง400มิลลิกรัม', 'similarity_score': tensor(-0.0414), 'topic': 9, 'score': 0.0}, {'checklist_item': 'อะมอกซีซิลิน', 'matched_sentence': 'ความแรง400มิลลิกรัม', 'similarity_score': tensor(0.0487), 'topic': 10, 'score': 0.0}, {'checklist_item': 'ความแรง500มิลลิกรัม', 'matched_sentence': 'ความแรง400มิลลิกรัม', 'similarity_score': tensor(0.8853), 'topic': 11, 'score': 0.0}, {'checklist_item': 'จำนวน30เม็ด', 'matched_sentence': 'ความแรง400มิลลิกรัม', 'similarity_score': tensor(0.4341), 'topic': 12, 'score': 0.0}, {'checklist_item': 'ใช้รักษาอาการติดเชื้อที่หู', 'matched_sentence': 'ความแรง400มิลลิกรัม', 'similarity_score': tensor(-0.0673), 'topic': 13, 'score': 0.0}, {'checklist_item': 'รับประทานครั้งละ1เม็ด', 'matched_sentence': 'ความแรง400มิลลิกรัม', 'similarity_score': tensor(0.1935), 'topic': 14, 'score': 0.0}, {'checklist_item': 'วันละ3ครั้ง', 'matched_sentence': 'ความแรง400มิลลิกรัม', 'similarity_score': tensor(0.0916), 'topic': 15, 'score': 0.0}, {'checklist_item': 'หลังอาหารเช้ากลางวันเย็น', 'matched_sentence': 'ความแรง400มิลลิกรัม', 'similarity_score': tensor(0.0071), 'topic': 16, 'score': 0.0}, {'checklist_item': 'ควรรับประทานติดต่อกันทุกวันจนหมด', 'matched_sentence': 'ความแรง400มิลลิกรัม', 'similarity_score': tensor(-0.0168), 'topic': 17, 'score': 0.0}, {'checklist_item': 'เด็กซ์ออฟ', 'matched_sentence': 'ความแรง400มิลลิกรัม', 'similarity_score': tensor(0.1001), 'topic': 18, 'score': 0.0}, {'checklist_item': 'ใช้รักษาหูชั้นกลางอักเสบ', 'matched_sentence': 'ความแรง400มิลลิกรัม', 'similarity_score': tensor(-0.0551), 'topic': 19, 'score': 0.25}, {'checklist_item': 'หยอดหูซ้าย3หยด', 'matched_sentence': 'ความแรง400มิลลิกรัม', 'similarity_score': tensor(0.0761), 'topic': 20, 'score': 0.25}, {'checklist_item': 'วันละ3ครั้ง', 'matched_sentence': 'ความแรง400มิลลิกรัม', 'similarity_score': tensor(0.0916), 'topic': 21, 'score': 0.25}, {'checklist_item': 'หลังอาหารเช้ากลางวันเย็น', 'matched_sentence': 'ความแรง400มิลลิกรัม', 'similarity_score': tensor(0.0071), 'topic': 22, 'score': 0.25}, {'checklist_item': 'ล้างมือให้สะอาด', 'matched_sentence': 'ความแรง400มิลลิกรัม', 'similarity_score': tensor(0.1064), 'topic': 23, 'score': 1.0}, {'checklist_item': 'นอนตะแคงหรือนั่งเอียงศีรษะให้หูข้างที่จะหยอดยาอยู่ด้านบน', 'matched_sentence': 'ความแรง400มิลลิกรัม', 'similarity_score': tensor(-0.0010), 'topic': 24, 'score': 1.0}, {'checklist_item': 'ให้ดึงใบหูข้างที่จะหยอดยาไปด้านหลังและดึงขึ้นด้านบน', 'matched_sentence': 'ความแรง400มิลลิกรัม', 'similarity_score': tensor(0.0886), 'topic': 25, 'score': 0.5}, {'checklist_item': 'หยอดยาเข้าไปในหูตามที่แพทย์สั่ง', 'matched_sentence': 'ความแรง400มิลลิกรัม', 'similarity_score': tensor(-0.0198), 'topic': 26, 'score': 0.5}, {'checklist_item': 'ระวังอย่าเอาหลอดหยดสอดเข้าไปในรูหู', 'matched_sentence': 'ความแรง400มิลลิกรัม', 'similarity_score': tensor(0.0431), 'topic': 27, 'score': 1.0}, {'checklist_item': 'เอียงตะแคงอยู่ท่าเดิมประมาณ3ถึง5นาที', 'matched_sentence': 'ความแรง400มิลลิกรัม', 'similarity_score': tensor(0.1898), 'topic': 28, 'score': 0.5}, {'checklist_item': 'อาจเอาสำลีใส่ในรูหูไว้อีกระยะหนึ่งเพื่อไม่ให้ยาไหลออกมา', 'matched_sentence': 'ความแรง400มิลลิกรัม', 'similarity_score': tensor(0.0268), 'topic': 29, 'score': 0.5}, {'checklist_item': 'ให้เขย่าขวดก่อนใช้ทุกครั้ง', 'matched_sentence': 'ความแรง400มิลลิกรัม', 'similarity_score': tensor(0.1038), 'topic': 30, 'score': 0.5}, {'checklist_item': 'ใช้ไม้พันสำลีเช็ดหนองในใบหูหรือรูหูให้สะอาดก่อนและหลังหยอดยา', 'matched_sentence': 'ความแรง400มิลลิกรัม', 'similarity_score': tensor(0.0127), 'topic': 31, 'score': 0.5}, {'checklist_item': 'ยาหยอดหูหากเก็บไว้ในตู้เย็นก่อนใช้ยาให้กำหลอดยาไว้ในอุ้งมือสักครู่', 'matched_sentence': 'ความแรง400มิลลิกรัม', 'similarity_score': tensor(0.0433), 'topic': 32, 'score': 0.5}, {'checklist_item': 'เพื่อปรับอุณหภูมิให้ใกล้เคียงกับร่างกายก่อนหยอด', 'matched_sentence': 'ความแรง400มิลลิกรัม', 'similarity_score': tensor(0.2301), 'topic': 33, 'score': 0.5}, {'checklist_item': 'ผมเป็นเภสัชกร', 'matched_sentence': 'จำนวน10เม็ด', 'similarity_score': tensor(0.2006), 'topic': 0, 'score': 1.0}, {'checklist_item': 'ผู้ป่วยชื่ออะไร', 'matched_sentence': 'จำนวน10เม็ด', 'similarity_score': tensor(0.1492), 'topic': 1, 'score': 1.0}, {'checklist_item': 'ผู้ป่วยชื่อชาตินามสกุลอะไร', 'matched_sentence': 'จำนวน10เม็ด', 'similarity_score': tensor(0.1668), 'topic': 1, 'score': 0.5}, {'checklist_item': 'ผู้ป่วยชื่อชาติตระการตาใช่ไหม', 'matched_sentence': 'จำนวน10เม็ด', 'similarity_score': tensor(0.2008), 'topic': 1, 'score': 0.25}, {'checklist_item': 'ผู้ป่วยชื่อนามสกุลอะไร', 'matched_sentence': 'จำนวน10เม็ด', 'similarity_score': tensor(0.1475), 'topic': 1, 'score': 1.0}, {'checklist_item': 'ไอบูโปรเพน', 'matched_sentence': 'จำนวน10เม็ด', 'similarity_score': tensor(0.3165), 'topic': 2, 'score': 0.0}, {'checklist_item': 'ความแรง400มิลลิกรัม', 'matched_sentence': 'จำนวน10เม็ด', 'similarity_score': tensor(0.3958), 'topic': 3, 'score': 0.0}, {'checklist_item': 'จำนวน10เม็ด', 'matched_sentence': 'จำนวน10เม็ด', 'similarity_score': tensor(1.), 'topic': 4, 'score': 0.0}, {'checklist_item': 'ใช้เพื่อบรรเทาอาการปวด', 'matched_sentence': 'จำนวน10เม็ด', 'similarity_score': tensor(0.1447), 'topic': 5, 'score': 0.0}, {'checklist_item': 'รับประทานครั้งละ1เม็ด', 'matched_sentence': 'จำนวน10เม็ด', 'similarity_score': tensor(0.3730), 'topic': 6, 'score': 0.0}, {'checklist_item': 'วันละ3ครั้ง', 'matched_sentence': 'จำนวน10เม็ด', 'similarity_score': tensor(0.2628), 'topic': 7, 'score': 0.0}, {'checklist_item': 'หลังอาหารเช้ากลางวันเย็น', 'matched_sentence': 'จำนวน10เม็ด', 'similarity_score': tensor(0.1598), 'topic': 8, 'score': 0.0}, {'checklist_item': 'ควรรับประทานหลังอาหารทันที', 'matched_sentence': 'จำนวน10เม็ด', 'similarity_score': tensor(0.0928), 'topic': 9, 'score': 0.0}, {'checklist_item': 'อะมอกซีซิลิน', 'matched_sentence': 'จำนวน10เม็ด', 'similarity_score': tensor(0.2953), 'topic': 10, 'score': 0.0}, {'checklist_item': 'ความแรง500มิลลิกรัม', 'matched_sentence': 'จำนวน10เม็ด', 'similarity_score': tensor(0.3785), 'topic': 11, 'score': 0.0}, {'checklist_item': 'จำนวน30เม็ด', 'matched_sentence': 'จำนวน10เม็ด', 'similarity_score': tensor(0.6519), 'topic': 12, 'score': 0.0}, {'checklist_item': 'ใช้รักษาอาการติดเชื้อที่หู', 'matched_sentence': 'จำนวน10เม็ด', 'similarity_score': tensor(0.1255), 'topic': 13, 'score': 0.0}, {'checklist_item': 'รับประทานครั้งละ1เม็ด', 'matched_sentence': 'จำนวน10เม็ด', 'similarity_score': tensor(0.3730), 'topic': 14, 'score': 0.0}, {'checklist_item': 'วันละ3ครั้ง', 'matched_sentence': 'จำนวน10เม็ด', 'similarity_score': tensor(0.2628), 'topic': 15, 'score': 0.0}, {'checklist_item': 'หลังอาหารเช้ากลางวันเย็น', 'matched_sentence': 'จำนวน10เม็ด', 'similarity_score': tensor(0.1598), 'topic': 16, 'score': 0.0}, {'checklist_item': 'ควรรับประทานติดต่อกันทุกวันจนหมด', 'matched_sentence': 'จำนวน10เม็ด', 'similarity_score': tensor(0.1232), 'topic': 17, 'score': 0.0}, {'checklist_item': 'เด็กซ์ออฟ', 'matched_sentence': 'จำนวน10เม็ด', 'similarity_score': tensor(0.4286), 'topic': 18, 'score': 0.0}, {'checklist_item': 'ใช้รักษาหูชั้นกลางอักเสบ', 'matched_sentence': 'จำนวน10เม็ด', 'similarity_score': tensor(0.1014), 'topic': 19, 'score': 0.25}, {'checklist_item': 'หยอดหูซ้าย3หยด', 'matched_sentence': 'จำนวน10เม็ด', 'similarity_score': tensor(0.2831), 'topic': 20, 'score': 0.25}, {'checklist_item': 'วันละ3ครั้ง', 'matched_sentence': 'จำนวน10เม็ด', 'similarity_score': tensor(0.2628), 'topic': 21, 'score': 0.25}, {'checklist_item': 'หลังอาหารเช้ากลางวันเย็น', 'matched_sentence': 'จำนวน10เม็ด', 'similarity_score': tensor(0.1598), 'topic': 22, 'score': 0.25}, {'checklist_item': 'ล้างมือให้สะอาด', 'matched_sentence': 'จำนวน10เม็ด', 'similarity_score': tensor(0.2692), 'topic': 23, 'score': 1.0}, {'checklist_item': 'นอนตะแคงหรือนั่งเอียงศีรษะให้หูข้างที่จะหยอดยาอยู่ด้านบน', 'matched_sentence': 'จำนวน10เม็ด', 'similarity_score': tensor(0.1441), 'topic': 24, 'score': 1.0}, {'checklist_item': 'ให้ดึงใบหูข้างที่จะหยอดยาไปด้านหลังและดึงขึ้นด้านบน', 'matched_sentence': 'จำนวน10เม็ด', 'similarity_score': tensor(0.2401), 'topic': 25, 'score': 0.5}, {'checklist_item': 'หยอดยาเข้าไปในหูตามที่แพทย์สั่ง', 'matched_sentence': 'จำนวน10เม็ด', 'similarity_score': tensor(0.1768), 'topic': 26, 'score': 0.5}, {'checklist_item': 'ระวังอย่าเอาหลอดหยดสอดเข้าไปในรูหู', 'matched_sentence': 'จำนวน10เม็ด', 'similarity_score': tensor(0.1941), 'topic': 27, 'score': 1.0}, {'checklist_item': 'เอียงตะแคงอยู่ท่าเดิมประมาณ3ถึง5นาที', 'matched_sentence': 'จำนวน10เม็ด', 'similarity_score': tensor(0.1690), 'topic': 28, 'score': 0.5}, {'checklist_item': 'อาจเอาสำลีใส่ในรูหูไว้อีกระยะหนึ่งเพื่อไม่ให้ยาไหลออกมา', 'matched_sentence': 'จำนวน10เม็ด', 'similarity_score': tensor(0.2202), 'topic': 29, 'score': 0.5}, {'checklist_item': 'ให้เขย่าขวดก่อนใช้ทุกครั้ง', 'matched_sentence': 'จำนวน10เม็ด', 'similarity_score': tensor(0.3042), 'topic': 30, 'score': 0.5}, {'checklist_item': 'ใช้ไม้พันสำลีเช็ดหนองในใบหูหรือรูหูให้สะอาดก่อนและหลังหยอดยา', 'matched_sentence': 'จำนวน10เม็ด', 'similarity_score': tensor(0.1691), 'topic': 31, 'score': 0.5}, {'checklist_item': 'ยาหยอดหูหากเก็บไว้ในตู้เย็นก่อนใช้ยาให้กำหลอดยาไว้ในอุ้งมือสักครู่', 'matched_sentence': 'จำนวน10เม็ด', 'similarity_score': tensor(0.2300), 'topic': 32, 'score': 0.5}, {'checklist_item': 'เพื่อปรับอุณหภูมิให้ใกล้เคียงกับร่างกายก่อนหยอด', 'matched_sentence': 'จำนวน10เม็ด', 'similarity_score': tensor(0.1654), 'topic': 33, 'score': 0.5}, {'checklist_item': 'ผมเป็นเภสัชกร', 'matched_sentence': 'ใช้เพื่อบรรเทาอาการปวด', 'similarity_score': tensor(0.4391), 'topic': 0, 'score': 1.0}, {'checklist_item': 'ผู้ป่วยชื่ออะไร', 'matched_sentence': 'ใช้เพื่อบรรเทาอาการปวด', 'similarity_score': tensor(0.3478), 'topic': 1, 'score': 1.0}, {'checklist_item': 'ผู้ป่วยชื่อชาตินามสกุลอะไร', 'matched_sentence': 'ใช้เพื่อบรรเทาอาการปวด', 'similarity_score': tensor(0.3106), 'topic': 1, 'score': 0.5}, {'checklist_item': 'ผู้ป่วยชื่อชาติตระการตาใช่ไหม', 'matched_sentence': 'ใช้เพื่อบรรเทาอาการปวด', 'similarity_score': tensor(0.2959), 'topic': 1, 'score': 0.25}, {'checklist_item': 'ผู้ป่วยชื่อนามสกุลอะไร', 'matched_sentence': 'ใช้เพื่อบรรเทาอาการปวด', 'similarity_score': tensor(0.3120), 'topic': 1, 'score': 1.0}, {'checklist_item': 'ไอบูโปรเพน', 'matched_sentence': 'ใช้เพื่อบรรเทาอาการปวด', 'similarity_score': tensor(0.3995), 'topic': 2, 'score': 0.0}, {'checklist_item': 'ความแรง400มิลลิกรัม', 'matched_sentence': 'ใช้เพื่อบรรเทาอาการปวด', 'similarity_score': tensor(0.1414), 'topic': 3, 'score': 0.0}, {'checklist_item': 'จำนวน10เม็ด', 'matched_sentence': 'ใช้เพื่อบรรเทาอาการปวด', 'similarity_score': tensor(0.1447), 'topic': 4, 'score': 0.0}, {'checklist_item': 'ใช้เพื่อบรรเทาอาการปวด', 'matched_sentence': 'ใช้เพื่อบรรเทาอาการปวด', 'similarity_score': tensor(1.0000), 'topic': 5, 'score': 0.0}, {'checklist_item': 'รับประทานครั้งละ1เม็ด', 'matched_sentence': 'ใช้เพื่อบรรเทาอาการปวด', 'similarity_score': tensor(0.1823), 'topic': 6, 'score': 0.0}, {'checklist_item': 'วันละ3ครั้ง', 'matched_sentence': 'ใช้เพื่อบรรเทาอาการปวด', 'similarity_score': tensor(0.2151), 'topic': 7, 'score': 0.0}, {'checklist_item': 'หลังอาหารเช้ากลางวันเย็น', 'matched_sentence': 'ใช้เพื่อบรรเทาอาการปวด', 'similarity_score': tensor(0.1326), 'topic': 8, 'score': 0.0}, {'checklist_item': 'ควรรับประทานหลังอาหารทันที', 'matched_sentence': 'ใช้เพื่อบรรเทาอาการปวด', 'similarity_score': tensor(0.1691), 'topic': 9, 'score': 0.0}, {'checklist_item': 'อะมอกซีซิลิน', 'matched_sentence': 'ใช้เพื่อบรรเทาอาการปวด', 'similarity_score': tensor(0.4728), 'topic': 10, 'score': 0.0}, {'checklist_item': 'ความแรง500มิลลิกรัม', 'matched_sentence': 'ใช้เพื่อบรรเทาอาการปวด', 'similarity_score': tensor(0.1491), 'topic': 11, 'score': 0.0}, {'checklist_item': 'จำนวน30เม็ด', 'matched_sentence': 'ใช้เพื่อบรรเทาอาการปวด', 'similarity_score': tensor(0.1703), 'topic': 12, 'score': 0.0}, {'checklist_item': 'ใช้รักษาอาการติดเชื้อที่หู', 'matched_sentence': 'ใช้เพื่อบรรเทาอาการปวด', 'similarity_score': tensor(0.4732), 'topic': 13, 'score': 0.0}, {'checklist_item': 'รับประทานครั้งละ1เม็ด', 'matched_sentence': 'ใช้เพื่อบรรเทาอาการปวด', 'similarity_score': tensor(0.1823), 'topic': 14, 'score': 0.0}, {'checklist_item': 'วันละ3ครั้ง', 'matched_sentence': 'ใช้เพื่อบรรเทาอาการปวด', 'similarity_score': tensor(0.2151), 'topic': 15, 'score': 0.0}, {'checklist_item': 'หลังอาหารเช้ากลางวันเย็น', 'matched_sentence': 'ใช้เพื่อบรรเทาอาการปวด', 'similarity_score': tensor(0.1326), 'topic': 16, 'score': 0.0}, {'checklist_item': 'ควรรับประทานติดต่อกันทุกวันจนหมด', 'matched_sentence': 'ใช้เพื่อบรรเทาอาการปวด', 'similarity_score': tensor(0.1357), 'topic': 17, 'score': 0.0}, {'checklist_item': 'เด็กซ์ออฟ', 'matched_sentence': 'ใช้เพื่อบรรเทาอาการปวด', 'similarity_score': tensor(0.3014), 'topic': 18, 'score': 0.0}, {'checklist_item': 'ใช้รักษาหูชั้นกลางอักเสบ', 'matched_sentence': 'ใช้เพื่อบรรเทาอาการปวด', 'similarity_score': tensor(0.5446), 'topic': 19, 'score': 0.25}, {'checklist_item': 'หยอดหูซ้าย3หยด', 'matched_sentence': 'ใช้เพื่อบรรเทาอาการปวด', 'similarity_score': tensor(0.2933), 'topic': 20, 'score': 0.25}, {'checklist_item': 'วันละ3ครั้ง', 'matched_sentence': 'ใช้เพื่อบรรเทาอาการปวด', 'similarity_score': tensor(0.2151), 'topic': 21, 'score': 0.25}, {'checklist_item': 'หลังอาหารเช้ากลางวันเย็น', 'matched_sentence': 'ใช้เพื่อบรรเทาอาการปวด', 'similarity_score': tensor(0.1326), 'topic': 22, 'score': 0.25}, {'checklist_item': 'ล้างมือให้สะอาด', 'matched_sentence': 'ใช้เพื่อบรรเทาอาการปวด', 'similarity_score': tensor(0.3872), 'topic': 23, 'score': 1.0}, {'checklist_item': 'นอนตะแคงหรือนั่งเอียงศีรษะให้หูข้างที่จะหยอดยาอยู่ด้านบน', 'matched_sentence': 'ใช้เพื่อบรรเทาอาการปวด', 'similarity_score': tensor(0.4448), 'topic': 24, 'score': 1.0}, {'checklist_item': 'ให้ดึงใบหูข้างที่จะหยอดยาไปด้านหลังและดึงขึ้นด้านบน', 'matched_sentence': 'ใช้เพื่อบรรเทาอาการปวด', 'similarity_score': tensor(0.3809), 'topic': 25, 'score': 0.5}, {'checklist_item': 'หยอดยาเข้าไปในหูตามที่แพทย์สั่ง', 'matched_sentence': 'ใช้เพื่อบรรเทาอาการปวด', 'similarity_score': tensor(0.4251), 'topic': 26, 'score': 0.5}, {'checklist_item': 'ระวังอย่าเอาหลอดหยดสอดเข้าไปในรูหู', 'matched_sentence': 'ใช้เพื่อบรรเทาอาการปวด', 'similarity_score': tensor(0.3773), 'topic': 27, 'score': 1.0}, {'checklist_item': 'เอียงตะแคงอยู่ท่าเดิมประมาณ3ถึง5นาที', 'matched_sentence': 'ใช้เพื่อบรรเทาอาการปวด', 'similarity_score': tensor(0.1435), 'topic': 28, 'score': 0.5}, {'checklist_item': 'อาจเอาสำลีใส่ในรูหูไว้อีกระยะหนึ่งเพื่อไม่ให้ยาไหลออกมา', 'matched_sentence': 'ใช้เพื่อบรรเทาอาการปวด', 'similarity_score': tensor(0.5004), 'topic': 29, 'score': 0.5}, {'checklist_item': 'ให้เขย่าขวดก่อนใช้ทุกครั้ง', 'matched_sentence': 'ใช้เพื่อบรรเทาอาการปวด', 'similarity_score': tensor(0.3700), 'topic': 30, 'score': 0.5}, {'checklist_item': 'ใช้ไม้พันสำลีเช็ดหนองในใบหูหรือรูหูให้สะอาดก่อนและหลังหยอดยา', 'matched_sentence': 'ใช้เพื่อบรรเทาอาการปวด', 'similarity_score': tensor(0.5317), 'topic': 31, 'score': 0.5}, {'checklist_item': 'ยาหยอดหูหากเก็บไว้ในตู้เย็นก่อนใช้ยาให้กำหลอดยาไว้ในอุ้งมือสักครู่', 'matched_sentence': 'ใช้เพื่อบรรเทาอาการปวด', 'similarity_score': tensor(0.4421), 'topic': 32, 'score': 0.5}, {'checklist_item': 'เพื่อปรับอุณหภูมิให้ใกล้เคียงกับร่างกายก่อนหยอด', 'matched_sentence': 'ใช้เพื่อบรรเทาอาการปวด', 'similarity_score': tensor(0.3779), 'topic': 33, 'score': 0.5}, {'checklist_item': 'ผมเป็นเภสัชกร', 'matched_sentence': 'รับประทานครั้งละ1เม็ด', 'similarity_score': tensor(0.2091), 'topic': 0, 'score': 1.0}, {'checklist_item': 'ผู้ป่วยชื่ออะไร', 'matched_sentence': 'รับประทานครั้งละ1เม็ด', 'similarity_score': tensor(0.1204), 'topic': 1, 'score': 1.0}, {'checklist_item': 'ผู้ป่วยชื่อชาตินามสกุลอะไร', 'matched_sentence': 'รับประทานครั้งละ1เม็ด', 'similarity_score': tensor(0.1196), 'topic': 1, 'score': 0.5}, {'checklist_item': 'ผู้ป่วยชื่อชาติตระการตาใช่ไหม', 'matched_sentence': 'รับประทานครั้งละ1เม็ด', 'similarity_score': tensor(0.1359), 'topic': 1, 'score': 0.25}, {'checklist_item': 'ผู้ป่วยชื่อนามสกุลอะไร', 'matched_sentence': 'รับประทานครั้งละ1เม็ด', 'similarity_score': tensor(0.1046), 'topic': 1, 'score': 1.0}, {'checklist_item': 'ไอบูโปรเพน', 'matched_sentence': 'รับประทานครั้งละ1เม็ด', 'similarity_score': tensor(0.2339), 'topic': 2, 'score': 0.0}, {'checklist_item': 'ความแรง400มิลลิกรัม', 'matched_sentence': 'รับประทานครั้งละ1เม็ด', 'similarity_score': tensor(0.1935), 'topic': 3, 'score': 0.0}, {'checklist_item': 'จำนวน10เม็ด', 'matched_sentence': 'รับประทานครั้งละ1เม็ด', 'similarity_score': tensor(0.3730), 'topic': 4, 'score': 0.0}, {'checklist_item': 'ใช้เพื่อบรรเทาอาการปวด', 'matched_sentence': 'รับประทานครั้งละ1เม็ด', 'similarity_score': tensor(0.1823), 'topic': 5, 'score': 0.0}, {'checklist_item': 'รับประทานครั้งละ1เม็ด', 'matched_sentence': 'รับประทานครั้งละ1เม็ด', 'similarity_score': tensor(1.), 'topic': 6, 'score': 0.0}, {'checklist_item': 'วันละ3ครั้ง', 'matched_sentence': 'รับประทานครั้งละ1เม็ด', 'similarity_score': tensor(0.5179), 'topic': 7, 'score': 0.0}, {'checklist_item': 'หลังอาหารเช้ากลางวันเย็น', 'matched_sentence': 'รับประทานครั้งละ1เม็ด', 'similarity_score': tensor(0.3928), 'topic': 8, 'score': 0.0}, {'checklist_item': 'ควรรับประทานหลังอาหารทันที', 'matched_sentence': 'รับประทานครั้งละ1เม็ด', 'similarity_score': tensor(0.5474), 'topic': 9, 'score': 0.0}, {'checklist_item': 'อะมอกซีซิลิน', 'matched_sentence': 'รับประทานครั้งละ1เม็ด', 'similarity_score': tensor(0.2289), 'topic': 10, 'score': 0.0}, {'checklist_item': 'ความแรง500มิลลิกรัม', 'matched_sentence': 'รับประทานครั้งละ1เม็ด', 'similarity_score': tensor(0.2684), 'topic': 11, 'score': 0.0}, {'checklist_item': 'จำนวน30เม็ด', 'matched_sentence': 'รับประทานครั้งละ1เม็ด', 'similarity_score': tensor(0.3375), 'topic': 12, 'score': 0.0}, {'checklist_item': 'ใช้รักษาอาการติดเชื้อที่หู', 'matched_sentence': 'รับประทานครั้งละ1เม็ด', 'similarity_score': tensor(0.0818), 'topic': 13, 'score': 0.0}, {'checklist_item': 'รับประทานครั้งละ1เม็ด', 'matched_sentence': 'รับประทานครั้งละ1เม็ด', 'similarity_score': tensor(1.), 'topic': 14, 'score': 0.0}, {'checklist_item': 'วันละ3ครั้ง', 'matched_sentence': 'รับประทานครั้งละ1เม็ด', 'similarity_score': tensor(0.5179), 'topic': 15, 'score': 0.0}, {'checklist_item': 'หลังอาหารเช้ากลางวันเย็น', 'matched_sentence': 'รับประทานครั้งละ1เม็ด', 'similarity_score': tensor(0.3928), 'topic': 16, 'score': 0.0}, {'checklist_item': 'ควรรับประทานติดต่อกันทุกวันจนหมด', 'matched_sentence': 'รับประทานครั้งละ1เม็ด', 'similarity_score': tensor(0.7362), 'topic': 17, 'score': 0.0}, {'checklist_item': 'เด็กซ์ออฟ', 'matched_sentence': 'รับประทานครั้งละ1เม็ด', 'similarity_score': tensor(0.2965), 'topic': 18, 'score': 0.0}, {'checklist_item': 'ใช้รักษาหูชั้นกลางอักเสบ', 'matched_sentence': 'รับประทานครั้งละ1เม็ด', 'similarity_score': tensor(0.0649), 'topic': 19, 'score': 0.25}, {'checklist_item': 'หยอดหูซ้าย3หยด', 'matched_sentence': 'รับประทานครั้งละ1เม็ด', 'similarity_score': tensor(0.1820), 'topic': 20, 'score': 0.25}, {'checklist_item': 'วันละ3ครั้ง', 'matched_sentence': 'รับประทานครั้งละ1เม็ด', 'similarity_score': tensor(0.5179), 'topic': 21, 'score': 0.25}, {'checklist_item': 'หลังอาหารเช้ากลางวันเย็น', 'matched_sentence': 'รับประทานครั้งละ1เม็ด', 'similarity_score': tensor(0.3928), 'topic': 22, 'score': 0.25}, {'checklist_item': 'ล้างมือให้สะอาด', 'matched_sentence': 'รับประทานครั้งละ1เม็ด', 'similarity_score': tensor(0.2409), 'topic': 23, 'score': 1.0}, {'checklist_item': 'นอนตะแคงหรือนั่งเอียงศีรษะให้หูข้างที่จะหยอดยาอยู่ด้านบน', 'matched_sentence': 'รับประทานครั้งละ1เม็ด', 'similarity_score': tensor(0.1655), 'topic': 24, 'score': 1.0}, {'checklist_item': 'ให้ดึงใบหูข้างที่จะหยอดยาไปด้านหลังและดึงขึ้นด้านบน', 'matched_sentence': 'รับประทานครั้งละ1เม็ด', 'similarity_score': tensor(0.1603), 'topic': 25, 'score': 0.5}, {'checklist_item': 'หยอดยาเข้าไปในหูตามที่แพทย์สั่ง', 'matched_sentence': 'รับประทานครั้งละ1เม็ด', 'similarity_score': tensor(0.1409), 'topic': 26, 'score': 0.5}, {'checklist_item': 'ระวังอย่าเอาหลอดหยดสอดเข้าไปในรูหู', 'matched_sentence': 'รับประทานครั้งละ1เม็ด', 'similarity_score': tensor(0.1651), 'topic': 27, 'score': 1.0}, {'checklist_item': 'เอียงตะแคงอยู่ท่าเดิมประมาณ3ถึง5นาที', 'matched_sentence': 'รับประทานครั้งละ1เม็ด', 'similarity_score': tensor(0.2965), 'topic': 28, 'score': 0.5}, {'checklist_item': 'อาจเอาสำลีใส่ในรูหูไว้อีกระยะหนึ่งเพื่อไม่ให้ยาไหลออกมา', 'matched_sentence': 'รับประทานครั้งละ1เม็ด', 'similarity_score': tensor(0.2705), 'topic': 29, 'score': 0.5}, {'checklist_item': 'ให้เขย่าขวดก่อนใช้ทุกครั้ง', 'matched_sentence': 'รับประทานครั้งละ1เม็ด', 'similarity_score': tensor(0.4968), 'topic': 30, 'score': 0.5}, {'checklist_item': 'ใช้ไม้พันสำลีเช็ดหนองในใบหูหรือรูหูให้สะอาดก่อนและหลังหยอดยา', 'matched_sentence': 'รับประทานครั้งละ1เม็ด', 'similarity_score': tensor(0.1344), 'topic': 31, 'score': 0.5}, {'checklist_item': 'ยาหยอดหูหากเก็บไว้ในตู้เย็นก่อนใช้ยาให้กำหลอดยาไว้ในอุ้งมือสักครู่', 'matched_sentence': 'รับประทานครั้งละ1เม็ด', 'similarity_score': tensor(0.3583), 'topic': 32, 'score': 0.5}, {'checklist_item': 'เพื่อปรับอุณหภูมิให้ใกล้เคียงกับร่างกายก่อนหยอด', 'matched_sentence': 'รับประทานครั้งละ1เม็ด', 'similarity_score': tensor(0.2743), 'topic': 33, 'score': 0.5}, {'checklist_item': 'ผมเป็นเภสัชกร', 'matched_sentence': 'วันละ3ครั้ง', 'similarity_score': tensor(0.2263), 'topic': 0, 'score': 1.0}, {'checklist_item': 'ผู้ป่วยชื่ออะไร', 'matched_sentence': 'วันละ3ครั้ง', 'similarity_score': tensor(0.1215), 'topic': 1, 'score': 1.0}, {'checklist_item': 'ผู้ป่วยชื่อชาตินามสกุลอะไร', 'matched_sentence': 'วันละ3ครั้ง', 'similarity_score': tensor(0.1375), 'topic': 1, 'score': 0.5}, {'checklist_item': 'ผู้ป่วยชื่อชาติตระการตาใช่ไหม', 'matched_sentence': 'วันละ3ครั้ง', 'similarity_score': tensor(0.1669), 'topic': 1, 'score': 0.25}, {'checklist_item': 'ผู้ป่วยชื่อนามสกุลอะไร', 'matched_sentence': 'วันละ3ครั้ง', 'similarity_score': tensor(0.1118), 'topic': 1, 'score': 1.0}, {'checklist_item': 'ไอบูโปรเพน', 'matched_sentence': 'วันละ3ครั้ง', 'similarity_score': tensor(0.1907), 'topic': 2, 'score': 0.0}, {'checklist_item': 'ความแรง400มิลลิกรัม', 'matched_sentence': 'วันละ3ครั้ง', 'similarity_score': tensor(0.0916), 'topic': 3, 'score': 0.0}, {'checklist_item': 'จำนวน10เม็ด', 'matched_sentence': 'วันละ3ครั้ง', 'similarity_score': tensor(0.2628), 'topic': 4, 'score': 0.0}, {'checklist_item': 'ใช้เพื่อบรรเทาอาการปวด', 'matched_sentence': 'วันละ3ครั้ง', 'similarity_score': tensor(0.2151), 'topic': 5, 'score': 0.0}, {'checklist_item': 'รับประทานครั้งละ1เม็ด', 'matched_sentence': 'วันละ3ครั้ง', 'similarity_score': tensor(0.5179), 'topic': 6, 'score': 0.0}, {'checklist_item': 'วันละ3ครั้ง', 'matched_sentence': 'วันละ3ครั้ง', 'similarity_score': tensor(1.0000), 'topic': 7, 'score': 0.0}, {'checklist_item': 'หลังอาหารเช้ากลางวันเย็น', 'matched_sentence': 'วันละ3ครั้ง', 'similarity_score': tensor(0.2485), 'topic': 8, 'score': 0.0}, {'checklist_item': 'ควรรับประทานหลังอาหารทันที', 'matched_sentence': 'วันละ3ครั้ง', 'similarity_score': tensor(0.2455), 'topic': 9, 'score': 0.0}, {'checklist_item': 'อะมอกซีซิลิน', 'matched_sentence': 'วันละ3ครั้ง', 'similarity_score': tensor(0.2199), 'topic': 10, 'score': 0.0}, {'checklist_item': 'ความแรง500มิลลิกรัม', 'matched_sentence': 'วันละ3ครั้ง', 'similarity_score': tensor(0.1220), 'topic': 11, 'score': 0.0}, {'checklist_item': 'จำนวน30เม็ด', 'matched_sentence': 'วันละ3ครั้ง', 'similarity_score': tensor(0.3044), 'topic': 12, 'score': 0.0}, {'checklist_item': 'ใช้รักษาอาการติดเชื้อที่หู', 'matched_sentence': 'วันละ3ครั้ง', 'similarity_score': tensor(0.1934), 'topic': 13, 'score': 0.0}, {'checklist_item': 'รับประทานครั้งละ1เม็ด', 'matched_sentence': 'วันละ3ครั้ง', 'similarity_score': tensor(0.5179), 'topic': 14, 'score': 0.0}, {'checklist_item': 'วันละ3ครั้ง', 'matched_sentence': 'วันละ3ครั้ง', 'similarity_score': tensor(1.0000), 'topic': 15, 'score': 0.0}, {'checklist_item': 'หลังอาหารเช้ากลางวันเย็น', 'matched_sentence': 'วันละ3ครั้ง', 'similarity_score': tensor(0.2485), 'topic': 16, 'score': 0.0}, {'checklist_item': 'ควรรับประทานติดต่อกันทุกวันจนหมด', 'matched_sentence': 'วันละ3ครั้ง', 'similarity_score': tensor(0.5314), 'topic': 17, 'score': 0.0}, {'checklist_item': 'เด็กซ์ออฟ', 'matched_sentence': 'วันละ3ครั้ง', 'similarity_score': tensor(0.3129), 'topic': 18, 'score': 0.0}, {'checklist_item': 'ใช้รักษาหูชั้นกลางอักเสบ', 'matched_sentence': 'วันละ3ครั้ง', 'similarity_score': tensor(0.1748), 'topic': 19, 'score': 0.25}, {'checklist_item': 'หยอดหูซ้าย3หยด', 'matched_sentence': 'วันละ3ครั้ง', 'similarity_score': tensor(0.3622), 'topic': 20, 'score': 0.25}, {'checklist_item': 'วันละ3ครั้ง', 'matched_sentence': 'วันละ3ครั้ง', 'similarity_score': tensor(1.0000), 'topic': 21, 'score': 0.25}, {'checklist_item': 'หลังอาหารเช้ากลางวันเย็น', 'matched_sentence': 'วันละ3ครั้ง', 'similarity_score': tensor(0.2485), 'topic': 22, 'score': 0.25}, {'checklist_item': 'ล้างมือให้สะอาด', 'matched_sentence': 'วันละ3ครั้ง', 'similarity_score': tensor(0.2048), 'topic': 23, 'score': 1.0}, {'checklist_item': 'นอนตะแคงหรือนั่งเอียงศีรษะให้หูข้างที่จะหยอดยาอยู่ด้านบน', 'matched_sentence': 'วันละ3ครั้ง', 'similarity_score': tensor(0.2708), 'topic': 24, 'score': 1.0}, {'checklist_item': 'ให้ดึงใบหูข้างที่จะหยอดยาไปด้านหลังและดึงขึ้นด้านบน', 'matched_sentence': 'วันละ3ครั้ง', 'similarity_score': tensor(0.2428), 'topic': 25, 'score': 0.5}, {'checklist_item': 'หยอดยาเข้าไปในหูตามที่แพทย์สั่ง', 'matched_sentence': 'วันละ3ครั้ง', 'similarity_score': tensor(0.2178), 'topic': 26, 'score': 0.5}, {'checklist_item': 'ระวังอย่าเอาหลอดหยดสอดเข้าไปในรูหู', 'matched_sentence': 'วันละ3ครั้ง', 'similarity_score': tensor(0.2037), 'topic': 27, 'score': 1.0}, {'checklist_item': 'เอียงตะแคงอยู่ท่าเดิมประมาณ3ถึง5นาที', 'matched_sentence': 'วันละ3ครั้ง', 'similarity_score': tensor(0.5167), 'topic': 28, 'score': 0.5}, {'checklist_item': 'อาจเอาสำลีใส่ในรูหูไว้อีกระยะหนึ่งเพื่อไม่ให้ยาไหลออกมา', 'matched_sentence': 'วันละ3ครั้ง', 'similarity_score': tensor(0.3008), 'topic': 29, 'score': 0.5}, {'checklist_item': 'ให้เขย่าขวดก่อนใช้ทุกครั้ง', 'matched_sentence': 'วันละ3ครั้ง', 'similarity_score': tensor(0.4266), 'topic': 30, 'score': 0.5}, {'checklist_item': 'ใช้ไม้พันสำลีเช็ดหนองในใบหูหรือรูหูให้สะอาดก่อนและหลังหยอดยา', 'matched_sentence': 'วันละ3ครั้ง', 'similarity_score': tensor(0.1709), 'topic': 31, 'score': 0.5}, {'checklist_item': 'ยาหยอดหูหากเก็บไว้ในตู้เย็นก่อนใช้ยาให้กำหลอดยาไว้ในอุ้งมือสักครู่', 'matched_sentence': 'วันละ3ครั้ง', 'similarity_score': tensor(0.2955), 'topic': 32, 'score': 0.5}, {'checklist_item': 'เพื่อปรับอุณหภูมิให้ใกล้เคียงกับร่างกายก่อนหยอด', 'matched_sentence': 'วันละ3ครั้ง', 'similarity_score': tensor(0.1616), 'topic': 33, 'score': 0.5}, {'checklist_item': 'ผมเป็นเภสัชกร', 'matched_sentence': 'หลังอาหารเช้ากลางวันเย็น', 'similarity_score': tensor(0.0799), 'topic': 0, 'score': 1.0}, {'checklist_item': 'ผู้ป่วยชื่ออะไร', 'matched_sentence': 'หลังอาหารเช้ากลางวันเย็น', 'similarity_score': tensor(0.1027), 'topic': 1, 'score': 1.0}, {'checklist_item': 'ผู้ป่วยชื่อชาตินามสกุลอะไร', 'matched_sentence': 'หลังอาหารเช้ากลางวันเย็น', 'similarity_score': tensor(0.1208), 'topic': 1, 'score': 0.5}, {'checklist_item': 'ผู้ป่วยชื่อชาติตระการตาใช่ไหม', 'matched_sentence': 'หลังอาหารเช้ากลางวันเย็น', 'similarity_score': tensor(0.1997), 'topic': 1, 'score': 0.25}, {'checklist_item': 'ผู้ป่วยชื่อนามสกุลอะไร', 'matched_sentence': 'หลังอาหารเช้ากลางวันเย็น', 'similarity_score': tensor(0.1074), 'topic': 1, 'score': 1.0}, {'checklist_item': 'ไอบูโปรเพน', 'matched_sentence': 'หลังอาหารเช้ากลางวันเย็น', 'similarity_score': tensor(0.0959), 'topic': 2, 'score': 0.0}, {'checklist_item': 'ความแรง400มิลลิกรัม', 'matched_sentence': 'หลังอาหารเช้ากลางวันเย็น', 'similarity_score': tensor(0.0071), 'topic': 3, 'score': 0.0}, {'checklist_item': 'จำนวน10เม็ด', 'matched_sentence': 'หลังอาหารเช้ากลางวันเย็น', 'similarity_score': tensor(0.1598), 'topic': 4, 'score': 0.0}, {'checklist_item': 'ใช้เพื่อบรรเทาอาการปวด', 'matched_sentence': 'หลังอาหารเช้ากลางวันเย็น', 'similarity_score': tensor(0.1326), 'topic': 5, 'score': 0.0}, {'checklist_item': 'รับประทานครั้งละ1เม็ด', 'matched_sentence': 'หลังอาหารเช้ากลางวันเย็น', 'similarity_score': tensor(0.3928), 'topic': 6, 'score': 0.0}, {'checklist_item': 'วันละ3ครั้ง', 'matched_sentence': 'หลังอาหารเช้ากลางวันเย็น', 'similarity_score': tensor(0.2485), 'topic': 7, 'score': 0.0}, {'checklist_item': 'หลังอาหารเช้ากลางวันเย็น', 'matched_sentence': 'หลังอาหารเช้ากลางวันเย็น', 'similarity_score': tensor(1.), 'topic': 8, 'score': 0.0}, {'checklist_item': 'ควรรับประทานหลังอาหารทันที', 'matched_sentence': 'หลังอาหารเช้ากลางวันเย็น', 'similarity_score': tensor(0.6605), 'topic': 9, 'score': 0.0}, {'checklist_item': 'อะมอกซีซิลิน', 'matched_sentence': 'หลังอาหารเช้ากลางวันเย็น', 'similarity_score': tensor(0.1620), 'topic': 10, 'score': 0.0}, {'checklist_item': 'ความแรง500มิลลิกรัม', 'matched_sentence': 'หลังอาหารเช้ากลางวันเย็น', 'similarity_score': tensor(9.1808e-05), 'topic': 11, 'score': 0.0}, {'checklist_item': 'จำนวน30เม็ด', 'matched_sentence': 'หลังอาหารเช้ากลางวันเย็น', 'similarity_score': tensor(0.1122), 'topic': 12, 'score': 0.0}, {'checklist_item': 'ใช้รักษาอาการติดเชื้อที่หู', 'matched_sentence': 'หลังอาหารเช้ากลางวันเย็น', 'similarity_score': tensor(0.0767), 'topic': 13, 'score': 0.0}, {'checklist_item': 'รับประทานครั้งละ1เม็ด', 'matched_sentence': 'หลังอาหารเช้ากลางวันเย็น', 'similarity_score': tensor(0.3928), 'topic': 14, 'score': 0.0}, {'checklist_item': 'วันละ3ครั้ง', 'matched_sentence': 'หลังอาหารเช้ากลางวันเย็น', 'similarity_score': tensor(0.2485), 'topic': 15, 'score': 0.0}, {'checklist_item': 'หลังอาหารเช้ากลางวันเย็น', 'matched_sentence': 'หลังอาหารเช้ากลางวันเย็น', 'similarity_score': tensor(1.), 'topic': 16, 'score': 0.0}, {'checklist_item': 'ควรรับประทานติดต่อกันทุกวันจนหมด', 'matched_sentence': 'หลังอาหารเช้ากลางวันเย็น', 'similarity_score': tensor(0.4952), 'topic': 17, 'score': 0.0}, {'checklist_item': 'เด็กซ์ออฟ', 'matched_sentence': 'หลังอาหารเช้ากลางวันเย็น', 'similarity_score': tensor(0.3168), 'topic': 18, 'score': 0.0}, {'checklist_item': 'ใช้รักษาหูชั้นกลางอักเสบ', 'matched_sentence': 'หลังอาหารเช้ากลางวันเย็น', 'similarity_score': tensor(0.0712), 'topic': 19, 'score': 0.25}, {'checklist_item': 'หยอดหูซ้าย3หยด', 'matched_sentence': 'หลังอาหารเช้ากลางวันเย็น', 'similarity_score': tensor(0.2075), 'topic': 20, 'score': 0.25}, {'checklist_item': 'วันละ3ครั้ง', 'matched_sentence': 'หลังอาหารเช้ากลางวันเย็น', 'similarity_score': tensor(0.2485), 'topic': 21, 'score': 0.25}, {'checklist_item': 'หลังอาหารเช้ากลางวันเย็น', 'matched_sentence': 'หลังอาหารเช้ากลางวันเย็น', 'similarity_score': tensor(1.), 'topic': 22, 'score': 0.25}, {'checklist_item': 'ล้างมือให้สะอาด', 'matched_sentence': 'หลังอาหารเช้ากลางวันเย็น', 'similarity_score': tensor(0.2645), 'topic': 23, 'score': 1.0}, {'checklist_item': 'นอนตะแคงหรือนั่งเอียงศีรษะให้หูข้างที่จะหยอดยาอยู่ด้านบน', 'matched_sentence': 'หลังอาหารเช้ากลางวันเย็น', 'similarity_score': tensor(0.3193), 'topic': 24, 'score': 1.0}, {'checklist_item': 'ให้ดึงใบหูข้างที่จะหยอดยาไปด้านหลังและดึงขึ้นด้านบน', 'matched_sentence': 'หลังอาหารเช้ากลางวันเย็น', 'similarity_score': tensor(0.1691), 'topic': 25, 'score': 0.5}, {'checklist_item': 'หยอดยาเข้าไปในหูตามที่แพทย์สั่ง', 'matched_sentence': 'หลังอาหารเช้ากลางวันเย็น', 'similarity_score': tensor(0.1193), 'topic': 26, 'score': 0.5}, {'checklist_item': 'ระวังอย่าเอาหลอดหยดสอดเข้าไปในรูหู', 'matched_sentence': 'หลังอาหารเช้ากลางวันเย็น', 'similarity_score': tensor(0.0794), 'topic': 27, 'score': 1.0}, {'checklist_item': 'เอียงตะแคงอยู่ท่าเดิมประมาณ3ถึง5นาที', 'matched_sentence': 'หลังอาหารเช้ากลางวันเย็น', 'similarity_score': tensor(0.1963), 'topic': 28, 'score': 0.5}, {'checklist_item': 'อาจเอาสำลีใส่ในรูหูไว้อีกระยะหนึ่งเพื่อไม่ให้ยาไหลออกมา', 'matched_sentence': 'หลังอาหารเช้ากลางวันเย็น', 'similarity_score': tensor(0.0906), 'topic': 29, 'score': 0.5}, {'checklist_item': 'ให้เขย่าขวดก่อนใช้ทุกครั้ง', 'matched_sentence': 'หลังอาหารเช้ากลางวันเย็น', 'similarity_score': tensor(0.2448), 'topic': 30, 'score': 0.5}, {'checklist_item': 'ใช้ไม้พันสำลีเช็ดหนองในใบหูหรือรูหูให้สะอาดก่อนและหลังหยอดยา', 'matched_sentence': 'หลังอาหารเช้ากลางวันเย็น', 'similarity_score': tensor(0.0655), 'topic': 31, 'score': 0.5}, {'checklist_item': 'ยาหยอดหูหากเก็บไว้ในตู้เย็นก่อนใช้ยาให้กำหลอดยาไว้ในอุ้งมือสักครู่', 'matched_sentence': 'หลังอาหารเช้ากลางวันเย็น', 'similarity_score': tensor(0.1992), 'topic': 32, 'score': 0.5}, {'checklist_item': 'เพื่อปรับอุณหภูมิให้ใกล้เคียงกับร่างกายก่อนหยอด', 'matched_sentence': 'หลังอาหารเช้ากลางวันเย็น', 'similarity_score': tensor(0.2169), 'topic': 33, 'score': 0.5}, {'checklist_item': 'ผมเป็นเภสัชกร', 'matched_sentence': 'ยานี้', 'similarity_score': tensor(0.5774), 'topic': 0, 'score': 1.0}, {'checklist_item': 'ผู้ป่วยชื่ออะไร', 'matched_sentence': 'ยานี้', 'similarity_score': tensor(0.4669), 'topic': 1, 'score': 1.0}, {'checklist_item': 'ผู้ป่วยชื่อชาตินามสกุลอะไร', 'matched_sentence': 'ยานี้', 'similarity_score': tensor(0.4437), 'topic': 1, 'score': 0.5}, {'checklist_item': 'ผู้ป่วยชื่อชาติตระการตาใช่ไหม', 'matched_sentence': 'ยานี้', 'similarity_score': tensor(0.4907), 'topic': 1, 'score': 0.25}, {'checklist_item': 'ผู้ป่วยชื่อนามสกุลอะไร', 'matched_sentence': 'ยานี้', 'similarity_score': tensor(0.4386), 'topic': 1, 'score': 1.0}, {'checklist_item': 'ไอบูโปรเพน', 'matched_sentence': 'ยานี้', 'similarity_score': tensor(0.4470), 'topic': 2, 'score': 0.0}, {'checklist_item': 'ความแรง400มิลลิกรัม', 'matched_sentence': 'ยานี้', 'similarity_score': tensor(0.0750), 'topic': 3, 'score': 0.0}, {'checklist_item': 'จำนวน10เม็ด', 'matched_sentence': 'ยานี้', 'similarity_score': tensor(0.3115), 'topic': 4, 'score': 0.0}, {'checklist_item': 'ใช้เพื่อบรรเทาอาการปวด', 'matched_sentence': 'ยานี้', 'similarity_score': tensor(0.5838), 'topic': 5, 'score': 0.0}, {'checklist_item': 'รับประทานครั้งละ1เม็ด', 'matched_sentence': 'ยานี้', 'similarity_score': tensor(0.2923), 'topic': 6, 'score': 0.0}, {'checklist_item': 'วันละ3ครั้ง', 'matched_sentence': 'ยานี้', 'similarity_score': tensor(0.1945), 'topic': 7, 'score': 0.0}, {'checklist_item': 'หลังอาหารเช้ากลางวันเย็น', 'matched_sentence': 'ยานี้', 'similarity_score': tensor(0.1445), 'topic': 8, 'score': 0.0}, {'checklist_item': 'ควรรับประทานหลังอาหารทันที', 'matched_sentence': 'ยานี้', 'similarity_score': tensor(0.2174), 'topic': 9, 'score': 0.0}, {'checklist_item': 'อะมอกซีซิลิน', 'matched_sentence': 'ยานี้', 'similarity_score': tensor(0.6728), 'topic': 10, 'score': 0.0}, {'checklist_item': 'ความแรง500มิลลิกรัม', 'matched_sentence': 'ยานี้', 'similarity_score': tensor(0.1076), 'topic': 11, 'score': 0.0}, {'checklist_item': 'จำนวน30เม็ด', 'matched_sentence': 'ยานี้', 'similarity_score': tensor(0.2747), 'topic': 12, 'score': 0.0}, {'checklist_item': 'ใช้รักษาอาการติดเชื้อที่หู', 'matched_sentence': 'ยานี้', 'similarity_score': tensor(0.4274), 'topic': 13, 'score': 0.0}, {'checklist_item': 'รับประทานครั้งละ1เม็ด', 'matched_sentence': 'ยานี้', 'similarity_score': tensor(0.2923), 'topic': 14, 'score': 0.0}, {'checklist_item': 'วันละ3ครั้ง', 'matched_sentence': 'ยานี้', 'similarity_score': tensor(0.1945), 'topic': 15, 'score': 0.0}, {'checklist_item': 'หลังอาหารเช้ากลางวันเย็น', 'matched_sentence': 'ยานี้', 'similarity_score': tensor(0.1445), 'topic': 16, 'score': 0.0}, {'checklist_item': 'ควรรับประทานติดต่อกันทุกวันจนหมด', 'matched_sentence': 'ยานี้', 'similarity_score': tensor(0.1017), 'topic': 17, 'score': 0.0}, {'checklist_item': 'เด็กซ์ออฟ', 'matched_sentence': 'ยานี้', 'similarity_score': tensor(0.5040), 'topic': 18, 'score': 0.0}, {'checklist_item': 'ใช้รักษาหูชั้นกลางอักเสบ', 'matched_sentence': 'ยานี้', 'similarity_score': tensor(0.4096), 'topic': 19, 'score': 0.25}, {'checklist_item': 'หยอดหูซ้าย3หยด', 'matched_sentence': 'ยานี้', 'similarity_score': tensor(0.3088), 'topic': 20, 'score': 0.25}, {'checklist_item': 'วันละ3ครั้ง', 'matched_sentence': 'ยานี้', 'similarity_score': tensor(0.1945), 'topic': 21, 'score': 0.25}, {'checklist_item': 'หลังอาหารเช้ากลางวันเย็น', 'matched_sentence': 'ยานี้', 'similarity_score': tensor(0.1445), 'topic': 22, 'score': 0.25}, {'checklist_item': 'ล้างมือให้สะอาด', 'matched_sentence': 'ยานี้', 'similarity_score': tensor(0.2902), 'topic': 23, 'score': 1.0}, {'checklist_item': 'นอนตะแคงหรือนั่งเอียงศีรษะให้หูข้างที่จะหยอดยาอยู่ด้านบน', 'matched_sentence': 'ยานี้', 'similarity_score': tensor(0.4076), 'topic': 24, 'score': 1.0}, {'checklist_item': 'ให้ดึงใบหูข้างที่จะหยอดยาไปด้านหลังและดึงขึ้นด้านบน', 'matched_sentence': 'ยานี้', 'similarity_score': tensor(0.4433), 'topic': 25, 'score': 0.5}, {'checklist_item': 'หยอดยาเข้าไปในหูตามที่แพทย์สั่ง', 'matched_sentence': 'ยานี้', 'similarity_score': tensor(0.5161), 'topic': 26, 'score': 0.5}, {'checklist_item': 'ระวังอย่าเอาหลอดหยดสอดเข้าไปในรูหู', 'matched_sentence': 'ยานี้', 'similarity_score': tensor(0.3115), 'topic': 27, 'score': 1.0}, {'checklist_item': 'เอียงตะแคงอยู่ท่าเดิมประมาณ3ถึง5นาที', 'matched_sentence': 'ยานี้', 'similarity_score': tensor(0.1116), 'topic': 28, 'score': 0.5}, {'checklist_item': 'อาจเอาสำลีใส่ในรูหูไว้อีกระยะหนึ่งเพื่อไม่ให้ยาไหลออกมา', 'matched_sentence': 'ยานี้', 'similarity_score': tensor(0.4695), 'topic': 29, 'score': 0.5}, {'checklist_item': 'ให้เขย่าขวดก่อนใช้ทุกครั้ง', 'matched_sentence': 'ยานี้', 'similarity_score': tensor(0.4040), 'topic': 30, 'score': 0.5}, {'checklist_item': 'ใช้ไม้พันสำลีเช็ดหนองในใบหูหรือรูหูให้สะอาดก่อนและหลังหยอดยา', 'matched_sentence': 'ยานี้', 'similarity_score': tensor(0.4117), 'topic': 31, 'score': 0.5}, {'checklist_item': 'ยาหยอดหูหากเก็บไว้ในตู้เย็นก่อนใช้ยาให้กำหลอดยาไว้ในอุ้งมือสักครู่', 'matched_sentence': 'ยานี้', 'similarity_score': tensor(0.6060), 'topic': 32, 'score': 0.5}, {'checklist_item': 'เพื่อปรับอุณหภูมิให้ใกล้เคียงกับร่างกายก่อนหยอด', 'matched_sentence': 'ยานี้', 'similarity_score': tensor(0.2500), 'topic': 33, 'score': 0.5}, {'checklist_item': 'ผมเป็นเภสัชกร', 'matched_sentence': 'ควรรับประทานหลังอาหารทันที', 'similarity_score': tensor(0.1391), 'topic': 0, 'score': 1.0}, {'checklist_item': 'ผู้ป่วยชื่ออะไร', 'matched_sentence': 'ควรรับประทานหลังอาหารทันที', 'similarity_score': tensor(0.0058), 'topic': 1, 'score': 1.0}, {'checklist_item': 'ผู้ป่วยชื่อชาตินามสกุลอะไร', 'matched_sentence': 'ควรรับประทานหลังอาหารทันที', 'similarity_score': tensor(0.0178), 'topic': 1, 'score': 0.5}, {'checklist_item': 'ผู้ป่วยชื่อชาติตระการตาใช่ไหม', 'matched_sentence': 'ควรรับประทานหลังอาหารทันที', 'similarity_score': tensor(0.0978), 'topic': 1, 'score': 0.25}, {'checklist_item': 'ผู้ป่วยชื่อนามสกุลอะไร', 'matched_sentence': 'ควรรับประทานหลังอาหารทันที', 'similarity_score': tensor(0.0027), 'topic': 1, 'score': 1.0}, {'checklist_item': 'ไอบูโปรเพน', 'matched_sentence': 'ควรรับประทานหลังอาหารทันที', 'similarity_score': tensor(0.1220), 'topic': 2, 'score': 0.0}, {'checklist_item': 'ความแรง400มิลลิกรัม', 'matched_sentence': 'ควรรับประทานหลังอาหารทันที', 'similarity_score': tensor(-0.0414), 'topic': 3, 'score': 0.0}, {'checklist_item': 'จำนวน10เม็ด', 'matched_sentence': 'ควรรับประทานหลังอาหารทันที', 'similarity_score': tensor(0.0928), 'topic': 4, 'score': 0.0}, {'checklist_item': 'ใช้เพื่อบรรเทาอาการปวด', 'matched_sentence': 'ควรรับประทานหลังอาหารทันที', 'similarity_score': tensor(0.1691), 'topic': 5, 'score': 0.0}, {'checklist_item': 'รับประทานครั้งละ1เม็ด', 'matched_sentence': 'ควรรับประทานหลังอาหารทันที', 'similarity_score': tensor(0.5474), 'topic': 6, 'score': 0.0}, {'checklist_item': 'วันละ3ครั้ง', 'matched_sentence': 'ควรรับประทานหลังอาหารทันที', 'similarity_score': tensor(0.2455), 'topic': 7, 'score': 0.0}, {'checklist_item': 'หลังอาหารเช้ากลางวันเย็น', 'matched_sentence': 'ควรรับประทานหลังอาหารทันที', 'similarity_score': tensor(0.6605), 'topic': 8, 'score': 0.0}, {'checklist_item': 'ควรรับประทานหลังอาหารทันที', 'matched_sentence': 'ควรรับประทานหลังอาหารทันที', 'similarity_score': tensor(1.), 'topic': 9, 'score': 0.0}, {'checklist_item': 'อะมอกซีซิลิน', 'matched_sentence': 'ควรรับประทานหลังอาหารทันที', 'similarity_score': tensor(0.1381), 'topic': 10, 'score': 0.0}, {'checklist_item': 'ความแรง500มิลลิกรัม', 'matched_sentence': 'ควรรับประทานหลังอาหารทันที', 'similarity_score': tensor(0.0046), 'topic': 11, 'score': 0.0}, {'checklist_item': 'จำนวน30เม็ด', 'matched_sentence': 'ควรรับประทานหลังอาหารทันที', 'similarity_score': tensor(0.0696), 'topic': 12, 'score': 0.0}, {'checklist_item': 'ใช้รักษาอาการติดเชื้อที่หู', 'matched_sentence': 'ควรรับประทานหลังอาหารทันที', 'similarity_score': tensor(0.0520), 'topic': 13, 'score': 0.0}, {'checklist_item': 'รับประทานครั้งละ1เม็ด', 'matched_sentence': 'ควรรับประทานหลังอาหารทันที', 'similarity_score': tensor(0.5474), 'topic': 14, 'score': 0.0}, {'checklist_item': 'วันละ3ครั้ง', 'matched_sentence': 'ควรรับประทานหลังอาหารทันที', 'similarity_score': tensor(0.2455), 'topic': 15, 'score': 0.0}, {'checklist_item': 'หลังอาหารเช้ากลางวันเย็น', 'matched_sentence': 'ควรรับประทานหลังอาหารทันที', 'similarity_score': tensor(0.6605), 'topic': 16, 'score': 0.0}, {'checklist_item': 'ควรรับประทานติดต่อกันทุกวันจนหมด', 'matched_sentence': 'ควรรับประทานหลังอาหารทันที', 'similarity_score': tensor(0.6267), 'topic': 17, 'score': 0.0}, {'checklist_item': 'เด็กซ์ออฟ', 'matched_sentence': 'ควรรับประทานหลังอาหารทันที', 'similarity_score': tensor(0.2870), 'topic': 18, 'score': 0.0}, {'checklist_item': 'ใช้รักษาหูชั้นกลางอักเสบ', 'matched_sentence': 'ควรรับประทานหลังอาหารทันที', 'similarity_score': tensor(0.0224), 'topic': 19, 'score': 0.25}, {'checklist_item': 'หยอดหูซ้าย3หยด', 'matched_sentence': 'ควรรับประทานหลังอาหารทันที', 'similarity_score': tensor(0.1120), 'topic': 20, 'score': 0.25}, {'checklist_item': 'วันละ3ครั้ง', 'matched_sentence': 'ควรรับประทานหลังอาหารทันที', 'similarity_score': tensor(0.2455), 'topic': 21, 'score': 0.25}, {'checklist_item': 'หลังอาหารเช้ากลางวันเย็น', 'matched_sentence': 'ควรรับประทานหลังอาหารทันที', 'similarity_score': tensor(0.6605), 'topic': 22, 'score': 0.25}, {'checklist_item': 'ล้างมือให้สะอาด', 'matched_sentence': 'ควรรับประทานหลังอาหารทันที', 'similarity_score': tensor(0.2722), 'topic': 23, 'score': 1.0}, {'checklist_item': 'นอนตะแคงหรือนั่งเอียงศีรษะให้หูข้างที่จะหยอดยาอยู่ด้านบน', 'matched_sentence': 'ควรรับประทานหลังอาหารทันที', 'similarity_score': tensor(0.2481), 'topic': 24, 'score': 1.0}, {'checklist_item': 'ให้ดึงใบหูข้างที่จะหยอดยาไปด้านหลังและดึงขึ้นด้านบน', 'matched_sentence': 'ควรรับประทานหลังอาหารทันที', 'similarity_score': tensor(0.1465), 'topic': 25, 'score': 0.5}, {'checklist_item': 'หยอดยาเข้าไปในหูตามที่แพทย์สั่ง', 'matched_sentence': 'ควรรับประทานหลังอาหารทันที', 'similarity_score': tensor(0.0920), 'topic': 26, 'score': 0.5}, {'checklist_item': 'ระวังอย่าเอาหลอดหยดสอดเข้าไปในรูหู', 'matched_sentence': 'ควรรับประทานหลังอาหารทันที', 'similarity_score': tensor(0.1771), 'topic': 27, 'score': 1.0}, {'checklist_item': 'เอียงตะแคงอยู่ท่าเดิมประมาณ3ถึง5นาที', 'matched_sentence': 'ควรรับประทานหลังอาหารทันที', 'similarity_score': tensor(0.2308), 'topic': 28, 'score': 0.5}, {'checklist_item': 'อาจเอาสำลีใส่ในรูหูไว้อีกระยะหนึ่งเพื่อไม่ให้ยาไหลออกมา', 'matched_sentence': 'ควรรับประทานหลังอาหารทันที', 'similarity_score': tensor(0.1981), 'topic': 29, 'score': 0.5}, {'checklist_item': 'ให้เขย่าขวดก่อนใช้ทุกครั้ง', 'matched_sentence': 'ควรรับประทานหลังอาหารทันที', 'similarity_score': tensor(0.3570), 'topic': 30, 'score': 0.5}, {'checklist_item': 'ใช้ไม้พันสำลีเช็ดหนองในใบหูหรือรูหูให้สะอาดก่อนและหลังหยอดยา', 'matched_sentence': 'ควรรับประทานหลังอาหารทันที', 'similarity_score': tensor(0.1153), 'topic': 31, 'score': 0.5}, {'checklist_item': 'ยาหยอดหูหากเก็บไว้ในตู้เย็นก่อนใช้ยาให้กำหลอดยาไว้ในอุ้งมือสักครู่', 'matched_sentence': 'ควรรับประทานหลังอาหารทันที', 'similarity_score': tensor(0.3283), 'topic': 32, 'score': 0.5}, {'checklist_item': 'เพื่อปรับอุณหภูมิให้ใกล้เคียงกับร่างกายก่อนหยอด', 'matched_sentence': 'ควรรับประทานหลังอาหารทันที', 'similarity_score': tensor(0.2982), 'topic': 33, 'score': 0.5}, {'checklist_item': 'ผมเป็นเภสัชกร', 'matched_sentence': 'ส่วนยานี้ชื่อ', 'similarity_score': tensor(0.5250), 'topic': 0, 'score': 1.0}, {'checklist_item': 'ผู้ป่วยชื่ออะไร', 'matched_sentence': 'ส่วนยานี้ชื่อ', 'similarity_score': tensor(0.5681), 'topic': 1, 'score': 1.0}, {'checklist_item': 'ผู้ป่วยชื่อชาตินามสกุลอะไร', 'matched_sentence': 'ส่วนยานี้ชื่อ', 'similarity_score': tensor(0.5490), 'topic': 1, 'score': 0.5}, {'checklist_item': 'ผู้ป่วยชื่อชาติตระการตาใช่ไหม', 'matched_sentence': 'ส่วนยานี้ชื่อ', 'similarity_score': tensor(0.4882), 'topic': 1, 'score': 0.25}, {'checklist_item': 'ผู้ป่วยชื่อนามสกุลอะไร', 'matched_sentence': 'ส่วนยานี้ชื่อ', 'similarity_score': tensor(0.5686), 'topic': 1, 'score': 1.0}, {'checklist_item': 'ไอบูโปรเพน', 'matched_sentence': 'ส่วนยานี้ชื่อ', 'similarity_score': tensor(0.3814), 'topic': 2, 'score': 0.0}, {'checklist_item': 'ความแรง400มิลลิกรัม', 'matched_sentence': 'ส่วนยานี้ชื่อ', 'similarity_score': tensor(0.0341), 'topic': 3, 'score': 0.0}, {'checklist_item': 'จำนวน10เม็ด', 'matched_sentence': 'ส่วนยานี้ชื่อ', 'similarity_score': tensor(0.2653), 'topic': 4, 'score': 0.0}, {'checklist_item': 'ใช้เพื่อบรรเทาอาการปวด', 'matched_sentence': 'ส่วนยานี้ชื่อ', 'similarity_score': tensor(0.4853), 'topic': 5, 'score': 0.0}, {'checklist_item': 'รับประทานครั้งละ1เม็ด', 'matched_sentence': 'ส่วนยานี้ชื่อ', 'similarity_score': tensor(0.2127), 'topic': 6, 'score': 0.0}, {'checklist_item': 'วันละ3ครั้ง', 'matched_sentence': 'ส่วนยานี้ชื่อ', 'similarity_score': tensor(0.1548), 'topic': 7, 'score': 0.0}, {'checklist_item': 'หลังอาหารเช้ากลางวันเย็น', 'matched_sentence': 'ส่วนยานี้ชื่อ', 'similarity_score': tensor(0.1156), 'topic': 8, 'score': 0.0}, {'checklist_item': 'ควรรับประทานหลังอาหารทันที', 'matched_sentence': 'ส่วนยานี้ชื่อ', 'similarity_score': tensor(0.1308), 'topic': 9, 'score': 0.0}, {'checklist_item': 'อะมอกซีซิลิน', 'matched_sentence': 'ส่วนยานี้ชื่อ', 'similarity_score': tensor(0.5881), 'topic': 10, 'score': 0.0}, {'checklist_item': 'ความแรง500มิลลิกรัม', 'matched_sentence': 'ส่วนยานี้ชื่อ', 'similarity_score': tensor(0.0645), 'topic': 11, 'score': 0.0}, {'checklist_item': 'จำนวน30เม็ด', 'matched_sentence': 'ส่วนยานี้ชื่อ', 'similarity_score': tensor(0.2571), 'topic': 12, 'score': 0.0}, {'checklist_item': 'ใช้รักษาอาการติดเชื้อที่หู', 'matched_sentence': 'ส่วนยานี้ชื่อ', 'similarity_score': tensor(0.3355), 'topic': 13, 'score': 0.0}, {'checklist_item': 'รับประทานครั้งละ1เม็ด', 'matched_sentence': 'ส่วนยานี้ชื่อ', 'similarity_score': tensor(0.2127), 'topic': 14, 'score': 0.0}, {'checklist_item': 'วันละ3ครั้ง', 'matched_sentence': 'ส่วนยานี้ชื่อ', 'similarity_score': tensor(0.1548), 'topic': 15, 'score': 0.0}, {'checklist_item': 'หลังอาหารเช้ากลางวันเย็น', 'matched_sentence': 'ส่วนยานี้ชื่อ', 'similarity_score': tensor(0.1156), 'topic': 16, 'score': 0.0}, {'checklist_item': 'ควรรับประทานติดต่อกันทุกวันจนหมด', 'matched_sentence': 'ส่วนยานี้ชื่อ', 'similarity_score': tensor(0.0211), 'topic': 17, 'score': 0.0}, {'checklist_item': 'เด็กซ์ออฟ', 'matched_sentence': 'ส่วนยานี้ชื่อ', 'similarity_score': tensor(0.4394), 'topic': 18, 'score': 0.0}, {'checklist_item': 'ใช้รักษาหูชั้นกลางอักเสบ', 'matched_sentence': 'ส่วนยานี้ชื่อ', 'similarity_score': tensor(0.3125), 'topic': 19, 'score': 0.25}, {'checklist_item': 'หยอดหูซ้าย3หยด', 'matched_sentence': 'ส่วนยานี้ชื่อ', 'similarity_score': tensor(0.2691), 'topic': 20, 'score': 0.25}, {'checklist_item': 'วันละ3ครั้ง', 'matched_sentence': 'ส่วนยานี้ชื่อ', 'similarity_score': tensor(0.1548), 'topic': 21, 'score': 0.25}, {'checklist_item': 'หลังอาหารเช้ากลางวันเย็น', 'matched_sentence': 'ส่วนยานี้ชื่อ', 'similarity_score': tensor(0.1156), 'topic': 22, 'score': 0.25}, {'checklist_item': 'ล้างมือให้สะอาด', 'matched_sentence': 'ส่วนยานี้ชื่อ', 'similarity_score': tensor(0.2546), 'topic': 23, 'score': 1.0}, {'checklist_item': 'นอนตะแคงหรือนั่งเอียงศีรษะให้หูข้างที่จะหยอดยาอยู่ด้านบน', 'matched_sentence': 'ส่วนยานี้ชื่อ', 'similarity_score': tensor(0.3367), 'topic': 24, 'score': 1.0}, {'checklist_item': 'ให้ดึงใบหูข้างที่จะหยอดยาไปด้านหลังและดึงขึ้นด้านบน', 'matched_sentence': 'ส่วนยานี้ชื่อ', 'similarity_score': tensor(0.3726), 'topic': 25, 'score': 0.5}, {'checklist_item': 'หยอดยาเข้าไปในหูตามที่แพทย์สั่ง', 'matched_sentence': 'ส่วนยานี้ชื่อ', 'similarity_score': tensor(0.4569), 'topic': 26, 'score': 0.5}, {'checklist_item': 'ระวังอย่าเอาหลอดหยดสอดเข้าไปในรูหู', 'matched_sentence': 'ส่วนยานี้ชื่อ', 'similarity_score': tensor(0.2438), 'topic': 27, 'score': 1.0}, {'checklist_item': 'เอียงตะแคงอยู่ท่าเดิมประมาณ3ถึง5นาที', 'matched_sentence': 'ส่วนยานี้ชื่อ', 'similarity_score': tensor(0.1149), 'topic': 28, 'score': 0.5}, {'checklist_item': 'อาจเอาสำลีใส่ในรูหูไว้อีกระยะหนึ่งเพื่อไม่ให้ยาไหลออกมา', 'matched_sentence': 'ส่วนยานี้ชื่อ', 'similarity_score': tensor(0.4127), 'topic': 29, 'score': 0.5}, {'checklist_item': 'ให้เขย่าขวดก่อนใช้ทุกครั้ง', 'matched_sentence': 'ส่วนยานี้ชื่อ', 'similarity_score': tensor(0.3681), 'topic': 30, 'score': 0.5}, {'checklist_item': 'ใช้ไม้พันสำลีเช็ดหนองในใบหูหรือรูหูให้สะอาดก่อนและหลังหยอดยา', 'matched_sentence': 'ส่วนยานี้ชื่อ', 'similarity_score': tensor(0.3271), 'topic': 31, 'score': 0.5}, {'checklist_item': 'ยาหยอดหูหากเก็บไว้ในตู้เย็นก่อนใช้ยาให้กำหลอดยาไว้ในอุ้งมือสักครู่', 'matched_sentence': 'ส่วนยานี้ชื่อ', 'similarity_score': tensor(0.5792), 'topic': 32, 'score': 0.5}, {'checklist_item': 'เพื่อปรับอุณหภูมิให้ใกล้เคียงกับร่างกายก่อนหยอด', 'matched_sentence': 'ส่วนยานี้ชื่อ', 'similarity_score': tensor(0.1441), 'topic': 33, 'score': 0.5}, {'checklist_item': 'ผมเป็นเภสัชกร', 'matched_sentence': 'อะมอกซีซิลิน', 'similarity_score': tensor(0.4162), 'topic': 0, 'score': 1.0}, {'checklist_item': 'ผู้ป่วยชื่ออะไร', 'matched_sentence': 'อะมอกซีซิลิน', 'similarity_score': tensor(0.4498), 'topic': 1, 'score': 1.0}, {'checklist_item': 'ผู้ป่วยชื่อชาตินามสกุลอะไร', 'matched_sentence': 'อะมอกซีซิลิน', 'similarity_score': tensor(0.4477), 'topic': 1, 'score': 0.5}, {'checklist_item': 'ผู้ป่วยชื่อชาติตระการตาใช่ไหม', 'matched_sentence': 'อะมอกซีซิลิน', 'similarity_score': tensor(0.5083), 'topic': 1, 'score': 0.25}, {'checklist_item': 'ผู้ป่วยชื่อนามสกุลอะไร', 'matched_sentence': 'อะมอกซีซิลิน', 'similarity_score': tensor(0.4222), 'topic': 1, 'score': 1.0}, {'checklist_item': 'ไอบูโปรเพน', 'matched_sentence': 'อะมอกซีซิลิน', 'similarity_score': tensor(0.5152), 'topic': 2, 'score': 0.0}, {'checklist_item': 'ความแรง400มิลลิกรัม', 'matched_sentence': 'อะมอกซีซิลิน', 'similarity_score': tensor(0.0487), 'topic': 3, 'score': 0.0}, {'checklist_item': 'จำนวน10เม็ด', 'matched_sentence': 'อะมอกซีซิลิน', 'similarity_score': tensor(0.2953), 'topic': 4, 'score': 0.0}, {'checklist_item': 'ใช้เพื่อบรรเทาอาการปวด', 'matched_sentence': 'อะมอกซีซิลิน', 'similarity_score': tensor(0.4728), 'topic': 5, 'score': 0.0}, {'checklist_item': 'รับประทานครั้งละ1เม็ด', 'matched_sentence': 'อะมอกซีซิลิน', 'similarity_score': tensor(0.2289), 'topic': 6, 'score': 0.0}, {'checklist_item': 'วันละ3ครั้ง', 'matched_sentence': 'อะมอกซีซิลิน', 'similarity_score': tensor(0.2199), 'topic': 7, 'score': 0.0}, {'checklist_item': 'หลังอาหารเช้ากลางวันเย็น', 'matched_sentence': 'อะมอกซีซิลิน', 'similarity_score': tensor(0.1620), 'topic': 8, 'score': 0.0}, {'checklist_item': 'ควรรับประทานหลังอาหารทันที', 'matched_sentence': 'อะมอกซีซิลิน', 'similarity_score': tensor(0.1381), 'topic': 9, 'score': 0.0}, {'checklist_item': 'อะมอกซีซิลิน', 'matched_sentence': 'อะมอกซีซิลิน', 'similarity_score': tensor(1.), 'topic': 10, 'score': 0.0}, {'checklist_item': 'ความแรง500มิลลิกรัม', 'matched_sentence': 'อะมอกซีซิลิน', 'similarity_score': tensor(0.0350), 'topic': 11, 'score': 0.0}, {'checklist_item': 'จำนวน30เม็ด', 'matched_sentence': 'อะมอกซีซิลิน', 'similarity_score': tensor(0.2634), 'topic': 12, 'score': 0.0}, {'checklist_item': 'ใช้รักษาอาการติดเชื้อที่หู', 'matched_sentence': 'อะมอกซีซิลิน', 'similarity_score': tensor(0.4562), 'topic': 13, 'score': 0.0}, {'checklist_item': 'รับประทานครั้งละ1เม็ด', 'matched_sentence': 'อะมอกซีซิลิน', 'similarity_score': tensor(0.2289), 'topic': 14, 'score': 0.0}, {'checklist_item': 'วันละ3ครั้ง', 'matched_sentence': 'อะมอกซีซิลิน', 'similarity_score': tensor(0.2199), 'topic': 15, 'score': 0.0}, {'checklist_item': 'หลังอาหารเช้ากลางวันเย็น', 'matched_sentence': 'อะมอกซีซิลิน', 'similarity_score': tensor(0.1620), 'topic': 16, 'score': 0.0}, {'checklist_item': 'ควรรับประทานติดต่อกันทุกวันจนหมด', 'matched_sentence': 'อะมอกซีซิลิน', 'similarity_score': tensor(0.1240), 'topic': 17, 'score': 0.0}, {'checklist_item': 'เด็กซ์ออฟ', 'matched_sentence': 'อะมอกซีซิลิน', 'similarity_score': tensor(0.5250), 'topic': 18, 'score': 0.0}, {'checklist_item': 'ใช้รักษาหูชั้นกลางอักเสบ', 'matched_sentence': 'อะมอกซีซิลิน', 'similarity_score': tensor(0.4506), 'topic': 19, 'score': 0.25}, {'checklist_item': 'หยอดหูซ้าย3หยด', 'matched_sentence': 'อะมอกซีซิลิน', 'similarity_score': tensor(0.3487), 'topic': 20, 'score': 0.25}, {'checklist_item': 'วันละ3ครั้ง', 'matched_sentence': 'อะมอกซีซิลิน', 'similarity_score': tensor(0.2199), 'topic': 21, 'score': 0.25}, {'checklist_item': 'หลังอาหารเช้ากลางวันเย็น', 'matched_sentence': 'อะมอกซีซิลิน', 'similarity_score': tensor(0.1620), 'topic': 22, 'score': 0.25}, {'checklist_item': 'ล้างมือให้สะอาด', 'matched_sentence': 'อะมอกซีซิลิน', 'similarity_score': tensor(0.2253), 'topic': 23, 'score': 1.0}, {'checklist_item': 'นอนตะแคงหรือนั่งเอียงศีรษะให้หูข้างที่จะหยอดยาอยู่ด้านบน', 'matched_sentence': 'อะมอกซีซิลิน', 'similarity_score': tensor(0.3866), 'topic': 24, 'score': 1.0}, {'checklist_item': 'ให้ดึงใบหูข้างที่จะหยอดยาไปด้านหลังและดึงขึ้นด้านบน', 'matched_sentence': 'อะมอกซีซิลิน', 'similarity_score': tensor(0.3675), 'topic': 25, 'score': 0.5}, {'checklist_item': 'หยอดยาเข้าไปในหูตามที่แพทย์สั่ง', 'matched_sentence': 'อะมอกซีซิลิน', 'similarity_score': tensor(0.3887), 'topic': 26, 'score': 0.5}, {'checklist_item': 'ระวังอย่าเอาหลอดหยดสอดเข้าไปในรูหู', 'matched_sentence': 'อะมอกซีซิลิน', 'similarity_score': tensor(0.2503), 'topic': 27, 'score': 1.0}, {'checklist_item': 'เอียงตะแคงอยู่ท่าเดิมประมาณ3ถึง5นาที', 'matched_sentence': 'อะมอกซีซิลิน', 'similarity_score': tensor(0.1283), 'topic': 28, 'score': 0.5}, {'checklist_item': 'อาจเอาสำลีใส่ในรูหูไว้อีกระยะหนึ่งเพื่อไม่ให้ยาไหลออกมา', 'matched_sentence': 'อะมอกซีซิลิน', 'similarity_score': tensor(0.3342), 'topic': 29, 'score': 0.5}, {'checklist_item': 'ให้เขย่าขวดก่อนใช้ทุกครั้ง', 'matched_sentence': 'อะมอกซีซิลิน', 'similarity_score': tensor(0.2886), 'topic': 30, 'score': 0.5}, {'checklist_item': 'ใช้ไม้พันสำลีเช็ดหนองในใบหูหรือรูหูให้สะอาดก่อนและหลังหยอดยา', 'matched_sentence': 'อะมอกซีซิลิน', 'similarity_score': tensor(0.3176), 'topic': 31, 'score': 0.5}, {'checklist_item': 'ยาหยอดหูหากเก็บไว้ในตู้เย็นก่อนใช้ยาให้กำหลอดยาไว้ในอุ้งมือสักครู่', 'matched_sentence': 'อะมอกซีซิลิน', 'similarity_score': tensor(0.4028), 'topic': 32, 'score': 0.5}, {'checklist_item': 'เพื่อปรับอุณหภูมิให้ใกล้เคียงกับร่างกายก่อนหยอด', 'matched_sentence': 'อะมอกซีซิลิน', 'similarity_score': tensor(0.2541), 'topic': 33, 'score': 0.5}, {'checklist_item': 'ผมเป็นเภสัชกร', 'matched_sentence': 'ความแรง500มิลลิกรัม', 'similarity_score': tensor(0.0980), 'topic': 0, 'score': 1.0}, {'checklist_item': 'ผู้ป่วยชื่ออะไร', 'matched_sentence': 'ความแรง500มิลลิกรัม', 'similarity_score': tensor(-0.0539), 'topic': 1, 'score': 1.0}, {'checklist_item': 'ผู้ป่วยชื่อชาตินามสกุลอะไร', 'matched_sentence': 'ความแรง500มิลลิกรัม', 'similarity_score': tensor(-0.0712), 'topic': 1, 'score': 0.5}, {'checklist_item': 'ผู้ป่วยชื่อชาติตระการตาใช่ไหม', 'matched_sentence': 'ความแรง500มิลลิกรัม', 'similarity_score': tensor(-0.0311), 'topic': 1, 'score': 0.25}, {'checklist_item': 'ผู้ป่วยชื่อนามสกุลอะไร', 'matched_sentence': 'ความแรง500มิลลิกรัม', 'similarity_score': tensor(-0.0785), 'topic': 1, 'score': 1.0}, {'checklist_item': 'ไอบูโปรเพน', 'matched_sentence': 'ความแรง500มิลลิกรัม', 'similarity_score': tensor(0.1289), 'topic': 2, 'score': 0.0}, {'checklist_item': 'ความแรง400มิลลิกรัม', 'matched_sentence': 'ความแรง500มิลลิกรัม', 'similarity_score': tensor(0.8853), 'topic': 3, 'score': 0.0}, {'checklist_item': 'จำนวน10เม็ด', 'matched_sentence': 'ความแรง500มิลลิกรัม', 'similarity_score': tensor(0.3785), 'topic': 4, 'score': 0.0}, {'checklist_item': 'ใช้เพื่อบรรเทาอาการปวด', 'matched_sentence': 'ความแรง500มิลลิกรัม', 'similarity_score': tensor(0.1491), 'topic': 5, 'score': 0.0}, {'checklist_item': 'รับประทานครั้งละ1เม็ด', 'matched_sentence': 'ความแรง500มิลลิกรัม', 'similarity_score': tensor(0.2684), 'topic': 6, 'score': 0.0}, {'checklist_item': 'วันละ3ครั้ง', 'matched_sentence': 'ความแรง500มิลลิกรัม', 'similarity_score': tensor(0.1220), 'topic': 7, 'score': 0.0}, {'checklist_item': 'หลังอาหารเช้ากลางวันเย็น', 'matched_sentence': 'ความแรง500มิลลิกรัม', 'similarity_score': tensor(9.1840e-05), 'topic': 8, 'score': 0.0}, {'checklist_item': 'ควรรับประทานหลังอาหารทันที', 'matched_sentence': 'ความแรง500มิลลิกรัม', 'similarity_score': tensor(0.0046), 'topic': 9, 'score': 0.0}, {'checklist_item': 'อะมอกซีซิลิน', 'matched_sentence': 'ความแรง500มิลลิกรัม', 'similarity_score': tensor(0.0350), 'topic': 10, 'score': 0.0}, {'checklist_item': 'ความแรง500มิลลิกรัม', 'matched_sentence': 'ความแรง500มิลลิกรัม', 'similarity_score': tensor(1.), 'topic': 11, 'score': 0.0}, {'checklist_item': 'จำนวน30เม็ด', 'matched_sentence': 'ความแรง500มิลลิกรัม', 'similarity_score': tensor(0.3582), 'topic': 12, 'score': 0.0}, {'checklist_item': 'ใช้รักษาอาการติดเชื้อที่หู', 'matched_sentence': 'ความแรง500มิลลิกรัม', 'similarity_score': tensor(-0.0418), 'topic': 13, 'score': 0.0}, {'checklist_item': 'รับประทานครั้งละ1เม็ด', 'matched_sentence': 'ความแรง500มิลลิกรัม', 'similarity_score': tensor(0.2684), 'topic': 14, 'score': 0.0}, {'checklist_item': 'วันละ3ครั้ง', 'matched_sentence': 'ความแรง500มิลลิกรัม', 'similarity_score': tensor(0.1220), 'topic': 15, 'score': 0.0}, {'checklist_item': 'หลังอาหารเช้ากลางวันเย็น', 'matched_sentence': 'ความแรง500มิลลิกรัม', 'similarity_score': tensor(9.1840e-05), 'topic': 16, 'score': 0.0}, {'checklist_item': 'ควรรับประทานติดต่อกันทุกวันจนหมด', 'matched_sentence': 'ความแรง500มิลลิกรัม', 'similarity_score': tensor(0.0797), 'topic': 17, 'score': 0.0}, {'checklist_item': 'เด็กซ์ออฟ', 'matched_sentence': 'ความแรง500มิลลิกรัม', 'similarity_score': tensor(0.1364), 'topic': 18, 'score': 0.0}, {'checklist_item': 'ใช้รักษาหูชั้นกลางอักเสบ', 'matched_sentence': 'ความแรง500มิลลิกรัม', 'similarity_score': tensor(-0.0329), 'topic': 19, 'score': 0.25}, {'checklist_item': 'หยอดหูซ้าย3หยด', 'matched_sentence': 'ความแรง500มิลลิกรัม', 'similarity_score': tensor(0.1012), 'topic': 20, 'score': 0.25}, {'checklist_item': 'วันละ3ครั้ง', 'matched_sentence': 'ความแรง500มิลลิกรัม', 'similarity_score': tensor(0.1220), 'topic': 21, 'score': 0.25}, {'checklist_item': 'หลังอาหารเช้ากลางวันเย็น', 'matched_sentence': 'ความแรง500มิลลิกรัม', 'similarity_score': tensor(9.1840e-05), 'topic': 22, 'score': 0.25}, {'checklist_item': 'ล้างมือให้สะอาด', 'matched_sentence': 'ความแรง500มิลลิกรัม', 'similarity_score': tensor(0.1369), 'topic': 23, 'score': 1.0}, {'checklist_item': 'นอนตะแคงหรือนั่งเอียงศีรษะให้หูข้างที่จะหยอดยาอยู่ด้านบน', 'matched_sentence': 'ความแรง500มิลลิกรัม', 'similarity_score': tensor(0.0176), 'topic': 24, 'score': 1.0}, {'checklist_item': 'ให้ดึงใบหูข้างที่จะหยอดยาไปด้านหลังและดึงขึ้นด้านบน', 'matched_sentence': 'ความแรง500มิลลิกรัม', 'similarity_score': tensor(0.0991), 'topic': 25, 'score': 0.5}, {'checklist_item': 'หยอดยาเข้าไปในหูตามที่แพทย์สั่ง', 'matched_sentence': 'ความแรง500มิลลิกรัม', 'similarity_score': tensor(0.0013), 'topic': 26, 'score': 0.5}, {'checklist_item': 'ระวังอย่าเอาหลอดหยดสอดเข้าไปในรูหู', 'matched_sentence': 'ความแรง500มิลลิกรัม', 'similarity_score': tensor(0.0771), 'topic': 27, 'score': 1.0}, {'checklist_item': 'เอียงตะแคงอยู่ท่าเดิมประมาณ3ถึง5นาที', 'matched_sentence': 'ความแรง500มิลลิกรัม', 'similarity_score': tensor(0.2309), 'topic': 28, 'score': 0.5}, {'checklist_item': 'อาจเอาสำลีใส่ในรูหูไว้อีกระยะหนึ่งเพื่อไม่ให้ยาไหลออกมา', 'matched_sentence': 'ความแรง500มิลลิกรัม', 'similarity_score': tensor(0.0532), 'topic': 29, 'score': 0.5}, {'checklist_item': 'ให้เขย่าขวดก่อนใช้ทุกครั้ง', 'matched_sentence': 'ความแรง500มิลลิกรัม', 'similarity_score': tensor(0.1337), 'topic': 30, 'score': 0.5}, {'checklist_item': 'ใช้ไม้พันสำลีเช็ดหนองในใบหูหรือรูหูให้สะอาดก่อนและหลังหยอดยา', 'matched_sentence': 'ความแรง500มิลลิกรัม', 'similarity_score': tensor(0.0221), 'topic': 31, 'score': 0.5}, {'checklist_item': 'ยาหยอดหูหากเก็บไว้ในตู้เย็นก่อนใช้ยาให้กำหลอดยาไว้ในอุ้งมือสักครู่', 'matched_sentence': 'ความแรง500มิลลิกรัม', 'similarity_score': tensor(0.0846), 'topic': 32, 'score': 0.5}, {'checklist_item': 'เพื่อปรับอุณหภูมิให้ใกล้เคียงกับร่างกายก่อนหยอด', 'matched_sentence': 'ความแรง500มิลลิกรัม', 'similarity_score': tensor(0.2642), 'topic': 33, 'score': 0.5}, {'checklist_item': 'ผมเป็นเภสัชกร', 'matched_sentence': 'จำนวน30เม็ด', 'similarity_score': tensor(0.2051), 'topic': 0, 'score': 1.0}, {'checklist_item': 'ผู้ป่วยชื่ออะไร', 'matched_sentence': 'จำนวน30เม็ด', 'similarity_score': tensor(0.1165), 'topic': 1, 'score': 1.0}, {'checklist_item': 'ผู้ป่วยชื่อชาตินามสกุลอะไร', 'matched_sentence': 'จำนวน30เม็ด', 'similarity_score': tensor(0.1281), 'topic': 1, 'score': 0.5}, {'checklist_item': 'ผู้ป่วยชื่อชาติตระการตาใช่ไหม', 'matched_sentence': 'จำนวน30เม็ด', 'similarity_score': tensor(0.1503), 'topic': 1, 'score': 0.25}, {'checklist_item': 'ผู้ป่วยชื่อนามสกุลอะไร', 'matched_sentence': 'จำนวน30เม็ด', 'similarity_score': tensor(0.1135), 'topic': 1, 'score': 1.0}, {'checklist_item': 'ไอบูโปรเพน', 'matched_sentence': 'จำนวน30เม็ด', 'similarity_score': tensor(0.3466), 'topic': 2, 'score': 0.0}, {'checklist_item': 'ความแรง400มิลลิกรัม', 'matched_sentence': 'จำนวน30เม็ด', 'similarity_score': tensor(0.4341), 'topic': 3, 'score': 0.0}, {'checklist_item': 'จำนวน10เม็ด', 'matched_sentence': 'จำนวน30เม็ด', 'similarity_score': tensor(0.6519), 'topic': 4, 'score': 0.0}, {'checklist_item': 'ใช้เพื่อบรรเทาอาการปวด', 'matched_sentence': 'จำนวน30เม็ด', 'similarity_score': tensor(0.1703), 'topic': 5, 'score': 0.0}, {'checklist_item': 'รับประทานครั้งละ1เม็ด', 'matched_sentence': 'จำนวน30เม็ด', 'similarity_score': tensor(0.3375), 'topic': 6, 'score': 0.0}, {'checklist_item': 'วันละ3ครั้ง', 'matched_sentence': 'จำนวน30เม็ด', 'similarity_score': tensor(0.3044), 'topic': 7, 'score': 0.0}, {'checklist_item': 'หลังอาหารเช้ากลางวันเย็น', 'matched_sentence': 'จำนวน30เม็ด', 'similarity_score': tensor(0.1122), 'topic': 8, 'score': 0.0}, {'checklist_item': 'ควรรับประทานหลังอาหารทันที', 'matched_sentence': 'จำนวน30เม็ด', 'similarity_score': tensor(0.0696), 'topic': 9, 'score': 0.0}, {'checklist_item': 'อะมอกซีซิลิน', 'matched_sentence': 'จำนวน30เม็ด', 'similarity_score': tensor(0.2634), 'topic': 10, 'score': 0.0}, {'checklist_item': 'ความแรง500มิลลิกรัม', 'matched_sentence': 'จำนวน30เม็ด', 'similarity_score': tensor(0.3582), 'topic': 11, 'score': 0.0}, {'checklist_item': 'จำนวน30เม็ด', 'matched_sentence': 'จำนวน30เม็ด', 'similarity_score': tensor(1.0000), 'topic': 12, 'score': 0.0}, {'checklist_item': 'ใช้รักษาอาการติดเชื้อที่หู', 'matched_sentence': 'จำนวน30เม็ด', 'similarity_score': tensor(0.1916), 'topic': 13, 'score': 0.0}, {'checklist_item': 'รับประทานครั้งละ1เม็ด', 'matched_sentence': 'จำนวน30เม็ด', 'similarity_score': tensor(0.3375), 'topic': 14, 'score': 0.0}, {'checklist_item': 'วันละ3ครั้ง', 'matched_sentence': 'จำนวน30เม็ด', 'similarity_score': tensor(0.3044), 'topic': 15, 'score': 0.0}, {'checklist_item': 'หลังอาหารเช้ากลางวันเย็น', 'matched_sentence': 'จำนวน30เม็ด', 'similarity_score': tensor(0.1122), 'topic': 16, 'score': 0.0}, {'checklist_item': 'ควรรับประทานติดต่อกันทุกวันจนหมด', 'matched_sentence': 'จำนวน30เม็ด', 'similarity_score': tensor(0.0653), 'topic': 17, 'score': 0.0}, {'checklist_item': 'เด็กซ์ออฟ', 'matched_sentence': 'จำนวน30เม็ด', 'similarity_score': tensor(0.3637), 'topic': 18, 'score': 0.0}, {'checklist_item': 'ใช้รักษาหูชั้นกลางอักเสบ', 'matched_sentence': 'จำนวน30เม็ด', 'similarity_score': tensor(0.1592), 'topic': 19, 'score': 0.25}, {'checklist_item': 'หยอดหูซ้าย3หยด', 'matched_sentence': 'จำนวน30เม็ด', 'similarity_score': tensor(0.3292), 'topic': 20, 'score': 0.25}, {'checklist_item': 'วันละ3ครั้ง', 'matched_sentence': 'จำนวน30เม็ด', 'similarity_score': tensor(0.3044), 'topic': 21, 'score': 0.25}, {'checklist_item': 'หลังอาหารเช้ากลางวันเย็น', 'matched_sentence': 'จำนวน30เม็ด', 'similarity_score': tensor(0.1122), 'topic': 22, 'score': 0.25}, {'checklist_item': 'ล้างมือให้สะอาด', 'matched_sentence': 'จำนวน30เม็ด', 'similarity_score': tensor(0.1262), 'topic': 23, 'score': 1.0}, {'checklist_item': 'นอนตะแคงหรือนั่งเอียงศีรษะให้หูข้างที่จะหยอดยาอยู่ด้านบน', 'matched_sentence': 'จำนวน30เม็ด', 'similarity_score': tensor(0.1861), 'topic': 24, 'score': 1.0}, {'checklist_item': 'ให้ดึงใบหูข้างที่จะหยอดยาไปด้านหลังและดึงขึ้นด้านบน', 'matched_sentence': 'จำนวน30เม็ด', 'similarity_score': tensor(0.2344), 'topic': 25, 'score': 0.5}, {'checklist_item': 'หยอดยาเข้าไปในหูตามที่แพทย์สั่ง', 'matched_sentence': 'จำนวน30เม็ด', 'similarity_score': tensor(0.2244), 'topic': 26, 'score': 0.5}, {'checklist_item': 'ระวังอย่าเอาหลอดหยดสอดเข้าไปในรูหู', 'matched_sentence': 'จำนวน30เม็ด', 'similarity_score': tensor(0.1909), 'topic': 27, 'score': 1.0}, {'checklist_item': 'เอียงตะแคงอยู่ท่าเดิมประมาณ3ถึง5นาที', 'matched_sentence': 'จำนวน30เม็ด', 'similarity_score': tensor(0.2254), 'topic': 28, 'score': 0.5}, {'checklist_item': 'อาจเอาสำลีใส่ในรูหูไว้อีกระยะหนึ่งเพื่อไม่ให้ยาไหลออกมา', 'matched_sentence': 'จำนวน30เม็ด', 'similarity_score': tensor(0.2612), 'topic': 29, 'score': 0.5}, {'checklist_item': 'ให้เขย่าขวดก่อนใช้ทุกครั้ง', 'matched_sentence': 'จำนวน30เม็ด', 'similarity_score': tensor(0.3320), 'topic': 30, 'score': 0.5}, {'checklist_item': 'ใช้ไม้พันสำลีเช็ดหนองในใบหูหรือรูหูให้สะอาดก่อนและหลังหยอดยา', 'matched_sentence': 'จำนวน30เม็ด', 'similarity_score': tensor(0.2143), 'topic': 31, 'score': 0.5}, {'checklist_item': 'ยาหยอดหูหากเก็บไว้ในตู้เย็นก่อนใช้ยาให้กำหลอดยาไว้ในอุ้งมือสักครู่', 'matched_sentence': 'จำนวน30เม็ด', 'similarity_score': tensor(0.2029), 'topic': 32, 'score': 0.5}, {'checklist_item': 'เพื่อปรับอุณหภูมิให้ใกล้เคียงกับร่างกายก่อนหยอด', 'matched_sentence': 'จำนวน30เม็ด', 'similarity_score': tensor(0.1361), 'topic': 33, 'score': 0.5}, {'checklist_item': 'ผมเป็นเภสัชกร', 'matched_sentence': 'ใช้รักษาอาการติดเชื้อที่หู', 'similarity_score': tensor(0.4101), 'topic': 0, 'score': 1.0}, {'checklist_item': 'ผู้ป่วยชื่ออะไร', 'matched_sentence': 'ใช้รักษาอาการติดเชื้อที่หู', 'similarity_score': tensor(0.3453), 'topic': 1, 'score': 1.0}, {'checklist_item': 'ผู้ป่วยชื่อชาตินามสกุลอะไร', 'matched_sentence': 'ใช้รักษาอาการติดเชื้อที่หู', 'similarity_score': tensor(0.3453), 'topic': 1, 'score': 0.5}, {'checklist_item': 'ผู้ป่วยชื่อชาติตระการตาใช่ไหม', 'matched_sentence': 'ใช้รักษาอาการติดเชื้อที่หู', 'similarity_score': tensor(0.4082), 'topic': 1, 'score': 0.25}, {'checklist_item': 'ผู้ป่วยชื่อนามสกุลอะไร', 'matched_sentence': 'ใช้รักษาอาการติดเชื้อที่หู', 'similarity_score': tensor(0.3255), 'topic': 1, 'score': 1.0}, {'checklist_item': 'ไอบูโปรเพน', 'matched_sentence': 'ใช้รักษาอาการติดเชื้อที่หู', 'similarity_score': tensor(0.3632), 'topic': 2, 'score': 0.0}, {'checklist_item': 'ความแรง400มิลลิกรัม', 'matched_sentence': 'ใช้รักษาอาการติดเชื้อที่หู', 'similarity_score': tensor(-0.0673), 'topic': 3, 'score': 0.0}, {'checklist_item': 'จำนวน10เม็ด', 'matched_sentence': 'ใช้รักษาอาการติดเชื้อที่หู', 'similarity_score': tensor(0.1255), 'topic': 4, 'score': 0.0}, {'checklist_item': 'ใช้เพื่อบรรเทาอาการปวด', 'matched_sentence': 'ใช้รักษาอาการติดเชื้อที่หู', 'similarity_score': tensor(0.4732), 'topic': 5, 'score': 0.0}, {'checklist_item': 'รับประทานครั้งละ1เม็ด', 'matched_sentence': 'ใช้รักษาอาการติดเชื้อที่หู', 'similarity_score': tensor(0.0818), 'topic': 6, 'score': 0.0}, {'checklist_item': 'วันละ3ครั้ง', 'matched_sentence': 'ใช้รักษาอาการติดเชื้อที่หู', 'similarity_score': tensor(0.1934), 'topic': 7, 'score': 0.0}, {'checklist_item': 'หลังอาหารเช้ากลางวันเย็น', 'matched_sentence': 'ใช้รักษาอาการติดเชื้อที่หู', 'similarity_score': tensor(0.0767), 'topic': 8, 'score': 0.0}, {'checklist_item': 'ควรรับประทานหลังอาหารทันที', 'matched_sentence': 'ใช้รักษาอาการติดเชื้อที่หู', 'similarity_score': tensor(0.0520), 'topic': 9, 'score': 0.0}, {'checklist_item': 'อะมอกซีซิลิน', 'matched_sentence': 'ใช้รักษาอาการติดเชื้อที่หู', 'similarity_score': tensor(0.4562), 'topic': 10, 'score': 0.0}, {'checklist_item': 'ความแรง500มิลลิกรัม', 'matched_sentence': 'ใช้รักษาอาการติดเชื้อที่หู', 'similarity_score': tensor(-0.0418), 'topic': 11, 'score': 0.0}, {'checklist_item': 'จำนวน30เม็ด', 'matched_sentence': 'ใช้รักษาอาการติดเชื้อที่หู', 'similarity_score': tensor(0.1916), 'topic': 12, 'score': 0.0}, {'checklist_item': 'ใช้รักษาอาการติดเชื้อที่หู', 'matched_sentence': 'ใช้รักษาอาการติดเชื้อที่หู', 'similarity_score': tensor(1.), 'topic': 13, 'score': 0.0}, {'checklist_item': 'รับประทานครั้งละ1เม็ด', 'matched_sentence': 'ใช้รักษาอาการติดเชื้อที่หู', 'similarity_score': tensor(0.0818), 'topic': 14, 'score': 0.0}, {'checklist_item': 'วันละ3ครั้ง', 'matched_sentence': 'ใช้รักษาอาการติดเชื้อที่หู', 'similarity_score': tensor(0.1934), 'topic': 15, 'score': 0.0}, {'checklist_item': 'หลังอาหารเช้ากลางวันเย็น', 'matched_sentence': 'ใช้รักษาอาการติดเชื้อที่หู', 'similarity_score': tensor(0.0767), 'topic': 16, 'score': 0.0}, {'checklist_item': 'ควรรับประทานติดต่อกันทุกวันจนหมด', 'matched_sentence': 'ใช้รักษาอาการติดเชื้อที่หู', 'similarity_score': tensor(0.0298), 'topic': 17, 'score': 0.0}, {'checklist_item': 'เด็กซ์ออฟ', 'matched_sentence': 'ใช้รักษาอาการติดเชื้อที่หู', 'similarity_score': tensor(0.2655), 'topic': 18, 'score': 0.0}, {'checklist_item': 'ใช้รักษาหูชั้นกลางอักเสบ', 'matched_sentence': 'ใช้รักษาอาการติดเชื้อที่หู', 'similarity_score': tensor(0.9497), 'topic': 19, 'score': 0.25}, {'checklist_item': 'หยอดหูซ้าย3หยด', 'matched_sentence': 'ใช้รักษาอาการติดเชื้อที่หู', 'similarity_score': tensor(0.6550), 'topic': 20, 'score': 0.25}, {'checklist_item': 'วันละ3ครั้ง', 'matched_sentence': 'ใช้รักษาอาการติดเชื้อที่หู', 'similarity_score': tensor(0.1934), 'topic': 21, 'score': 0.25}, {'checklist_item': 'หลังอาหารเช้ากลางวันเย็น', 'matched_sentence': 'ใช้รักษาอาการติดเชื้อที่หู', 'similarity_score': tensor(0.0767), 'topic': 22, 'score': 0.25}, {'checklist_item': 'ล้างมือให้สะอาด', 'matched_sentence': 'ใช้รักษาอาการติดเชื้อที่หู', 'similarity_score': tensor(0.2141), 'topic': 23, 'score': 1.0}, {'checklist_item': 'นอนตะแคงหรือนั่งเอียงศีรษะให้หูข้างที่จะหยอดยาอยู่ด้านบน', 'matched_sentence': 'ใช้รักษาอาการติดเชื้อที่หู', 'similarity_score': tensor(0.6213), 'topic': 24, 'score': 1.0}, {'checklist_item': 'ให้ดึงใบหูข้างที่จะหยอดยาไปด้านหลังและดึงขึ้นด้านบน', 'matched_sentence': 'ใช้รักษาอาการติดเชื้อที่หู', 'similarity_score': tensor(0.6897), 'topic': 25, 'score': 0.5}, {'checklist_item': 'หยอดยาเข้าไปในหูตามที่แพทย์สั่ง', 'matched_sentence': 'ใช้รักษาอาการติดเชื้อที่หู', 'similarity_score': tensor(0.8319), 'topic': 26, 'score': 0.5}, {'checklist_item': 'ระวังอย่าเอาหลอดหยดสอดเข้าไปในรูหู', 'matched_sentence': 'ใช้รักษาอาการติดเชื้อที่หู', 'similarity_score': tensor(0.5577), 'topic': 27, 'score': 1.0}, {'checklist_item': 'เอียงตะแคงอยู่ท่าเดิมประมาณ3ถึง5นาที', 'matched_sentence': 'ใช้รักษาอาการติดเชื้อที่หู', 'similarity_score': tensor(0.1253), 'topic': 28, 'score': 0.5}, {'checklist_item': 'อาจเอาสำลีใส่ในรูหูไว้อีกระยะหนึ่งเพื่อไม่ให้ยาไหลออกมา', 'matched_sentence': 'ใช้รักษาอาการติดเชื้อที่หู', 'similarity_score': tensor(0.6545), 'topic': 29, 'score': 0.5}, {'checklist_item': 'ให้เขย่าขวดก่อนใช้ทุกครั้ง', 'matched_sentence': 'ใช้รักษาอาการติดเชื้อที่หู', 'similarity_score': tensor(0.3102), 'topic': 30, 'score': 0.5}, {'checklist_item': 'ใช้ไม้พันสำลีเช็ดหนองในใบหูหรือรูหูให้สะอาดก่อนและหลังหยอดยา', 'matched_sentence': 'ใช้รักษาอาการติดเชื้อที่หู', 'similarity_score': tensor(0.8236), 'topic': 31, 'score': 0.5}, {'checklist_item': 'ยาหยอดหูหากเก็บไว้ในตู้เย็นก่อนใช้ยาให้กำหลอดยาไว้ในอุ้งมือสักครู่', 'matched_sentence': 'ใช้รักษาอาการติดเชื้อที่หู', 'similarity_score': tensor(0.3848), 'topic': 32, 'score': 0.5}, {'checklist_item': 'เพื่อปรับอุณหภูมิให้ใกล้เคียงกับร่างกายก่อนหยอด', 'matched_sentence': 'ใช้รักษาอาการติดเชื้อที่หู', 'similarity_score': tensor(0.1512), 'topic': 33, 'score': 0.5}, {'checklist_item': 'ผมเป็นเภสัชกร', 'matched_sentence': 'รับประทานครั้งละ1เม็ด', 'similarity_score': tensor(0.2091), 'topic': 0, 'score': 1.0}, {'checklist_item': 'ผู้ป่วยชื่ออะไร', 'matched_sentence': 'รับประทานครั้งละ1เม็ด', 'similarity_score': tensor(0.1204), 'topic': 1, 'score': 1.0}, {'checklist_item': 'ผู้ป่วยชื่อชาตินามสกุลอะไร', 'matched_sentence': 'รับประทานครั้งละ1เม็ด', 'similarity_score': tensor(0.1196), 'topic': 1, 'score': 0.5}, {'checklist_item': 'ผู้ป่วยชื่อชาติตระการตาใช่ไหม', 'matched_sentence': 'รับประทานครั้งละ1เม็ด', 'similarity_score': tensor(0.1359), 'topic': 1, 'score': 0.25}, {'checklist_item': 'ผู้ป่วยชื่อนามสกุลอะไร', 'matched_sentence': 'รับประทานครั้งละ1เม็ด', 'similarity_score': tensor(0.1046), 'topic': 1, 'score': 1.0}, {'checklist_item': 'ไอบูโปรเพน', 'matched_sentence': 'รับประทานครั้งละ1เม็ด', 'similarity_score': tensor(0.2339), 'topic': 2, 'score': 0.0}, {'checklist_item': 'ความแรง400มิลลิกรัม', 'matched_sentence': 'รับประทานครั้งละ1เม็ด', 'similarity_score': tensor(0.1935), 'topic': 3, 'score': 0.0}, {'checklist_item': 'จำนวน10เม็ด', 'matched_sentence': 'รับประทานครั้งละ1เม็ด', 'similarity_score': tensor(0.3730), 'topic': 4, 'score': 0.0}, {'checklist_item': 'ใช้เพื่อบรรเทาอาการปวด', 'matched_sentence': 'รับประทานครั้งละ1เม็ด', 'similarity_score': tensor(0.1823), 'topic': 5, 'score': 0.0}, {'checklist_item': 'รับประทานครั้งละ1เม็ด', 'matched_sentence': 'รับประทานครั้งละ1เม็ด', 'similarity_score': tensor(1.), 'topic': 6, 'score': 0.0}, {'checklist_item': 'วันละ3ครั้ง', 'matched_sentence': 'รับประทานครั้งละ1เม็ด', 'similarity_score': tensor(0.5179), 'topic': 7, 'score': 0.0}, {'checklist_item': 'หลังอาหารเช้ากลางวันเย็น', 'matched_sentence': 'รับประทานครั้งละ1เม็ด', 'similarity_score': tensor(0.3928), 'topic': 8, 'score': 0.0}, {'checklist_item': 'ควรรับประทานหลังอาหารทันที', 'matched_sentence': 'รับประทานครั้งละ1เม็ด', 'similarity_score': tensor(0.5474), 'topic': 9, 'score': 0.0}, {'checklist_item': 'อะมอกซีซิลิน', 'matched_sentence': 'รับประทานครั้งละ1เม็ด', 'similarity_score': tensor(0.2289), 'topic': 10, 'score': 0.0}, {'checklist_item': 'ความแรง500มิลลิกรัม', 'matched_sentence': 'รับประทานครั้งละ1เม็ด', 'similarity_score': tensor(0.2684), 'topic': 11, 'score': 0.0}, {'checklist_item': 'จำนวน30เม็ด', 'matched_sentence': 'รับประทานครั้งละ1เม็ด', 'similarity_score': tensor(0.3375), 'topic': 12, 'score': 0.0}, {'checklist_item': 'ใช้รักษาอาการติดเชื้อที่หู', 'matched_sentence': 'รับประทานครั้งละ1เม็ด', 'similarity_score': tensor(0.0818), 'topic': 13, 'score': 0.0}, {'checklist_item': 'รับประทานครั้งละ1เม็ด', 'matched_sentence': 'รับประทานครั้งละ1เม็ด', 'similarity_score': tensor(1.), 'topic': 14, 'score': 0.0}, {'checklist_item': 'วันละ3ครั้ง', 'matched_sentence': 'รับประทานครั้งละ1เม็ด', 'similarity_score': tensor(0.5179), 'topic': 15, 'score': 0.0}, {'checklist_item': 'หลังอาหารเช้ากลางวันเย็น', 'matched_sentence': 'รับประทานครั้งละ1เม็ด', 'similarity_score': tensor(0.3928), 'topic': 16, 'score': 0.0}, {'checklist_item': 'ควรรับประทานติดต่อกันทุกวันจนหมด', 'matched_sentence': 'รับประทานครั้งละ1เม็ด', 'similarity_score': tensor(0.7362), 'topic': 17, 'score': 0.0}, {'checklist_item': 'เด็กซ์ออฟ', 'matched_sentence': 'รับประทานครั้งละ1เม็ด', 'similarity_score': tensor(0.2965), 'topic': 18, 'score': 0.0}, {'checklist_item': 'ใช้รักษาหูชั้นกลางอักเสบ', 'matched_sentence': 'รับประทานครั้งละ1เม็ด', 'similarity_score': tensor(0.0649), 'topic': 19, 'score': 0.25}, {'checklist_item': 'หยอดหูซ้าย3หยด', 'matched_sentence': 'รับประทานครั้งละ1เม็ด', 'similarity_score': tensor(0.1820), 'topic': 20, 'score': 0.25}, {'checklist_item': 'วันละ3ครั้ง', 'matched_sentence': 'รับประทานครั้งละ1เม็ด', 'similarity_score': tensor(0.5179), 'topic': 21, 'score': 0.25}, {'checklist_item': 'หลังอาหารเช้ากลางวันเย็น', 'matched_sentence': 'รับประทานครั้งละ1เม็ด', 'similarity_score': tensor(0.3928), 'topic': 22, 'score': 0.25}, {'checklist_item': 'ล้างมือให้สะอาด', 'matched_sentence': 'รับประทานครั้งละ1เม็ด', 'similarity_score': tensor(0.2409), 'topic': 23, 'score': 1.0}, {'checklist_item': 'นอนตะแคงหรือนั่งเอียงศีรษะให้หูข้างที่จะหยอดยาอยู่ด้านบน', 'matched_sentence': 'รับประทานครั้งละ1เม็ด', 'similarity_score': tensor(0.1655), 'topic': 24, 'score': 1.0}, {'checklist_item': 'ให้ดึงใบหูข้างที่จะหยอดยาไปด้านหลังและดึงขึ้นด้านบน', 'matched_sentence': 'รับประทานครั้งละ1เม็ด', 'similarity_score': tensor(0.1603), 'topic': 25, 'score': 0.5}, {'checklist_item': 'หยอดยาเข้าไปในหูตามที่แพทย์สั่ง', 'matched_sentence': 'รับประทานครั้งละ1เม็ด', 'similarity_score': tensor(0.1409), 'topic': 26, 'score': 0.5}, {'checklist_item': 'ระวังอย่าเอาหลอดหยดสอดเข้าไปในรูหู', 'matched_sentence': 'รับประทานครั้งละ1เม็ด', 'similarity_score': tensor(0.1651), 'topic': 27, 'score': 1.0}, {'checklist_item': 'เอียงตะแคงอยู่ท่าเดิมประมาณ3ถึง5นาที', 'matched_sentence': 'รับประทานครั้งละ1เม็ด', 'similarity_score': tensor(0.2965), 'topic': 28, 'score': 0.5}, {'checklist_item': 'อาจเอาสำลีใส่ในรูหูไว้อีกระยะหนึ่งเพื่อไม่ให้ยาไหลออกมา', 'matched_sentence': 'รับประทานครั้งละ1เม็ด', 'similarity_score': tensor(0.2705), 'topic': 29, 'score': 0.5}, {'checklist_item': 'ให้เขย่าขวดก่อนใช้ทุกครั้ง', 'matched_sentence': 'รับประทานครั้งละ1เม็ด', 'similarity_score': tensor(0.4968), 'topic': 30, 'score': 0.5}, {'checklist_item': 'ใช้ไม้พันสำลีเช็ดหนองในใบหูหรือรูหูให้สะอาดก่อนและหลังหยอดยา', 'matched_sentence': 'รับประทานครั้งละ1เม็ด', 'similarity_score': tensor(0.1344), 'topic': 31, 'score': 0.5}, {'checklist_item': 'ยาหยอดหูหากเก็บไว้ในตู้เย็นก่อนใช้ยาให้กำหลอดยาไว้ในอุ้งมือสักครู่', 'matched_sentence': 'รับประทานครั้งละ1เม็ด', 'similarity_score': tensor(0.3583), 'topic': 32, 'score': 0.5}, {'checklist_item': 'เพื่อปรับอุณหภูมิให้ใกล้เคียงกับร่างกายก่อนหยอด', 'matched_sentence': 'รับประทานครั้งละ1เม็ด', 'similarity_score': tensor(0.2743), 'topic': 33, 'score': 0.5}, {'checklist_item': 'ผมเป็นเภสัชกร', 'matched_sentence': 'วันละ3ครั้ง', 'similarity_score': tensor(0.2263), 'topic': 0, 'score': 1.0}, {'checklist_item': 'ผู้ป่วยชื่ออะไร', 'matched_sentence': 'วันละ3ครั้ง', 'similarity_score': tensor(0.1215), 'topic': 1, 'score': 1.0}, {'checklist_item': 'ผู้ป่วยชื่อชาตินามสกุลอะไร', 'matched_sentence': 'วันละ3ครั้ง', 'similarity_score': tensor(0.1375), 'topic': 1, 'score': 0.5}, {'checklist_item': 'ผู้ป่วยชื่อชาติตระการตาใช่ไหม', 'matched_sentence': 'วันละ3ครั้ง', 'similarity_score': tensor(0.1669), 'topic': 1, 'score': 0.25}, {'checklist_item': 'ผู้ป่วยชื่อนามสกุลอะไร', 'matched_sentence': 'วันละ3ครั้ง', 'similarity_score': tensor(0.1118), 'topic': 1, 'score': 1.0}, {'checklist_item': 'ไอบูโปรเพน', 'matched_sentence': 'วันละ3ครั้ง', 'similarity_score': tensor(0.1907), 'topic': 2, 'score': 0.0}, {'checklist_item': 'ความแรง400มิลลิกรัม', 'matched_sentence': 'วันละ3ครั้ง', 'similarity_score': tensor(0.0916), 'topic': 3, 'score': 0.0}, {'checklist_item': 'จำนวน10เม็ด', 'matched_sentence': 'วันละ3ครั้ง', 'similarity_score': tensor(0.2628), 'topic': 4, 'score': 0.0}, {'checklist_item': 'ใช้เพื่อบรรเทาอาการปวด', 'matched_sentence': 'วันละ3ครั้ง', 'similarity_score': tensor(0.2151), 'topic': 5, 'score': 0.0}, {'checklist_item': 'รับประทานครั้งละ1เม็ด', 'matched_sentence': 'วันละ3ครั้ง', 'similarity_score': tensor(0.5179), 'topic': 6, 'score': 0.0}, {'checklist_item': 'วันละ3ครั้ง', 'matched_sentence': 'วันละ3ครั้ง', 'similarity_score': tensor(1.0000), 'topic': 7, 'score': 0.0}, {'checklist_item': 'หลังอาหารเช้ากลางวันเย็น', 'matched_sentence': 'วันละ3ครั้ง', 'similarity_score': tensor(0.2485), 'topic': 8, 'score': 0.0}, {'checklist_item': 'ควรรับประทานหลังอาหารทันที', 'matched_sentence': 'วันละ3ครั้ง', 'similarity_score': tensor(0.2455), 'topic': 9, 'score': 0.0}, {'checklist_item': 'อะมอกซีซิลิน', 'matched_sentence': 'วันละ3ครั้ง', 'similarity_score': tensor(0.2199), 'topic': 10, 'score': 0.0}, {'checklist_item': 'ความแรง500มิลลิกรัม', 'matched_sentence': 'วันละ3ครั้ง', 'similarity_score': tensor(0.1220), 'topic': 11, 'score': 0.0}, {'checklist_item': 'จำนวน30เม็ด', 'matched_sentence': 'วันละ3ครั้ง', 'similarity_score': tensor(0.3044), 'topic': 12, 'score': 0.0}, {'checklist_item': 'ใช้รักษาอาการติดเชื้อที่หู', 'matched_sentence': 'วันละ3ครั้ง', 'similarity_score': tensor(0.1934), 'topic': 13, 'score': 0.0}, {'checklist_item': 'รับประทานครั้งละ1เม็ด', 'matched_sentence': 'วันละ3ครั้ง', 'similarity_score': tensor(0.5179), 'topic': 14, 'score': 0.0}, {'checklist_item': 'วันละ3ครั้ง', 'matched_sentence': 'วันละ3ครั้ง', 'similarity_score': tensor(1.0000), 'topic': 15, 'score': 0.0}, {'checklist_item': 'หลังอาหารเช้ากลางวันเย็น', 'matched_sentence': 'วันละ3ครั้ง', 'similarity_score': tensor(0.2485), 'topic': 16, 'score': 0.0}, {'checklist_item': 'ควรรับประทานติดต่อกันทุกวันจนหมด', 'matched_sentence': 'วันละ3ครั้ง', 'similarity_score': tensor(0.5314), 'topic': 17, 'score': 0.0}, {'checklist_item': 'เด็กซ์ออฟ', 'matched_sentence': 'วันละ3ครั้ง', 'similarity_score': tensor(0.3129), 'topic': 18, 'score': 0.0}, {'checklist_item': 'ใช้รักษาหูชั้นกลางอักเสบ', 'matched_sentence': 'วันละ3ครั้ง', 'similarity_score': tensor(0.1748), 'topic': 19, 'score': 0.25}, {'checklist_item': 'หยอดหูซ้าย3หยด', 'matched_sentence': 'วันละ3ครั้ง', 'similarity_score': tensor(0.3622), 'topic': 20, 'score': 0.25}, {'checklist_item': 'วันละ3ครั้ง', 'matched_sentence': 'วันละ3ครั้ง', 'similarity_score': tensor(1.0000), 'topic': 21, 'score': 0.25}, {'checklist_item': 'หลังอาหารเช้ากลางวันเย็น', 'matched_sentence': 'วันละ3ครั้ง', 'similarity_score': tensor(0.2485), 'topic': 22, 'score': 0.25}, {'checklist_item': 'ล้างมือให้สะอาด', 'matched_sentence': 'วันละ3ครั้ง', 'similarity_score': tensor(0.2048), 'topic': 23, 'score': 1.0}, {'checklist_item': 'นอนตะแคงหรือนั่งเอียงศีรษะให้หูข้างที่จะหยอดยาอยู่ด้านบน', 'matched_sentence': 'วันละ3ครั้ง', 'similarity_score': tensor(0.2708), 'topic': 24, 'score': 1.0}, {'checklist_item': 'ให้ดึงใบหูข้างที่จะหยอดยาไปด้านหลังและดึงขึ้นด้านบน', 'matched_sentence': 'วันละ3ครั้ง', 'similarity_score': tensor(0.2428), 'topic': 25, 'score': 0.5}, {'checklist_item': 'หยอดยาเข้าไปในหูตามที่แพทย์สั่ง', 'matched_sentence': 'วันละ3ครั้ง', 'similarity_score': tensor(0.2178), 'topic': 26, 'score': 0.5}, {'checklist_item': 'ระวังอย่าเอาหลอดหยดสอดเข้าไปในรูหู', 'matched_sentence': 'วันละ3ครั้ง', 'similarity_score': tensor(0.2037), 'topic': 27, 'score': 1.0}, {'checklist_item': 'เอียงตะแคงอยู่ท่าเดิมประมาณ3ถึง5นาที', 'matched_sentence': 'วันละ3ครั้ง', 'similarity_score': tensor(0.5167), 'topic': 28, 'score': 0.5}, {'checklist_item': 'อาจเอาสำลีใส่ในรูหูไว้อีกระยะหนึ่งเพื่อไม่ให้ยาไหลออกมา', 'matched_sentence': 'วันละ3ครั้ง', 'similarity_score': tensor(0.3008), 'topic': 29, 'score': 0.5}, {'checklist_item': 'ให้เขย่าขวดก่อนใช้ทุกครั้ง', 'matched_sentence': 'วันละ3ครั้ง', 'similarity_score': tensor(0.4266), 'topic': 30, 'score': 0.5}, {'checklist_item': 'ใช้ไม้พันสำลีเช็ดหนองในใบหูหรือรูหูให้สะอาดก่อนและหลังหยอดยา', 'matched_sentence': 'วันละ3ครั้ง', 'similarity_score': tensor(0.1709), 'topic': 31, 'score': 0.5}, {'checklist_item': 'ยาหยอดหูหากเก็บไว้ในตู้เย็นก่อนใช้ยาให้กำหลอดยาไว้ในอุ้งมือสักครู่', 'matched_sentence': 'วันละ3ครั้ง', 'similarity_score': tensor(0.2955), 'topic': 32, 'score': 0.5}, {'checklist_item': 'เพื่อปรับอุณหภูมิให้ใกล้เคียงกับร่างกายก่อนหยอด', 'matched_sentence': 'วันละ3ครั้ง', 'similarity_score': tensor(0.1616), 'topic': 33, 'score': 0.5}, {'checklist_item': 'ผมเป็นเภสัชกร', 'matched_sentence': 'หลังอาหารเช้ากลางวันเย็น', 'similarity_score': tensor(0.0799), 'topic': 0, 'score': 1.0}, {'checklist_item': 'ผู้ป่วยชื่ออะไร', 'matched_sentence': 'หลังอาหารเช้ากลางวันเย็น', 'similarity_score': tensor(0.1027), 'topic': 1, 'score': 1.0}, {'checklist_item': 'ผู้ป่วยชื่อชาตินามสกุลอะไร', 'matched_sentence': 'หลังอาหารเช้ากลางวันเย็น', 'similarity_score': tensor(0.1208), 'topic': 1, 'score': 0.5}, {'checklist_item': 'ผู้ป่วยชื่อชาติตระการตาใช่ไหม', 'matched_sentence': 'หลังอาหารเช้ากลางวันเย็น', 'similarity_score': tensor(0.1997), 'topic': 1, 'score': 0.25}, {'checklist_item': 'ผู้ป่วยชื่อนามสกุลอะไร', 'matched_sentence': 'หลังอาหารเช้ากลางวันเย็น', 'similarity_score': tensor(0.1074), 'topic': 1, 'score': 1.0}, {'checklist_item': 'ไอบูโปรเพน', 'matched_sentence': 'หลังอาหารเช้ากลางวันเย็น', 'similarity_score': tensor(0.0959), 'topic': 2, 'score': 0.0}, {'checklist_item': 'ความแรง400มิลลิกรัม', 'matched_sentence': 'หลังอาหารเช้ากลางวันเย็น', 'similarity_score': tensor(0.0071), 'topic': 3, 'score': 0.0}, {'checklist_item': 'จำนวน10เม็ด', 'matched_sentence': 'หลังอาหารเช้ากลางวันเย็น', 'similarity_score': tensor(0.1598), 'topic': 4, 'score': 0.0}, {'checklist_item': 'ใช้เพื่อบรรเทาอาการปวด', 'matched_sentence': 'หลังอาหารเช้ากลางวันเย็น', 'similarity_score': tensor(0.1326), 'topic': 5, 'score': 0.0}, {'checklist_item': 'รับประทานครั้งละ1เม็ด', 'matched_sentence': 'หลังอาหารเช้ากลางวันเย็น', 'similarity_score': tensor(0.3928), 'topic': 6, 'score': 0.0}, {'checklist_item': 'วันละ3ครั้ง', 'matched_sentence': 'หลังอาหารเช้ากลางวันเย็น', 'similarity_score': tensor(0.2485), 'topic': 7, 'score': 0.0}, {'checklist_item': 'หลังอาหารเช้ากลางวันเย็น', 'matched_sentence': 'หลังอาหารเช้ากลางวันเย็น', 'similarity_score': tensor(1.), 'topic': 8, 'score': 0.0}, {'checklist_item': 'ควรรับประทานหลังอาหารทันที', 'matched_sentence': 'หลังอาหารเช้ากลางวันเย็น', 'similarity_score': tensor(0.6605), 'topic': 9, 'score': 0.0}, {'checklist_item': 'อะมอกซีซิลิน', 'matched_sentence': 'หลังอาหารเช้ากลางวันเย็น', 'similarity_score': tensor(0.1620), 'topic': 10, 'score': 0.0}, {'checklist_item': 'ความแรง500มิลลิกรัม', 'matched_sentence': 'หลังอาหารเช้ากลางวันเย็น', 'similarity_score': tensor(9.1808e-05), 'topic': 11, 'score': 0.0}, {'checklist_item': 'จำนวน30เม็ด', 'matched_sentence': 'หลังอาหารเช้ากลางวันเย็น', 'similarity_score': tensor(0.1122), 'topic': 12, 'score': 0.0}, {'checklist_item': 'ใช้รักษาอาการติดเชื้อที่หู', 'matched_sentence': 'หลังอาหารเช้ากลางวันเย็น', 'similarity_score': tensor(0.0767), 'topic': 13, 'score': 0.0}, {'checklist_item': 'รับประทานครั้งละ1เม็ด', 'matched_sentence': 'หลังอาหารเช้ากลางวันเย็น', 'similarity_score': tensor(0.3928), 'topic': 14, 'score': 0.0}, {'checklist_item': 'วันละ3ครั้ง', 'matched_sentence': 'หลังอาหารเช้ากลางวันเย็น', 'similarity_score': tensor(0.2485), 'topic': 15, 'score': 0.0}, {'checklist_item': 'หลังอาหารเช้ากลางวันเย็น', 'matched_sentence': 'หลังอาหารเช้ากลางวันเย็น', 'similarity_score': tensor(1.), 'topic': 16, 'score': 0.0}, {'checklist_item': 'ควรรับประทานติดต่อกันทุกวันจนหมด', 'matched_sentence': 'หลังอาหารเช้ากลางวันเย็น', 'similarity_score': tensor(0.4952), 'topic': 17, 'score': 0.0}, {'checklist_item': 'เด็กซ์ออฟ', 'matched_sentence': 'หลังอาหารเช้ากลางวันเย็น', 'similarity_score': tensor(0.3168), 'topic': 18, 'score': 0.0}, {'checklist_item': 'ใช้รักษาหูชั้นกลางอักเสบ', 'matched_sentence': 'หลังอาหารเช้ากลางวันเย็น', 'similarity_score': tensor(0.0712), 'topic': 19, 'score': 0.25}, {'checklist_item': 'หยอดหูซ้าย3หยด', 'matched_sentence': 'หลังอาหารเช้ากลางวันเย็น', 'similarity_score': tensor(0.2075), 'topic': 20, 'score': 0.25}, {'checklist_item': 'วันละ3ครั้ง', 'matched_sentence': 'หลังอาหารเช้ากลางวันเย็น', 'similarity_score': tensor(0.2485), 'topic': 21, 'score': 0.25}, {'checklist_item': 'หลังอาหารเช้ากลางวันเย็น', 'matched_sentence': 'หลังอาหารเช้ากลางวันเย็น', 'similarity_score': tensor(1.), 'topic': 22, 'score': 0.25}, {'checklist_item': 'ล้างมือให้สะอาด', 'matched_sentence': 'หลังอาหารเช้ากลางวันเย็น', 'similarity_score': tensor(0.2645), 'topic': 23, 'score': 1.0}, {'checklist_item': 'นอนตะแคงหรือนั่งเอียงศีรษะให้หูข้างที่จะหยอดยาอยู่ด้านบน', 'matched_sentence': 'หลังอาหารเช้ากลางวันเย็น', 'similarity_score': tensor(0.3193), 'topic': 24, 'score': 1.0}, {'checklist_item': 'ให้ดึงใบหูข้างที่จะหยอดยาไปด้านหลังและดึงขึ้นด้านบน', 'matched_sentence': 'หลังอาหารเช้ากลางวันเย็น', 'similarity_score': tensor(0.1691), 'topic': 25, 'score': 0.5}, {'checklist_item': 'หยอดยาเข้าไปในหูตามที่แพทย์สั่ง', 'matched_sentence': 'หลังอาหารเช้ากลางวันเย็น', 'similarity_score': tensor(0.1193), 'topic': 26, 'score': 0.5}, {'checklist_item': 'ระวังอย่าเอาหลอดหยดสอดเข้าไปในรูหู', 'matched_sentence': 'หลังอาหารเช้ากลางวันเย็น', 'similarity_score': tensor(0.0794), 'topic': 27, 'score': 1.0}, {'checklist_item': 'เอียงตะแคงอยู่ท่าเดิมประมาณ3ถึง5นาที', 'matched_sentence': 'หลังอาหารเช้ากลางวันเย็น', 'similarity_score': tensor(0.1963), 'topic': 28, 'score': 0.5}, {'checklist_item': 'อาจเอาสำลีใส่ในรูหูไว้อีกระยะหนึ่งเพื่อไม่ให้ยาไหลออกมา', 'matched_sentence': 'หลังอาหารเช้ากลางวันเย็น', 'similarity_score': tensor(0.0906), 'topic': 29, 'score': 0.5}, {'checklist_item': 'ให้เขย่าขวดก่อนใช้ทุกครั้ง', 'matched_sentence': 'หลังอาหารเช้ากลางวันเย็น', 'similarity_score': tensor(0.2448), 'topic': 30, 'score': 0.5}, {'checklist_item': 'ใช้ไม้พันสำลีเช็ดหนองในใบหูหรือรูหูให้สะอาดก่อนและหลังหยอดยา', 'matched_sentence': 'หลังอาหารเช้ากลางวันเย็น', 'similarity_score': tensor(0.0655), 'topic': 31, 'score': 0.5}, {'checklist_item': 'ยาหยอดหูหากเก็บไว้ในตู้เย็นก่อนใช้ยาให้กำหลอดยาไว้ในอุ้งมือสักครู่', 'matched_sentence': 'หลังอาหารเช้ากลางวันเย็น', 'similarity_score': tensor(0.1992), 'topic': 32, 'score': 0.5}, {'checklist_item': 'เพื่อปรับอุณหภูมิให้ใกล้เคียงกับร่างกายก่อนหยอด', 'matched_sentence': 'หลังอาหารเช้ากลางวันเย็น', 'similarity_score': tensor(0.2169), 'topic': 33, 'score': 0.5}, {'checklist_item': 'ผมเป็นเภสัชกร', 'matched_sentence': 'ยานี้', 'similarity_score': tensor(0.5774), 'topic': 0, 'score': 1.0}, {'checklist_item': 'ผู้ป่วยชื่ออะไร', 'matched_sentence': 'ยานี้', 'similarity_score': tensor(0.4669), 'topic': 1, 'score': 1.0}, {'checklist_item': 'ผู้ป่วยชื่อชาตินามสกุลอะไร', 'matched_sentence': 'ยานี้', 'similarity_score': tensor(0.4437), 'topic': 1, 'score': 0.5}, {'checklist_item': 'ผู้ป่วยชื่อชาติตระการตาใช่ไหม', 'matched_sentence': 'ยานี้', 'similarity_score': tensor(0.4907), 'topic': 1, 'score': 0.25}, {'checklist_item': 'ผู้ป่วยชื่อนามสกุลอะไร', 'matched_sentence': 'ยานี้', 'similarity_score': tensor(0.4386), 'topic': 1, 'score': 1.0}, {'checklist_item': 'ไอบูโปรเพน', 'matched_sentence': 'ยานี้', 'similarity_score': tensor(0.4470), 'topic': 2, 'score': 0.0}, {'checklist_item': 'ความแรง400มิลลิกรัม', 'matched_sentence': 'ยานี้', 'similarity_score': tensor(0.0750), 'topic': 3, 'score': 0.0}, {'checklist_item': 'จำนวน10เม็ด', 'matched_sentence': 'ยานี้', 'similarity_score': tensor(0.3115), 'topic': 4, 'score': 0.0}, {'checklist_item': 'ใช้เพื่อบรรเทาอาการปวด', 'matched_sentence': 'ยานี้', 'similarity_score': tensor(0.5838), 'topic': 5, 'score': 0.0}, {'checklist_item': 'รับประทานครั้งละ1เม็ด', 'matched_sentence': 'ยานี้', 'similarity_score': tensor(0.2923), 'topic': 6, 'score': 0.0}, {'checklist_item': 'วันละ3ครั้ง', 'matched_sentence': 'ยานี้', 'similarity_score': tensor(0.1945), 'topic': 7, 'score': 0.0}, {'checklist_item': 'หลังอาหารเช้ากลางวันเย็น', 'matched_sentence': 'ยานี้', 'similarity_score': tensor(0.1445), 'topic': 8, 'score': 0.0}, {'checklist_item': 'ควรรับประทานหลังอาหารทันที', 'matched_sentence': 'ยานี้', 'similarity_score': tensor(0.2174), 'topic': 9, 'score': 0.0}, {'checklist_item': 'อะมอกซีซิลิน', 'matched_sentence': 'ยานี้', 'similarity_score': tensor(0.6728), 'topic': 10, 'score': 0.0}, {'checklist_item': 'ความแรง500มิลลิกรัม', 'matched_sentence': 'ยานี้', 'similarity_score': tensor(0.1076), 'topic': 11, 'score': 0.0}, {'checklist_item': 'จำนวน30เม็ด', 'matched_sentence': 'ยานี้', 'similarity_score': tensor(0.2747), 'topic': 12, 'score': 0.0}, {'checklist_item': 'ใช้รักษาอาการติดเชื้อที่หู', 'matched_sentence': 'ยานี้', 'similarity_score': tensor(0.4274), 'topic': 13, 'score': 0.0}, {'checklist_item': 'รับประทานครั้งละ1เม็ด', 'matched_sentence': 'ยานี้', 'similarity_score': tensor(0.2923), 'topic': 14, 'score': 0.0}, {'checklist_item': 'วันละ3ครั้ง', 'matched_sentence': 'ยานี้', 'similarity_score': tensor(0.1945), 'topic': 15, 'score': 0.0}, {'checklist_item': 'หลังอาหารเช้ากลางวันเย็น', 'matched_sentence': 'ยานี้', 'similarity_score': tensor(0.1445), 'topic': 16, 'score': 0.0}, {'checklist_item': 'ควรรับประทานติดต่อกันทุกวันจนหมด', 'matched_sentence': 'ยานี้', 'similarity_score': tensor(0.1017), 'topic': 17, 'score': 0.0}, {'checklist_item': 'เด็กซ์ออฟ', 'matched_sentence': 'ยานี้', 'similarity_score': tensor(0.5040), 'topic': 18, 'score': 0.0}, {'checklist_item': 'ใช้รักษาหูชั้นกลางอักเสบ', 'matched_sentence': 'ยานี้', 'similarity_score': tensor(0.4096), 'topic': 19, 'score': 0.25}, {'checklist_item': 'หยอดหูซ้าย3หยด', 'matched_sentence': 'ยานี้', 'similarity_score': tensor(0.3088), 'topic': 20, 'score': 0.25}, {'checklist_item': 'วันละ3ครั้ง', 'matched_sentence': 'ยานี้', 'similarity_score': tensor(0.1945), 'topic': 21, 'score': 0.25}, {'checklist_item': 'หลังอาหารเช้ากลางวันเย็น', 'matched_sentence': 'ยานี้', 'similarity_score': tensor(0.1445), 'topic': 22, 'score': 0.25}, {'checklist_item': 'ล้างมือให้สะอาด', 'matched_sentence': 'ยานี้', 'similarity_score': tensor(0.2902), 'topic': 23, 'score': 1.0}, {'checklist_item': 'นอนตะแคงหรือนั่งเอียงศีรษะให้หูข้างที่จะหยอดยาอยู่ด้านบน', 'matched_sentence': 'ยานี้', 'similarity_score': tensor(0.4076), 'topic': 24, 'score': 1.0}, {'checklist_item': 'ให้ดึงใบหูข้างที่จะหยอดยาไปด้านหลังและดึงขึ้นด้านบน', 'matched_sentence': 'ยานี้', 'similarity_score': tensor(0.4433), 'topic': 25, 'score': 0.5}, {'checklist_item': 'หยอดยาเข้าไปในหูตามที่แพทย์สั่ง', 'matched_sentence': 'ยานี้', 'similarity_score': tensor(0.5161), 'topic': 26, 'score': 0.5}, {'checklist_item': 'ระวังอย่าเอาหลอดหยดสอดเข้าไปในรูหู', 'matched_sentence': 'ยานี้', 'similarity_score': tensor(0.3115), 'topic': 27, 'score': 1.0}, {'checklist_item': 'เอียงตะแคงอยู่ท่าเดิมประมาณ3ถึง5นาที', 'matched_sentence': 'ยานี้', 'similarity_score': tensor(0.1116), 'topic': 28, 'score': 0.5}, {'checklist_item': 'อาจเอาสำลีใส่ในรูหูไว้อีกระยะหนึ่งเพื่อไม่ให้ยาไหลออกมา', 'matched_sentence': 'ยานี้', 'similarity_score': tensor(0.4695), 'topic': 29, 'score': 0.5}, {'checklist_item': 'ให้เขย่าขวดก่อนใช้ทุกครั้ง', 'matched_sentence': 'ยานี้', 'similarity_score': tensor(0.4040), 'topic': 30, 'score': 0.5}, {'checklist_item': 'ใช้ไม้พันสำลีเช็ดหนองในใบหูหรือรูหูให้สะอาดก่อนและหลังหยอดยา', 'matched_sentence': 'ยานี้', 'similarity_score': tensor(0.4117), 'topic': 31, 'score': 0.5}, {'checklist_item': 'ยาหยอดหูหากเก็บไว้ในตู้เย็นก่อนใช้ยาให้กำหลอดยาไว้ในอุ้งมือสักครู่', 'matched_sentence': 'ยานี้', 'similarity_score': tensor(0.6060), 'topic': 32, 'score': 0.5}, {'checklist_item': 'เพื่อปรับอุณหภูมิให้ใกล้เคียงกับร่างกายก่อนหยอด', 'matched_sentence': 'ยานี้', 'similarity_score': tensor(0.2500), 'topic': 33, 'score': 0.5}, {'checklist_item': 'ผมเป็นเภสัชกร', 'matched_sentence': 'ควรรับประทานติดต่อกันทุกวันจนหมด', 'similarity_score': tensor(0.0850), 'topic': 0, 'score': 1.0}, {'checklist_item': 'ผู้ป่วยชื่ออะไร', 'matched_sentence': 'ควรรับประทานติดต่อกันทุกวันจนหมด', 'similarity_score': tensor(-0.0173), 'topic': 1, 'score': 1.0}, {'checklist_item': 'ผู้ป่วยชื่อชาตินามสกุลอะไร', 'matched_sentence': 'ควรรับประทานติดต่อกันทุกวันจนหมด', 'similarity_score': tensor(-0.0057), 'topic': 1, 'score': 0.5}, {'checklist_item': 'ผู้ป่วยชื่อชาติตระการตาใช่ไหม', 'matched_sentence': 'ควรรับประทานติดต่อกันทุกวันจนหมด', 'similarity_score': tensor(0.0402), 'topic': 1, 'score': 0.25}, {'checklist_item': 'ผู้ป่วยชื่อนามสกุลอะไร', 'matched_sentence': 'ควรรับประทานติดต่อกันทุกวันจนหมด', 'similarity_score': tensor(-0.0281), 'topic': 1, 'score': 1.0}, {'checklist_item': 'ไอบูโปรเพน', 'matched_sentence': 'ควรรับประทานติดต่อกันทุกวันจนหมด', 'similarity_score': tensor(0.0655), 'topic': 2, 'score': 0.0}, {'checklist_item': 'ความแรง400มิลลิกรัม', 'matched_sentence': 'ควรรับประทานติดต่อกันทุกวันจนหมด', 'similarity_score': tensor(-0.0168), 'topic': 3, 'score': 0.0}, {'checklist_item': 'จำนวน10เม็ด', 'matched_sentence': 'ควรรับประทานติดต่อกันทุกวันจนหมด', 'similarity_score': tensor(0.1232), 'topic': 4, 'score': 0.0}, {'checklist_item': 'ใช้เพื่อบรรเทาอาการปวด', 'matched_sentence': 'ควรรับประทานติดต่อกันทุกวันจนหมด', 'similarity_score': tensor(0.1357), 'topic': 5, 'score': 0.0}, {'checklist_item': 'รับประทานครั้งละ1เม็ด', 'matched_sentence': 'ควรรับประทานติดต่อกันทุกวันจนหมด', 'similarity_score': tensor(0.7362), 'topic': 6, 'score': 0.0}, {'checklist_item': 'วันละ3ครั้ง', 'matched_sentence': 'ควรรับประทานติดต่อกันทุกวันจนหมด', 'similarity_score': tensor(0.5314), 'topic': 7, 'score': 0.0}, {'checklist_item': 'หลังอาหารเช้ากลางวันเย็น', 'matched_sentence': 'ควรรับประทานติดต่อกันทุกวันจนหมด', 'similarity_score': tensor(0.4952), 'topic': 8, 'score': 0.0}, {'checklist_item': 'ควรรับประทานหลังอาหารทันที', 'matched_sentence': 'ควรรับประทานติดต่อกันทุกวันจนหมด', 'similarity_score': tensor(0.6267), 'topic': 9, 'score': 0.0}, {'checklist_item': 'อะมอกซีซิลิน', 'matched_sentence': 'ควรรับประทานติดต่อกันทุกวันจนหมด', 'similarity_score': tensor(0.1240), 'topic': 10, 'score': 0.0}, {'checklist_item': 'ความแรง500มิลลิกรัม', 'matched_sentence': 'ควรรับประทานติดต่อกันทุกวันจนหมด', 'similarity_score': tensor(0.0797), 'topic': 11, 'score': 0.0}, {'checklist_item': 'จำนวน30เม็ด', 'matched_sentence': 'ควรรับประทานติดต่อกันทุกวันจนหมด', 'similarity_score': tensor(0.0653), 'topic': 12, 'score': 0.0}, {'checklist_item': 'ใช้รักษาอาการติดเชื้อที่หู', 'matched_sentence': 'ควรรับประทานติดต่อกันทุกวันจนหมด', 'similarity_score': tensor(0.0298), 'topic': 13, 'score': 0.0}, {'checklist_item': 'รับประทานครั้งละ1เม็ด', 'matched_sentence': 'ควรรับประทานติดต่อกันทุกวันจนหมด', 'similarity_score': tensor(0.7362), 'topic': 14, 'score': 0.0}, {'checklist_item': 'วันละ3ครั้ง', 'matched_sentence': 'ควรรับประทานติดต่อกันทุกวันจนหมด', 'similarity_score': tensor(0.5314), 'topic': 15, 'score': 0.0}, {'checklist_item': 'หลังอาหารเช้ากลางวันเย็น', 'matched_sentence': 'ควรรับประทานติดต่อกันทุกวันจนหมด', 'similarity_score': tensor(0.4952), 'topic': 16, 'score': 0.0}, {'checklist_item': 'ควรรับประทานติดต่อกันทุกวันจนหมด', 'matched_sentence': 'ควรรับประทานติดต่อกันทุกวันจนหมด', 'similarity_score': tensor(1.), 'topic': 17, 'score': 0.0}, {'checklist_item': 'เด็กซ์ออฟ', 'matched_sentence': 'ควรรับประทานติดต่อกันทุกวันจนหมด', 'similarity_score': tensor(0.1415), 'topic': 18, 'score': 0.0}, {'checklist_item': 'ใช้รักษาหูชั้นกลางอักเสบ', 'matched_sentence': 'ควรรับประทานติดต่อกันทุกวันจนหมด', 'similarity_score': tensor(0.0321), 'topic': 19, 'score': 0.25}, {'checklist_item': 'หยอดหูซ้าย3หยด', 'matched_sentence': 'ควรรับประทานติดต่อกันทุกวันจนหมด', 'similarity_score': tensor(0.0556), 'topic': 20, 'score': 0.25}, {'checklist_item': 'วันละ3ครั้ง', 'matched_sentence': 'ควรรับประทานติดต่อกันทุกวันจนหมด', 'similarity_score': tensor(0.5314), 'topic': 21, 'score': 0.25}, {'checklist_item': 'หลังอาหารเช้ากลางวันเย็น', 'matched_sentence': 'ควรรับประทานติดต่อกันทุกวันจนหมด', 'similarity_score': tensor(0.4952), 'topic': 22, 'score': 0.25}, {'checklist_item': 'ล้างมือให้สะอาด', 'matched_sentence': 'ควรรับประทานติดต่อกันทุกวันจนหมด', 'similarity_score': tensor(0.1854), 'topic': 23, 'score': 1.0}, {'checklist_item': 'นอนตะแคงหรือนั่งเอียงศีรษะให้หูข้างที่จะหยอดยาอยู่ด้านบน', 'matched_sentence': 'ควรรับประทานติดต่อกันทุกวันจนหมด', 'similarity_score': tensor(0.1935), 'topic': 24, 'score': 1.0}, {'checklist_item': 'ให้ดึงใบหูข้างที่จะหยอดยาไปด้านหลังและดึงขึ้นด้านบน', 'matched_sentence': 'ควรรับประทานติดต่อกันทุกวันจนหมด', 'similarity_score': tensor(0.0779), 'topic': 25, 'score': 0.5}, {'checklist_item': 'หยอดยาเข้าไปในหูตามที่แพทย์สั่ง', 'matched_sentence': 'ควรรับประทานติดต่อกันทุกวันจนหมด', 'similarity_score': tensor(0.0403), 'topic': 26, 'score': 0.5}, {'checklist_item': 'ระวังอย่าเอาหลอดหยดสอดเข้าไปในรูหู', 'matched_sentence': 'ควรรับประทานติดต่อกันทุกวันจนหมด', 'similarity_score': tensor(0.0993), 'topic': 27, 'score': 1.0}, {'checklist_item': 'เอียงตะแคงอยู่ท่าเดิมประมาณ3ถึง5นาที', 'matched_sentence': 'ควรรับประทานติดต่อกันทุกวันจนหมด', 'similarity_score': tensor(0.1780), 'topic': 28, 'score': 0.5}, {'checklist_item': 'อาจเอาสำลีใส่ในรูหูไว้อีกระยะหนึ่งเพื่อไม่ให้ยาไหลออกมา', 'matched_sentence': 'ควรรับประทานติดต่อกันทุกวันจนหมด', 'similarity_score': tensor(0.1656), 'topic': 29, 'score': 0.5}, {'checklist_item': 'ให้เขย่าขวดก่อนใช้ทุกครั้ง', 'matched_sentence': 'ควรรับประทานติดต่อกันทุกวันจนหมด', 'similarity_score': tensor(0.3701), 'topic': 30, 'score': 0.5}, {'checklist_item': 'ใช้ไม้พันสำลีเช็ดหนองในใบหูหรือรูหูให้สะอาดก่อนและหลังหยอดยา', 'matched_sentence': 'ควรรับประทานติดต่อกันทุกวันจนหมด', 'similarity_score': tensor(0.0499), 'topic': 31, 'score': 0.5}, {'checklist_item': 'ยาหยอดหูหากเก็บไว้ในตู้เย็นก่อนใช้ยาให้กำหลอดยาไว้ในอุ้งมือสักครู่', 'matched_sentence': 'ควรรับประทานติดต่อกันทุกวันจนหมด', 'similarity_score': tensor(0.2227), 'topic': 32, 'score': 0.5}, {'checklist_item': 'เพื่อปรับอุณหภูมิให้ใกล้เคียงกับร่างกายก่อนหยอด', 'matched_sentence': 'ควรรับประทานติดต่อกันทุกวันจนหมด', 'similarity_score': tensor(0.2262), 'topic': 33, 'score': 0.5}, {'checklist_item': 'ผมเป็นเภสัชกร', 'matched_sentence': 'และยานี้ชื่อ', 'similarity_score': tensor(0.5530), 'topic': 0, 'score': 1.0}, {'checklist_item': 'ผู้ป่วยชื่ออะไร', 'matched_sentence': 'และยานี้ชื่อ', 'similarity_score': tensor(0.5568), 'topic': 1, 'score': 1.0}, {'checklist_item': 'ผู้ป่วยชื่อชาตินามสกุลอะไร', 'matched_sentence': 'และยานี้ชื่อ', 'similarity_score': tensor(0.5371), 'topic': 1, 'score': 0.5}, {'checklist_item': 'ผู้ป่วยชื่อชาติตระการตาใช่ไหม', 'matched_sentence': 'และยานี้ชื่อ', 'similarity_score': tensor(0.4684), 'topic': 1, 'score': 0.25}, {'checklist_item': 'ผู้ป่วยชื่อนามสกุลอะไร', 'matched_sentence': 'และยานี้ชื่อ', 'similarity_score': tensor(0.5555), 'topic': 1, 'score': 1.0}, {'checklist_item': 'ไอบูโปรเพน', 'matched_sentence': 'และยานี้ชื่อ', 'similarity_score': tensor(0.3921), 'topic': 2, 'score': 0.0}, {'checklist_item': 'ความแรง400มิลลิกรัม', 'matched_sentence': 'และยานี้ชื่อ', 'similarity_score': tensor(0.0363), 'topic': 3, 'score': 0.0}, {'checklist_item': 'จำนวน10เม็ด', 'matched_sentence': 'และยานี้ชื่อ', 'similarity_score': tensor(0.2438), 'topic': 4, 'score': 0.0}, {'checklist_item': 'ใช้เพื่อบรรเทาอาการปวด', 'matched_sentence': 'และยานี้ชื่อ', 'similarity_score': tensor(0.4871), 'topic': 5, 'score': 0.0}, {'checklist_item': 'รับประทานครั้งละ1เม็ด', 'matched_sentence': 'และยานี้ชื่อ', 'similarity_score': tensor(0.2148), 'topic': 6, 'score': 0.0}, {'checklist_item': 'วันละ3ครั้ง', 'matched_sentence': 'และยานี้ชื่อ', 'similarity_score': tensor(0.1695), 'topic': 7, 'score': 0.0}, {'checklist_item': 'หลังอาหารเช้ากลางวันเย็น', 'matched_sentence': 'และยานี้ชื่อ', 'similarity_score': tensor(0.1151), 'topic': 8, 'score': 0.0}, {'checklist_item': 'ควรรับประทานหลังอาหารทันที', 'matched_sentence': 'และยานี้ชื่อ', 'similarity_score': tensor(0.1328), 'topic': 9, 'score': 0.0}, {'checklist_item': 'อะมอกซีซิลิน', 'matched_sentence': 'และยานี้ชื่อ', 'similarity_score': tensor(0.5898), 'topic': 10, 'score': 0.0}, {'checklist_item': 'ความแรง500มิลลิกรัม', 'matched_sentence': 'และยานี้ชื่อ', 'similarity_score': tensor(0.0737), 'topic': 11, 'score': 0.0}, {'checklist_item': 'จำนวน30เม็ด', 'matched_sentence': 'และยานี้ชื่อ', 'similarity_score': tensor(0.2540), 'topic': 12, 'score': 0.0}, {'checklist_item': 'ใช้รักษาอาการติดเชื้อที่หู', 'matched_sentence': 'และยานี้ชื่อ', 'similarity_score': tensor(0.3495), 'topic': 13, 'score': 0.0}, {'checklist_item': 'รับประทานครั้งละ1เม็ด', 'matched_sentence': 'และยานี้ชื่อ', 'similarity_score': tensor(0.2148), 'topic': 14, 'score': 0.0}, {'checklist_item': 'วันละ3ครั้ง', 'matched_sentence': 'และยานี้ชื่อ', 'similarity_score': tensor(0.1695), 'topic': 15, 'score': 0.0}, {'checklist_item': 'หลังอาหารเช้ากลางวันเย็น', 'matched_sentence': 'และยานี้ชื่อ', 'similarity_score': tensor(0.1151), 'topic': 16, 'score': 0.0}, {'checklist_item': 'ควรรับประทานติดต่อกันทุกวันจนหมด', 'matched_sentence': 'และยานี้ชื่อ', 'similarity_score': tensor(0.0361), 'topic': 17, 'score': 0.0}, {'checklist_item': 'เด็กซ์ออฟ', 'matched_sentence': 'และยานี้ชื่อ', 'similarity_score': tensor(0.4317), 'topic': 18, 'score': 0.0}, {'checklist_item': 'ใช้รักษาหูชั้นกลางอักเสบ', 'matched_sentence': 'และยานี้ชื่อ', 'similarity_score': tensor(0.3216), 'topic': 19, 'score': 0.25}, {'checklist_item': 'หยอดหูซ้าย3หยด', 'matched_sentence': 'และยานี้ชื่อ', 'similarity_score': tensor(0.2656), 'topic': 20, 'score': 0.25}, {'checklist_item': 'วันละ3ครั้ง', 'matched_sentence': 'และยานี้ชื่อ', 'similarity_score': tensor(0.1695), 'topic': 21, 'score': 0.25}, {'checklist_item': 'หลังอาหารเช้ากลางวันเย็น', 'matched_sentence': 'และยานี้ชื่อ', 'similarity_score': tensor(0.1151), 'topic': 22, 'score': 0.25}, {'checklist_item': 'ล้างมือให้สะอาด', 'matched_sentence': 'และยานี้ชื่อ', 'similarity_score': tensor(0.2488), 'topic': 23, 'score': 1.0}, {'checklist_item': 'นอนตะแคงหรือนั่งเอียงศีรษะให้หูข้างที่จะหยอดยาอยู่ด้านบน', 'matched_sentence': 'และยานี้ชื่อ', 'similarity_score': tensor(0.3466), 'topic': 24, 'score': 1.0}, {'checklist_item': 'ให้ดึงใบหูข้างที่จะหยอดยาไปด้านหลังและดึงขึ้นด้านบน', 'matched_sentence': 'และยานี้ชื่อ', 'similarity_score': tensor(0.3834), 'topic': 25, 'score': 0.5}, {'checklist_item': 'หยอดยาเข้าไปในหูตามที่แพทย์สั่ง', 'matched_sentence': 'และยานี้ชื่อ', 'similarity_score': tensor(0.4679), 'topic': 26, 'score': 0.5}, {'checklist_item': 'ระวังอย่าเอาหลอดหยดสอดเข้าไปในรูหู', 'matched_sentence': 'และยานี้ชื่อ', 'similarity_score': tensor(0.2564), 'topic': 27, 'score': 1.0}, {'checklist_item': 'เอียงตะแคงอยู่ท่าเดิมประมาณ3ถึง5นาที', 'matched_sentence': 'และยานี้ชื่อ', 'similarity_score': tensor(0.1169), 'topic': 28, 'score': 0.5}, {'checklist_item': 'อาจเอาสำลีใส่ในรูหูไว้อีกระยะหนึ่งเพื่อไม่ให้ยาไหลออกมา', 'matched_sentence': 'และยานี้ชื่อ', 'similarity_score': tensor(0.4301), 'topic': 29, 'score': 0.5}, {'checklist_item': 'ให้เขย่าขวดก่อนใช้ทุกครั้ง', 'matched_sentence': 'และยานี้ชื่อ', 'similarity_score': tensor(0.3798), 'topic': 30, 'score': 0.5}, {'checklist_item': 'ใช้ไม้พันสำลีเช็ดหนองในใบหูหรือรูหูให้สะอาดก่อนและหลังหยอดยา', 'matched_sentence': 'และยานี้ชื่อ', 'similarity_score': tensor(0.3445), 'topic': 31, 'score': 0.5}, {'checklist_item': 'ยาหยอดหูหากเก็บไว้ในตู้เย็นก่อนใช้ยาให้กำหลอดยาไว้ในอุ้งมือสักครู่', 'matched_sentence': 'และยานี้ชื่อ', 'similarity_score': tensor(0.5844), 'topic': 32, 'score': 0.5}, {'checklist_item': 'เพื่อปรับอุณหภูมิให้ใกล้เคียงกับร่างกายก่อนหยอด', 'matched_sentence': 'และยานี้ชื่อ', 'similarity_score': tensor(0.1602), 'topic': 33, 'score': 0.5}, {'checklist_item': 'ผมเป็นเภสัชกร', 'matched_sentence': 'เด็กซ์ออฟ', 'similarity_score': tensor(0.2920), 'topic': 0, 'score': 1.0}, {'checklist_item': 'ผู้ป่วยชื่ออะไร', 'matched_sentence': 'เด็กซ์ออฟ', 'similarity_score': tensor(0.2761), 'topic': 1, 'score': 1.0}, {'checklist_item': 'ผู้ป่วยชื่อชาตินามสกุลอะไร', 'matched_sentence': 'เด็กซ์ออฟ', 'similarity_score': tensor(0.2970), 'topic': 1, 'score': 0.5}, {'checklist_item': 'ผู้ป่วยชื่อชาติตระการตาใช่ไหม', 'matched_sentence': 'เด็กซ์ออฟ', 'similarity_score': tensor(0.4829), 'topic': 1, 'score': 0.25}, {'checklist_item': 'ผู้ป่วยชื่อนามสกุลอะไร', 'matched_sentence': 'เด็กซ์ออฟ', 'similarity_score': tensor(0.2685), 'topic': 1, 'score': 1.0}, {'checklist_item': 'ไอบูโปรเพน', 'matched_sentence': 'เด็กซ์ออฟ', 'similarity_score': tensor(0.4831), 'topic': 2, 'score': 0.0}, {'checklist_item': 'ความแรง400มิลลิกรัม', 'matched_sentence': 'เด็กซ์ออฟ', 'similarity_score': tensor(0.1001), 'topic': 3, 'score': 0.0}, {'checklist_item': 'จำนวน10เม็ด', 'matched_sentence': 'เด็กซ์ออฟ', 'similarity_score': tensor(0.4286), 'topic': 4, 'score': 0.0}, {'checklist_item': 'ใช้เพื่อบรรเทาอาการปวด', 'matched_sentence': 'เด็กซ์ออฟ', 'similarity_score': tensor(0.3014), 'topic': 5, 'score': 0.0}, {'checklist_item': 'รับประทานครั้งละ1เม็ด', 'matched_sentence': 'เด็กซ์ออฟ', 'similarity_score': tensor(0.2965), 'topic': 6, 'score': 0.0}, {'checklist_item': 'วันละ3ครั้ง', 'matched_sentence': 'เด็กซ์ออฟ', 'similarity_score': tensor(0.3129), 'topic': 7, 'score': 0.0}, {'checklist_item': 'หลังอาหารเช้ากลางวันเย็น', 'matched_sentence': 'เด็กซ์ออฟ', 'similarity_score': tensor(0.3168), 'topic': 8, 'score': 0.0}, {'checklist_item': 'ควรรับประทานหลังอาหารทันที', 'matched_sentence': 'เด็กซ์ออฟ', 'similarity_score': tensor(0.2870), 'topic': 9, 'score': 0.0}, {'checklist_item': 'อะมอกซีซิลิน', 'matched_sentence': 'เด็กซ์ออฟ', 'similarity_score': tensor(0.5250), 'topic': 10, 'score': 0.0}, {'checklist_item': 'ความแรง500มิลลิกรัม', 'matched_sentence': 'เด็กซ์ออฟ', 'similarity_score': tensor(0.1364), 'topic': 11, 'score': 0.0}, {'checklist_item': 'จำนวน30เม็ด', 'matched_sentence': 'เด็กซ์ออฟ', 'similarity_score': tensor(0.3637), 'topic': 12, 'score': 0.0}, {'checklist_item': 'ใช้รักษาอาการติดเชื้อที่หู', 'matched_sentence': 'เด็กซ์ออฟ', 'similarity_score': tensor(0.2655), 'topic': 13, 'score': 0.0}, {'checklist_item': 'รับประทานครั้งละ1เม็ด', 'matched_sentence': 'เด็กซ์ออฟ', 'similarity_score': tensor(0.2965), 'topic': 14, 'score': 0.0}, {'checklist_item': 'วันละ3ครั้ง', 'matched_sentence': 'เด็กซ์ออฟ', 'similarity_score': tensor(0.3129), 'topic': 15, 'score': 0.0}, {'checklist_item': 'หลังอาหารเช้ากลางวันเย็น', 'matched_sentence': 'เด็กซ์ออฟ', 'similarity_score': tensor(0.3168), 'topic': 16, 'score': 0.0}, {'checklist_item': 'ควรรับประทานติดต่อกันทุกวันจนหมด', 'matched_sentence': 'เด็กซ์ออฟ', 'similarity_score': tensor(0.1415), 'topic': 17, 'score': 0.0}, {'checklist_item': 'เด็กซ์ออฟ', 'matched_sentence': 'เด็กซ์ออฟ', 'similarity_score': tensor(1.0000), 'topic': 18, 'score': 0.0}, {'checklist_item': 'ใช้รักษาหูชั้นกลางอักเสบ', 'matched_sentence': 'เด็กซ์ออฟ', 'similarity_score': tensor(0.2251), 'topic': 19, 'score': 0.25}, {'checklist_item': 'หยอดหูซ้าย3หยด', 'matched_sentence': 'เด็กซ์ออฟ', 'similarity_score': tensor(0.4674), 'topic': 20, 'score': 0.25}, {'checklist_item': 'วันละ3ครั้ง', 'matched_sentence': 'เด็กซ์ออฟ', 'similarity_score': tensor(0.3129), 'topic': 21, 'score': 0.25}, {'checklist_item': 'หลังอาหารเช้ากลางวันเย็น', 'matched_sentence': 'เด็กซ์ออฟ', 'similarity_score': tensor(0.3168), 'topic': 22, 'score': 0.25}, {'checklist_item': 'ล้างมือให้สะอาด', 'matched_sentence': 'เด็กซ์ออฟ', 'similarity_score': tensor(0.3170), 'topic': 23, 'score': 1.0}, {'checklist_item': 'นอนตะแคงหรือนั่งเอียงศีรษะให้หูข้างที่จะหยอดยาอยู่ด้านบน', 'matched_sentence': 'เด็กซ์ออฟ', 'similarity_score': tensor(0.3965), 'topic': 24, 'score': 1.0}, {'checklist_item': 'ให้ดึงใบหูข้างที่จะหยอดยาไปด้านหลังและดึงขึ้นด้านบน', 'matched_sentence': 'เด็กซ์ออฟ', 'similarity_score': tensor(0.4263), 'topic': 25, 'score': 0.5}, {'checklist_item': 'หยอดยาเข้าไปในหูตามที่แพทย์สั่ง', 'matched_sentence': 'เด็กซ์ออฟ', 'similarity_score': tensor(0.2662), 'topic': 26, 'score': 0.5}, {'checklist_item': 'ระวังอย่าเอาหลอดหยดสอดเข้าไปในรูหู', 'matched_sentence': 'เด็กซ์ออฟ', 'similarity_score': tensor(0.3717), 'topic': 27, 'score': 1.0}, {'checklist_item': 'เอียงตะแคงอยู่ท่าเดิมประมาณ3ถึง5นาที', 'matched_sentence': 'เด็กซ์ออฟ', 'similarity_score': tensor(0.2403), 'topic': 28, 'score': 0.5}, {'checklist_item': 'อาจเอาสำลีใส่ในรูหูไว้อีกระยะหนึ่งเพื่อไม่ให้ยาไหลออกมา', 'matched_sentence': 'เด็กซ์ออฟ', 'similarity_score': tensor(0.2341), 'topic': 29, 'score': 0.5}, {'checklist_item': 'ให้เขย่าขวดก่อนใช้ทุกครั้ง', 'matched_sentence': 'เด็กซ์ออฟ', 'similarity_score': tensor(0.4390), 'topic': 30, 'score': 0.5}, {'checklist_item': 'ใช้ไม้พันสำลีเช็ดหนองในใบหูหรือรูหูให้สะอาดก่อนและหลังหยอดยา', 'matched_sentence': 'เด็กซ์ออฟ', 'similarity_score': tensor(0.1980), 'topic': 31, 'score': 0.5}, {'checklist_item': 'ยาหยอดหูหากเก็บไว้ในตู้เย็นก่อนใช้ยาให้กำหลอดยาไว้ในอุ้งมือสักครู่', 'matched_sentence': 'เด็กซ์ออฟ', 'similarity_score': tensor(0.3231), 'topic': 32, 'score': 0.5}, {'checklist_item': 'เพื่อปรับอุณหภูมิให้ใกล้เคียงกับร่างกายก่อนหยอด', 'matched_sentence': 'เด็กซ์ออฟ', 'similarity_score': tensor(0.2170), 'topic': 33, 'score': 0.5}, {'checklist_item': 'ผมเป็นเภสัชกร', 'matched_sentence': 'จำนวน1ขวด', 'similarity_score': tensor(0.2462), 'topic': 0, 'score': 1.0}, {'checklist_item': 'ผู้ป่วยชื่ออะไร', 'matched_sentence': 'จำนวน1ขวด', 'similarity_score': tensor(0.1768), 'topic': 1, 'score': 1.0}, {'checklist_item': 'ผู้ป่วยชื่อชาตินามสกุลอะไร', 'matched_sentence': 'จำนวน1ขวด', 'similarity_score': tensor(0.1830), 'topic': 1, 'score': 0.5}, {'checklist_item': 'ผู้ป่วยชื่อชาติตระการตาใช่ไหม', 'matched_sentence': 'จำนวน1ขวด', 'similarity_score': tensor(0.2249), 'topic': 1, 'score': 0.25}, {'checklist_item': 'ผู้ป่วยชื่อนามสกุลอะไร', 'matched_sentence': 'จำนวน1ขวด', 'similarity_score': tensor(0.1702), 'topic': 1, 'score': 1.0}, {'checklist_item': 'ไอบูโปรเพน', 'matched_sentence': 'จำนวน1ขวด', 'similarity_score': tensor(0.3914), 'topic': 2, 'score': 0.0}, {'checklist_item': 'ความแรง400มิลลิกรัม', 'matched_sentence': 'จำนวน1ขวด', 'similarity_score': tensor(0.2542), 'topic': 3, 'score': 0.0}, {'checklist_item': 'จำนวน10เม็ด', 'matched_sentence': 'จำนวน1ขวด', 'similarity_score': tensor(0.5225), 'topic': 4, 'score': 0.0}, {'checklist_item': 'ใช้เพื่อบรรเทาอาการปวด', 'matched_sentence': 'จำนวน1ขวด', 'similarity_score': tensor(0.1780), 'topic': 5, 'score': 0.0}, {'checklist_item': 'รับประทานครั้งละ1เม็ด', 'matched_sentence': 'จำนวน1ขวด', 'similarity_score': tensor(0.4531), 'topic': 6, 'score': 0.0}, {'checklist_item': 'วันละ3ครั้ง', 'matched_sentence': 'จำนวน1ขวด', 'similarity_score': tensor(0.3269), 'topic': 7, 'score': 0.0}, {'checklist_item': 'หลังอาหารเช้ากลางวันเย็น', 'matched_sentence': 'จำนวน1ขวด', 'similarity_score': tensor(0.1822), 'topic': 8, 'score': 0.0}, {'checklist_item': 'ควรรับประทานหลังอาหารทันที', 'matched_sentence': 'จำนวน1ขวด', 'similarity_score': tensor(0.1120), 'topic': 9, 'score': 0.0}, {'checklist_item': 'อะมอกซีซิลิน', 'matched_sentence': 'จำนวน1ขวด', 'similarity_score': tensor(0.2875), 'topic': 10, 'score': 0.0}, {'checklist_item': 'ความแรง500มิลลิกรัม', 'matched_sentence': 'จำนวน1ขวด', 'similarity_score': tensor(0.2601), 'topic': 11, 'score': 0.0}, {'checklist_item': 'จำนวน30เม็ด', 'matched_sentence': 'จำนวน1ขวด', 'similarity_score': tensor(0.6125), 'topic': 12, 'score': 0.0}, {'checklist_item': 'ใช้รักษาอาการติดเชื้อที่หู', 'matched_sentence': 'จำนวน1ขวด', 'similarity_score': tensor(0.2379), 'topic': 13, 'score': 0.0}, {'checklist_item': 'รับประทานครั้งละ1เม็ด', 'matched_sentence': 'จำนวน1ขวด', 'similarity_score': tensor(0.4531), 'topic': 14, 'score': 0.0}, {'checklist_item': 'วันละ3ครั้ง', 'matched_sentence': 'จำนวน1ขวด', 'similarity_score': tensor(0.3269), 'topic': 15, 'score': 0.0}, {'checklist_item': 'หลังอาหารเช้ากลางวันเย็น', 'matched_sentence': 'จำนวน1ขวด', 'similarity_score': tensor(0.1822), 'topic': 16, 'score': 0.0}, {'checklist_item': 'ควรรับประทานติดต่อกันทุกวันจนหมด', 'matched_sentence': 'จำนวน1ขวด', 'similarity_score': tensor(0.1322), 'topic': 17, 'score': 0.0}, {'checklist_item': 'เด็กซ์ออฟ', 'matched_sentence': 'จำนวน1ขวด', 'similarity_score': tensor(0.4233), 'topic': 18, 'score': 0.0}, {'checklist_item': 'ใช้รักษาหูชั้นกลางอักเสบ', 'matched_sentence': 'จำนวน1ขวด', 'similarity_score': tensor(0.1834), 'topic': 19, 'score': 0.25}, {'checklist_item': 'หยอดหูซ้าย3หยด', 'matched_sentence': 'จำนวน1ขวด', 'similarity_score': tensor(0.3566), 'topic': 20, 'score': 0.25}, {'checklist_item': 'วันละ3ครั้ง', 'matched_sentence': 'จำนวน1ขวด', 'similarity_score': tensor(0.3269), 'topic': 21, 'score': 0.25}, {'checklist_item': 'หลังอาหารเช้ากลางวันเย็น', 'matched_sentence': 'จำนวน1ขวด', 'similarity_score': tensor(0.1822), 'topic': 22, 'score': 0.25}, {'checklist_item': 'ล้างมือให้สะอาด', 'matched_sentence': 'จำนวน1ขวด', 'similarity_score': tensor(0.2719), 'topic': 23, 'score': 1.0}, {'checklist_item': 'นอนตะแคงหรือนั่งเอียงศีรษะให้หูข้างที่จะหยอดยาอยู่ด้านบน', 'matched_sentence': 'จำนวน1ขวด', 'similarity_score': tensor(0.2543), 'topic': 24, 'score': 1.0}, {'checklist_item': 'ให้ดึงใบหูข้างที่จะหยอดยาไปด้านหลังและดึงขึ้นด้านบน', 'matched_sentence': 'จำนวน1ขวด', 'similarity_score': tensor(0.3395), 'topic': 25, 'score': 0.5}, {'checklist_item': 'หยอดยาเข้าไปในหูตามที่แพทย์สั่ง', 'matched_sentence': 'จำนวน1ขวด', 'similarity_score': tensor(0.3115), 'topic': 26, 'score': 0.5}, {'checklist_item': 'ระวังอย่าเอาหลอดหยดสอดเข้าไปในรูหู', 'matched_sentence': 'จำนวน1ขวด', 'similarity_score': tensor(0.3340), 'topic': 27, 'score': 1.0}, {'checklist_item': 'เอียงตะแคงอยู่ท่าเดิมประมาณ3ถึง5นาที', 'matched_sentence': 'จำนวน1ขวด', 'similarity_score': tensor(0.1725), 'topic': 28, 'score': 0.5}, {'checklist_item': 'อาจเอาสำลีใส่ในรูหูไว้อีกระยะหนึ่งเพื่อไม่ให้ยาไหลออกมา', 'matched_sentence': 'จำนวน1ขวด', 'similarity_score': tensor(0.3475), 'topic': 29, 'score': 0.5}, {'checklist_item': 'ให้เขย่าขวดก่อนใช้ทุกครั้ง', 'matched_sentence': 'จำนวน1ขวด', 'similarity_score': tensor(0.7101), 'topic': 30, 'score': 0.5}, {'checklist_item': 'ใช้ไม้พันสำลีเช็ดหนองในใบหูหรือรูหูให้สะอาดก่อนและหลังหยอดยา', 'matched_sentence': 'จำนวน1ขวด', 'similarity_score': tensor(0.3035), 'topic': 31, 'score': 0.5}, {'checklist_item': 'ยาหยอดหูหากเก็บไว้ในตู้เย็นก่อนใช้ยาให้กำหลอดยาไว้ในอุ้งมือสักครู่', 'matched_sentence': 'จำนวน1ขวด', 'similarity_score': tensor(0.3890), 'topic': 32, 'score': 0.5}, {'checklist_item': 'เพื่อปรับอุณหภูมิให้ใกล้เคียงกับร่างกายก่อนหยอด', 'matched_sentence': 'จำนวน1ขวด', 'similarity_score': tensor(0.1383), 'topic': 33, 'score': 0.5}, {'checklist_item': 'ผมเป็นเภสัชกร', 'matched_sentence': 'ใช้สำหรับหยอดหูเพื่อรักษาอาการติดเชื้อที่หู', 'similarity_score': tensor(0.3295), 'topic': 0, 'score': 1.0}, {'checklist_item': 'ผู้ป่วยชื่ออะไร', 'matched_sentence': 'ใช้สำหรับหยอดหูเพื่อรักษาอาการติดเชื้อที่หู', 'similarity_score': tensor(0.2849), 'topic': 1, 'score': 1.0}, {'checklist_item': 'ผู้ป่วยชื่อชาตินามสกุลอะไร', 'matched_sentence': 'ใช้สำหรับหยอดหูเพื่อรักษาอาการติดเชื้อที่หู', 'similarity_score': tensor(0.2797), 'topic': 1, 'score': 0.5}, {'checklist_item': 'ผู้ป่วยชื่อชาติตระการตาใช่ไหม', 'matched_sentence': 'ใช้สำหรับหยอดหูเพื่อรักษาอาการติดเชื้อที่หู', 'similarity_score': tensor(0.3062), 'topic': 1, 'score': 0.25}, {'checklist_item': 'ผู้ป่วยชื่อนามสกุลอะไร', 'matched_sentence': 'ใช้สำหรับหยอดหูเพื่อรักษาอาการติดเชื้อที่หู', 'similarity_score': tensor(0.2672), 'topic': 1, 'score': 1.0}, {'checklist_item': 'ไอบูโปรเพน', 'matched_sentence': 'ใช้สำหรับหยอดหูเพื่อรักษาอาการติดเชื้อที่หู', 'similarity_score': tensor(0.3258), 'topic': 2, 'score': 0.0}, {'checklist_item': 'ความแรง400มิลลิกรัม', 'matched_sentence': 'ใช้สำหรับหยอดหูเพื่อรักษาอาการติดเชื้อที่หู', 'similarity_score': tensor(-0.0771), 'topic': 3, 'score': 0.0}, {'checklist_item': 'จำนวน10เม็ด', 'matched_sentence': 'ใช้สำหรับหยอดหูเพื่อรักษาอาการติดเชื้อที่หู', 'similarity_score': tensor(0.0748), 'topic': 4, 'score': 0.0}, {'checklist_item': 'ใช้เพื่อบรรเทาอาการปวด', 'matched_sentence': 'ใช้สำหรับหยอดหูเพื่อรักษาอาการติดเชื้อที่หู', 'similarity_score': tensor(0.4795), 'topic': 5, 'score': 0.0}, {'checklist_item': 'รับประทานครั้งละ1เม็ด', 'matched_sentence': 'ใช้สำหรับหยอดหูเพื่อรักษาอาการติดเชื้อที่หู', 'similarity_score': tensor(0.0532), 'topic': 6, 'score': 0.0}, {'checklist_item': 'วันละ3ครั้ง', 'matched_sentence': 'ใช้สำหรับหยอดหูเพื่อรักษาอาการติดเชื้อที่หู', 'similarity_score': tensor(0.1423), 'topic': 7, 'score': 0.0}, {'checklist_item': 'หลังอาหารเช้ากลางวันเย็น', 'matched_sentence': 'ใช้สำหรับหยอดหูเพื่อรักษาอาการติดเชื้อที่หู', 'similarity_score': tensor(0.0428), 'topic': 8, 'score': 0.0}, {'checklist_item': 'ควรรับประทานหลังอาหารทันที', 'matched_sentence': 'ใช้สำหรับหยอดหูเพื่อรักษาอาการติดเชื้อที่หู', 'similarity_score': tensor(0.0112), 'topic': 9, 'score': 0.0}, {'checklist_item': 'อะมอกซีซิลิน', 'matched_sentence': 'ใช้สำหรับหยอดหูเพื่อรักษาอาการติดเชื้อที่หู', 'similarity_score': tensor(0.3871), 'topic': 10, 'score': 0.0}, {'checklist_item': 'ความแรง500มิลลิกรัม', 'matched_sentence': 'ใช้สำหรับหยอดหูเพื่อรักษาอาการติดเชื้อที่หู', 'similarity_score': tensor(-0.0529), 'topic': 11, 'score': 0.0}, {'checklist_item': 'จำนวน30เม็ด', 'matched_sentence': 'ใช้สำหรับหยอดหูเพื่อรักษาอาการติดเชื้อที่หู', 'similarity_score': tensor(0.1538), 'topic': 12, 'score': 0.0}, {'checklist_item': 'ใช้รักษาอาการติดเชื้อที่หู', 'matched_sentence': 'ใช้สำหรับหยอดหูเพื่อรักษาอาการติดเชื้อที่หู', 'similarity_score': tensor(0.9556), 'topic': 13, 'score': 0.0}, {'checklist_item': 'รับประทานครั้งละ1เม็ด', 'matched_sentence': 'ใช้สำหรับหยอดหูเพื่อรักษาอาการติดเชื้อที่หู', 'similarity_score': tensor(0.0532), 'topic': 14, 'score': 0.0}, {'checklist_item': 'วันละ3ครั้ง', 'matched_sentence': 'ใช้สำหรับหยอดหูเพื่อรักษาอาการติดเชื้อที่หู', 'similarity_score': tensor(0.1423), 'topic': 15, 'score': 0.0}, {'checklist_item': 'หลังอาหารเช้ากลางวันเย็น', 'matched_sentence': 'ใช้สำหรับหยอดหูเพื่อรักษาอาการติดเชื้อที่หู', 'similarity_score': tensor(0.0428), 'topic': 16, 'score': 0.0}, {'checklist_item': 'ควรรับประทานติดต่อกันทุกวันจนหมด', 'matched_sentence': 'ใช้สำหรับหยอดหูเพื่อรักษาอาการติดเชื้อที่หู', 'similarity_score': tensor(0.0069), 'topic': 17, 'score': 0.0}, {'checklist_item': 'เด็กซ์ออฟ', 'matched_sentence': 'ใช้สำหรับหยอดหูเพื่อรักษาอาการติดเชื้อที่หู', 'similarity_score': tensor(0.1712), 'topic': 18, 'score': 0.0}, {'checklist_item': 'ใช้รักษาหูชั้นกลางอักเสบ', 'matched_sentence': 'ใช้สำหรับหยอดหูเพื่อรักษาอาการติดเชื้อที่หู', 'similarity_score': tensor(0.9235), 'topic': 19, 'score': 0.25}, {'checklist_item': 'หยอดหูซ้าย3หยด', 'matched_sentence': 'ใช้สำหรับหยอดหูเพื่อรักษาอาการติดเชื้อที่หู', 'similarity_score': tensor(0.6084), 'topic': 20, 'score': 0.25}, {'checklist_item': 'วันละ3ครั้ง', 'matched_sentence': 'ใช้สำหรับหยอดหูเพื่อรักษาอาการติดเชื้อที่หู', 'similarity_score': tensor(0.1423), 'topic': 21, 'score': 0.25}, {'checklist_item': 'หลังอาหารเช้ากลางวันเย็น', 'matched_sentence': 'ใช้สำหรับหยอดหูเพื่อรักษาอาการติดเชื้อที่หู', 'similarity_score': tensor(0.0428), 'topic': 22, 'score': 0.25}, {'checklist_item': 'ล้างมือให้สะอาด', 'matched_sentence': 'ใช้สำหรับหยอดหูเพื่อรักษาอาการติดเชื้อที่หู', 'similarity_score': tensor(0.1642), 'topic': 23, 'score': 1.0}, {'checklist_item': 'นอนตะแคงหรือนั่งเอียงศีรษะให้หูข้างที่จะหยอดยาอยู่ด้านบน', 'matched_sentence': 'ใช้สำหรับหยอดหูเพื่อรักษาอาการติดเชื้อที่หู', 'similarity_score': tensor(0.5399), 'topic': 24, 'score': 1.0}, {'checklist_item': 'ให้ดึงใบหูข้างที่จะหยอดยาไปด้านหลังและดึงขึ้นด้านบน', 'matched_sentence': 'ใช้สำหรับหยอดหูเพื่อรักษาอาการติดเชื้อที่หู', 'similarity_score': tensor(0.6229), 'topic': 25, 'score': 0.5}, {'checklist_item': 'หยอดยาเข้าไปในหูตามที่แพทย์สั่ง', 'matched_sentence': 'ใช้สำหรับหยอดหูเพื่อรักษาอาการติดเชื้อที่หู', 'similarity_score': tensor(0.7692), 'topic': 26, 'score': 0.5}, {'checklist_item': 'ระวังอย่าเอาหลอดหยดสอดเข้าไปในรูหู', 'matched_sentence': 'ใช้สำหรับหยอดหูเพื่อรักษาอาการติดเชื้อที่หู', 'similarity_score': tensor(0.5182), 'topic': 27, 'score': 1.0}, {'checklist_item': 'เอียงตะแคงอยู่ท่าเดิมประมาณ3ถึง5นาที', 'matched_sentence': 'ใช้สำหรับหยอดหูเพื่อรักษาอาการติดเชื้อที่หู', 'similarity_score': tensor(0.0853), 'topic': 28, 'score': 0.5}, {'checklist_item': 'อาจเอาสำลีใส่ในรูหูไว้อีกระยะหนึ่งเพื่อไม่ให้ยาไหลออกมา', 'matched_sentence': 'ใช้สำหรับหยอดหูเพื่อรักษาอาการติดเชื้อที่หู', 'similarity_score': tensor(0.6124), 'topic': 29, 'score': 0.5}, {'checklist_item': 'ให้เขย่าขวดก่อนใช้ทุกครั้ง', 'matched_sentence': 'ใช้สำหรับหยอดหูเพื่อรักษาอาการติดเชื้อที่หู', 'similarity_score': tensor(0.2738), 'topic': 30, 'score': 0.5}, {'checklist_item': 'ใช้ไม้พันสำลีเช็ดหนองในใบหูหรือรูหูให้สะอาดก่อนและหลังหยอดยา', 'matched_sentence': 'ใช้สำหรับหยอดหูเพื่อรักษาอาการติดเชื้อที่หู', 'similarity_score': tensor(0.8058), 'topic': 31, 'score': 0.5}, {'checklist_item': 'ยาหยอดหูหากเก็บไว้ในตู้เย็นก่อนใช้ยาให้กำหลอดยาไว้ในอุ้งมือสักครู่', 'matched_sentence': 'ใช้สำหรับหยอดหูเพื่อรักษาอาการติดเชื้อที่หู', 'similarity_score': tensor(0.3523), 'topic': 32, 'score': 0.5}, {'checklist_item': 'เพื่อปรับอุณหภูมิให้ใกล้เคียงกับร่างกายก่อนหยอด', 'matched_sentence': 'ใช้สำหรับหยอดหูเพื่อรักษาอาการติดเชื้อที่หู', 'similarity_score': tensor(0.1487), 'topic': 33, 'score': 0.5}, {'checklist_item': 'ผมเป็นเภสัชกร', 'matched_sentence': 'หยอด3หยดที่หูข้างซ้าย', 'similarity_score': tensor(0.2621), 'topic': 0, 'score': 1.0}, {'checklist_item': 'ผู้ป่วยชื่ออะไร', 'matched_sentence': 'หยอด3หยดที่หูข้างซ้าย', 'similarity_score': tensor(0.2130), 'topic': 1, 'score': 1.0}, {'checklist_item': 'ผู้ป่วยชื่อชาตินามสกุลอะไร', 'matched_sentence': 'หยอด3หยดที่หูข้างซ้าย', 'similarity_score': tensor(0.2234), 'topic': 1, 'score': 0.5}, {'checklist_item': 'ผู้ป่วยชื่อชาติตระการตาใช่ไหม', 'matched_sentence': 'หยอด3หยดที่หูข้างซ้าย', 'similarity_score': tensor(0.3435), 'topic': 1, 'score': 0.25}, {'checklist_item': 'ผู้ป่วยชื่อนามสกุลอะไร', 'matched_sentence': 'หยอด3หยดที่หูข้างซ้าย', 'similarity_score': tensor(0.1961), 'topic': 1, 'score': 1.0}, {'checklist_item': 'ไอบูโปรเพน', 'matched_sentence': 'หยอด3หยดที่หูข้างซ้าย', 'similarity_score': tensor(0.2962), 'topic': 2, 'score': 0.0}, {'checklist_item': 'ความแรง400มิลลิกรัม', 'matched_sentence': 'หยอด3หยดที่หูข้างซ้าย', 'similarity_score': tensor(0.0918), 'topic': 3, 'score': 0.0}, {'checklist_item': 'จำนวน10เม็ด', 'matched_sentence': 'หยอด3หยดที่หูข้างซ้าย', 'similarity_score': tensor(0.2825), 'topic': 4, 'score': 0.0}, {'checklist_item': 'ใช้เพื่อบรรเทาอาการปวด', 'matched_sentence': 'หยอด3หยดที่หูข้างซ้าย', 'similarity_score': tensor(0.2935), 'topic': 5, 'score': 0.0}, {'checklist_item': 'รับประทานครั้งละ1เม็ด', 'matched_sentence': 'หยอด3หยดที่หูข้างซ้าย', 'similarity_score': tensor(0.1707), 'topic': 6, 'score': 0.0}, {'checklist_item': 'วันละ3ครั้ง', 'matched_sentence': 'หยอด3หยดที่หูข้างซ้าย', 'similarity_score': tensor(0.3494), 'topic': 7, 'score': 0.0}, {'checklist_item': 'หลังอาหารเช้ากลางวันเย็น', 'matched_sentence': 'หยอด3หยดที่หูข้างซ้าย', 'similarity_score': tensor(0.1839), 'topic': 8, 'score': 0.0}, {'checklist_item': 'ควรรับประทานหลังอาหารทันที', 'matched_sentence': 'หยอด3หยดที่หูข้างซ้าย', 'similarity_score': tensor(0.0793), 'topic': 9, 'score': 0.0}, {'checklist_item': 'อะมอกซีซิลิน', 'matched_sentence': 'หยอด3หยดที่หูข้างซ้าย', 'similarity_score': tensor(0.3375), 'topic': 10, 'score': 0.0}, {'checklist_item': 'ความแรง500มิลลิกรัม', 'matched_sentence': 'หยอด3หยดที่หูข้างซ้าย', 'similarity_score': tensor(0.1112), 'topic': 11, 'score': 0.0}, {'checklist_item': 'จำนวน30เม็ด', 'matched_sentence': 'หยอด3หยดที่หูข้างซ้าย', 'similarity_score': tensor(0.3380), 'topic': 12, 'score': 0.0}, {'checklist_item': 'ใช้รักษาอาการติดเชื้อที่หู', 'matched_sentence': 'หยอด3หยดที่หูข้างซ้าย', 'similarity_score': tensor(0.6996), 'topic': 13, 'score': 0.0}, {'checklist_item': 'รับประทานครั้งละ1เม็ด', 'matched_sentence': 'หยอด3หยดที่หูข้างซ้าย', 'similarity_score': tensor(0.1707), 'topic': 14, 'score': 0.0}, {'checklist_item': 'วันละ3ครั้ง', 'matched_sentence': 'หยอด3หยดที่หูข้างซ้าย', 'similarity_score': tensor(0.3494), 'topic': 15, 'score': 0.0}, {'checklist_item': 'หลังอาหารเช้ากลางวันเย็น', 'matched_sentence': 'หยอด3หยดที่หูข้างซ้าย', 'similarity_score': tensor(0.1839), 'topic': 16, 'score': 0.0}, {'checklist_item': 'ควรรับประทานติดต่อกันทุกวันจนหมด', 'matched_sentence': 'หยอด3หยดที่หูข้างซ้าย', 'similarity_score': tensor(0.0427), 'topic': 17, 'score': 0.0}, {'checklist_item': 'เด็กซ์ออฟ', 'matched_sentence': 'หยอด3หยดที่หูข้างซ้าย', 'similarity_score': tensor(0.3913), 'topic': 18, 'score': 0.0}, {'checklist_item': 'ใช้รักษาหูชั้นกลางอักเสบ', 'matched_sentence': 'หยอด3หยดที่หูข้างซ้าย', 'similarity_score': tensor(0.6862), 'topic': 19, 'score': 0.25}, {'checklist_item': 'หยอดหูซ้าย3หยด', 'matched_sentence': 'หยอด3หยดที่หูข้างซ้าย', 'similarity_score': tensor(0.9796), 'topic': 20, 'score': 0.25}, {'checklist_item': 'วันละ3ครั้ง', 'matched_sentence': 'หยอด3หยดที่หูข้างซ้าย', 'similarity_score': tensor(0.3494), 'topic': 21, 'score': 0.25}, {'checklist_item': 'หลังอาหารเช้ากลางวันเย็น', 'matched_sentence': 'หยอด3หยดที่หูข้างซ้าย', 'similarity_score': tensor(0.1839), 'topic': 22, 'score': 0.25}, {'checklist_item': 'ล้างมือให้สะอาด', 'matched_sentence': 'หยอด3หยดที่หูข้างซ้าย', 'similarity_score': tensor(0.2747), 'topic': 23, 'score': 1.0}, {'checklist_item': 'นอนตะแคงหรือนั่งเอียงศีรษะให้หูข้างที่จะหยอดยาอยู่ด้านบน', 'matched_sentence': 'หยอด3หยดที่หูข้างซ้าย', 'similarity_score': tensor(0.6424), 'topic': 24, 'score': 1.0}, {'checklist_item': 'ให้ดึงใบหูข้างที่จะหยอดยาไปด้านหลังและดึงขึ้นด้านบน', 'matched_sentence': 'หยอด3หยดที่หูข้างซ้าย', 'similarity_score': tensor(0.7866), 'topic': 25, 'score': 0.5}, {'checklist_item': 'หยอดยาเข้าไปในหูตามที่แพทย์สั่ง', 'matched_sentence': 'หยอด3หยดที่หูข้างซ้าย', 'similarity_score': tensor(0.7195), 'topic': 26, 'score': 0.5}, {'checklist_item': 'ระวังอย่าเอาหลอดหยดสอดเข้าไปในรูหู', 'matched_sentence': 'หยอด3หยดที่หูข้างซ้าย', 'similarity_score': tensor(0.6014), 'topic': 27, 'score': 1.0}, {'checklist_item': 'เอียงตะแคงอยู่ท่าเดิมประมาณ3ถึง5นาที', 'matched_sentence': 'หยอด3หยดที่หูข้างซ้าย', 'similarity_score': tensor(0.3747), 'topic': 28, 'score': 0.5}, {'checklist_item': 'อาจเอาสำลีใส่ในรูหูไว้อีกระยะหนึ่งเพื่อไม่ให้ยาไหลออกมา', 'matched_sentence': 'หยอด3หยดที่หูข้างซ้าย', 'similarity_score': tensor(0.6320), 'topic': 29, 'score': 0.5}, {'checklist_item': 'ให้เขย่าขวดก่อนใช้ทุกครั้ง', 'matched_sentence': 'หยอด3หยดที่หูข้างซ้าย', 'similarity_score': tensor(0.3956), 'topic': 30, 'score': 0.5}, {'checklist_item': 'ใช้ไม้พันสำลีเช็ดหนองในใบหูหรือรูหูให้สะอาดก่อนและหลังหยอดยา', 'matched_sentence': 'หยอด3หยดที่หูข้างซ้าย', 'similarity_score': tensor(0.6531), 'topic': 31, 'score': 0.5}, {'checklist_item': 'ยาหยอดหูหากเก็บไว้ในตู้เย็นก่อนใช้ยาให้กำหลอดยาไว้ในอุ้งมือสักครู่', 'matched_sentence': 'หยอด3หยดที่หูข้างซ้าย', 'similarity_score': tensor(0.3856), 'topic': 32, 'score': 0.5}, {'checklist_item': 'เพื่อปรับอุณหภูมิให้ใกล้เคียงกับร่างกายก่อนหยอด', 'matched_sentence': 'หยอด3หยดที่หูข้างซ้าย', 'similarity_score': tensor(0.1819), 'topic': 33, 'score': 0.5}, {'checklist_item': 'ผมเป็นเภสัชกร', 'matched_sentence': 'วันละ3ครั้ง', 'similarity_score': tensor(0.2263), 'topic': 0, 'score': 1.0}, {'checklist_item': 'ผู้ป่วยชื่ออะไร', 'matched_sentence': 'วันละ3ครั้ง', 'similarity_score': tensor(0.1215), 'topic': 1, 'score': 1.0}, {'checklist_item': 'ผู้ป่วยชื่อชาตินามสกุลอะไร', 'matched_sentence': 'วันละ3ครั้ง', 'similarity_score': tensor(0.1375), 'topic': 1, 'score': 0.5}, {'checklist_item': 'ผู้ป่วยชื่อชาติตระการตาใช่ไหม', 'matched_sentence': 'วันละ3ครั้ง', 'similarity_score': tensor(0.1669), 'topic': 1, 'score': 0.25}, {'checklist_item': 'ผู้ป่วยชื่อนามสกุลอะไร', 'matched_sentence': 'วันละ3ครั้ง', 'similarity_score': tensor(0.1118), 'topic': 1, 'score': 1.0}, {'checklist_item': 'ไอบูโปรเพน', 'matched_sentence': 'วันละ3ครั้ง', 'similarity_score': tensor(0.1907), 'topic': 2, 'score': 0.0}, {'checklist_item': 'ความแรง400มิลลิกรัม', 'matched_sentence': 'วันละ3ครั้ง', 'similarity_score': tensor(0.0916), 'topic': 3, 'score': 0.0}, {'checklist_item': 'จำนวน10เม็ด', 'matched_sentence': 'วันละ3ครั้ง', 'similarity_score': tensor(0.2628), 'topic': 4, 'score': 0.0}, {'checklist_item': 'ใช้เพื่อบรรเทาอาการปวด', 'matched_sentence': 'วันละ3ครั้ง', 'similarity_score': tensor(0.2151), 'topic': 5, 'score': 0.0}, {'checklist_item': 'รับประทานครั้งละ1เม็ด', 'matched_sentence': 'วันละ3ครั้ง', 'similarity_score': tensor(0.5179), 'topic': 6, 'score': 0.0}, {'checklist_item': 'วันละ3ครั้ง', 'matched_sentence': 'วันละ3ครั้ง', 'similarity_score': tensor(1.0000), 'topic': 7, 'score': 0.0}, {'checklist_item': 'หลังอาหารเช้ากลางวันเย็น', 'matched_sentence': 'วันละ3ครั้ง', 'similarity_score': tensor(0.2485), 'topic': 8, 'score': 0.0}, {'checklist_item': 'ควรรับประทานหลังอาหารทันที', 'matched_sentence': 'วันละ3ครั้ง', 'similarity_score': tensor(0.2455), 'topic': 9, 'score': 0.0}, {'checklist_item': 'อะมอกซีซิลิน', 'matched_sentence': 'วันละ3ครั้ง', 'similarity_score': tensor(0.2199), 'topic': 10, 'score': 0.0}, {'checklist_item': 'ความแรง500มิลลิกรัม', 'matched_sentence': 'วันละ3ครั้ง', 'similarity_score': tensor(0.1220), 'topic': 11, 'score': 0.0}, {'checklist_item': 'จำนวน30เม็ด', 'matched_sentence': 'วันละ3ครั้ง', 'similarity_score': tensor(0.3044), 'topic': 12, 'score': 0.0}, {'checklist_item': 'ใช้รักษาอาการติดเชื้อที่หู', 'matched_sentence': 'วันละ3ครั้ง', 'similarity_score': tensor(0.1934), 'topic': 13, 'score': 0.0}, {'checklist_item': 'รับประทานครั้งละ1เม็ด', 'matched_sentence': 'วันละ3ครั้ง', 'similarity_score': tensor(0.5179), 'topic': 14, 'score': 0.0}, {'checklist_item': 'วันละ3ครั้ง', 'matched_sentence': 'วันละ3ครั้ง', 'similarity_score': tensor(1.0000), 'topic': 15, 'score': 0.0}, {'checklist_item': 'หลังอาหารเช้ากลางวันเย็น', 'matched_sentence': 'วันละ3ครั้ง', 'similarity_score': tensor(0.2485), 'topic': 16, 'score': 0.0}, {'checklist_item': 'ควรรับประทานติดต่อกันทุกวันจนหมด', 'matched_sentence': 'วันละ3ครั้ง', 'similarity_score': tensor(0.5314), 'topic': 17, 'score': 0.0}, {'checklist_item': 'เด็กซ์ออฟ', 'matched_sentence': 'วันละ3ครั้ง', 'similarity_score': tensor(0.3129), 'topic': 18, 'score': 0.0}, {'checklist_item': 'ใช้รักษาหูชั้นกลางอักเสบ', 'matched_sentence': 'วันละ3ครั้ง', 'similarity_score': tensor(0.1748), 'topic': 19, 'score': 0.25}, {'checklist_item': 'หยอดหูซ้าย3หยด', 'matched_sentence': 'วันละ3ครั้ง', 'similarity_score': tensor(0.3622), 'topic': 20, 'score': 0.25}, {'checklist_item': 'วันละ3ครั้ง', 'matched_sentence': 'วันละ3ครั้ง', 'similarity_score': tensor(1.0000), 'topic': 21, 'score': 0.25}, {'checklist_item': 'หลังอาหารเช้ากลางวันเย็น', 'matched_sentence': 'วันละ3ครั้ง', 'similarity_score': tensor(0.2485), 'topic': 22, 'score': 0.25}, {'checklist_item': 'ล้างมือให้สะอาด', 'matched_sentence': 'วันละ3ครั้ง', 'similarity_score': tensor(0.2048), 'topic': 23, 'score': 1.0}, {'checklist_item': 'นอนตะแคงหรือนั่งเอียงศีรษะให้หูข้างที่จะหยอดยาอยู่ด้านบน', 'matched_sentence': 'วันละ3ครั้ง', 'similarity_score': tensor(0.2708), 'topic': 24, 'score': 1.0}, {'checklist_item': 'ให้ดึงใบหูข้างที่จะหยอดยาไปด้านหลังและดึงขึ้นด้านบน', 'matched_sentence': 'วันละ3ครั้ง', 'similarity_score': tensor(0.2428), 'topic': 25, 'score': 0.5}, {'checklist_item': 'หยอดยาเข้าไปในหูตามที่แพทย์สั่ง', 'matched_sentence': 'วันละ3ครั้ง', 'similarity_score': tensor(0.2178), 'topic': 26, 'score': 0.5}, {'checklist_item': 'ระวังอย่าเอาหลอดหยดสอดเข้าไปในรูหู', 'matched_sentence': 'วันละ3ครั้ง', 'similarity_score': tensor(0.2037), 'topic': 27, 'score': 1.0}, {'checklist_item': 'เอียงตะแคงอยู่ท่าเดิมประมาณ3ถึง5นาที', 'matched_sentence': 'วันละ3ครั้ง', 'similarity_score': tensor(0.5167), 'topic': 28, 'score': 0.5}, {'checklist_item': 'อาจเอาสำลีใส่ในรูหูไว้อีกระยะหนึ่งเพื่อไม่ให้ยาไหลออกมา', 'matched_sentence': 'วันละ3ครั้ง', 'similarity_score': tensor(0.3008), 'topic': 29, 'score': 0.5}, {'checklist_item': 'ให้เขย่าขวดก่อนใช้ทุกครั้ง', 'matched_sentence': 'วันละ3ครั้ง', 'similarity_score': tensor(0.4266), 'topic': 30, 'score': 0.5}, {'checklist_item': 'ใช้ไม้พันสำลีเช็ดหนองในใบหูหรือรูหูให้สะอาดก่อนและหลังหยอดยา', 'matched_sentence': 'วันละ3ครั้ง', 'similarity_score': tensor(0.1709), 'topic': 31, 'score': 0.5}, {'checklist_item': 'ยาหยอดหูหากเก็บไว้ในตู้เย็นก่อนใช้ยาให้กำหลอดยาไว้ในอุ้งมือสักครู่', 'matched_sentence': 'วันละ3ครั้ง', 'similarity_score': tensor(0.2955), 'topic': 32, 'score': 0.5}, {'checklist_item': 'เพื่อปรับอุณหภูมิให้ใกล้เคียงกับร่างกายก่อนหยอด', 'matched_sentence': 'วันละ3ครั้ง', 'similarity_score': tensor(0.1616), 'topic': 33, 'score': 0.5}, {'checklist_item': 'ผมเป็นเภสัชกร', 'matched_sentence': 'หลังอาหารเช้ากลางวันเย็น', 'similarity_score': tensor(0.0799), 'topic': 0, 'score': 1.0}, {'checklist_item': 'ผู้ป่วยชื่ออะไร', 'matched_sentence': 'หลังอาหารเช้ากลางวันเย็น', 'similarity_score': tensor(0.1027), 'topic': 1, 'score': 1.0}, {'checklist_item': 'ผู้ป่วยชื่อชาตินามสกุลอะไร', 'matched_sentence': 'หลังอาหารเช้ากลางวันเย็น', 'similarity_score': tensor(0.1208), 'topic': 1, 'score': 0.5}, {'checklist_item': 'ผู้ป่วยชื่อชาติตระการตาใช่ไหม', 'matched_sentence': 'หลังอาหารเช้ากลางวันเย็น', 'similarity_score': tensor(0.1997), 'topic': 1, 'score': 0.25}, {'checklist_item': 'ผู้ป่วยชื่อนามสกุลอะไร', 'matched_sentence': 'หลังอาหารเช้ากลางวันเย็น', 'similarity_score': tensor(0.1074), 'topic': 1, 'score': 1.0}, {'checklist_item': 'ไอบูโปรเพน', 'matched_sentence': 'หลังอาหารเช้ากลางวันเย็น', 'similarity_score': tensor(0.0959), 'topic': 2, 'score': 0.0}, {'checklist_item': 'ความแรง400มิลลิกรัม', 'matched_sentence': 'หลังอาหารเช้ากลางวันเย็น', 'similarity_score': tensor(0.0071), 'topic': 3, 'score': 0.0}, {'checklist_item': 'จำนวน10เม็ด', 'matched_sentence': 'หลังอาหารเช้ากลางวันเย็น', 'similarity_score': tensor(0.1598), 'topic': 4, 'score': 0.0}, {'checklist_item': 'ใช้เพื่อบรรเทาอาการปวด', 'matched_sentence': 'หลังอาหารเช้ากลางวันเย็น', 'similarity_score': tensor(0.1326), 'topic': 5, 'score': 0.0}, {'checklist_item': 'รับประทานครั้งละ1เม็ด', 'matched_sentence': 'หลังอาหารเช้ากลางวันเย็น', 'similarity_score': tensor(0.3928), 'topic': 6, 'score': 0.0}, {'checklist_item': 'วันละ3ครั้ง', 'matched_sentence': 'หลังอาหารเช้ากลางวันเย็น', 'similarity_score': tensor(0.2485), 'topic': 7, 'score': 0.0}, {'checklist_item': 'หลังอาหารเช้ากลางวันเย็น', 'matched_sentence': 'หลังอาหารเช้ากลางวันเย็น', 'similarity_score': tensor(1.), 'topic': 8, 'score': 0.0}, {'checklist_item': 'ควรรับประทานหลังอาหารทันที', 'matched_sentence': 'หลังอาหารเช้ากลางวันเย็น', 'similarity_score': tensor(0.6605), 'topic': 9, 'score': 0.0}, {'checklist_item': 'อะมอกซีซิลิน', 'matched_sentence': 'หลังอาหารเช้ากลางวันเย็น', 'similarity_score': tensor(0.1620), 'topic': 10, 'score': 0.0}, {'checklist_item': 'ความแรง500มิลลิกรัม', 'matched_sentence': 'หลังอาหารเช้ากลางวันเย็น', 'similarity_score': tensor(9.1808e-05), 'topic': 11, 'score': 0.0}, {'checklist_item': 'จำนวน30เม็ด', 'matched_sentence': 'หลังอาหารเช้ากลางวันเย็น', 'similarity_score': tensor(0.1122), 'topic': 12, 'score': 0.0}, {'checklist_item': 'ใช้รักษาอาการติดเชื้อที่หู', 'matched_sentence': 'หลังอาหารเช้ากลางวันเย็น', 'similarity_score': tensor(0.0767), 'topic': 13, 'score': 0.0}, {'checklist_item': 'รับประทานครั้งละ1เม็ด', 'matched_sentence': 'หลังอาหารเช้ากลางวันเย็น', 'similarity_score': tensor(0.3928), 'topic': 14, 'score': 0.0}, {'checklist_item': 'วันละ3ครั้ง', 'matched_sentence': 'หลังอาหารเช้ากลางวันเย็น', 'similarity_score': tensor(0.2485), 'topic': 15, 'score': 0.0}, {'checklist_item': 'หลังอาหารเช้ากลางวันเย็น', 'matched_sentence': 'หลังอาหารเช้ากลางวันเย็น', 'similarity_score': tensor(1.), 'topic': 16, 'score': 0.0}, {'checklist_item': 'ควรรับประทานติดต่อกันทุกวันจนหมด', 'matched_sentence': 'หลังอาหารเช้ากลางวันเย็น', 'similarity_score': tensor(0.4952), 'topic': 17, 'score': 0.0}, {'checklist_item': 'เด็กซ์ออฟ', 'matched_sentence': 'หลังอาหารเช้ากลางวันเย็น', 'similarity_score': tensor(0.3168), 'topic': 18, 'score': 0.0}, {'checklist_item': 'ใช้รักษาหูชั้นกลางอักเสบ', 'matched_sentence': 'หลังอาหารเช้ากลางวันเย็น', 'similarity_score': tensor(0.0712), 'topic': 19, 'score': 0.25}, {'checklist_item': 'หยอดหูซ้าย3หยด', 'matched_sentence': 'หลังอาหารเช้ากลางวันเย็น', 'similarity_score': tensor(0.2075), 'topic': 20, 'score': 0.25}, {'checklist_item': 'วันละ3ครั้ง', 'matched_sentence': 'หลังอาหารเช้ากลางวันเย็น', 'similarity_score': tensor(0.2485), 'topic': 21, 'score': 0.25}, {'checklist_item': 'หลังอาหารเช้ากลางวันเย็น', 'matched_sentence': 'หลังอาหารเช้ากลางวันเย็น', 'similarity_score': tensor(1.), 'topic': 22, 'score': 0.25}, {'checklist_item': 'ล้างมือให้สะอาด', 'matched_sentence': 'หลังอาหารเช้ากลางวันเย็น', 'similarity_score': tensor(0.2645), 'topic': 23, 'score': 1.0}, {'checklist_item': 'นอนตะแคงหรือนั่งเอียงศีรษะให้หูข้างที่จะหยอดยาอยู่ด้านบน', 'matched_sentence': 'หลังอาหารเช้ากลางวันเย็น', 'similarity_score': tensor(0.3193), 'topic': 24, 'score': 1.0}, {'checklist_item': 'ให้ดึงใบหูข้างที่จะหยอดยาไปด้านหลังและดึงขึ้นด้านบน', 'matched_sentence': 'หลังอาหารเช้ากลางวันเย็น', 'similarity_score': tensor(0.1691), 'topic': 25, 'score': 0.5}, {'checklist_item': 'หยอดยาเข้าไปในหูตามที่แพทย์สั่ง', 'matched_sentence': 'หลังอาหารเช้ากลางวันเย็น', 'similarity_score': tensor(0.1193), 'topic': 26, 'score': 0.5}, {'checklist_item': 'ระวังอย่าเอาหลอดหยดสอดเข้าไปในรูหู', 'matched_sentence': 'หลังอาหารเช้ากลางวันเย็น', 'similarity_score': tensor(0.0794), 'topic': 27, 'score': 1.0}, {'checklist_item': 'เอียงตะแคงอยู่ท่าเดิมประมาณ3ถึง5นาที', 'matched_sentence': 'หลังอาหารเช้ากลางวันเย็น', 'similarity_score': tensor(0.1963), 'topic': 28, 'score': 0.5}, {'checklist_item': 'อาจเอาสำลีใส่ในรูหูไว้อีกระยะหนึ่งเพื่อไม่ให้ยาไหลออกมา', 'matched_sentence': 'หลังอาหารเช้ากลางวันเย็น', 'similarity_score': tensor(0.0906), 'topic': 29, 'score': 0.5}, {'checklist_item': 'ให้เขย่าขวดก่อนใช้ทุกครั้ง', 'matched_sentence': 'หลังอาหารเช้ากลางวันเย็น', 'similarity_score': tensor(0.2448), 'topic': 30, 'score': 0.5}, {'checklist_item': 'ใช้ไม้พันสำลีเช็ดหนองในใบหูหรือรูหูให้สะอาดก่อนและหลังหยอดยา', 'matched_sentence': 'หลังอาหารเช้ากลางวันเย็น', 'similarity_score': tensor(0.0655), 'topic': 31, 'score': 0.5}, {'checklist_item': 'ยาหยอดหูหากเก็บไว้ในตู้เย็นก่อนใช้ยาให้กำหลอดยาไว้ในอุ้งมือสักครู่', 'matched_sentence': 'หลังอาหารเช้ากลางวันเย็น', 'similarity_score': tensor(0.1992), 'topic': 32, 'score': 0.5}, {'checklist_item': 'เพื่อปรับอุณหภูมิให้ใกล้เคียงกับร่างกายก่อนหยอด', 'matched_sentence': 'หลังอาหารเช้ากลางวันเย็น', 'similarity_score': tensor(0.2169), 'topic': 33, 'score': 0.5}, {'checklist_item': 'ผมเป็นเภสัชกร', 'matched_sentence': 'ซึ่งยานี้มีวิธีการใช้ในลักษณะพิเศษเดี๋ยวฉันสอนวิธีการใช้งานให้นะคะเริ่มด้วยการ', 'similarity_score': tensor(0.5592), 'topic': 0, 'score': 1.0}, {'checklist_item': 'ผู้ป่วยชื่ออะไร', 'matched_sentence': 'ซึ่งยานี้มีวิธีการใช้ในลักษณะพิเศษเดี๋ยวฉันสอนวิธีการใช้งานให้นะคะเริ่มด้วยการ', 'similarity_score': tensor(0.2922), 'topic': 1, 'score': 1.0}, {'checklist_item': 'ผู้ป่วยชื่อชาตินามสกุลอะไร', 'matched_sentence': 'ซึ่งยานี้มีวิธีการใช้ในลักษณะพิเศษเดี๋ยวฉันสอนวิธีการใช้งานให้นะคะเริ่มด้วยการ', 'similarity_score': tensor(0.2745), 'topic': 1, 'score': 0.5}, {'checklist_item': 'ผู้ป่วยชื่อชาติตระการตาใช่ไหม', 'matched_sentence': 'ซึ่งยานี้มีวิธีการใช้ในลักษณะพิเศษเดี๋ยวฉันสอนวิธีการใช้งานให้นะคะเริ่มด้วยการ', 'similarity_score': tensor(0.2780), 'topic': 1, 'score': 0.25}, {'checklist_item': 'ผู้ป่วยชื่อนามสกุลอะไร', 'matched_sentence': 'ซึ่งยานี้มีวิธีการใช้ในลักษณะพิเศษเดี๋ยวฉันสอนวิธีการใช้งานให้นะคะเริ่มด้วยการ', 'similarity_score': tensor(0.2788), 'topic': 1, 'score': 1.0}, {'checklist_item': 'ไอบูโปรเพน', 'matched_sentence': 'ซึ่งยานี้มีวิธีการใช้ในลักษณะพิเศษเดี๋ยวฉันสอนวิธีการใช้งานให้นะคะเริ่มด้วยการ', 'similarity_score': tensor(0.3740), 'topic': 2, 'score': 0.0}, {'checklist_item': 'ความแรง400มิลลิกรัม', 'matched_sentence': 'ซึ่งยานี้มีวิธีการใช้ในลักษณะพิเศษเดี๋ยวฉันสอนวิธีการใช้งานให้นะคะเริ่มด้วยการ', 'similarity_score': tensor(0.0692), 'topic': 3, 'score': 0.0}, {'checklist_item': 'จำนวน10เม็ด', 'matched_sentence': 'ซึ่งยานี้มีวิธีการใช้ในลักษณะพิเศษเดี๋ยวฉันสอนวิธีการใช้งานให้นะคะเริ่มด้วยการ', 'similarity_score': tensor(0.2428), 'topic': 4, 'score': 0.0}, {'checklist_item': 'ใช้เพื่อบรรเทาอาการปวด', 'matched_sentence': 'ซึ่งยานี้มีวิธีการใช้ในลักษณะพิเศษเดี๋ยวฉันสอนวิธีการใช้งานให้นะคะเริ่มด้วยการ', 'similarity_score': tensor(0.5717), 'topic': 5, 'score': 0.0}, {'checklist_item': 'รับประทานครั้งละ1เม็ด', 'matched_sentence': 'ซึ่งยานี้มีวิธีการใช้ในลักษณะพิเศษเดี๋ยวฉันสอนวิธีการใช้งานให้นะคะเริ่มด้วยการ', 'similarity_score': tensor(0.2426), 'topic': 6, 'score': 0.0}, {'checklist_item': 'วันละ3ครั้ง', 'matched_sentence': 'ซึ่งยานี้มีวิธีการใช้ในลักษณะพิเศษเดี๋ยวฉันสอนวิธีการใช้งานให้นะคะเริ่มด้วยการ', 'similarity_score': tensor(0.1789), 'topic': 7, 'score': 0.0}, {'checklist_item': 'หลังอาหารเช้ากลางวันเย็น', 'matched_sentence': 'ซึ่งยานี้มีวิธีการใช้ในลักษณะพิเศษเดี๋ยวฉันสอนวิธีการใช้งานให้นะคะเริ่มด้วยการ', 'similarity_score': tensor(0.0988), 'topic': 8, 'score': 0.0}, {'checklist_item': 'ควรรับประทานหลังอาหารทันที', 'matched_sentence': 'ซึ่งยานี้มีวิธีการใช้ในลักษณะพิเศษเดี๋ยวฉันสอนวิธีการใช้งานให้นะคะเริ่มด้วยการ', 'similarity_score': tensor(0.2000), 'topic': 9, 'score': 0.0}, {'checklist_item': 'อะมอกซีซิลิน', 'matched_sentence': 'ซึ่งยานี้มีวิธีการใช้ในลักษณะพิเศษเดี๋ยวฉันสอนวิธีการใช้งานให้นะคะเริ่มด้วยการ', 'similarity_score': tensor(0.4471), 'topic': 10, 'score': 0.0}, {'checklist_item': 'ความแรง500มิลลิกรัม', 'matched_sentence': 'ซึ่งยานี้มีวิธีการใช้ในลักษณะพิเศษเดี๋ยวฉันสอนวิธีการใช้งานให้นะคะเริ่มด้วยการ', 'similarity_score': tensor(0.1034), 'topic': 11, 'score': 0.0}, {'checklist_item': 'จำนวน30เม็ด', 'matched_sentence': 'ซึ่งยานี้มีวิธีการใช้ในลักษณะพิเศษเดี๋ยวฉันสอนวิธีการใช้งานให้นะคะเริ่มด้วยการ', 'similarity_score': tensor(0.2093), 'topic': 12, 'score': 0.0}, {'checklist_item': 'ใช้รักษาอาการติดเชื้อที่หู', 'matched_sentence': 'ซึ่งยานี้มีวิธีการใช้ในลักษณะพิเศษเดี๋ยวฉันสอนวิธีการใช้งานให้นะคะเริ่มด้วยการ', 'similarity_score': tensor(0.3763), 'topic': 13, 'score': 0.0}, {'checklist_item': 'รับประทานครั้งละ1เม็ด', 'matched_sentence': 'ซึ่งยานี้มีวิธีการใช้ในลักษณะพิเศษเดี๋ยวฉันสอนวิธีการใช้งานให้นะคะเริ่มด้วยการ', 'similarity_score': tensor(0.2426), 'topic': 14, 'score': 0.0}, {'checklist_item': 'วันละ3ครั้ง', 'matched_sentence': 'ซึ่งยานี้มีวิธีการใช้ในลักษณะพิเศษเดี๋ยวฉันสอนวิธีการใช้งานให้นะคะเริ่มด้วยการ', 'similarity_score': tensor(0.1789), 'topic': 15, 'score': 0.0}, {'checklist_item': 'หลังอาหารเช้ากลางวันเย็น', 'matched_sentence': 'ซึ่งยานี้มีวิธีการใช้ในลักษณะพิเศษเดี๋ยวฉันสอนวิธีการใช้งานให้นะคะเริ่มด้วยการ', 'similarity_score': tensor(0.0988), 'topic': 16, 'score': 0.0}, {'checklist_item': 'ควรรับประทานติดต่อกันทุกวันจนหมด', 'matched_sentence': 'ซึ่งยานี้มีวิธีการใช้ในลักษณะพิเศษเดี๋ยวฉันสอนวิธีการใช้งานให้นะคะเริ่มด้วยการ', 'similarity_score': tensor(0.0884), 'topic': 17, 'score': 0.0}, {'checklist_item': 'เด็กซ์ออฟ', 'matched_sentence': 'ซึ่งยานี้มีวิธีการใช้ในลักษณะพิเศษเดี๋ยวฉันสอนวิธีการใช้งานให้นะคะเริ่มด้วยการ', 'similarity_score': tensor(0.2752), 'topic': 18, 'score': 0.0}, {'checklist_item': 'ใช้รักษาหูชั้นกลางอักเสบ', 'matched_sentence': 'ซึ่งยานี้มีวิธีการใช้ในลักษณะพิเศษเดี๋ยวฉันสอนวิธีการใช้งานให้นะคะเริ่มด้วยการ', 'similarity_score': tensor(0.3599), 'topic': 19, 'score': 0.25}, {'checklist_item': 'หยอดหูซ้าย3หยด', 'matched_sentence': 'ซึ่งยานี้มีวิธีการใช้ในลักษณะพิเศษเดี๋ยวฉันสอนวิธีการใช้งานให้นะคะเริ่มด้วยการ', 'similarity_score': tensor(0.2027), 'topic': 20, 'score': 0.25}, {'checklist_item': 'วันละ3ครั้ง', 'matched_sentence': 'ซึ่งยานี้มีวิธีการใช้ในลักษณะพิเศษเดี๋ยวฉันสอนวิธีการใช้งานให้นะคะเริ่มด้วยการ', 'similarity_score': tensor(0.1789), 'topic': 21, 'score': 0.25}, {'checklist_item': 'หลังอาหารเช้ากลางวันเย็น', 'matched_sentence': 'ซึ่งยานี้มีวิธีการใช้ในลักษณะพิเศษเดี๋ยวฉันสอนวิธีการใช้งานให้นะคะเริ่มด้วยการ', 'similarity_score': tensor(0.0988), 'topic': 22, 'score': 0.25}, {'checklist_item': 'ล้างมือให้สะอาด', 'matched_sentence': 'ซึ่งยานี้มีวิธีการใช้ในลักษณะพิเศษเดี๋ยวฉันสอนวิธีการใช้งานให้นะคะเริ่มด้วยการ', 'similarity_score': tensor(0.3333), 'topic': 23, 'score': 1.0}, {'checklist_item': 'นอนตะแคงหรือนั่งเอียงศีรษะให้หูข้างที่จะหยอดยาอยู่ด้านบน', 'matched_sentence': 'ซึ่งยานี้มีวิธีการใช้ในลักษณะพิเศษเดี๋ยวฉันสอนวิธีการใช้งานให้นะคะเริ่มด้วยการ', 'similarity_score': tensor(0.3708), 'topic': 24, 'score': 1.0}, {'checklist_item': 'ให้ดึงใบหูข้างที่จะหยอดยาไปด้านหลังและดึงขึ้นด้านบน', 'matched_sentence': 'ซึ่งยานี้มีวิธีการใช้ในลักษณะพิเศษเดี๋ยวฉันสอนวิธีการใช้งานให้นะคะเริ่มด้วยการ', 'similarity_score': tensor(0.4137), 'topic': 25, 'score': 0.5}, {'checklist_item': 'หยอดยาเข้าไปในหูตามที่แพทย์สั่ง', 'matched_sentence': 'ซึ่งยานี้มีวิธีการใช้ในลักษณะพิเศษเดี๋ยวฉันสอนวิธีการใช้งานให้นะคะเริ่มด้วยการ', 'similarity_score': tensor(0.4662), 'topic': 26, 'score': 0.5}, {'checklist_item': 'ระวังอย่าเอาหลอดหยดสอดเข้าไปในรูหู', 'matched_sentence': 'ซึ่งยานี้มีวิธีการใช้ในลักษณะพิเศษเดี๋ยวฉันสอนวิธีการใช้งานให้นะคะเริ่มด้วยการ', 'similarity_score': tensor(0.3000), 'topic': 27, 'score': 1.0}, {'checklist_item': 'เอียงตะแคงอยู่ท่าเดิมประมาณ3ถึง5นาที', 'matched_sentence': 'ซึ่งยานี้มีวิธีการใช้ในลักษณะพิเศษเดี๋ยวฉันสอนวิธีการใช้งานให้นะคะเริ่มด้วยการ', 'similarity_score': tensor(0.1633), 'topic': 28, 'score': 0.5}, {'checklist_item': 'อาจเอาสำลีใส่ในรูหูไว้อีกระยะหนึ่งเพื่อไม่ให้ยาไหลออกมา', 'matched_sentence': 'ซึ่งยานี้มีวิธีการใช้ในลักษณะพิเศษเดี๋ยวฉันสอนวิธีการใช้งานให้นะคะเริ่มด้วยการ', 'similarity_score': tensor(0.5051), 'topic': 29, 'score': 0.5}, {'checklist_item': 'ให้เขย่าขวดก่อนใช้ทุกครั้ง', 'matched_sentence': 'ซึ่งยานี้มีวิธีการใช้ในลักษณะพิเศษเดี๋ยวฉันสอนวิธีการใช้งานให้นะคะเริ่มด้วยการ', 'similarity_score': tensor(0.4775), 'topic': 30, 'score': 0.5}, {'checklist_item': 'ใช้ไม้พันสำลีเช็ดหนองในใบหูหรือรูหูให้สะอาดก่อนและหลังหยอดยา', 'matched_sentence': 'ซึ่งยานี้มีวิธีการใช้ในลักษณะพิเศษเดี๋ยวฉันสอนวิธีการใช้งานให้นะคะเริ่มด้วยการ', 'similarity_score': tensor(0.4392), 'topic': 31, 'score': 0.5}, {'checklist_item': 'ยาหยอดหูหากเก็บไว้ในตู้เย็นก่อนใช้ยาให้กำหลอดยาไว้ในอุ้งมือสักครู่', 'matched_sentence': 'ซึ่งยานี้มีวิธีการใช้ในลักษณะพิเศษเดี๋ยวฉันสอนวิธีการใช้งานให้นะคะเริ่มด้วยการ', 'similarity_score': tensor(0.5742), 'topic': 32, 'score': 0.5}, {'checklist_item': 'เพื่อปรับอุณหภูมิให้ใกล้เคียงกับร่างกายก่อนหยอด', 'matched_sentence': 'ซึ่งยานี้มีวิธีการใช้ในลักษณะพิเศษเดี๋ยวฉันสอนวิธีการใช้งานให้นะคะเริ่มด้วยการ', 'similarity_score': tensor(0.3053), 'topic': 33, 'score': 0.5}, {'checklist_item': 'ผมเป็นเภสัชกร', 'matched_sentence': 'ล้างมือให้สะอาด', 'similarity_score': tensor(0.3493), 'topic': 0, 'score': 1.0}, {'checklist_item': 'ผู้ป่วยชื่ออะไร', 'matched_sentence': 'ล้างมือให้สะอาด', 'similarity_score': tensor(0.1930), 'topic': 1, 'score': 1.0}, {'checklist_item': 'ผู้ป่วยชื่อชาตินามสกุลอะไร', 'matched_sentence': 'ล้างมือให้สะอาด', 'similarity_score': tensor(0.1985), 'topic': 1, 'score': 0.5}, {'checklist_item': 'ผู้ป่วยชื่อชาติตระการตาใช่ไหม', 'matched_sentence': 'ล้างมือให้สะอาด', 'similarity_score': tensor(0.2254), 'topic': 1, 'score': 0.25}, {'checklist_item': 'ผู้ป่วยชื่อนามสกุลอะไร', 'matched_sentence': 'ล้างมือให้สะอาด', 'similarity_score': tensor(0.1924), 'topic': 1, 'score': 1.0}, {'checklist_item': 'ไอบูโปรเพน', 'matched_sentence': 'ล้างมือให้สะอาด', 'similarity_score': tensor(0.2240), 'topic': 2, 'score': 0.0}, {'checklist_item': 'ความแรง400มิลลิกรัม', 'matched_sentence': 'ล้างมือให้สะอาด', 'similarity_score': tensor(0.1064), 'topic': 3, 'score': 0.0}, {'checklist_item': 'จำนวน10เม็ด', 'matched_sentence': 'ล้างมือให้สะอาด', 'similarity_score': tensor(0.2692), 'topic': 4, 'score': 0.0}, {'checklist_item': 'ใช้เพื่อบรรเทาอาการปวด', 'matched_sentence': 'ล้างมือให้สะอาด', 'similarity_score': tensor(0.3872), 'topic': 5, 'score': 0.0}, {'checklist_item': 'รับประทานครั้งละ1เม็ด', 'matched_sentence': 'ล้างมือให้สะอาด', 'similarity_score': tensor(0.2409), 'topic': 6, 'score': 0.0}, {'checklist_item': 'วันละ3ครั้ง', 'matched_sentence': 'ล้างมือให้สะอาด', 'similarity_score': tensor(0.2048), 'topic': 7, 'score': 0.0}, {'checklist_item': 'หลังอาหารเช้ากลางวันเย็น', 'matched_sentence': 'ล้างมือให้สะอาด', 'similarity_score': tensor(0.2645), 'topic': 8, 'score': 0.0}, {'checklist_item': 'ควรรับประทานหลังอาหารทันที', 'matched_sentence': 'ล้างมือให้สะอาด', 'similarity_score': tensor(0.2722), 'topic': 9, 'score': 0.0}, {'checklist_item': 'อะมอกซีซิลิน', 'matched_sentence': 'ล้างมือให้สะอาด', 'similarity_score': tensor(0.2253), 'topic': 10, 'score': 0.0}, {'checklist_item': 'ความแรง500มิลลิกรัม', 'matched_sentence': 'ล้างมือให้สะอาด', 'similarity_score': tensor(0.1369), 'topic': 11, 'score': 0.0}, {'checklist_item': 'จำนวน30เม็ด', 'matched_sentence': 'ล้างมือให้สะอาด', 'similarity_score': tensor(0.1262), 'topic': 12, 'score': 0.0}, {'checklist_item': 'ใช้รักษาอาการติดเชื้อที่หู', 'matched_sentence': 'ล้างมือให้สะอาด', 'similarity_score': tensor(0.2141), 'topic': 13, 'score': 0.0}, {'checklist_item': 'รับประทานครั้งละ1เม็ด', 'matched_sentence': 'ล้างมือให้สะอาด', 'similarity_score': tensor(0.2409), 'topic': 14, 'score': 0.0}, {'checklist_item': 'วันละ3ครั้ง', 'matched_sentence': 'ล้างมือให้สะอาด', 'similarity_score': tensor(0.2048), 'topic': 15, 'score': 0.0}, {'checklist_item': 'หลังอาหารเช้ากลางวันเย็น', 'matched_sentence': 'ล้างมือให้สะอาด', 'similarity_score': tensor(0.2645), 'topic': 16, 'score': 0.0}, {'checklist_item': 'ควรรับประทานติดต่อกันทุกวันจนหมด', 'matched_sentence': 'ล้างมือให้สะอาด', 'similarity_score': tensor(0.1854), 'topic': 17, 'score': 0.0}, {'checklist_item': 'เด็กซ์ออฟ', 'matched_sentence': 'ล้างมือให้สะอาด', 'similarity_score': tensor(0.3170), 'topic': 18, 'score': 0.0}, {'checklist_item': 'ใช้รักษาหูชั้นกลางอักเสบ', 'matched_sentence': 'ล้างมือให้สะอาด', 'similarity_score': tensor(0.2237), 'topic': 19, 'score': 0.25}, {'checklist_item': 'หยอดหูซ้าย3หยด', 'matched_sentence': 'ล้างมือให้สะอาด', 'similarity_score': tensor(0.3150), 'topic': 20, 'score': 0.25}, {'checklist_item': 'วันละ3ครั้ง', 'matched_sentence': 'ล้างมือให้สะอาด', 'similarity_score': tensor(0.2048), 'topic': 21, 'score': 0.25}, {'checklist_item': 'หลังอาหารเช้ากลางวันเย็น', 'matched_sentence': 'ล้างมือให้สะอาด', 'similarity_score': tensor(0.2645), 'topic': 22, 'score': 0.25}, {'checklist_item': 'ล้างมือให้สะอาด', 'matched_sentence': 'ล้างมือให้สะอาด', 'similarity_score': tensor(1.), 'topic': 23, 'score': 1.0}, {'checklist_item': 'นอนตะแคงหรือนั่งเอียงศีรษะให้หูข้างที่จะหยอดยาอยู่ด้านบน', 'matched_sentence': 'ล้างมือให้สะอาด', 'similarity_score': tensor(0.3293), 'topic': 24, 'score': 1.0}, {'checklist_item': 'ให้ดึงใบหูข้างที่จะหยอดยาไปด้านหลังและดึงขึ้นด้านบน', 'matched_sentence': 'ล้างมือให้สะอาด', 'similarity_score': tensor(0.3041), 'topic': 25, 'score': 0.5}, {'checklist_item': 'หยอดยาเข้าไปในหูตามที่แพทย์สั่ง', 'matched_sentence': 'ล้างมือให้สะอาด', 'similarity_score': tensor(0.2416), 'topic': 26, 'score': 0.5}, {'checklist_item': 'ระวังอย่าเอาหลอดหยดสอดเข้าไปในรูหู', 'matched_sentence': 'ล้างมือให้สะอาด', 'similarity_score': tensor(0.3924), 'topic': 27, 'score': 1.0}, {'checklist_item': 'เอียงตะแคงอยู่ท่าเดิมประมาณ3ถึง5นาที', 'matched_sentence': 'ล้างมือให้สะอาด', 'similarity_score': tensor(0.1418), 'topic': 28, 'score': 0.5}, {'checklist_item': 'อาจเอาสำลีใส่ในรูหูไว้อีกระยะหนึ่งเพื่อไม่ให้ยาไหลออกมา', 'matched_sentence': 'ล้างมือให้สะอาด', 'similarity_score': tensor(0.3511), 'topic': 29, 'score': 0.5}, {'checklist_item': 'ให้เขย่าขวดก่อนใช้ทุกครั้ง', 'matched_sentence': 'ล้างมือให้สะอาด', 'similarity_score': tensor(0.4757), 'topic': 30, 'score': 0.5}, {'checklist_item': 'ใช้ไม้พันสำลีเช็ดหนองในใบหูหรือรูหูให้สะอาดก่อนและหลังหยอดยา', 'matched_sentence': 'ล้างมือให้สะอาด', 'similarity_score': tensor(0.4671), 'topic': 31, 'score': 0.5}, {'checklist_item': 'ยาหยอดหูหากเก็บไว้ในตู้เย็นก่อนใช้ยาให้กำหลอดยาไว้ในอุ้งมือสักครู่', 'matched_sentence': 'ล้างมือให้สะอาด', 'similarity_score': tensor(0.4607), 'topic': 32, 'score': 0.5}, {'checklist_item': 'เพื่อปรับอุณหภูมิให้ใกล้เคียงกับร่างกายก่อนหยอด', 'matched_sentence': 'ล้างมือให้สะอาด', 'similarity_score': tensor(0.3091), 'topic': 33, 'score': 0.5}, {'checklist_item': 'ผมเป็นเภสัชกร', 'matched_sentence': 'ก่อนใช้ยาจากนั้น', 'similarity_score': tensor(0.5650), 'topic': 0, 'score': 1.0}, {'checklist_item': 'ผู้ป่วยชื่ออะไร', 'matched_sentence': 'ก่อนใช้ยาจากนั้น', 'similarity_score': tensor(0.3526), 'topic': 1, 'score': 1.0}, {'checklist_item': 'ผู้ป่วยชื่อชาตินามสกุลอะไร', 'matched_sentence': 'ก่อนใช้ยาจากนั้น', 'similarity_score': tensor(0.3379), 'topic': 1, 'score': 0.5}, {'checklist_item': 'ผู้ป่วยชื่อชาติตระการตาใช่ไหม', 'matched_sentence': 'ก่อนใช้ยาจากนั้น', 'similarity_score': tensor(0.3990), 'topic': 1, 'score': 0.25}, {'checklist_item': 'ผู้ป่วยชื่อนามสกุลอะไร', 'matched_sentence': 'ก่อนใช้ยาจากนั้น', 'similarity_score': tensor(0.3372), 'topic': 1, 'score': 1.0}, {'checklist_item': 'ไอบูโปรเพน', 'matched_sentence': 'ก่อนใช้ยาจากนั้น', 'similarity_score': tensor(0.3251), 'topic': 2, 'score': 0.0}, {'checklist_item': 'ความแรง400มิลลิกรัม', 'matched_sentence': 'ก่อนใช้ยาจากนั้น', 'similarity_score': tensor(-0.0216), 'topic': 3, 'score': 0.0}, {'checklist_item': 'จำนวน10เม็ด', 'matched_sentence': 'ก่อนใช้ยาจากนั้น', 'similarity_score': tensor(0.1809), 'topic': 4, 'score': 0.0}, {'checklist_item': 'ใช้เพื่อบรรเทาอาการปวด', 'matched_sentence': 'ก่อนใช้ยาจากนั้น', 'similarity_score': tensor(0.4660), 'topic': 5, 'score': 0.0}, {'checklist_item': 'รับประทานครั้งละ1เม็ด', 'matched_sentence': 'ก่อนใช้ยาจากนั้น', 'similarity_score': tensor(0.3011), 'topic': 6, 'score': 0.0}, {'checklist_item': 'วันละ3ครั้ง', 'matched_sentence': 'ก่อนใช้ยาจากนั้น', 'similarity_score': tensor(0.2405), 'topic': 7, 'score': 0.0}, {'checklist_item': 'หลังอาหารเช้ากลางวันเย็น', 'matched_sentence': 'ก่อนใช้ยาจากนั้น', 'similarity_score': tensor(0.2004), 'topic': 8, 'score': 0.0}, {'checklist_item': 'ควรรับประทานหลังอาหารทันที', 'matched_sentence': 'ก่อนใช้ยาจากนั้น', 'similarity_score': tensor(0.3586), 'topic': 9, 'score': 0.0}, {'checklist_item': 'อะมอกซีซิลิน', 'matched_sentence': 'ก่อนใช้ยาจากนั้น', 'similarity_score': tensor(0.4661), 'topic': 10, 'score': 0.0}, {'checklist_item': 'ความแรง500มิลลิกรัม', 'matched_sentence': 'ก่อนใช้ยาจากนั้น', 'similarity_score': tensor(-0.0007), 'topic': 11, 'score': 0.0}, {'checklist_item': 'จำนวน30เม็ด', 'matched_sentence': 'ก่อนใช้ยาจากนั้น', 'similarity_score': tensor(0.1870), 'topic': 12, 'score': 0.0}, {'checklist_item': 'ใช้รักษาอาการติดเชื้อที่หู', 'matched_sentence': 'ก่อนใช้ยาจากนั้น', 'similarity_score': tensor(0.3047), 'topic': 13, 'score': 0.0}, {'checklist_item': 'รับประทานครั้งละ1เม็ด', 'matched_sentence': 'ก่อนใช้ยาจากนั้น', 'similarity_score': tensor(0.3011), 'topic': 14, 'score': 0.0}, {'checklist_item': 'วันละ3ครั้ง', 'matched_sentence': 'ก่อนใช้ยาจากนั้น', 'similarity_score': tensor(0.2405), 'topic': 15, 'score': 0.0}, {'checklist_item': 'หลังอาหารเช้ากลางวันเย็น', 'matched_sentence': 'ก่อนใช้ยาจากนั้น', 'similarity_score': tensor(0.2004), 'topic': 16, 'score': 0.0}, {'checklist_item': 'ควรรับประทานติดต่อกันทุกวันจนหมด', 'matched_sentence': 'ก่อนใช้ยาจากนั้น', 'similarity_score': tensor(0.1511), 'topic': 17, 'score': 0.0}, {'checklist_item': 'เด็กซ์ออฟ', 'matched_sentence': 'ก่อนใช้ยาจากนั้น', 'similarity_score': tensor(0.3513), 'topic': 18, 'score': 0.0}, {'checklist_item': 'ใช้รักษาหูชั้นกลางอักเสบ', 'matched_sentence': 'ก่อนใช้ยาจากนั้น', 'similarity_score': tensor(0.2666), 'topic': 19, 'score': 0.25}, {'checklist_item': 'หยอดหูซ้าย3หยด', 'matched_sentence': 'ก่อนใช้ยาจากนั้น', 'similarity_score': tensor(0.2020), 'topic': 20, 'score': 0.25}, {'checklist_item': 'วันละ3ครั้ง', 'matched_sentence': 'ก่อนใช้ยาจากนั้น', 'similarity_score': tensor(0.2405), 'topic': 21, 'score': 0.25}, {'checklist_item': 'หลังอาหารเช้ากลางวันเย็น', 'matched_sentence': 'ก่อนใช้ยาจากนั้น', 'similarity_score': tensor(0.2004), 'topic': 22, 'score': 0.25}, {'checklist_item': 'ล้างมือให้สะอาด', 'matched_sentence': 'ก่อนใช้ยาจากนั้น', 'similarity_score': tensor(0.3007), 'topic': 23, 'score': 1.0}, {'checklist_item': 'นอนตะแคงหรือนั่งเอียงศีรษะให้หูข้างที่จะหยอดยาอยู่ด้านบน', 'matched_sentence': 'ก่อนใช้ยาจากนั้น', 'similarity_score': tensor(0.4560), 'topic': 24, 'score': 1.0}, {'checklist_item': 'ให้ดึงใบหูข้างที่จะหยอดยาไปด้านหลังและดึงขึ้นด้านบน', 'matched_sentence': 'ก่อนใช้ยาจากนั้น', 'similarity_score': tensor(0.4122), 'topic': 25, 'score': 0.5}, {'checklist_item': 'หยอดยาเข้าไปในหูตามที่แพทย์สั่ง', 'matched_sentence': 'ก่อนใช้ยาจากนั้น', 'similarity_score': tensor(0.4933), 'topic': 26, 'score': 0.5}, {'checklist_item': 'ระวังอย่าเอาหลอดหยดสอดเข้าไปในรูหู', 'matched_sentence': 'ก่อนใช้ยาจากนั้น', 'similarity_score': tensor(0.3787), 'topic': 27, 'score': 1.0}, {'checklist_item': 'เอียงตะแคงอยู่ท่าเดิมประมาณ3ถึง5นาที', 'matched_sentence': 'ก่อนใช้ยาจากนั้น', 'similarity_score': tensor(0.2129), 'topic': 28, 'score': 0.5}, {'checklist_item': 'อาจเอาสำลีใส่ในรูหูไว้อีกระยะหนึ่งเพื่อไม่ให้ยาไหลออกมา', 'matched_sentence': 'ก่อนใช้ยาจากนั้น', 'similarity_score': tensor(0.5920), 'topic': 29, 'score': 0.5}, {'checklist_item': 'ให้เขย่าขวดก่อนใช้ทุกครั้ง', 'matched_sentence': 'ก่อนใช้ยาจากนั้น', 'similarity_score': tensor(0.5341), 'topic': 30, 'score': 0.5}, {'checklist_item': 'ใช้ไม้พันสำลีเช็ดหนองในใบหูหรือรูหูให้สะอาดก่อนและหลังหยอดยา', 'matched_sentence': 'ก่อนใช้ยาจากนั้น', 'similarity_score': tensor(0.3846), 'topic': 31, 'score': 0.5}, {'checklist_item': 'ยาหยอดหูหากเก็บไว้ในตู้เย็นก่อนใช้ยาให้กำหลอดยาไว้ในอุ้งมือสักครู่', 'matched_sentence': 'ก่อนใช้ยาจากนั้น', 'similarity_score': tensor(0.6444), 'topic': 32, 'score': 0.5}, {'checklist_item': 'เพื่อปรับอุณหภูมิให้ใกล้เคียงกับร่างกายก่อนหยอด', 'matched_sentence': 'ก่อนใช้ยาจากนั้น', 'similarity_score': tensor(0.2421), 'topic': 33, 'score': 0.5}, {'checklist_item': 'ผมเป็นเภสัชกร', 'matched_sentence': 'ใช้ไม้พันสำลีเช็ดหนองในใบหูหรือรูหูให้สะอาดก่อนและหลังหยอดยา', 'similarity_score': tensor(0.4370), 'topic': 0, 'score': 1.0}, {'checklist_item': 'ผู้ป่วยชื่ออะไร', 'matched_sentence': 'ใช้ไม้พันสำลีเช็ดหนองในใบหูหรือรูหูให้สะอาดก่อนและหลังหยอดยา', 'similarity_score': tensor(0.2005), 'topic': 1, 'score': 1.0}, {'checklist_item': 'ผู้ป่วยชื่อชาตินามสกุลอะไร', 'matched_sentence': 'ใช้ไม้พันสำลีเช็ดหนองในใบหูหรือรูหูให้สะอาดก่อนและหลังหยอดยา', 'similarity_score': tensor(0.1830), 'topic': 1, 'score': 0.5}, {'checklist_item': 'ผู้ป่วยชื่อชาติตระการตาใช่ไหม', 'matched_sentence': 'ใช้ไม้พันสำลีเช็ดหนองในใบหูหรือรูหูให้สะอาดก่อนและหลังหยอดยา', 'similarity_score': tensor(0.2140), 'topic': 1, 'score': 0.25}, {'checklist_item': 'ผู้ป่วยชื่อนามสกุลอะไร', 'matched_sentence': 'ใช้ไม้พันสำลีเช็ดหนองในใบหูหรือรูหูให้สะอาดก่อนและหลังหยอดยา', 'similarity_score': tensor(0.1766), 'topic': 1, 'score': 1.0}, {'checklist_item': 'ไอบูโปรเพน', 'matched_sentence': 'ใช้ไม้พันสำลีเช็ดหนองในใบหูหรือรูหูให้สะอาดก่อนและหลังหยอดยา', 'similarity_score': tensor(0.2729), 'topic': 2, 'score': 0.0}, {'checklist_item': 'ความแรง400มิลลิกรัม', 'matched_sentence': 'ใช้ไม้พันสำลีเช็ดหนองในใบหูหรือรูหูให้สะอาดก่อนและหลังหยอดยา', 'similarity_score': tensor(0.0127), 'topic': 3, 'score': 0.0}, {'checklist_item': 'จำนวน10เม็ด', 'matched_sentence': 'ใช้ไม้พันสำลีเช็ดหนองในใบหูหรือรูหูให้สะอาดก่อนและหลังหยอดยา', 'similarity_score': tensor(0.1691), 'topic': 4, 'score': 0.0}, {'checklist_item': 'ใช้เพื่อบรรเทาอาการปวด', 'matched_sentence': 'ใช้ไม้พันสำลีเช็ดหนองในใบหูหรือรูหูให้สะอาดก่อนและหลังหยอดยา', 'similarity_score': tensor(0.5317), 'topic': 5, 'score': 0.0}, {'checklist_item': 'รับประทานครั้งละ1เม็ด', 'matched_sentence': 'ใช้ไม้พันสำลีเช็ดหนองในใบหูหรือรูหูให้สะอาดก่อนและหลังหยอดยา', 'similarity_score': tensor(0.1344), 'topic': 6, 'score': 0.0}, {'checklist_item': 'วันละ3ครั้ง', 'matched_sentence': 'ใช้ไม้พันสำลีเช็ดหนองในใบหูหรือรูหูให้สะอาดก่อนและหลังหยอดยา', 'similarity_score': tensor(0.1709), 'topic': 7, 'score': 0.0}, {'checklist_item': 'หลังอาหารเช้ากลางวันเย็น', 'matched_sentence': 'ใช้ไม้พันสำลีเช็ดหนองในใบหูหรือรูหูให้สะอาดก่อนและหลังหยอดยา', 'similarity_score': tensor(0.0655), 'topic': 8, 'score': 0.0}, {'checklist_item': 'ควรรับประทานหลังอาหารทันที', 'matched_sentence': 'ใช้ไม้พันสำลีเช็ดหนองในใบหูหรือรูหูให้สะอาดก่อนและหลังหยอดยา', 'similarity_score': tensor(0.1153), 'topic': 9, 'score': 0.0}, {'checklist_item': 'อะมอกซีซิลิน', 'matched_sentence': 'ใช้ไม้พันสำลีเช็ดหนองในใบหูหรือรูหูให้สะอาดก่อนและหลังหยอดยา', 'similarity_score': tensor(0.3176), 'topic': 10, 'score': 0.0}, {'checklist_item': 'ความแรง500มิลลิกรัม', 'matched_sentence': 'ใช้ไม้พันสำลีเช็ดหนองในใบหูหรือรูหูให้สะอาดก่อนและหลังหยอดยา', 'similarity_score': tensor(0.0221), 'topic': 11, 'score': 0.0}, {'checklist_item': 'จำนวน30เม็ด', 'matched_sentence': 'ใช้ไม้พันสำลีเช็ดหนองในใบหูหรือรูหูให้สะอาดก่อนและหลังหยอดยา', 'similarity_score': tensor(0.2143), 'topic': 12, 'score': 0.0}, {'checklist_item': 'ใช้รักษาอาการติดเชื้อที่หู', 'matched_sentence': 'ใช้ไม้พันสำลีเช็ดหนองในใบหูหรือรูหูให้สะอาดก่อนและหลังหยอดยา', 'similarity_score': tensor(0.8236), 'topic': 13, 'score': 0.0}, {'checklist_item': 'รับประทานครั้งละ1เม็ด', 'matched_sentence': 'ใช้ไม้พันสำลีเช็ดหนองในใบหูหรือรูหูให้สะอาดก่อนและหลังหยอดยา', 'similarity_score': tensor(0.1344), 'topic': 14, 'score': 0.0}, {'checklist_item': 'วันละ3ครั้ง', 'matched_sentence': 'ใช้ไม้พันสำลีเช็ดหนองในใบหูหรือรูหูให้สะอาดก่อนและหลังหยอดยา', 'similarity_score': tensor(0.1709), 'topic': 15, 'score': 0.0}, {'checklist_item': 'หลังอาหารเช้ากลางวันเย็น', 'matched_sentence': 'ใช้ไม้พันสำลีเช็ดหนองในใบหูหรือรูหูให้สะอาดก่อนและหลังหยอดยา', 'similarity_score': tensor(0.0655), 'topic': 16, 'score': 0.0}, {'checklist_item': 'ควรรับประทานติดต่อกันทุกวันจนหมด', 'matched_sentence': 'ใช้ไม้พันสำลีเช็ดหนองในใบหูหรือรูหูให้สะอาดก่อนและหลังหยอดยา', 'similarity_score': tensor(0.0499), 'topic': 17, 'score': 0.0}, {'checklist_item': 'เด็กซ์ออฟ', 'matched_sentence': 'ใช้ไม้พันสำลีเช็ดหนองในใบหูหรือรูหูให้สะอาดก่อนและหลังหยอดยา', 'similarity_score': tensor(0.1980), 'topic': 18, 'score': 0.0}, {'checklist_item': 'ใช้รักษาหูชั้นกลางอักเสบ', 'matched_sentence': 'ใช้ไม้พันสำลีเช็ดหนองในใบหูหรือรูหูให้สะอาดก่อนและหลังหยอดยา', 'similarity_score': tensor(0.8028), 'topic': 19, 'score': 0.25}, {'checklist_item': 'หยอดหูซ้าย3หยด', 'matched_sentence': 'ใช้ไม้พันสำลีเช็ดหนองในใบหูหรือรูหูให้สะอาดก่อนและหลังหยอดยา', 'similarity_score': tensor(0.6111), 'topic': 20, 'score': 0.25}, {'checklist_item': 'วันละ3ครั้ง', 'matched_sentence': 'ใช้ไม้พันสำลีเช็ดหนองในใบหูหรือรูหูให้สะอาดก่อนและหลังหยอดยา', 'similarity_score': tensor(0.1709), 'topic': 21, 'score': 0.25}, {'checklist_item': 'หลังอาหารเช้ากลางวันเย็น', 'matched_sentence': 'ใช้ไม้พันสำลีเช็ดหนองในใบหูหรือรูหูให้สะอาดก่อนและหลังหยอดยา', 'similarity_score': tensor(0.0655), 'topic': 22, 'score': 0.25}, {'checklist_item': 'ล้างมือให้สะอาด', 'matched_sentence': 'ใช้ไม้พันสำลีเช็ดหนองในใบหูหรือรูหูให้สะอาดก่อนและหลังหยอดยา', 'similarity_score': tensor(0.4671), 'topic': 23, 'score': 1.0}, {'checklist_item': 'นอนตะแคงหรือนั่งเอียงศีรษะให้หูข้างที่จะหยอดยาอยู่ด้านบน', 'matched_sentence': 'ใช้ไม้พันสำลีเช็ดหนองในใบหูหรือรูหูให้สะอาดก่อนและหลังหยอดยา', 'similarity_score': tensor(0.6031), 'topic': 24, 'score': 1.0}, {'checklist_item': 'ให้ดึงใบหูข้างที่จะหยอดยาไปด้านหลังและดึงขึ้นด้านบน', 'matched_sentence': 'ใช้ไม้พันสำลีเช็ดหนองในใบหูหรือรูหูให้สะอาดก่อนและหลังหยอดยา', 'similarity_score': tensor(0.6969), 'topic': 25, 'score': 0.5}, {'checklist_item': 'หยอดยาเข้าไปในหูตามที่แพทย์สั่ง', 'matched_sentence': 'ใช้ไม้พันสำลีเช็ดหนองในใบหูหรือรูหูให้สะอาดก่อนและหลังหยอดยา', 'similarity_score': tensor(0.7726), 'topic': 26, 'score': 0.5}, {'checklist_item': 'ระวังอย่าเอาหลอดหยดสอดเข้าไปในรูหู', 'matched_sentence': 'ใช้ไม้พันสำลีเช็ดหนองในใบหูหรือรูหูให้สะอาดก่อนและหลังหยอดยา', 'similarity_score': tensor(0.6615), 'topic': 27, 'score': 1.0}, {'checklist_item': 'เอียงตะแคงอยู่ท่าเดิมประมาณ3ถึง5นาที', 'matched_sentence': 'ใช้ไม้พันสำลีเช็ดหนองในใบหูหรือรูหูให้สะอาดก่อนและหลังหยอดยา', 'similarity_score': tensor(0.1605), 'topic': 28, 'score': 0.5}, {'checklist_item': 'อาจเอาสำลีใส่ในรูหูไว้อีกระยะหนึ่งเพื่อไม่ให้ยาไหลออกมา', 'matched_sentence': 'ใช้ไม้พันสำลีเช็ดหนองในใบหูหรือรูหูให้สะอาดก่อนและหลังหยอดยา', 'similarity_score': tensor(0.7964), 'topic': 29, 'score': 0.5}, {'checklist_item': 'ให้เขย่าขวดก่อนใช้ทุกครั้ง', 'matched_sentence': 'ใช้ไม้พันสำลีเช็ดหนองในใบหูหรือรูหูให้สะอาดก่อนและหลังหยอดยา', 'similarity_score': tensor(0.4806), 'topic': 30, 'score': 0.5}, {'checklist_item': 'ใช้ไม้พันสำลีเช็ดหนองในใบหูหรือรูหูให้สะอาดก่อนและหลังหยอดยา', 'matched_sentence': 'ใช้ไม้พันสำลีเช็ดหนองในใบหูหรือรูหูให้สะอาดก่อนและหลังหยอดยา', 'similarity_score': tensor(1.), 'topic': 31, 'score': 0.5}, {'checklist_item': 'ยาหยอดหูหากเก็บไว้ในตู้เย็นก่อนใช้ยาให้กำหลอดยาไว้ในอุ้งมือสักครู่', 'matched_sentence': 'ใช้ไม้พันสำลีเช็ดหนองในใบหูหรือรูหูให้สะอาดก่อนและหลังหยอดยา', 'similarity_score': tensor(0.5390), 'topic': 32, 'score': 0.5}, {'checklist_item': 'เพื่อปรับอุณหภูมิให้ใกล้เคียงกับร่างกายก่อนหยอด', 'matched_sentence': 'ใช้ไม้พันสำลีเช็ดหนองในใบหูหรือรูหูให้สะอาดก่อนและหลังหยอดยา', 'similarity_score': tensor(0.2668), 'topic': 33, 'score': 0.5}, {'checklist_item': 'ผมเป็นเภสัชกร', 'matched_sentence': 'ต่อมาให้หยิบยาจากกล่องมาถือไว้ที่มือและเขย่าขวดก่อนใช้ทุกครั้งถัดไปให้คนไข้', 'similarity_score': tensor(0.5236), 'topic': 0, 'score': 1.0}, {'checklist_item': 'ผู้ป่วยชื่ออะไร', 'matched_sentence': 'ต่อมาให้หยิบยาจากกล่องมาถือไว้ที่มือและเขย่าขวดก่อนใช้ทุกครั้งถัดไปให้คนไข้', 'similarity_score': tensor(0.4051), 'topic': 1, 'score': 1.0}, {'checklist_item': 'ผู้ป่วยชื่อชาตินามสกุลอะไร', 'matched_sentence': 'ต่อมาให้หยิบยาจากกล่องมาถือไว้ที่มือและเขย่าขวดก่อนใช้ทุกครั้งถัดไปให้คนไข้', 'similarity_score': tensor(0.3672), 'topic': 1, 'score': 0.5}, {'checklist_item': 'ผู้ป่วยชื่อชาติตระการตาใช่ไหม', 'matched_sentence': 'ต่อมาให้หยิบยาจากกล่องมาถือไว้ที่มือและเขย่าขวดก่อนใช้ทุกครั้งถัดไปให้คนไข้', 'similarity_score': tensor(0.3892), 'topic': 1, 'score': 0.25}, {'checklist_item': 'ผู้ป่วยชื่อนามสกุลอะไร', 'matched_sentence': 'ต่อมาให้หยิบยาจากกล่องมาถือไว้ที่มือและเขย่าขวดก่อนใช้ทุกครั้งถัดไปให้คนไข้', 'similarity_score': tensor(0.3754), 'topic': 1, 'score': 1.0}, {'checklist_item': 'ไอบูโปรเพน', 'matched_sentence': 'ต่อมาให้หยิบยาจากกล่องมาถือไว้ที่มือและเขย่าขวดก่อนใช้ทุกครั้งถัดไปให้คนไข้', 'similarity_score': tensor(0.2877), 'topic': 2, 'score': 0.0}, {'checklist_item': 'ความแรง400มิลลิกรัม', 'matched_sentence': 'ต่อมาให้หยิบยาจากกล่องมาถือไว้ที่มือและเขย่าขวดก่อนใช้ทุกครั้งถัดไปให้คนไข้', 'similarity_score': tensor(0.0364), 'topic': 3, 'score': 0.0}, {'checklist_item': 'จำนวน10เม็ด', 'matched_sentence': 'ต่อมาให้หยิบยาจากกล่องมาถือไว้ที่มือและเขย่าขวดก่อนใช้ทุกครั้งถัดไปให้คนไข้', 'similarity_score': tensor(0.2352), 'topic': 4, 'score': 0.0}, {'checklist_item': 'ใช้เพื่อบรรเทาอาการปวด', 'matched_sentence': 'ต่อมาให้หยิบยาจากกล่องมาถือไว้ที่มือและเขย่าขวดก่อนใช้ทุกครั้งถัดไปให้คนไข้', 'similarity_score': tensor(0.4389), 'topic': 5, 'score': 0.0}, {'checklist_item': 'รับประทานครั้งละ1เม็ด', 'matched_sentence': 'ต่อมาให้หยิบยาจากกล่องมาถือไว้ที่มือและเขย่าขวดก่อนใช้ทุกครั้งถัดไปให้คนไข้', 'similarity_score': tensor(0.3545), 'topic': 6, 'score': 0.0}, {'checklist_item': 'วันละ3ครั้ง', 'matched_sentence': 'ต่อมาให้หยิบยาจากกล่องมาถือไว้ที่มือและเขย่าขวดก่อนใช้ทุกครั้งถัดไปให้คนไข้', 'similarity_score': tensor(0.2753), 'topic': 7, 'score': 0.0}, {'checklist_item': 'หลังอาหารเช้ากลางวันเย็น', 'matched_sentence': 'ต่อมาให้หยิบยาจากกล่องมาถือไว้ที่มือและเขย่าขวดก่อนใช้ทุกครั้งถัดไปให้คนไข้', 'similarity_score': tensor(0.1355), 'topic': 8, 'score': 0.0}, {'checklist_item': 'ควรรับประทานหลังอาหารทันที', 'matched_sentence': 'ต่อมาให้หยิบยาจากกล่องมาถือไว้ที่มือและเขย่าขวดก่อนใช้ทุกครั้งถัดไปให้คนไข้', 'similarity_score': tensor(0.1561), 'topic': 9, 'score': 0.0}, {'checklist_item': 'อะมอกซีซิลิน', 'matched_sentence': 'ต่อมาให้หยิบยาจากกล่องมาถือไว้ที่มือและเขย่าขวดก่อนใช้ทุกครั้งถัดไปให้คนไข้', 'similarity_score': tensor(0.3540), 'topic': 10, 'score': 0.0}, {'checklist_item': 'ความแรง500มิลลิกรัม', 'matched_sentence': 'ต่อมาให้หยิบยาจากกล่องมาถือไว้ที่มือและเขย่าขวดก่อนใช้ทุกครั้งถัดไปให้คนไข้', 'similarity_score': tensor(0.0573), 'topic': 11, 'score': 0.0}, {'checklist_item': 'จำนวน30เม็ด', 'matched_sentence': 'ต่อมาให้หยิบยาจากกล่องมาถือไว้ที่มือและเขย่าขวดก่อนใช้ทุกครั้งถัดไปให้คนไข้', 'similarity_score': tensor(0.2178), 'topic': 12, 'score': 0.0}, {'checklist_item': 'ใช้รักษาอาการติดเชื้อที่หู', 'matched_sentence': 'ต่อมาให้หยิบยาจากกล่องมาถือไว้ที่มือและเขย่าขวดก่อนใช้ทุกครั้งถัดไปให้คนไข้', 'similarity_score': tensor(0.3460), 'topic': 13, 'score': 0.0}, {'checklist_item': 'รับประทานครั้งละ1เม็ด', 'matched_sentence': 'ต่อมาให้หยิบยาจากกล่องมาถือไว้ที่มือและเขย่าขวดก่อนใช้ทุกครั้งถัดไปให้คนไข้', 'similarity_score': tensor(0.3545), 'topic': 14, 'score': 0.0}, {'checklist_item': 'วันละ3ครั้ง', 'matched_sentence': 'ต่อมาให้หยิบยาจากกล่องมาถือไว้ที่มือและเขย่าขวดก่อนใช้ทุกครั้งถัดไปให้คนไข้', 'similarity_score': tensor(0.2753), 'topic': 15, 'score': 0.0}, {'checklist_item': 'หลังอาหารเช้ากลางวันเย็น', 'matched_sentence': 'ต่อมาให้หยิบยาจากกล่องมาถือไว้ที่มือและเขย่าขวดก่อนใช้ทุกครั้งถัดไปให้คนไข้', 'similarity_score': tensor(0.1355), 'topic': 16, 'score': 0.0}, {'checklist_item': 'ควรรับประทานติดต่อกันทุกวันจนหมด', 'matched_sentence': 'ต่อมาให้หยิบยาจากกล่องมาถือไว้ที่มือและเขย่าขวดก่อนใช้ทุกครั้งถัดไปให้คนไข้', 'similarity_score': tensor(0.1871), 'topic': 17, 'score': 0.0}, {'checklist_item': 'เด็กซ์ออฟ', 'matched_sentence': 'ต่อมาให้หยิบยาจากกล่องมาถือไว้ที่มือและเขย่าขวดก่อนใช้ทุกครั้งถัดไปให้คนไข้', 'similarity_score': tensor(0.2058), 'topic': 18, 'score': 0.0}, {'checklist_item': 'ใช้รักษาหูชั้นกลางอักเสบ', 'matched_sentence': 'ต่อมาให้หยิบยาจากกล่องมาถือไว้ที่มือและเขย่าขวดก่อนใช้ทุกครั้งถัดไปให้คนไข้', 'similarity_score': tensor(0.3137), 'topic': 19, 'score': 0.25}, {'checklist_item': 'หยอดหูซ้าย3หยด', 'matched_sentence': 'ต่อมาให้หยิบยาจากกล่องมาถือไว้ที่มือและเขย่าขวดก่อนใช้ทุกครั้งถัดไปให้คนไข้', 'similarity_score': tensor(0.3129), 'topic': 20, 'score': 0.25}, {'checklist_item': 'วันละ3ครั้ง', 'matched_sentence': 'ต่อมาให้หยิบยาจากกล่องมาถือไว้ที่มือและเขย่าขวดก่อนใช้ทุกครั้งถัดไปให้คนไข้', 'similarity_score': tensor(0.2753), 'topic': 21, 'score': 0.25}, {'checklist_item': 'หลังอาหารเช้ากลางวันเย็น', 'matched_sentence': 'ต่อมาให้หยิบยาจากกล่องมาถือไว้ที่มือและเขย่าขวดก่อนใช้ทุกครั้งถัดไปให้คนไข้', 'similarity_score': tensor(0.1355), 'topic': 22, 'score': 0.25}, {'checklist_item': 'ล้างมือให้สะอาด', 'matched_sentence': 'ต่อมาให้หยิบยาจากกล่องมาถือไว้ที่มือและเขย่าขวดก่อนใช้ทุกครั้งถัดไปให้คนไข้', 'similarity_score': tensor(0.4502), 'topic': 23, 'score': 1.0}, {'checklist_item': 'นอนตะแคงหรือนั่งเอียงศีรษะให้หูข้างที่จะหยอดยาอยู่ด้านบน', 'matched_sentence': 'ต่อมาให้หยิบยาจากกล่องมาถือไว้ที่มือและเขย่าขวดก่อนใช้ทุกครั้งถัดไปให้คนไข้', 'similarity_score': tensor(0.4271), 'topic': 24, 'score': 1.0}, {'checklist_item': 'ให้ดึงใบหูข้างที่จะหยอดยาไปด้านหลังและดึงขึ้นด้านบน', 'matched_sentence': 'ต่อมาให้หยิบยาจากกล่องมาถือไว้ที่มือและเขย่าขวดก่อนใช้ทุกครั้งถัดไปให้คนไข้', 'similarity_score': tensor(0.5351), 'topic': 25, 'score': 0.5}, {'checklist_item': 'หยอดยาเข้าไปในหูตามที่แพทย์สั่ง', 'matched_sentence': 'ต่อมาให้หยิบยาจากกล่องมาถือไว้ที่มือและเขย่าขวดก่อนใช้ทุกครั้งถัดไปให้คนไข้', 'similarity_score': tensor(0.5728), 'topic': 26, 'score': 0.5}, {'checklist_item': 'ระวังอย่าเอาหลอดหยดสอดเข้าไปในรูหู', 'matched_sentence': 'ต่อมาให้หยิบยาจากกล่องมาถือไว้ที่มือและเขย่าขวดก่อนใช้ทุกครั้งถัดไปให้คนไข้', 'similarity_score': tensor(0.4593), 'topic': 27, 'score': 1.0}, {'checklist_item': 'เอียงตะแคงอยู่ท่าเดิมประมาณ3ถึง5นาที', 'matched_sentence': 'ต่อมาให้หยิบยาจากกล่องมาถือไว้ที่มือและเขย่าขวดก่อนใช้ทุกครั้งถัดไปให้คนไข้', 'similarity_score': tensor(0.1795), 'topic': 28, 'score': 0.5}, {'checklist_item': 'อาจเอาสำลีใส่ในรูหูไว้อีกระยะหนึ่งเพื่อไม่ให้ยาไหลออกมา', 'matched_sentence': 'ต่อมาให้หยิบยาจากกล่องมาถือไว้ที่มือและเขย่าขวดก่อนใช้ทุกครั้งถัดไปให้คนไข้', 'similarity_score': tensor(0.6508), 'topic': 29, 'score': 0.5}, {'checklist_item': 'ให้เขย่าขวดก่อนใช้ทุกครั้ง', 'matched_sentence': 'ต่อมาให้หยิบยาจากกล่องมาถือไว้ที่มือและเขย่าขวดก่อนใช้ทุกครั้งถัดไปให้คนไข้', 'similarity_score': tensor(0.6977), 'topic': 30, 'score': 0.5}, {'checklist_item': 'ใช้ไม้พันสำลีเช็ดหนองในใบหูหรือรูหูให้สะอาดก่อนและหลังหยอดยา', 'matched_sentence': 'ต่อมาให้หยิบยาจากกล่องมาถือไว้ที่มือและเขย่าขวดก่อนใช้ทุกครั้งถัดไปให้คนไข้', 'similarity_score': tensor(0.4880), 'topic': 31, 'score': 0.5}, {'checklist_item': 'ยาหยอดหูหากเก็บไว้ในตู้เย็นก่อนใช้ยาให้กำหลอดยาไว้ในอุ้งมือสักครู่', 'matched_sentence': 'ต่อมาให้หยิบยาจากกล่องมาถือไว้ที่มือและเขย่าขวดก่อนใช้ทุกครั้งถัดไปให้คนไข้', 'similarity_score': tensor(0.7576), 'topic': 32, 'score': 0.5}, {'checklist_item': 'เพื่อปรับอุณหภูมิให้ใกล้เคียงกับร่างกายก่อนหยอด', 'matched_sentence': 'ต่อมาให้หยิบยาจากกล่องมาถือไว้ที่มือและเขย่าขวดก่อนใช้ทุกครั้งถัดไปให้คนไข้', 'similarity_score': tensor(0.2251), 'topic': 33, 'score': 0.5}, {'checklist_item': 'ผมเป็นเภสัชกร', 'matched_sentence': 'นอนตะแคงหรือนั่งเอียงศีรษะให้หูข้างที่จะหยอดยาอยู่ด้านบน', 'similarity_score': tensor(0.3800), 'topic': 0, 'score': 1.0}, {'checklist_item': 'ผู้ป่วยชื่ออะไร', 'matched_sentence': 'นอนตะแคงหรือนั่งเอียงศีรษะให้หูข้างที่จะหยอดยาอยู่ด้านบน', 'similarity_score': tensor(0.2667), 'topic': 1, 'score': 1.0}, {'checklist_item': 'ผู้ป่วยชื่อชาตินามสกุลอะไร', 'matched_sentence': 'นอนตะแคงหรือนั่งเอียงศีรษะให้หูข้างที่จะหยอดยาอยู่ด้านบน', 'similarity_score': tensor(0.2617), 'topic': 1, 'score': 0.5}, {'checklist_item': 'ผู้ป่วยชื่อชาติตระการตาใช่ไหม', 'matched_sentence': 'นอนตะแคงหรือนั่งเอียงศีรษะให้หูข้างที่จะหยอดยาอยู่ด้านบน', 'similarity_score': tensor(0.4558), 'topic': 1, 'score': 0.25}, {'checklist_item': 'ผู้ป่วยชื่อนามสกุลอะไร', 'matched_sentence': 'นอนตะแคงหรือนั่งเอียงศีรษะให้หูข้างที่จะหยอดยาอยู่ด้านบน', 'similarity_score': tensor(0.2403), 'topic': 1, 'score': 1.0}, {'checklist_item': 'ไอบูโปรเพน', 'matched_sentence': 'นอนตะแคงหรือนั่งเอียงศีรษะให้หูข้างที่จะหยอดยาอยู่ด้านบน', 'similarity_score': tensor(0.2382), 'topic': 2, 'score': 0.0}, {'checklist_item': 'ความแรง400มิลลิกรัม', 'matched_sentence': 'นอนตะแคงหรือนั่งเอียงศีรษะให้หูข้างที่จะหยอดยาอยู่ด้านบน', 'similarity_score': tensor(-0.0010), 'topic': 3, 'score': 0.0}, {'checklist_item': 'จำนวน10เม็ด', 'matched_sentence': 'นอนตะแคงหรือนั่งเอียงศีรษะให้หูข้างที่จะหยอดยาอยู่ด้านบน', 'similarity_score': tensor(0.1441), 'topic': 4, 'score': 0.0}, {'checklist_item': 'ใช้เพื่อบรรเทาอาการปวด', 'matched_sentence': 'นอนตะแคงหรือนั่งเอียงศีรษะให้หูข้างที่จะหยอดยาอยู่ด้านบน', 'similarity_score': tensor(0.4448), 'topic': 5, 'score': 0.0}, {'checklist_item': 'รับประทานครั้งละ1เม็ด', 'matched_sentence': 'นอนตะแคงหรือนั่งเอียงศีรษะให้หูข้างที่จะหยอดยาอยู่ด้านบน', 'similarity_score': tensor(0.1655), 'topic': 6, 'score': 0.0}, {'checklist_item': 'วันละ3ครั้ง', 'matched_sentence': 'นอนตะแคงหรือนั่งเอียงศีรษะให้หูข้างที่จะหยอดยาอยู่ด้านบน', 'similarity_score': tensor(0.2708), 'topic': 7, 'score': 0.0}, {'checklist_item': 'หลังอาหารเช้ากลางวันเย็น', 'matched_sentence': 'นอนตะแคงหรือนั่งเอียงศีรษะให้หูข้างที่จะหยอดยาอยู่ด้านบน', 'similarity_score': tensor(0.3193), 'topic': 8, 'score': 0.0}, {'checklist_item': 'ควรรับประทานหลังอาหารทันที', 'matched_sentence': 'นอนตะแคงหรือนั่งเอียงศีรษะให้หูข้างที่จะหยอดยาอยู่ด้านบน', 'similarity_score': tensor(0.2481), 'topic': 9, 'score': 0.0}, {'checklist_item': 'อะมอกซีซิลิน', 'matched_sentence': 'นอนตะแคงหรือนั่งเอียงศีรษะให้หูข้างที่จะหยอดยาอยู่ด้านบน', 'similarity_score': tensor(0.3866), 'topic': 10, 'score': 0.0}, {'checklist_item': 'ความแรง500มิลลิกรัม', 'matched_sentence': 'นอนตะแคงหรือนั่งเอียงศีรษะให้หูข้างที่จะหยอดยาอยู่ด้านบน', 'similarity_score': tensor(0.0176), 'topic': 11, 'score': 0.0}, {'checklist_item': 'จำนวน30เม็ด', 'matched_sentence': 'นอนตะแคงหรือนั่งเอียงศีรษะให้หูข้างที่จะหยอดยาอยู่ด้านบน', 'similarity_score': tensor(0.1861), 'topic': 12, 'score': 0.0}, {'checklist_item': 'ใช้รักษาอาการติดเชื้อที่หู', 'matched_sentence': 'นอนตะแคงหรือนั่งเอียงศีรษะให้หูข้างที่จะหยอดยาอยู่ด้านบน', 'similarity_score': tensor(0.6213), 'topic': 13, 'score': 0.0}, {'checklist_item': 'รับประทานครั้งละ1เม็ด', 'matched_sentence': 'นอนตะแคงหรือนั่งเอียงศีรษะให้หูข้างที่จะหยอดยาอยู่ด้านบน', 'similarity_score': tensor(0.1655), 'topic': 14, 'score': 0.0}, {'checklist_item': 'วันละ3ครั้ง', 'matched_sentence': 'นอนตะแคงหรือนั่งเอียงศีรษะให้หูข้างที่จะหยอดยาอยู่ด้านบน', 'similarity_score': tensor(0.2708), 'topic': 15, 'score': 0.0}, {'checklist_item': 'หลังอาหารเช้ากลางวันเย็น', 'matched_sentence': 'นอนตะแคงหรือนั่งเอียงศีรษะให้หูข้างที่จะหยอดยาอยู่ด้านบน', 'similarity_score': tensor(0.3193), 'topic': 16, 'score': 0.0}, {'checklist_item': 'ควรรับประทานติดต่อกันทุกวันจนหมด', 'matched_sentence': 'นอนตะแคงหรือนั่งเอียงศีรษะให้หูข้างที่จะหยอดยาอยู่ด้านบน', 'similarity_score': tensor(0.1935), 'topic': 17, 'score': 0.0}, {'checklist_item': 'เด็กซ์ออฟ', 'matched_sentence': 'นอนตะแคงหรือนั่งเอียงศีรษะให้หูข้างที่จะหยอดยาอยู่ด้านบน', 'similarity_score': tensor(0.3965), 'topic': 18, 'score': 0.0}, {'checklist_item': 'ใช้รักษาหูชั้นกลางอักเสบ', 'matched_sentence': 'นอนตะแคงหรือนั่งเอียงศีรษะให้หูข้างที่จะหยอดยาอยู่ด้านบน', 'similarity_score': tensor(0.5955), 'topic': 19, 'score': 0.25}, {'checklist_item': 'หยอดหูซ้าย3หยด', 'matched_sentence': 'นอนตะแคงหรือนั่งเอียงศีรษะให้หูข้างที่จะหยอดยาอยู่ด้านบน', 'similarity_score': tensor(0.6212), 'topic': 20, 'score': 0.25}, {'checklist_item': 'วันละ3ครั้ง', 'matched_sentence': 'นอนตะแคงหรือนั่งเอียงศีรษะให้หูข้างที่จะหยอดยาอยู่ด้านบน', 'similarity_score': tensor(0.2708), 'topic': 21, 'score': 0.25}, {'checklist_item': 'หลังอาหารเช้ากลางวันเย็น', 'matched_sentence': 'นอนตะแคงหรือนั่งเอียงศีรษะให้หูข้างที่จะหยอดยาอยู่ด้านบน', 'similarity_score': tensor(0.3193), 'topic': 22, 'score': 0.25}, {'checklist_item': 'ล้างมือให้สะอาด', 'matched_sentence': 'นอนตะแคงหรือนั่งเอียงศีรษะให้หูข้างที่จะหยอดยาอยู่ด้านบน', 'similarity_score': tensor(0.3293), 'topic': 23, 'score': 1.0}, {'checklist_item': 'นอนตะแคงหรือนั่งเอียงศีรษะให้หูข้างที่จะหยอดยาอยู่ด้านบน', 'matched_sentence': 'นอนตะแคงหรือนั่งเอียงศีรษะให้หูข้างที่จะหยอดยาอยู่ด้านบน', 'similarity_score': tensor(1.0000), 'topic': 24, 'score': 1.0}, {'checklist_item': 'ให้ดึงใบหูข้างที่จะหยอดยาไปด้านหลังและดึงขึ้นด้านบน', 'matched_sentence': 'นอนตะแคงหรือนั่งเอียงศีรษะให้หูข้างที่จะหยอดยาอยู่ด้านบน', 'similarity_score': tensor(0.7722), 'topic': 25, 'score': 0.5}, {'checklist_item': 'หยอดยาเข้าไปในหูตามที่แพทย์สั่ง', 'matched_sentence': 'นอนตะแคงหรือนั่งเอียงศีรษะให้หูข้างที่จะหยอดยาอยู่ด้านบน', 'similarity_score': tensor(0.7045), 'topic': 26, 'score': 0.5}, {'checklist_item': 'ระวังอย่าเอาหลอดหยดสอดเข้าไปในรูหู', 'matched_sentence': 'นอนตะแคงหรือนั่งเอียงศีรษะให้หูข้างที่จะหยอดยาอยู่ด้านบน', 'similarity_score': tensor(0.5687), 'topic': 27, 'score': 1.0}, {'checklist_item': 'เอียงตะแคงอยู่ท่าเดิมประมาณ3ถึง5นาที', 'matched_sentence': 'นอนตะแคงหรือนั่งเอียงศีรษะให้หูข้างที่จะหยอดยาอยู่ด้านบน', 'similarity_score': tensor(0.2529), 'topic': 28, 'score': 0.5}, {'checklist_item': 'อาจเอาสำลีใส่ในรูหูไว้อีกระยะหนึ่งเพื่อไม่ให้ยาไหลออกมา', 'matched_sentence': 'นอนตะแคงหรือนั่งเอียงศีรษะให้หูข้างที่จะหยอดยาอยู่ด้านบน', 'similarity_score': tensor(0.6532), 'topic': 29, 'score': 0.5}, {'checklist_item': 'ให้เขย่าขวดก่อนใช้ทุกครั้ง', 'matched_sentence': 'นอนตะแคงหรือนั่งเอียงศีรษะให้หูข้างที่จะหยอดยาอยู่ด้านบน', 'similarity_score': tensor(0.4524), 'topic': 30, 'score': 0.5}, {'checklist_item': 'ใช้ไม้พันสำลีเช็ดหนองในใบหูหรือรูหูให้สะอาดก่อนและหลังหยอดยา', 'matched_sentence': 'นอนตะแคงหรือนั่งเอียงศีรษะให้หูข้างที่จะหยอดยาอยู่ด้านบน', 'similarity_score': tensor(0.6031), 'topic': 31, 'score': 0.5}, {'checklist_item': 'ยาหยอดหูหากเก็บไว้ในตู้เย็นก่อนใช้ยาให้กำหลอดยาไว้ในอุ้งมือสักครู่', 'matched_sentence': 'นอนตะแคงหรือนั่งเอียงศีรษะให้หูข้างที่จะหยอดยาอยู่ด้านบน', 'similarity_score': tensor(0.4919), 'topic': 32, 'score': 0.5}, {'checklist_item': 'เพื่อปรับอุณหภูมิให้ใกล้เคียงกับร่างกายก่อนหยอด', 'matched_sentence': 'นอนตะแคงหรือนั่งเอียงศีรษะให้หูข้างที่จะหยอดยาอยู่ด้านบน', 'similarity_score': tensor(0.2916), 'topic': 33, 'score': 0.5}, {'checklist_item': 'ผมเป็นเภสัชกร', 'matched_sentence': 'ถัดมา', 'similarity_score': tensor(0.2056), 'topic': 0, 'score': 1.0}, {'checklist_item': 'ผู้ป่วยชื่ออะไร', 'matched_sentence': 'ถัดมา', 'similarity_score': tensor(0.1482), 'topic': 1, 'score': 1.0}, {'checklist_item': 'ผู้ป่วยชื่อชาตินามสกุลอะไร', 'matched_sentence': 'ถัดมา', 'similarity_score': tensor(0.1579), 'topic': 1, 'score': 0.5}, {'checklist_item': 'ผู้ป่วยชื่อชาติตระการตาใช่ไหม', 'matched_sentence': 'ถัดมา', 'similarity_score': tensor(0.2947), 'topic': 1, 'score': 0.25}, {'checklist_item': 'ผู้ป่วยชื่อนามสกุลอะไร', 'matched_sentence': 'ถัดมา', 'similarity_score': tensor(0.1348), 'topic': 1, 'score': 1.0}, {'checklist_item': 'ไอบูโปรเพน', 'matched_sentence': 'ถัดมา', 'similarity_score': tensor(0.3406), 'topic': 2, 'score': 0.0}, {'checklist_item': 'ความแรง400มิลลิกรัม', 'matched_sentence': 'ถัดมา', 'similarity_score': tensor(0.0828), 'topic': 3, 'score': 0.0}, {'checklist_item': 'จำนวน10เม็ด', 'matched_sentence': 'ถัดมา', 'similarity_score': tensor(0.3295), 'topic': 4, 'score': 0.0}, {'checklist_item': 'ใช้เพื่อบรรเทาอาการปวด', 'matched_sentence': 'ถัดมา', 'similarity_score': tensor(0.2102), 'topic': 5, 'score': 0.0}, {'checklist_item': 'รับประทานครั้งละ1เม็ด', 'matched_sentence': 'ถัดมา', 'similarity_score': tensor(0.3195), 'topic': 6, 'score': 0.0}, {'checklist_item': 'วันละ3ครั้ง', 'matched_sentence': 'ถัดมา', 'similarity_score': tensor(0.3347), 'topic': 7, 'score': 0.0}, {'checklist_item': 'หลังอาหารเช้ากลางวันเย็น', 'matched_sentence': 'ถัดมา', 'similarity_score': tensor(0.2866), 'topic': 8, 'score': 0.0}, {'checklist_item': 'ควรรับประทานหลังอาหารทันที', 'matched_sentence': 'ถัดมา', 'similarity_score': tensor(0.4331), 'topic': 9, 'score': 0.0}, {'checklist_item': 'อะมอกซีซิลิน', 'matched_sentence': 'ถัดมา', 'similarity_score': tensor(0.3293), 'topic': 10, 'score': 0.0}, {'checklist_item': 'ความแรง500มิลลิกรัม', 'matched_sentence': 'ถัดมา', 'similarity_score': tensor(0.1241), 'topic': 11, 'score': 0.0}, {'checklist_item': 'จำนวน30เม็ด', 'matched_sentence': 'ถัดมา', 'similarity_score': tensor(0.3293), 'topic': 12, 'score': 0.0}, {'checklist_item': 'ใช้รักษาอาการติดเชื้อที่หู', 'matched_sentence': 'ถัดมา', 'similarity_score': tensor(0.1689), 'topic': 13, 'score': 0.0}, {'checklist_item': 'รับประทานครั้งละ1เม็ด', 'matched_sentence': 'ถัดมา', 'similarity_score': tensor(0.3195), 'topic': 14, 'score': 0.0}, {'checklist_item': 'วันละ3ครั้ง', 'matched_sentence': 'ถัดมา', 'similarity_score': tensor(0.3347), 'topic': 15, 'score': 0.0}, {'checklist_item': 'หลังอาหารเช้ากลางวันเย็น', 'matched_sentence': 'ถัดมา', 'similarity_score': tensor(0.2866), 'topic': 16, 'score': 0.0}, {'checklist_item': 'ควรรับประทานติดต่อกันทุกวันจนหมด', 'matched_sentence': 'ถัดมา', 'similarity_score': tensor(0.2095), 'topic': 17, 'score': 0.0}, {'checklist_item': 'เด็กซ์ออฟ', 'matched_sentence': 'ถัดมา', 'similarity_score': tensor(0.6129), 'topic': 18, 'score': 0.0}, {'checklist_item': 'ใช้รักษาหูชั้นกลางอักเสบ', 'matched_sentence': 'ถัดมา', 'similarity_score': tensor(0.1488), 'topic': 19, 'score': 0.25}, {'checklist_item': 'หยอดหูซ้าย3หยด', 'matched_sentence': 'ถัดมา', 'similarity_score': tensor(0.3175), 'topic': 20, 'score': 0.25}, {'checklist_item': 'วันละ3ครั้ง', 'matched_sentence': 'ถัดมา', 'similarity_score': tensor(0.3347), 'topic': 21, 'score': 0.25}, {'checklist_item': 'หลังอาหารเช้ากลางวันเย็น', 'matched_sentence': 'ถัดมา', 'similarity_score': tensor(0.2866), 'topic': 22, 'score': 0.25}, {'checklist_item': 'ล้างมือให้สะอาด', 'matched_sentence': 'ถัดมา', 'similarity_score': tensor(0.2515), 'topic': 23, 'score': 1.0}, {'checklist_item': 'นอนตะแคงหรือนั่งเอียงศีรษะให้หูข้างที่จะหยอดยาอยู่ด้านบน', 'matched_sentence': 'ถัดมา', 'similarity_score': tensor(0.3110), 'topic': 24, 'score': 1.0}, {'checklist_item': 'ให้ดึงใบหูข้างที่จะหยอดยาไปด้านหลังและดึงขึ้นด้านบน', 'matched_sentence': 'ถัดมา', 'similarity_score': tensor(0.3524), 'topic': 25, 'score': 0.5}, {'checklist_item': 'หยอดยาเข้าไปในหูตามที่แพทย์สั่ง', 'matched_sentence': 'ถัดมา', 'similarity_score': tensor(0.2015), 'topic': 26, 'score': 0.5}, {'checklist_item': 'ระวังอย่าเอาหลอดหยดสอดเข้าไปในรูหู', 'matched_sentence': 'ถัดมา', 'similarity_score': tensor(0.2636), 'topic': 27, 'score': 1.0}, {'checklist_item': 'เอียงตะแคงอยู่ท่าเดิมประมาณ3ถึง5นาที', 'matched_sentence': 'ถัดมา', 'similarity_score': tensor(0.3104), 'topic': 28, 'score': 0.5}, {'checklist_item': 'อาจเอาสำลีใส่ในรูหูไว้อีกระยะหนึ่งเพื่อไม่ให้ยาไหลออกมา', 'matched_sentence': 'ถัดมา', 'similarity_score': tensor(0.2864), 'topic': 29, 'score': 0.5}, {'checklist_item': 'ให้เขย่าขวดก่อนใช้ทุกครั้ง', 'matched_sentence': 'ถัดมา', 'similarity_score': tensor(0.4294), 'topic': 30, 'score': 0.5}, {'checklist_item': 'ใช้ไม้พันสำลีเช็ดหนองในใบหูหรือรูหูให้สะอาดก่อนและหลังหยอดยา', 'matched_sentence': 'ถัดมา', 'similarity_score': tensor(0.1471), 'topic': 31, 'score': 0.5}, {'checklist_item': 'ยาหยอดหูหากเก็บไว้ในตู้เย็นก่อนใช้ยาให้กำหลอดยาไว้ในอุ้งมือสักครู่', 'matched_sentence': 'ถัดมา', 'similarity_score': tensor(0.3042), 'topic': 32, 'score': 0.5}, {'checklist_item': 'เพื่อปรับอุณหภูมิให้ใกล้เคียงกับร่างกายก่อนหยอด', 'matched_sentence': 'ถัดมา', 'similarity_score': tensor(0.2815), 'topic': 33, 'score': 0.5}, {'checklist_item': 'ผมเป็นเภสัชกร', 'matched_sentence': 'ให้ดึงใบหูข้างที่จะหยอดยาไปด้านหลังและดึงขึ้นด้านบน', 'similarity_score': tensor(0.3733), 'topic': 0, 'score': 1.0}, {'checklist_item': 'ผู้ป่วยชื่ออะไร', 'matched_sentence': 'ให้ดึงใบหูข้างที่จะหยอดยาไปด้านหลังและดึงขึ้นด้านบน', 'similarity_score': tensor(0.1982), 'topic': 1, 'score': 1.0}, {'checklist_item': 'ผู้ป่วยชื่อชาตินามสกุลอะไร', 'matched_sentence': 'ให้ดึงใบหูข้างที่จะหยอดยาไปด้านหลังและดึงขึ้นด้านบน', 'similarity_score': tensor(0.1796), 'topic': 1, 'score': 0.5}, {'checklist_item': 'ผู้ป่วยชื่อชาติตระการตาใช่ไหม', 'matched_sentence': 'ให้ดึงใบหูข้างที่จะหยอดยาไปด้านหลังและดึงขึ้นด้านบน', 'similarity_score': tensor(0.3743), 'topic': 1, 'score': 0.25}, {'checklist_item': 'ผู้ป่วยชื่อนามสกุลอะไร', 'matched_sentence': 'ให้ดึงใบหูข้างที่จะหยอดยาไปด้านหลังและดึงขึ้นด้านบน', 'similarity_score': tensor(0.1696), 'topic': 1, 'score': 1.0}, {'checklist_item': 'ไอบูโปรเพน', 'matched_sentence': 'ให้ดึงใบหูข้างที่จะหยอดยาไปด้านหลังและดึงขึ้นด้านบน', 'similarity_score': tensor(0.3124), 'topic': 2, 'score': 0.0}, {'checklist_item': 'ความแรง400มิลลิกรัม', 'matched_sentence': 'ให้ดึงใบหูข้างที่จะหยอดยาไปด้านหลังและดึงขึ้นด้านบน', 'similarity_score': tensor(0.0886), 'topic': 3, 'score': 0.0}, {'checklist_item': 'จำนวน10เม็ด', 'matched_sentence': 'ให้ดึงใบหูข้างที่จะหยอดยาไปด้านหลังและดึงขึ้นด้านบน', 'similarity_score': tensor(0.2401), 'topic': 4, 'score': 0.0}, {'checklist_item': 'ใช้เพื่อบรรเทาอาการปวด', 'matched_sentence': 'ให้ดึงใบหูข้างที่จะหยอดยาไปด้านหลังและดึงขึ้นด้านบน', 'similarity_score': tensor(0.3809), 'topic': 5, 'score': 0.0}, {'checklist_item': 'รับประทานครั้งละ1เม็ด', 'matched_sentence': 'ให้ดึงใบหูข้างที่จะหยอดยาไปด้านหลังและดึงขึ้นด้านบน', 'similarity_score': tensor(0.1603), 'topic': 6, 'score': 0.0}, {'checklist_item': 'วันละ3ครั้ง', 'matched_sentence': 'ให้ดึงใบหูข้างที่จะหยอดยาไปด้านหลังและดึงขึ้นด้านบน', 'similarity_score': tensor(0.2428), 'topic': 7, 'score': 0.0}, {'checklist_item': 'หลังอาหารเช้ากลางวันเย็น', 'matched_sentence': 'ให้ดึงใบหูข้างที่จะหยอดยาไปด้านหลังและดึงขึ้นด้านบน', 'similarity_score': tensor(0.1691), 'topic': 8, 'score': 0.0}, {'checklist_item': 'ควรรับประทานหลังอาหารทันที', 'matched_sentence': 'ให้ดึงใบหูข้างที่จะหยอดยาไปด้านหลังและดึงขึ้นด้านบน', 'similarity_score': tensor(0.1465), 'topic': 9, 'score': 0.0}, {'checklist_item': 'อะมอกซีซิลิน', 'matched_sentence': 'ให้ดึงใบหูข้างที่จะหยอดยาไปด้านหลังและดึงขึ้นด้านบน', 'similarity_score': tensor(0.3675), 'topic': 10, 'score': 0.0}, {'checklist_item': 'ความแรง500มิลลิกรัม', 'matched_sentence': 'ให้ดึงใบหูข้างที่จะหยอดยาไปด้านหลังและดึงขึ้นด้านบน', 'similarity_score': tensor(0.0991), 'topic': 11, 'score': 0.0}, {'checklist_item': 'จำนวน30เม็ด', 'matched_sentence': 'ให้ดึงใบหูข้างที่จะหยอดยาไปด้านหลังและดึงขึ้นด้านบน', 'similarity_score': tensor(0.2344), 'topic': 12, 'score': 0.0}, {'checklist_item': 'ใช้รักษาอาการติดเชื้อที่หู', 'matched_sentence': 'ให้ดึงใบหูข้างที่จะหยอดยาไปด้านหลังและดึงขึ้นด้านบน', 'similarity_score': tensor(0.6897), 'topic': 13, 'score': 0.0}, {'checklist_item': 'รับประทานครั้งละ1เม็ด', 'matched_sentence': 'ให้ดึงใบหูข้างที่จะหยอดยาไปด้านหลังและดึงขึ้นด้านบน', 'similarity_score': tensor(0.1603), 'topic': 14, 'score': 0.0}, {'checklist_item': 'วันละ3ครั้ง', 'matched_sentence': 'ให้ดึงใบหูข้างที่จะหยอดยาไปด้านหลังและดึงขึ้นด้านบน', 'similarity_score': tensor(0.2428), 'topic': 15, 'score': 0.0}, {'checklist_item': 'หลังอาหารเช้ากลางวันเย็น', 'matched_sentence': 'ให้ดึงใบหูข้างที่จะหยอดยาไปด้านหลังและดึงขึ้นด้านบน', 'similarity_score': tensor(0.1691), 'topic': 16, 'score': 0.0}, {'checklist_item': 'ควรรับประทานติดต่อกันทุกวันจนหมด', 'matched_sentence': 'ให้ดึงใบหูข้างที่จะหยอดยาไปด้านหลังและดึงขึ้นด้านบน', 'similarity_score': tensor(0.0779), 'topic': 17, 'score': 0.0}, {'checklist_item': 'เด็กซ์ออฟ', 'matched_sentence': 'ให้ดึงใบหูข้างที่จะหยอดยาไปด้านหลังและดึงขึ้นด้านบน', 'similarity_score': tensor(0.4263), 'topic': 18, 'score': 0.0}, {'checklist_item': 'ใช้รักษาหูชั้นกลางอักเสบ', 'matched_sentence': 'ให้ดึงใบหูข้างที่จะหยอดยาไปด้านหลังและดึงขึ้นด้านบน', 'similarity_score': tensor(0.6463), 'topic': 19, 'score': 0.25}, {'checklist_item': 'หยอดหูซ้าย3หยด', 'matched_sentence': 'ให้ดึงใบหูข้างที่จะหยอดยาไปด้านหลังและดึงขึ้นด้านบน', 'similarity_score': tensor(0.7540), 'topic': 20, 'score': 0.25}, {'checklist_item': 'วันละ3ครั้ง', 'matched_sentence': 'ให้ดึงใบหูข้างที่จะหยอดยาไปด้านหลังและดึงขึ้นด้านบน', 'similarity_score': tensor(0.2428), 'topic': 21, 'score': 0.25}, {'checklist_item': 'หลังอาหารเช้ากลางวันเย็น', 'matched_sentence': 'ให้ดึงใบหูข้างที่จะหยอดยาไปด้านหลังและดึงขึ้นด้านบน', 'similarity_score': tensor(0.1691), 'topic': 22, 'score': 0.25}, {'checklist_item': 'ล้างมือให้สะอาด', 'matched_sentence': 'ให้ดึงใบหูข้างที่จะหยอดยาไปด้านหลังและดึงขึ้นด้านบน', 'similarity_score': tensor(0.3041), 'topic': 23, 'score': 1.0}, {'checklist_item': 'นอนตะแคงหรือนั่งเอียงศีรษะให้หูข้างที่จะหยอดยาอยู่ด้านบน', 'matched_sentence': 'ให้ดึงใบหูข้างที่จะหยอดยาไปด้านหลังและดึงขึ้นด้านบน', 'similarity_score': tensor(0.7722), 'topic': 24, 'score': 1.0}, {'checklist_item': 'ให้ดึงใบหูข้างที่จะหยอดยาไปด้านหลังและดึงขึ้นด้านบน', 'matched_sentence': 'ให้ดึงใบหูข้างที่จะหยอดยาไปด้านหลังและดึงขึ้นด้านบน', 'similarity_score': tensor(1.), 'topic': 25, 'score': 0.5}, {'checklist_item': 'หยอดยาเข้าไปในหูตามที่แพทย์สั่ง', 'matched_sentence': 'ให้ดึงใบหูข้างที่จะหยอดยาไปด้านหลังและดึงขึ้นด้านบน', 'similarity_score': tensor(0.8051), 'topic': 26, 'score': 0.5}, {'checklist_item': 'ระวังอย่าเอาหลอดหยดสอดเข้าไปในรูหู', 'matched_sentence': 'ให้ดึงใบหูข้างที่จะหยอดยาไปด้านหลังและดึงขึ้นด้านบน', 'similarity_score': tensor(0.6546), 'topic': 27, 'score': 1.0}, {'checklist_item': 'เอียงตะแคงอยู่ท่าเดิมประมาณ3ถึง5นาที', 'matched_sentence': 'ให้ดึงใบหูข้างที่จะหยอดยาไปด้านหลังและดึงขึ้นด้านบน', 'similarity_score': tensor(0.2511), 'topic': 28, 'score': 0.5}, {'checklist_item': 'อาจเอาสำลีใส่ในรูหูไว้อีกระยะหนึ่งเพื่อไม่ให้ยาไหลออกมา', 'matched_sentence': 'ให้ดึงใบหูข้างที่จะหยอดยาไปด้านหลังและดึงขึ้นด้านบน', 'similarity_score': tensor(0.7516), 'topic': 29, 'score': 0.5}, {'checklist_item': 'ให้เขย่าขวดก่อนใช้ทุกครั้ง', 'matched_sentence': 'ให้ดึงใบหูข้างที่จะหยอดยาไปด้านหลังและดึงขึ้นด้านบน', 'similarity_score': tensor(0.5235), 'topic': 30, 'score': 0.5}, {'checklist_item': 'ใช้ไม้พันสำลีเช็ดหนองในใบหูหรือรูหูให้สะอาดก่อนและหลังหยอดยา', 'matched_sentence': 'ให้ดึงใบหูข้างที่จะหยอดยาไปด้านหลังและดึงขึ้นด้านบน', 'similarity_score': tensor(0.6969), 'topic': 31, 'score': 0.5}, {'checklist_item': 'ยาหยอดหูหากเก็บไว้ในตู้เย็นก่อนใช้ยาให้กำหลอดยาไว้ในอุ้งมือสักครู่', 'matched_sentence': 'ให้ดึงใบหูข้างที่จะหยอดยาไปด้านหลังและดึงขึ้นด้านบน', 'similarity_score': tensor(0.5491), 'topic': 32, 'score': 0.5}, {'checklist_item': 'เพื่อปรับอุณหภูมิให้ใกล้เคียงกับร่างกายก่อนหยอด', 'matched_sentence': 'ให้ดึงใบหูข้างที่จะหยอดยาไปด้านหลังและดึงขึ้นด้านบน', 'similarity_score': tensor(0.2856), 'topic': 33, 'score': 0.5}, {'checklist_item': 'ผมเป็นเภสัชกร', 'matched_sentence': 'โดย', 'similarity_score': tensor(0.3143), 'topic': 0, 'score': 1.0}, {'checklist_item': 'ผู้ป่วยชื่ออะไร', 'matched_sentence': 'โดย', 'similarity_score': tensor(0.2134), 'topic': 1, 'score': 1.0}, {'checklist_item': 'ผู้ป่วยชื่อชาตินามสกุลอะไร', 'matched_sentence': 'โดย', 'similarity_score': tensor(0.2513), 'topic': 1, 'score': 0.5}, {'checklist_item': 'ผู้ป่วยชื่อชาติตระการตาใช่ไหม', 'matched_sentence': 'โดย', 'similarity_score': tensor(0.4220), 'topic': 1, 'score': 0.25}, {'checklist_item': 'ผู้ป่วยชื่อนามสกุลอะไร', 'matched_sentence': 'โดย', 'similarity_score': tensor(0.2133), 'topic': 1, 'score': 1.0}, {'checklist_item': 'ไอบูโปรเพน', 'matched_sentence': 'โดย', 'similarity_score': tensor(0.5365), 'topic': 2, 'score': 0.0}, {'checklist_item': 'ความแรง400มิลลิกรัม', 'matched_sentence': 'โดย', 'similarity_score': tensor(0.1629), 'topic': 3, 'score': 0.0}, {'checklist_item': 'จำนวน10เม็ด', 'matched_sentence': 'โดย', 'similarity_score': tensor(0.4758), 'topic': 4, 'score': 0.0}, {'checklist_item': 'ใช้เพื่อบรรเทาอาการปวด', 'matched_sentence': 'โดย', 'similarity_score': tensor(0.3394), 'topic': 5, 'score': 0.0}, {'checklist_item': 'รับประทานครั้งละ1เม็ด', 'matched_sentence': 'โดย', 'similarity_score': tensor(0.2975), 'topic': 6, 'score': 0.0}, {'checklist_item': 'วันละ3ครั้ง', 'matched_sentence': 'โดย', 'similarity_score': tensor(0.3018), 'topic': 7, 'score': 0.0}, {'checklist_item': 'หลังอาหารเช้ากลางวันเย็น', 'matched_sentence': 'โดย', 'similarity_score': tensor(0.3026), 'topic': 8, 'score': 0.0}, {'checklist_item': 'ควรรับประทานหลังอาหารทันที', 'matched_sentence': 'โดย', 'similarity_score': tensor(0.2868), 'topic': 9, 'score': 0.0}, {'checklist_item': 'อะมอกซีซิลิน', 'matched_sentence': 'โดย', 'similarity_score': tensor(0.5298), 'topic': 10, 'score': 0.0}, {'checklist_item': 'ความแรง500มิลลิกรัม', 'matched_sentence': 'โดย', 'similarity_score': tensor(0.2057), 'topic': 11, 'score': 0.0}, {'checklist_item': 'จำนวน30เม็ด', 'matched_sentence': 'โดย', 'similarity_score': tensor(0.4148), 'topic': 12, 'score': 0.0}, {'checklist_item': 'ใช้รักษาอาการติดเชื้อที่หู', 'matched_sentence': 'โดย', 'similarity_score': tensor(0.2337), 'topic': 13, 'score': 0.0}, {'checklist_item': 'รับประทานครั้งละ1เม็ด', 'matched_sentence': 'โดย', 'similarity_score': tensor(0.2975), 'topic': 14, 'score': 0.0}, {'checklist_item': 'วันละ3ครั้ง', 'matched_sentence': 'โดย', 'similarity_score': tensor(0.3018), 'topic': 15, 'score': 0.0}, {'checklist_item': 'หลังอาหารเช้ากลางวันเย็น', 'matched_sentence': 'โดย', 'similarity_score': tensor(0.3026), 'topic': 16, 'score': 0.0}, {'checklist_item': 'ควรรับประทานติดต่อกันทุกวันจนหมด', 'matched_sentence': 'โดย', 'similarity_score': tensor(0.1583), 'topic': 17, 'score': 0.0}, {'checklist_item': 'เด็กซ์ออฟ', 'matched_sentence': 'โดย', 'similarity_score': tensor(0.8710), 'topic': 18, 'score': 0.0}, {'checklist_item': 'ใช้รักษาหูชั้นกลางอักเสบ', 'matched_sentence': 'โดย', 'similarity_score': tensor(0.1940), 'topic': 19, 'score': 0.25}, {'checklist_item': 'หยอดหูซ้าย3หยด', 'matched_sentence': 'โดย', 'similarity_score': tensor(0.3986), 'topic': 20, 'score': 0.25}, {'checklist_item': 'วันละ3ครั้ง', 'matched_sentence': 'โดย', 'similarity_score': tensor(0.3018), 'topic': 21, 'score': 0.25}, {'checklist_item': 'หลังอาหารเช้ากลางวันเย็น', 'matched_sentence': 'โดย', 'similarity_score': tensor(0.3026), 'topic': 22, 'score': 0.25}, {'checklist_item': 'ล้างมือให้สะอาด', 'matched_sentence': 'โดย', 'similarity_score': tensor(0.3429), 'topic': 23, 'score': 1.0}, {'checklist_item': 'นอนตะแคงหรือนั่งเอียงศีรษะให้หูข้างที่จะหยอดยาอยู่ด้านบน', 'matched_sentence': 'โดย', 'similarity_score': tensor(0.3676), 'topic': 24, 'score': 1.0}, {'checklist_item': 'ให้ดึงใบหูข้างที่จะหยอดยาไปด้านหลังและดึงขึ้นด้านบน', 'matched_sentence': 'โดย', 'similarity_score': tensor(0.3602), 'topic': 25, 'score': 0.5}, {'checklist_item': 'หยอดยาเข้าไปในหูตามที่แพทย์สั่ง', 'matched_sentence': 'โดย', 'similarity_score': tensor(0.2563), 'topic': 26, 'score': 0.5}, {'checklist_item': 'ระวังอย่าเอาหลอดหยดสอดเข้าไปในรูหู', 'matched_sentence': 'โดย', 'similarity_score': tensor(0.3125), 'topic': 27, 'score': 1.0}, {'checklist_item': 'เอียงตะแคงอยู่ท่าเดิมประมาณ3ถึง5นาที', 'matched_sentence': 'โดย', 'similarity_score': tensor(0.2400), 'topic': 28, 'score': 0.5}, {'checklist_item': 'อาจเอาสำลีใส่ในรูหูไว้อีกระยะหนึ่งเพื่อไม่ให้ยาไหลออกมา', 'matched_sentence': 'โดย', 'similarity_score': tensor(0.2028), 'topic': 29, 'score': 0.5}, {'checklist_item': 'ให้เขย่าขวดก่อนใช้ทุกครั้ง', 'matched_sentence': 'โดย', 'similarity_score': tensor(0.4126), 'topic': 30, 'score': 0.5}, {'checklist_item': 'ใช้ไม้พันสำลีเช็ดหนองในใบหูหรือรูหูให้สะอาดก่อนและหลังหยอดยา', 'matched_sentence': 'โดย', 'similarity_score': tensor(0.1642), 'topic': 31, 'score': 0.5}, {'checklist_item': 'ยาหยอดหูหากเก็บไว้ในตู้เย็นก่อนใช้ยาให้กำหลอดยาไว้ในอุ้งมือสักครู่', 'matched_sentence': 'โดย', 'similarity_score': tensor(0.3072), 'topic': 32, 'score': 0.5}, {'checklist_item': 'เพื่อปรับอุณหภูมิให้ใกล้เคียงกับร่างกายก่อนหยอด', 'matched_sentence': 'โดย', 'similarity_score': tensor(0.2693), 'topic': 33, 'score': 0.5}, {'checklist_item': 'ผมเป็นเภสัชกร', 'matched_sentence': 'หยอดยาเข้าไปในหูตามที่แพทย์สั่ง', 'similarity_score': tensor(0.5541), 'topic': 0, 'score': 1.0}, {'checklist_item': 'ผู้ป่วยชื่ออะไร', 'matched_sentence': 'หยอดยาเข้าไปในหูตามที่แพทย์สั่ง', 'similarity_score': tensor(0.4135), 'topic': 1, 'score': 1.0}, {'checklist_item': 'ผู้ป่วยชื่อชาตินามสกุลอะไร', 'matched_sentence': 'หยอดยาเข้าไปในหูตามที่แพทย์สั่ง', 'similarity_score': tensor(0.4010), 'topic': 1, 'score': 0.5}, {'checklist_item': 'ผู้ป่วยชื่อชาติตระการตาใช่ไหม', 'matched_sentence': 'หยอดยาเข้าไปในหูตามที่แพทย์สั่ง', 'similarity_score': tensor(0.4964), 'topic': 1, 'score': 0.25}, {'checklist_item': 'ผู้ป่วยชื่อนามสกุลอะไร', 'matched_sentence': 'หยอดยาเข้าไปในหูตามที่แพทย์สั่ง', 'similarity_score': tensor(0.3895), 'topic': 1, 'score': 1.0}, {'checklist_item': 'ไอบูโปรเพน', 'matched_sentence': 'หยอดยาเข้าไปในหูตามที่แพทย์สั่ง', 'similarity_score': tensor(0.2775), 'topic': 2, 'score': 0.0}, {'checklist_item': 'ความแรง400มิลลิกรัม', 'matched_sentence': 'หยอดยาเข้าไปในหูตามที่แพทย์สั่ง', 'similarity_score': tensor(-0.0198), 'topic': 3, 'score': 0.0}, {'checklist_item': 'จำนวน10เม็ด', 'matched_sentence': 'หยอดยาเข้าไปในหูตามที่แพทย์สั่ง', 'similarity_score': tensor(0.1768), 'topic': 4, 'score': 0.0}, {'checklist_item': 'ใช้เพื่อบรรเทาอาการปวด', 'matched_sentence': 'หยอดยาเข้าไปในหูตามที่แพทย์สั่ง', 'similarity_score': tensor(0.4251), 'topic': 5, 'score': 0.0}, {'checklist_item': 'รับประทานครั้งละ1เม็ด', 'matched_sentence': 'หยอดยาเข้าไปในหูตามที่แพทย์สั่ง', 'similarity_score': tensor(0.1409), 'topic': 6, 'score': 0.0}, {'checklist_item': 'วันละ3ครั้ง', 'matched_sentence': 'หยอดยาเข้าไปในหูตามที่แพทย์สั่ง', 'similarity_score': tensor(0.2178), 'topic': 7, 'score': 0.0}, {'checklist_item': 'หลังอาหารเช้ากลางวันเย็น', 'matched_sentence': 'หยอดยาเข้าไปในหูตามที่แพทย์สั่ง', 'similarity_score': tensor(0.1193), 'topic': 8, 'score': 0.0}, {'checklist_item': 'ควรรับประทานหลังอาหารทันที', 'matched_sentence': 'หยอดยาเข้าไปในหูตามที่แพทย์สั่ง', 'similarity_score': tensor(0.0920), 'topic': 9, 'score': 0.0}, {'checklist_item': 'อะมอกซีซิลิน', 'matched_sentence': 'หยอดยาเข้าไปในหูตามที่แพทย์สั่ง', 'similarity_score': tensor(0.3887), 'topic': 10, 'score': 0.0}, {'checklist_item': 'ความแรง500มิลลิกรัม', 'matched_sentence': 'หยอดยาเข้าไปในหูตามที่แพทย์สั่ง', 'similarity_score': tensor(0.0013), 'topic': 11, 'score': 0.0}, {'checklist_item': 'จำนวน30เม็ด', 'matched_sentence': 'หยอดยาเข้าไปในหูตามที่แพทย์สั่ง', 'similarity_score': tensor(0.2244), 'topic': 12, 'score': 0.0}, {'checklist_item': 'ใช้รักษาอาการติดเชื้อที่หู', 'matched_sentence': 'หยอดยาเข้าไปในหูตามที่แพทย์สั่ง', 'similarity_score': tensor(0.8319), 'topic': 13, 'score': 0.0}, {'checklist_item': 'รับประทานครั้งละ1เม็ด', 'matched_sentence': 'หยอดยาเข้าไปในหูตามที่แพทย์สั่ง', 'similarity_score': tensor(0.1409), 'topic': 14, 'score': 0.0}, {'checklist_item': 'วันละ3ครั้ง', 'matched_sentence': 'หยอดยาเข้าไปในหูตามที่แพทย์สั่ง', 'similarity_score': tensor(0.2178), 'topic': 15, 'score': 0.0}, {'checklist_item': 'หลังอาหารเช้ากลางวันเย็น', 'matched_sentence': 'หยอดยาเข้าไปในหูตามที่แพทย์สั่ง', 'similarity_score': tensor(0.1193), 'topic': 16, 'score': 0.0}, {'checklist_item': 'ควรรับประทานติดต่อกันทุกวันจนหมด', 'matched_sentence': 'หยอดยาเข้าไปในหูตามที่แพทย์สั่ง', 'similarity_score': tensor(0.0403), 'topic': 17, 'score': 0.0}, {'checklist_item': 'เด็กซ์ออฟ', 'matched_sentence': 'หยอดยาเข้าไปในหูตามที่แพทย์สั่ง', 'similarity_score': tensor(0.2662), 'topic': 18, 'score': 0.0}, {'checklist_item': 'ใช้รักษาหูชั้นกลางอักเสบ', 'matched_sentence': 'หยอดยาเข้าไปในหูตามที่แพทย์สั่ง', 'similarity_score': tensor(0.7891), 'topic': 19, 'score': 0.25}, {'checklist_item': 'หยอดหูซ้าย3หยด', 'matched_sentence': 'หยอดยาเข้าไปในหูตามที่แพทย์สั่ง', 'similarity_score': tensor(0.6697), 'topic': 20, 'score': 0.25}, {'checklist_item': 'วันละ3ครั้ง', 'matched_sentence': 'หยอดยาเข้าไปในหูตามที่แพทย์สั่ง', 'similarity_score': tensor(0.2178), 'topic': 21, 'score': 0.25}, {'checklist_item': 'หลังอาหารเช้ากลางวันเย็น', 'matched_sentence': 'หยอดยาเข้าไปในหูตามที่แพทย์สั่ง', 'similarity_score': tensor(0.1193), 'topic': 22, 'score': 0.25}, {'checklist_item': 'ล้างมือให้สะอาด', 'matched_sentence': 'หยอดยาเข้าไปในหูตามที่แพทย์สั่ง', 'similarity_score': tensor(0.2416), 'topic': 23, 'score': 1.0}, {'checklist_item': 'นอนตะแคงหรือนั่งเอียงศีรษะให้หูข้างที่จะหยอดยาอยู่ด้านบน', 'matched_sentence': 'หยอดยาเข้าไปในหูตามที่แพทย์สั่ง', 'similarity_score': tensor(0.7045), 'topic': 24, 'score': 1.0}, {'checklist_item': 'ให้ดึงใบหูข้างที่จะหยอดยาไปด้านหลังและดึงขึ้นด้านบน', 'matched_sentence': 'หยอดยาเข้าไปในหูตามที่แพทย์สั่ง', 'similarity_score': tensor(0.8051), 'topic': 25, 'score': 0.5}, {'checklist_item': 'หยอดยาเข้าไปในหูตามที่แพทย์สั่ง', 'matched_sentence': 'หยอดยาเข้าไปในหูตามที่แพทย์สั่ง', 'similarity_score': tensor(1.0000), 'topic': 26, 'score': 0.5}, {'checklist_item': 'ระวังอย่าเอาหลอดหยดสอดเข้าไปในรูหู', 'matched_sentence': 'หยอดยาเข้าไปในหูตามที่แพทย์สั่ง', 'similarity_score': tensor(0.5971), 'topic': 27, 'score': 1.0}, {'checklist_item': 'เอียงตะแคงอยู่ท่าเดิมประมาณ3ถึง5นาที', 'matched_sentence': 'หยอดยาเข้าไปในหูตามที่แพทย์สั่ง', 'similarity_score': tensor(0.1898), 'topic': 28, 'score': 0.5}, {'checklist_item': 'อาจเอาสำลีใส่ในรูหูไว้อีกระยะหนึ่งเพื่อไม่ให้ยาไหลออกมา', 'matched_sentence': 'หยอดยาเข้าไปในหูตามที่แพทย์สั่ง', 'similarity_score': tensor(0.7441), 'topic': 29, 'score': 0.5}, {'checklist_item': 'ให้เขย่าขวดก่อนใช้ทุกครั้ง', 'matched_sentence': 'หยอดยาเข้าไปในหูตามที่แพทย์สั่ง', 'similarity_score': tensor(0.4089), 'topic': 30, 'score': 0.5}, {'checklist_item': 'ใช้ไม้พันสำลีเช็ดหนองในใบหูหรือรูหูให้สะอาดก่อนและหลังหยอดยา', 'matched_sentence': 'หยอดยาเข้าไปในหูตามที่แพทย์สั่ง', 'similarity_score': tensor(0.7726), 'topic': 31, 'score': 0.5}, {'checklist_item': 'ยาหยอดหูหากเก็บไว้ในตู้เย็นก่อนใช้ยาให้กำหลอดยาไว้ในอุ้งมือสักครู่', 'matched_sentence': 'หยอดยาเข้าไปในหูตามที่แพทย์สั่ง', 'similarity_score': tensor(0.5626), 'topic': 32, 'score': 0.5}, {'checklist_item': 'เพื่อปรับอุณหภูมิให้ใกล้เคียงกับร่างกายก่อนหยอด', 'matched_sentence': 'หยอดยาเข้าไปในหูตามที่แพทย์สั่ง', 'similarity_score': tensor(0.1460), 'topic': 33, 'score': 0.5}, {'checklist_item': 'ผมเป็นเภสัชกร', 'matched_sentence': 'ระวังอย่าเอาหลอดหยดสอดเข้าไปในรูหู', 'similarity_score': tensor(0.2893), 'topic': 0, 'score': 1.0}, {'checklist_item': 'ผู้ป่วยชื่ออะไร', 'matched_sentence': 'ระวังอย่าเอาหลอดหยดสอดเข้าไปในรูหู', 'similarity_score': tensor(0.1254), 'topic': 1, 'score': 1.0}, {'checklist_item': 'ผู้ป่วยชื่อชาตินามสกุลอะไร', 'matched_sentence': 'ระวังอย่าเอาหลอดหยดสอดเข้าไปในรูหู', 'similarity_score': tensor(0.1152), 'topic': 1, 'score': 0.5}, {'checklist_item': 'ผู้ป่วยชื่อชาติตระการตาใช่ไหม', 'matched_sentence': 'ระวังอย่าเอาหลอดหยดสอดเข้าไปในรูหู', 'similarity_score': tensor(0.2743), 'topic': 1, 'score': 0.25}, {'checklist_item': 'ผู้ป่วยชื่อนามสกุลอะไร', 'matched_sentence': 'ระวังอย่าเอาหลอดหยดสอดเข้าไปในรูหู', 'similarity_score': tensor(0.1013), 'topic': 1, 'score': 1.0}, {'checklist_item': 'ไอบูโปรเพน', 'matched_sentence': 'ระวังอย่าเอาหลอดหยดสอดเข้าไปในรูหู', 'similarity_score': tensor(0.2341), 'topic': 2, 'score': 0.0}, {'checklist_item': 'ความแรง400มิลลิกรัม', 'matched_sentence': 'ระวังอย่าเอาหลอดหยดสอดเข้าไปในรูหู', 'similarity_score': tensor(0.0431), 'topic': 3, 'score': 0.0}, {'checklist_item': 'จำนวน10เม็ด', 'matched_sentence': 'ระวังอย่าเอาหลอดหยดสอดเข้าไปในรูหู', 'similarity_score': tensor(0.1941), 'topic': 4, 'score': 0.0}, {'checklist_item': 'ใช้เพื่อบรรเทาอาการปวด', 'matched_sentence': 'ระวังอย่าเอาหลอดหยดสอดเข้าไปในรูหู', 'similarity_score': tensor(0.3773), 'topic': 5, 'score': 0.0}, {'checklist_item': 'รับประทานครั้งละ1เม็ด', 'matched_sentence': 'ระวังอย่าเอาหลอดหยดสอดเข้าไปในรูหู', 'similarity_score': tensor(0.1651), 'topic': 6, 'score': 0.0}, {'checklist_item': 'วันละ3ครั้ง', 'matched_sentence': 'ระวังอย่าเอาหลอดหยดสอดเข้าไปในรูหู', 'similarity_score': tensor(0.2037), 'topic': 7, 'score': 0.0}, {'checklist_item': 'หลังอาหารเช้ากลางวันเย็น', 'matched_sentence': 'ระวังอย่าเอาหลอดหยดสอดเข้าไปในรูหู', 'similarity_score': tensor(0.0794), 'topic': 8, 'score': 0.0}, {'checklist_item': 'ควรรับประทานหลังอาหารทันที', 'matched_sentence': 'ระวังอย่าเอาหลอดหยดสอดเข้าไปในรูหู', 'similarity_score': tensor(0.1771), 'topic': 9, 'score': 0.0}, {'checklist_item': 'อะมอกซีซิลิน', 'matched_sentence': 'ระวังอย่าเอาหลอดหยดสอดเข้าไปในรูหู', 'similarity_score': tensor(0.2503), 'topic': 10, 'score': 0.0}, {'checklist_item': 'ความแรง500มิลลิกรัม', 'matched_sentence': 'ระวังอย่าเอาหลอดหยดสอดเข้าไปในรูหู', 'similarity_score': tensor(0.0771), 'topic': 11, 'score': 0.0}, {'checklist_item': 'จำนวน30เม็ด', 'matched_sentence': 'ระวังอย่าเอาหลอดหยดสอดเข้าไปในรูหู', 'similarity_score': tensor(0.1909), 'topic': 12, 'score': 0.0}, {'checklist_item': 'ใช้รักษาอาการติดเชื้อที่หู', 'matched_sentence': 'ระวังอย่าเอาหลอดหยดสอดเข้าไปในรูหู', 'similarity_score': tensor(0.5577), 'topic': 13, 'score': 0.0}, {'checklist_item': 'รับประทานครั้งละ1เม็ด', 'matched_sentence': 'ระวังอย่าเอาหลอดหยดสอดเข้าไปในรูหู', 'similarity_score': tensor(0.1651), 'topic': 14, 'score': 0.0}, {'checklist_item': 'วันละ3ครั้ง', 'matched_sentence': 'ระวังอย่าเอาหลอดหยดสอดเข้าไปในรูหู', 'similarity_score': tensor(0.2037), 'topic': 15, 'score': 0.0}, {'checklist_item': 'หลังอาหารเช้ากลางวันเย็น', 'matched_sentence': 'ระวังอย่าเอาหลอดหยดสอดเข้าไปในรูหู', 'similarity_score': tensor(0.0794), 'topic': 16, 'score': 0.0}, {'checklist_item': 'ควรรับประทานติดต่อกันทุกวันจนหมด', 'matched_sentence': 'ระวังอย่าเอาหลอดหยดสอดเข้าไปในรูหู', 'similarity_score': tensor(0.0993), 'topic': 17, 'score': 0.0}, {'checklist_item': 'เด็กซ์ออฟ', 'matched_sentence': 'ระวังอย่าเอาหลอดหยดสอดเข้าไปในรูหู', 'similarity_score': tensor(0.3717), 'topic': 18, 'score': 0.0}, {'checklist_item': 'ใช้รักษาหูชั้นกลางอักเสบ', 'matched_sentence': 'ระวังอย่าเอาหลอดหยดสอดเข้าไปในรูหู', 'similarity_score': tensor(0.5075), 'topic': 19, 'score': 0.25}, {'checklist_item': 'หยอดหูซ้าย3หยด', 'matched_sentence': 'ระวังอย่าเอาหลอดหยดสอดเข้าไปในรูหู', 'similarity_score': tensor(0.6094), 'topic': 20, 'score': 0.25}, {'checklist_item': 'วันละ3ครั้ง', 'matched_sentence': 'ระวังอย่าเอาหลอดหยดสอดเข้าไปในรูหู', 'similarity_score': tensor(0.2037), 'topic': 21, 'score': 0.25}, {'checklist_item': 'หลังอาหารเช้ากลางวันเย็น', 'matched_sentence': 'ระวังอย่าเอาหลอดหยดสอดเข้าไปในรูหู', 'similarity_score': tensor(0.0794), 'topic': 22, 'score': 0.25}, {'checklist_item': 'ล้างมือให้สะอาด', 'matched_sentence': 'ระวังอย่าเอาหลอดหยดสอดเข้าไปในรูหู', 'similarity_score': tensor(0.3924), 'topic': 23, 'score': 1.0}, {'checklist_item': 'นอนตะแคงหรือนั่งเอียงศีรษะให้หูข้างที่จะหยอดยาอยู่ด้านบน', 'matched_sentence': 'ระวังอย่าเอาหลอดหยดสอดเข้าไปในรูหู', 'similarity_score': tensor(0.5687), 'topic': 24, 'score': 1.0}, {'checklist_item': 'ให้ดึงใบหูข้างที่จะหยอดยาไปด้านหลังและดึงขึ้นด้านบน', 'matched_sentence': 'ระวังอย่าเอาหลอดหยดสอดเข้าไปในรูหู', 'similarity_score': tensor(0.6546), 'topic': 25, 'score': 0.5}, {'checklist_item': 'หยอดยาเข้าไปในหูตามที่แพทย์สั่ง', 'matched_sentence': 'ระวังอย่าเอาหลอดหยดสอดเข้าไปในรูหู', 'similarity_score': tensor(0.5971), 'topic': 26, 'score': 0.5}, {'checklist_item': 'ระวังอย่าเอาหลอดหยดสอดเข้าไปในรูหู', 'matched_sentence': 'ระวังอย่าเอาหลอดหยดสอดเข้าไปในรูหู', 'similarity_score': tensor(1.), 'topic': 27, 'score': 1.0}, {'checklist_item': 'เอียงตะแคงอยู่ท่าเดิมประมาณ3ถึง5นาที', 'matched_sentence': 'ระวังอย่าเอาหลอดหยดสอดเข้าไปในรูหู', 'similarity_score': tensor(0.1669), 'topic': 28, 'score': 0.5}, {'checklist_item': 'อาจเอาสำลีใส่ในรูหูไว้อีกระยะหนึ่งเพื่อไม่ให้ยาไหลออกมา', 'matched_sentence': 'ระวังอย่าเอาหลอดหยดสอดเข้าไปในรูหู', 'similarity_score': tensor(0.7628), 'topic': 29, 'score': 0.5}, {'checklist_item': 'ให้เขย่าขวดก่อนใช้ทุกครั้ง', 'matched_sentence': 'ระวังอย่าเอาหลอดหยดสอดเข้าไปในรูหู', 'similarity_score': tensor(0.5970), 'topic': 30, 'score': 0.5}, {'checklist_item': 'ใช้ไม้พันสำลีเช็ดหนองในใบหูหรือรูหูให้สะอาดก่อนและหลังหยอดยา', 'matched_sentence': 'ระวังอย่าเอาหลอดหยดสอดเข้าไปในรูหู', 'similarity_score': tensor(0.6615), 'topic': 31, 'score': 0.5}, {'checklist_item': 'ยาหยอดหูหากเก็บไว้ในตู้เย็นก่อนใช้ยาให้กำหลอดยาไว้ในอุ้งมือสักครู่', 'matched_sentence': 'ระวังอย่าเอาหลอดหยดสอดเข้าไปในรูหู', 'similarity_score': tensor(0.5415), 'topic': 32, 'score': 0.5}, {'checklist_item': 'เพื่อปรับอุณหภูมิให้ใกล้เคียงกับร่างกายก่อนหยอด', 'matched_sentence': 'ระวังอย่าเอาหลอดหยดสอดเข้าไปในรูหู', 'similarity_score': tensor(0.2695), 'topic': 33, 'score': 0.5}, {'checklist_item': 'ผมเป็นเภสัชกร', 'matched_sentence': 'ให้คนไข้', 'similarity_score': tensor(0.6267), 'topic': 0, 'score': 1.0}, {'checklist_item': 'ผู้ป่วยชื่ออะไร', 'matched_sentence': 'ให้คนไข้', 'similarity_score': tensor(0.7705), 'topic': 1, 'score': 1.0}, {'checklist_item': 'ผู้ป่วยชื่อชาตินามสกุลอะไร', 'matched_sentence': 'ให้คนไข้', 'similarity_score': tensor(0.7339), 'topic': 1, 'score': 0.5}, {'checklist_item': 'ผู้ป่วยชื่อชาติตระการตาใช่ไหม', 'matched_sentence': 'ให้คนไข้', 'similarity_score': tensor(0.7034), 'topic': 1, 'score': 0.25}, {'checklist_item': 'ผู้ป่วยชื่อนามสกุลอะไร', 'matched_sentence': 'ให้คนไข้', 'similarity_score': tensor(0.7303), 'topic': 1, 'score': 1.0}, {'checklist_item': 'ไอบูโปรเพน', 'matched_sentence': 'ให้คนไข้', 'similarity_score': tensor(0.3659), 'topic': 2, 'score': 0.0}, {'checklist_item': 'ความแรง400มิลลิกรัม', 'matched_sentence': 'ให้คนไข้', 'similarity_score': tensor(0.0733), 'topic': 3, 'score': 0.0}, {'checklist_item': 'จำนวน10เม็ด', 'matched_sentence': 'ให้คนไข้', 'similarity_score': tensor(0.2892), 'topic': 4, 'score': 0.0}, {'checklist_item': 'ใช้เพื่อบรรเทาอาการปวด', 'matched_sentence': 'ให้คนไข้', 'similarity_score': tensor(0.5721), 'topic': 5, 'score': 0.0}, {'checklist_item': 'รับประทานครั้งละ1เม็ด', 'matched_sentence': 'ให้คนไข้', 'similarity_score': tensor(0.2946), 'topic': 6, 'score': 0.0}, {'checklist_item': 'วันละ3ครั้ง', 'matched_sentence': 'ให้คนไข้', 'similarity_score': tensor(0.2498), 'topic': 7, 'score': 0.0}, {'checklist_item': 'หลังอาหารเช้ากลางวันเย็น', 'matched_sentence': 'ให้คนไข้', 'similarity_score': tensor(0.2003), 'topic': 8, 'score': 0.0}, {'checklist_item': 'ควรรับประทานหลังอาหารทันที', 'matched_sentence': 'ให้คนไข้', 'similarity_score': tensor(0.1935), 'topic': 9, 'score': 0.0}, {'checklist_item': 'อะมอกซีซิลิน', 'matched_sentence': 'ให้คนไข้', 'similarity_score': tensor(0.5314), 'topic': 10, 'score': 0.0}, {'checklist_item': 'ความแรง500มิลลิกรัม', 'matched_sentence': 'ให้คนไข้', 'similarity_score': tensor(0.0820), 'topic': 11, 'score': 0.0}, {'checklist_item': 'จำนวน30เม็ด', 'matched_sentence': 'ให้คนไข้', 'similarity_score': tensor(0.2643), 'topic': 12, 'score': 0.0}, {'checklist_item': 'ใช้รักษาอาการติดเชื้อที่หู', 'matched_sentence': 'ให้คนไข้', 'similarity_score': tensor(0.4609), 'topic': 13, 'score': 0.0}, {'checklist_item': 'รับประทานครั้งละ1เม็ด', 'matched_sentence': 'ให้คนไข้', 'similarity_score': tensor(0.2946), 'topic': 14, 'score': 0.0}, {'checklist_item': 'วันละ3ครั้ง', 'matched_sentence': 'ให้คนไข้', 'similarity_score': tensor(0.2498), 'topic': 15, 'score': 0.0}, {'checklist_item': 'หลังอาหารเช้ากลางวันเย็น', 'matched_sentence': 'ให้คนไข้', 'similarity_score': tensor(0.2003), 'topic': 16, 'score': 0.0}, {'checklist_item': 'ควรรับประทานติดต่อกันทุกวันจนหมด', 'matched_sentence': 'ให้คนไข้', 'similarity_score': tensor(0.1172), 'topic': 17, 'score': 0.0}, {'checklist_item': 'เด็กซ์ออฟ', 'matched_sentence': 'ให้คนไข้', 'similarity_score': tensor(0.4858), 'topic': 18, 'score': 0.0}, {'checklist_item': 'ใช้รักษาหูชั้นกลางอักเสบ', 'matched_sentence': 'ให้คนไข้', 'similarity_score': tensor(0.4675), 'topic': 19, 'score': 0.25}, {'checklist_item': 'หยอดหูซ้าย3หยด', 'matched_sentence': 'ให้คนไข้', 'similarity_score': tensor(0.3530), 'topic': 20, 'score': 0.25}, {'checklist_item': 'วันละ3ครั้ง', 'matched_sentence': 'ให้คนไข้', 'similarity_score': tensor(0.2498), 'topic': 21, 'score': 0.25}, {'checklist_item': 'หลังอาหารเช้ากลางวันเย็น', 'matched_sentence': 'ให้คนไข้', 'similarity_score': tensor(0.2003), 'topic': 22, 'score': 0.25}, {'checklist_item': 'ล้างมือให้สะอาด', 'matched_sentence': 'ให้คนไข้', 'similarity_score': tensor(0.3593), 'topic': 23, 'score': 1.0}, {'checklist_item': 'นอนตะแคงหรือนั่งเอียงศีรษะให้หูข้างที่จะหยอดยาอยู่ด้านบน', 'matched_sentence': 'ให้คนไข้', 'similarity_score': tensor(0.4442), 'topic': 24, 'score': 1.0}, {'checklist_item': 'ให้ดึงใบหูข้างที่จะหยอดยาไปด้านหลังและดึงขึ้นด้านบน', 'matched_sentence': 'ให้คนไข้', 'similarity_score': tensor(0.4387), 'topic': 25, 'score': 0.5}, {'checklist_item': 'หยอดยาเข้าไปในหูตามที่แพทย์สั่ง', 'matched_sentence': 'ให้คนไข้', 'similarity_score': tensor(0.5887), 'topic': 26, 'score': 0.5}, {'checklist_item': 'ระวังอย่าเอาหลอดหยดสอดเข้าไปในรูหู', 'matched_sentence': 'ให้คนไข้', 'similarity_score': tensor(0.3468), 'topic': 27, 'score': 1.0}, {'checklist_item': 'เอียงตะแคงอยู่ท่าเดิมประมาณ3ถึง5นาที', 'matched_sentence': 'ให้คนไข้', 'similarity_score': tensor(0.1504), 'topic': 28, 'score': 0.5}, {'checklist_item': 'อาจเอาสำลีใส่ในรูหูไว้อีกระยะหนึ่งเพื่อไม่ให้ยาไหลออกมา', 'matched_sentence': 'ให้คนไข้', 'similarity_score': tensor(0.4370), 'topic': 29, 'score': 0.5}, {'checklist_item': 'ให้เขย่าขวดก่อนใช้ทุกครั้ง', 'matched_sentence': 'ให้คนไข้', 'similarity_score': tensor(0.3824), 'topic': 30, 'score': 0.5}, {'checklist_item': 'ใช้ไม้พันสำลีเช็ดหนองในใบหูหรือรูหูให้สะอาดก่อนและหลังหยอดยา', 'matched_sentence': 'ให้คนไข้', 'similarity_score': tensor(0.3919), 'topic': 31, 'score': 0.5}, {'checklist_item': 'ยาหยอดหูหากเก็บไว้ในตู้เย็นก่อนใช้ยาให้กำหลอดยาไว้ในอุ้งมือสักครู่', 'matched_sentence': 'ให้คนไข้', 'similarity_score': tensor(0.4771), 'topic': 32, 'score': 0.5}, {'checklist_item': 'เพื่อปรับอุณหภูมิให้ใกล้เคียงกับร่างกายก่อนหยอด', 'matched_sentence': 'ให้คนไข้', 'similarity_score': tensor(0.2529), 'topic': 33, 'score': 0.5}, {'checklist_item': 'ผมเป็นเภสัชกร', 'matched_sentence': 'เอียงตะแคงอยู่ท่าเดิมประมาณ3ถึง5นาที', 'similarity_score': tensor(0.0932), 'topic': 0, 'score': 1.0}, {'checklist_item': 'ผู้ป่วยชื่ออะไร', 'matched_sentence': 'เอียงตะแคงอยู่ท่าเดิมประมาณ3ถึง5นาที', 'similarity_score': tensor(0.0179), 'topic': 1, 'score': 1.0}, {'checklist_item': 'ผู้ป่วยชื่อชาตินามสกุลอะไร', 'matched_sentence': 'เอียงตะแคงอยู่ท่าเดิมประมาณ3ถึง5นาที', 'similarity_score': tensor(0.0089), 'topic': 1, 'score': 0.5}, {'checklist_item': 'ผู้ป่วยชื่อชาติตระการตาใช่ไหม', 'matched_sentence': 'เอียงตะแคงอยู่ท่าเดิมประมาณ3ถึง5นาที', 'similarity_score': tensor(0.1231), 'topic': 1, 'score': 0.25}, {'checklist_item': 'ผู้ป่วยชื่อนามสกุลอะไร', 'matched_sentence': 'เอียงตะแคงอยู่ท่าเดิมประมาณ3ถึง5นาที', 'similarity_score': tensor(0.0027), 'topic': 1, 'score': 1.0}, {'checklist_item': 'ไอบูโปรเพน', 'matched_sentence': 'เอียงตะแคงอยู่ท่าเดิมประมาณ3ถึง5นาที', 'similarity_score': tensor(0.2082), 'topic': 2, 'score': 0.0}, {'checklist_item': 'ความแรง400มิลลิกรัม', 'matched_sentence': 'เอียงตะแคงอยู่ท่าเดิมประมาณ3ถึง5นาที', 'similarity_score': tensor(0.1898), 'topic': 3, 'score': 0.0}, {'checklist_item': 'จำนวน10เม็ด', 'matched_sentence': 'เอียงตะแคงอยู่ท่าเดิมประมาณ3ถึง5นาที', 'similarity_score': tensor(0.1690), 'topic': 4, 'score': 0.0}, {'checklist_item': 'ใช้เพื่อบรรเทาอาการปวด', 'matched_sentence': 'เอียงตะแคงอยู่ท่าเดิมประมาณ3ถึง5นาที', 'similarity_score': tensor(0.1435), 'topic': 5, 'score': 0.0}, {'checklist_item': 'รับประทานครั้งละ1เม็ด', 'matched_sentence': 'เอียงตะแคงอยู่ท่าเดิมประมาณ3ถึง5นาที', 'similarity_score': tensor(0.2965), 'topic': 6, 'score': 0.0}, {'checklist_item': 'วันละ3ครั้ง', 'matched_sentence': 'เอียงตะแคงอยู่ท่าเดิมประมาณ3ถึง5นาที', 'similarity_score': tensor(0.5167), 'topic': 7, 'score': 0.0}, {'checklist_item': 'หลังอาหารเช้ากลางวันเย็น', 'matched_sentence': 'เอียงตะแคงอยู่ท่าเดิมประมาณ3ถึง5นาที', 'similarity_score': tensor(0.1963), 'topic': 8, 'score': 0.0}, {'checklist_item': 'ควรรับประทานหลังอาหารทันที', 'matched_sentence': 'เอียงตะแคงอยู่ท่าเดิมประมาณ3ถึง5นาที', 'similarity_score': tensor(0.2308), 'topic': 9, 'score': 0.0}, {'checklist_item': 'อะมอกซีซิลิน', 'matched_sentence': 'เอียงตะแคงอยู่ท่าเดิมประมาณ3ถึง5นาที', 'similarity_score': tensor(0.1283), 'topic': 10, 'score': 0.0}, {'checklist_item': 'ความแรง500มิลลิกรัม', 'matched_sentence': 'เอียงตะแคงอยู่ท่าเดิมประมาณ3ถึง5นาที', 'similarity_score': tensor(0.2309), 'topic': 11, 'score': 0.0}, {'checklist_item': 'จำนวน30เม็ด', 'matched_sentence': 'เอียงตะแคงอยู่ท่าเดิมประมาณ3ถึง5นาที', 'similarity_score': tensor(0.2254), 'topic': 12, 'score': 0.0}, {'checklist_item': 'ใช้รักษาอาการติดเชื้อที่หู', 'matched_sentence': 'เอียงตะแคงอยู่ท่าเดิมประมาณ3ถึง5นาที', 'similarity_score': tensor(0.1253), 'topic': 13, 'score': 0.0}, {'checklist_item': 'รับประทานครั้งละ1เม็ด', 'matched_sentence': 'เอียงตะแคงอยู่ท่าเดิมประมาณ3ถึง5นาที', 'similarity_score': tensor(0.2965), 'topic': 14, 'score': 0.0}, {'checklist_item': 'วันละ3ครั้ง', 'matched_sentence': 'เอียงตะแคงอยู่ท่าเดิมประมาณ3ถึง5นาที', 'similarity_score': tensor(0.5167), 'topic': 15, 'score': 0.0}, {'checklist_item': 'หลังอาหารเช้ากลางวันเย็น', 'matched_sentence': 'เอียงตะแคงอยู่ท่าเดิมประมาณ3ถึง5นาที', 'similarity_score': tensor(0.1963), 'topic': 16, 'score': 0.0}, {'checklist_item': 'ควรรับประทานติดต่อกันทุกวันจนหมด', 'matched_sentence': 'เอียงตะแคงอยู่ท่าเดิมประมาณ3ถึง5นาที', 'similarity_score': tensor(0.1780), 'topic': 17, 'score': 0.0}, {'checklist_item': 'เด็กซ์ออฟ', 'matched_sentence': 'เอียงตะแคงอยู่ท่าเดิมประมาณ3ถึง5นาที', 'similarity_score': tensor(0.2403), 'topic': 18, 'score': 0.0}, {'checklist_item': 'ใช้รักษาหูชั้นกลางอักเสบ', 'matched_sentence': 'เอียงตะแคงอยู่ท่าเดิมประมาณ3ถึง5นาที', 'similarity_score': tensor(0.1178), 'topic': 19, 'score': 0.25}, {'checklist_item': 'หยอดหูซ้าย3หยด', 'matched_sentence': 'เอียงตะแคงอยู่ท่าเดิมประมาณ3ถึง5นาที', 'similarity_score': tensor(0.3888), 'topic': 20, 'score': 0.25}, {'checklist_item': 'วันละ3ครั้ง', 'matched_sentence': 'เอียงตะแคงอยู่ท่าเดิมประมาณ3ถึง5นาที', 'similarity_score': tensor(0.5167), 'topic': 21, 'score': 0.25}, {'checklist_item': 'หลังอาหารเช้ากลางวันเย็น', 'matched_sentence': 'เอียงตะแคงอยู่ท่าเดิมประมาณ3ถึง5นาที', 'similarity_score': tensor(0.1963), 'topic': 22, 'score': 0.25}, {'checklist_item': 'ล้างมือให้สะอาด', 'matched_sentence': 'เอียงตะแคงอยู่ท่าเดิมประมาณ3ถึง5นาที', 'similarity_score': tensor(0.1418), 'topic': 23, 'score': 1.0}, {'checklist_item': 'นอนตะแคงหรือนั่งเอียงศีรษะให้หูข้างที่จะหยอดยาอยู่ด้านบน', 'matched_sentence': 'เอียงตะแคงอยู่ท่าเดิมประมาณ3ถึง5นาที', 'similarity_score': tensor(0.2529), 'topic': 24, 'score': 1.0}, {'checklist_item': 'ให้ดึงใบหูข้างที่จะหยอดยาไปด้านหลังและดึงขึ้นด้านบน', 'matched_sentence': 'เอียงตะแคงอยู่ท่าเดิมประมาณ3ถึง5นาที', 'similarity_score': tensor(0.2511), 'topic': 25, 'score': 0.5}, {'checklist_item': 'หยอดยาเข้าไปในหูตามที่แพทย์สั่ง', 'matched_sentence': 'เอียงตะแคงอยู่ท่าเดิมประมาณ3ถึง5นาที', 'similarity_score': tensor(0.1898), 'topic': 26, 'score': 0.5}, {'checklist_item': 'ระวังอย่าเอาหลอดหยดสอดเข้าไปในรูหู', 'matched_sentence': 'เอียงตะแคงอยู่ท่าเดิมประมาณ3ถึง5นาที', 'similarity_score': tensor(0.1669), 'topic': 27, 'score': 1.0}, {'checklist_item': 'เอียงตะแคงอยู่ท่าเดิมประมาณ3ถึง5นาที', 'matched_sentence': 'เอียงตะแคงอยู่ท่าเดิมประมาณ3ถึง5นาที', 'similarity_score': tensor(1.), 'topic': 28, 'score': 0.5}, {'checklist_item': 'อาจเอาสำลีใส่ในรูหูไว้อีกระยะหนึ่งเพื่อไม่ให้ยาไหลออกมา', 'matched_sentence': 'เอียงตะแคงอยู่ท่าเดิมประมาณ3ถึง5นาที', 'similarity_score': tensor(0.3197), 'topic': 29, 'score': 0.5}, {'checklist_item': 'ให้เขย่าขวดก่อนใช้ทุกครั้ง', 'matched_sentence': 'เอียงตะแคงอยู่ท่าเดิมประมาณ3ถึง5นาที', 'similarity_score': tensor(0.2510), 'topic': 30, 'score': 0.5}, {'checklist_item': 'ใช้ไม้พันสำลีเช็ดหนองในใบหูหรือรูหูให้สะอาดก่อนและหลังหยอดยา', 'matched_sentence': 'เอียงตะแคงอยู่ท่าเดิมประมาณ3ถึง5นาที', 'similarity_score': tensor(0.1605), 'topic': 31, 'score': 0.5}, {'checklist_item': 'ยาหยอดหูหากเก็บไว้ในตู้เย็นก่อนใช้ยาให้กำหลอดยาไว้ในอุ้งมือสักครู่', 'matched_sentence': 'เอียงตะแคงอยู่ท่าเดิมประมาณ3ถึง5นาที', 'similarity_score': tensor(0.3022), 'topic': 32, 'score': 0.5}, {'checklist_item': 'เพื่อปรับอุณหภูมิให้ใกล้เคียงกับร่างกายก่อนหยอด', 'matched_sentence': 'เอียงตะแคงอยู่ท่าเดิมประมาณ3ถึง5นาที', 'similarity_score': tensor(0.2228), 'topic': 33, 'score': 0.5}, {'checklist_item': 'ผมเป็นเภสัชกร', 'matched_sentence': 'ซึ่งอาจจะเอา', 'similarity_score': tensor(0.3140), 'topic': 0, 'score': 1.0}, {'checklist_item': 'ผู้ป่วยชื่ออะไร', 'matched_sentence': 'ซึ่งอาจจะเอา', 'similarity_score': tensor(0.1401), 'topic': 1, 'score': 1.0}, {'checklist_item': 'ผู้ป่วยชื่อชาตินามสกุลอะไร', 'matched_sentence': 'ซึ่งอาจจะเอา', 'similarity_score': tensor(0.1549), 'topic': 1, 'score': 0.5}, {'checklist_item': 'ผู้ป่วยชื่อชาติตระการตาใช่ไหม', 'matched_sentence': 'ซึ่งอาจจะเอา', 'similarity_score': tensor(0.3241), 'topic': 1, 'score': 0.25}, {'checklist_item': 'ผู้ป่วยชื่อนามสกุลอะไร', 'matched_sentence': 'ซึ่งอาจจะเอา', 'similarity_score': tensor(0.1342), 'topic': 1, 'score': 1.0}, {'checklist_item': 'ไอบูโปรเพน', 'matched_sentence': 'ซึ่งอาจจะเอา', 'similarity_score': tensor(0.3571), 'topic': 2, 'score': 0.0}, {'checklist_item': 'ความแรง400มิลลิกรัม', 'matched_sentence': 'ซึ่งอาจจะเอา', 'similarity_score': tensor(0.1182), 'topic': 3, 'score': 0.0}, {'checklist_item': 'จำนวน10เม็ด', 'matched_sentence': 'ซึ่งอาจจะเอา', 'similarity_score': tensor(0.2842), 'topic': 4, 'score': 0.0}, {'checklist_item': 'ใช้เพื่อบรรเทาอาการปวด', 'matched_sentence': 'ซึ่งอาจจะเอา', 'similarity_score': tensor(0.2562), 'topic': 5, 'score': 0.0}, {'checklist_item': 'รับประทานครั้งละ1เม็ด', 'matched_sentence': 'ซึ่งอาจจะเอา', 'similarity_score': tensor(0.3264), 'topic': 6, 'score': 0.0}, {'checklist_item': 'วันละ3ครั้ง', 'matched_sentence': 'ซึ่งอาจจะเอา', 'similarity_score': tensor(0.3886), 'topic': 7, 'score': 0.0}, {'checklist_item': 'หลังอาหารเช้ากลางวันเย็น', 'matched_sentence': 'ซึ่งอาจจะเอา', 'similarity_score': tensor(0.2933), 'topic': 8, 'score': 0.0}, {'checklist_item': 'ควรรับประทานหลังอาหารทันที', 'matched_sentence': 'ซึ่งอาจจะเอา', 'similarity_score': tensor(0.3378), 'topic': 9, 'score': 0.0}, {'checklist_item': 'อะมอกซีซิลิน', 'matched_sentence': 'ซึ่งอาจจะเอา', 'similarity_score': tensor(0.2972), 'topic': 10, 'score': 0.0}, {'checklist_item': 'ความแรง500มิลลิกรัม', 'matched_sentence': 'ซึ่งอาจจะเอา', 'similarity_score': tensor(0.1653), 'topic': 11, 'score': 0.0}, {'checklist_item': 'จำนวน30เม็ด', 'matched_sentence': 'ซึ่งอาจจะเอา', 'similarity_score': tensor(0.3054), 'topic': 12, 'score': 0.0}, {'checklist_item': 'ใช้รักษาอาการติดเชื้อที่หู', 'matched_sentence': 'ซึ่งอาจจะเอา', 'similarity_score': tensor(0.1717), 'topic': 13, 'score': 0.0}, {'checklist_item': 'รับประทานครั้งละ1เม็ด', 'matched_sentence': 'ซึ่งอาจจะเอา', 'similarity_score': tensor(0.3264), 'topic': 14, 'score': 0.0}, {'checklist_item': 'วันละ3ครั้ง', 'matched_sentence': 'ซึ่งอาจจะเอา', 'similarity_score': tensor(0.3886), 'topic': 15, 'score': 0.0}, {'checklist_item': 'หลังอาหารเช้ากลางวันเย็น', 'matched_sentence': 'ซึ่งอาจจะเอา', 'similarity_score': tensor(0.2933), 'topic': 16, 'score': 0.0}, {'checklist_item': 'ควรรับประทานติดต่อกันทุกวันจนหมด', 'matched_sentence': 'ซึ่งอาจจะเอา', 'similarity_score': tensor(0.2331), 'topic': 17, 'score': 0.0}, {'checklist_item': 'เด็กซ์ออฟ', 'matched_sentence': 'ซึ่งอาจจะเอา', 'similarity_score': tensor(0.6322), 'topic': 18, 'score': 0.0}, {'checklist_item': 'ใช้รักษาหูชั้นกลางอักเสบ', 'matched_sentence': 'ซึ่งอาจจะเอา', 'similarity_score': tensor(0.1277), 'topic': 19, 'score': 0.25}, {'checklist_item': 'หยอดหูซ้าย3หยด', 'matched_sentence': 'ซึ่งอาจจะเอา', 'similarity_score': tensor(0.3378), 'topic': 20, 'score': 0.25}, {'checklist_item': 'วันละ3ครั้ง', 'matched_sentence': 'ซึ่งอาจจะเอา', 'similarity_score': tensor(0.3886), 'topic': 21, 'score': 0.25}, {'checklist_item': 'หลังอาหารเช้ากลางวันเย็น', 'matched_sentence': 'ซึ่งอาจจะเอา', 'similarity_score': tensor(0.2933), 'topic': 22, 'score': 0.25}, {'checklist_item': 'ล้างมือให้สะอาด', 'matched_sentence': 'ซึ่งอาจจะเอา', 'similarity_score': tensor(0.3310), 'topic': 23, 'score': 1.0}, {'checklist_item': 'นอนตะแคงหรือนั่งเอียงศีรษะให้หูข้างที่จะหยอดยาอยู่ด้านบน', 'matched_sentence': 'ซึ่งอาจจะเอา', 'similarity_score': tensor(0.3867), 'topic': 24, 'score': 1.0}, {'checklist_item': 'ให้ดึงใบหูข้างที่จะหยอดยาไปด้านหลังและดึงขึ้นด้านบน', 'matched_sentence': 'ซึ่งอาจจะเอา', 'similarity_score': tensor(0.4046), 'topic': 25, 'score': 0.5}, {'checklist_item': 'หยอดยาเข้าไปในหูตามที่แพทย์สั่ง', 'matched_sentence': 'ซึ่งอาจจะเอา', 'similarity_score': tensor(0.2449), 'topic': 26, 'score': 0.5}, {'checklist_item': 'ระวังอย่าเอาหลอดหยดสอดเข้าไปในรูหู', 'matched_sentence': 'ซึ่งอาจจะเอา', 'similarity_score': tensor(0.3014), 'topic': 27, 'score': 1.0}, {'checklist_item': 'เอียงตะแคงอยู่ท่าเดิมประมาณ3ถึง5นาที', 'matched_sentence': 'ซึ่งอาจจะเอา', 'similarity_score': tensor(0.3037), 'topic': 28, 'score': 0.5}, {'checklist_item': 'อาจเอาสำลีใส่ในรูหูไว้อีกระยะหนึ่งเพื่อไม่ให้ยาไหลออกมา', 'matched_sentence': 'ซึ่งอาจจะเอา', 'similarity_score': tensor(0.3814), 'topic': 29, 'score': 0.5}, {'checklist_item': 'ให้เขย่าขวดก่อนใช้ทุกครั้ง', 'matched_sentence': 'ซึ่งอาจจะเอา', 'similarity_score': tensor(0.4491), 'topic': 30, 'score': 0.5}, {'checklist_item': 'ใช้ไม้พันสำลีเช็ดหนองในใบหูหรือรูหูให้สะอาดก่อนและหลังหยอดยา', 'matched_sentence': 'ซึ่งอาจจะเอา', 'similarity_score': tensor(0.1708), 'topic': 31, 'score': 0.5}, {'checklist_item': 'ยาหยอดหูหากเก็บไว้ในตู้เย็นก่อนใช้ยาให้กำหลอดยาไว้ในอุ้งมือสักครู่', 'matched_sentence': 'ซึ่งอาจจะเอา', 'similarity_score': tensor(0.4046), 'topic': 32, 'score': 0.5}, {'checklist_item': 'เพื่อปรับอุณหภูมิให้ใกล้เคียงกับร่างกายก่อนหยอด', 'matched_sentence': 'ซึ่งอาจจะเอา', 'similarity_score': tensor(0.2590), 'topic': 33, 'score': 0.5}, {'checklist_item': 'ผมเป็นเภสัชกร', 'matched_sentence': 'สำลีใส่ในรูหูไว้อีกระยะหนึ่งเพื่อไม่ให้ยาไหลออกมา', 'similarity_score': tensor(0.4403), 'topic': 0, 'score': 1.0}, {'checklist_item': 'ผู้ป่วยชื่ออะไร', 'matched_sentence': 'สำลีใส่ในรูหูไว้อีกระยะหนึ่งเพื่อไม่ให้ยาไหลออกมา', 'similarity_score': tensor(0.2058), 'topic': 1, 'score': 1.0}, {'checklist_item': 'ผู้ป่วยชื่อชาตินามสกุลอะไร', 'matched_sentence': 'สำลีใส่ในรูหูไว้อีกระยะหนึ่งเพื่อไม่ให้ยาไหลออกมา', 'similarity_score': tensor(0.1731), 'topic': 1, 'score': 0.5}, {'checklist_item': 'ผู้ป่วยชื่อชาติตระการตาใช่ไหม', 'matched_sentence': 'สำลีใส่ในรูหูไว้อีกระยะหนึ่งเพื่อไม่ให้ยาไหลออกมา', 'similarity_score': tensor(0.2850), 'topic': 1, 'score': 0.25}, {'checklist_item': 'ผู้ป่วยชื่อนามสกุลอะไร', 'matched_sentence': 'สำลีใส่ในรูหูไว้อีกระยะหนึ่งเพื่อไม่ให้ยาไหลออกมา', 'similarity_score': tensor(0.1687), 'topic': 1, 'score': 1.0}, {'checklist_item': 'ไอบูโปรเพน', 'matched_sentence': 'สำลีใส่ในรูหูไว้อีกระยะหนึ่งเพื่อไม่ให้ยาไหลออกมา', 'similarity_score': tensor(0.2876), 'topic': 2, 'score': 0.0}, {'checklist_item': 'ความแรง400มิลลิกรัม', 'matched_sentence': 'สำลีใส่ในรูหูไว้อีกระยะหนึ่งเพื่อไม่ให้ยาไหลออกมา', 'similarity_score': tensor(0.0433), 'topic': 3, 'score': 0.0}, {'checklist_item': 'จำนวน10เม็ด', 'matched_sentence': 'สำลีใส่ในรูหูไว้อีกระยะหนึ่งเพื่อไม่ให้ยาไหลออกมา', 'similarity_score': tensor(0.2568), 'topic': 4, 'score': 0.0}, {'checklist_item': 'ใช้เพื่อบรรเทาอาการปวด', 'matched_sentence': 'สำลีใส่ในรูหูไว้อีกระยะหนึ่งเพื่อไม่ให้ยาไหลออกมา', 'similarity_score': tensor(0.5351), 'topic': 5, 'score': 0.0}, {'checklist_item': 'รับประทานครั้งละ1เม็ด', 'matched_sentence': 'สำลีใส่ในรูหูไว้อีกระยะหนึ่งเพื่อไม่ให้ยาไหลออกมา', 'similarity_score': tensor(0.2826), 'topic': 6, 'score': 0.0}, {'checklist_item': 'วันละ3ครั้ง', 'matched_sentence': 'สำลีใส่ในรูหูไว้อีกระยะหนึ่งเพื่อไม่ให้ยาไหลออกมา', 'similarity_score': tensor(0.2736), 'topic': 7, 'score': 0.0}, {'checklist_item': 'หลังอาหารเช้ากลางวันเย็น', 'matched_sentence': 'สำลีใส่ในรูหูไว้อีกระยะหนึ่งเพื่อไม่ให้ยาไหลออกมา', 'similarity_score': tensor(0.1055), 'topic': 8, 'score': 0.0}, {'checklist_item': 'ควรรับประทานหลังอาหารทันที', 'matched_sentence': 'สำลีใส่ในรูหูไว้อีกระยะหนึ่งเพื่อไม่ให้ยาไหลออกมา', 'similarity_score': tensor(0.2017), 'topic': 9, 'score': 0.0}, {'checklist_item': 'อะมอกซีซิลิน', 'matched_sentence': 'สำลีใส่ในรูหูไว้อีกระยะหนึ่งเพื่อไม่ให้ยาไหลออกมา', 'similarity_score': tensor(0.3614), 'topic': 10, 'score': 0.0}, {'checklist_item': 'ความแรง500มิลลิกรัม', 'matched_sentence': 'สำลีใส่ในรูหูไว้อีกระยะหนึ่งเพื่อไม่ให้ยาไหลออกมา', 'similarity_score': tensor(0.0737), 'topic': 11, 'score': 0.0}, {'checklist_item': 'จำนวน30เม็ด', 'matched_sentence': 'สำลีใส่ในรูหูไว้อีกระยะหนึ่งเพื่อไม่ให้ยาไหลออกมา', 'similarity_score': tensor(0.2732), 'topic': 12, 'score': 0.0}, {'checklist_item': 'ใช้รักษาอาการติดเชื้อที่หู', 'matched_sentence': 'สำลีใส่ในรูหูไว้อีกระยะหนึ่งเพื่อไม่ให้ยาไหลออกมา', 'similarity_score': tensor(0.6740), 'topic': 13, 'score': 0.0}, {'checklist_item': 'รับประทานครั้งละ1เม็ด', 'matched_sentence': 'สำลีใส่ในรูหูไว้อีกระยะหนึ่งเพื่อไม่ให้ยาไหลออกมา', 'similarity_score': tensor(0.2826), 'topic': 14, 'score': 0.0}, {'checklist_item': 'วันละ3ครั้ง', 'matched_sentence': 'สำลีใส่ในรูหูไว้อีกระยะหนึ่งเพื่อไม่ให้ยาไหลออกมา', 'similarity_score': tensor(0.2736), 'topic': 15, 'score': 0.0}, {'checklist_item': 'หลังอาหารเช้ากลางวันเย็น', 'matched_sentence': 'สำลีใส่ในรูหูไว้อีกระยะหนึ่งเพื่อไม่ให้ยาไหลออกมา', 'similarity_score': tensor(0.1055), 'topic': 16, 'score': 0.0}, {'checklist_item': 'ควรรับประทานติดต่อกันทุกวันจนหมด', 'matched_sentence': 'สำลีใส่ในรูหูไว้อีกระยะหนึ่งเพื่อไม่ให้ยาไหลออกมา', 'similarity_score': tensor(0.1537), 'topic': 17, 'score': 0.0}, {'checklist_item': 'เด็กซ์ออฟ', 'matched_sentence': 'สำลีใส่ในรูหูไว้อีกระยะหนึ่งเพื่อไม่ให้ยาไหลออกมา', 'similarity_score': tensor(0.2882), 'topic': 18, 'score': 0.0}, {'checklist_item': 'ใช้รักษาหูชั้นกลางอักเสบ', 'matched_sentence': 'สำลีใส่ในรูหูไว้อีกระยะหนึ่งเพื่อไม่ให้ยาไหลออกมา', 'similarity_score': tensor(0.6483), 'topic': 19, 'score': 0.25}, {'checklist_item': 'หยอดหูซ้าย3หยด', 'matched_sentence': 'สำลีใส่ในรูหูไว้อีกระยะหนึ่งเพื่อไม่ให้ยาไหลออกมา', 'similarity_score': tensor(0.6363), 'topic': 20, 'score': 0.25}, {'checklist_item': 'วันละ3ครั้ง', 'matched_sentence': 'สำลีใส่ในรูหูไว้อีกระยะหนึ่งเพื่อไม่ให้ยาไหลออกมา', 'similarity_score': tensor(0.2736), 'topic': 21, 'score': 0.25}, {'checklist_item': 'หลังอาหารเช้ากลางวันเย็น', 'matched_sentence': 'สำลีใส่ในรูหูไว้อีกระยะหนึ่งเพื่อไม่ให้ยาไหลออกมา', 'similarity_score': tensor(0.1055), 'topic': 22, 'score': 0.25}, {'checklist_item': 'ล้างมือให้สะอาด', 'matched_sentence': 'สำลีใส่ในรูหูไว้อีกระยะหนึ่งเพื่อไม่ให้ยาไหลออกมา', 'similarity_score': tensor(0.3776), 'topic': 23, 'score': 1.0}, {'checklist_item': 'นอนตะแคงหรือนั่งเอียงศีรษะให้หูข้างที่จะหยอดยาอยู่ด้านบน', 'matched_sentence': 'สำลีใส่ในรูหูไว้อีกระยะหนึ่งเพื่อไม่ให้ยาไหลออกมา', 'similarity_score': tensor(0.6472), 'topic': 24, 'score': 1.0}, {'checklist_item': 'ให้ดึงใบหูข้างที่จะหยอดยาไปด้านหลังและดึงขึ้นด้านบน', 'matched_sentence': 'สำลีใส่ในรูหูไว้อีกระยะหนึ่งเพื่อไม่ให้ยาไหลออกมา', 'similarity_score': tensor(0.7533), 'topic': 25, 'score': 0.5}, {'checklist_item': 'หยอดยาเข้าไปในหูตามที่แพทย์สั่ง', 'matched_sentence': 'สำลีใส่ในรูหูไว้อีกระยะหนึ่งเพื่อไม่ให้ยาไหลออกมา', 'similarity_score': tensor(0.7492), 'topic': 26, 'score': 0.5}, {'checklist_item': 'ระวังอย่าเอาหลอดหยดสอดเข้าไปในรูหู', 'matched_sentence': 'สำลีใส่ในรูหูไว้อีกระยะหนึ่งเพื่อไม่ให้ยาไหลออกมา', 'similarity_score': tensor(0.7930), 'topic': 27, 'score': 1.0}, {'checklist_item': 'เอียงตะแคงอยู่ท่าเดิมประมาณ3ถึง5นาที', 'matched_sentence': 'สำลีใส่ในรูหูไว้อีกระยะหนึ่งเพื่อไม่ให้ยาไหลออกมา', 'similarity_score': tensor(0.3180), 'topic': 28, 'score': 0.5}, {'checklist_item': 'อาจเอาสำลีใส่ในรูหูไว้อีกระยะหนึ่งเพื่อไม่ให้ยาไหลออกมา', 'matched_sentence': 'สำลีใส่ในรูหูไว้อีกระยะหนึ่งเพื่อไม่ให้ยาไหลออกมา', 'similarity_score': tensor(0.9707), 'topic': 29, 'score': 0.5}, {'checklist_item': 'ให้เขย่าขวดก่อนใช้ทุกครั้ง', 'matched_sentence': 'สำลีใส่ในรูหูไว้อีกระยะหนึ่งเพื่อไม่ให้ยาไหลออกมา', 'similarity_score': tensor(0.5989), 'topic': 30, 'score': 0.5}, {'checklist_item': 'ใช้ไม้พันสำลีเช็ดหนองในใบหูหรือรูหูให้สะอาดก่อนและหลังหยอดยา', 'matched_sentence': 'สำลีใส่ในรูหูไว้อีกระยะหนึ่งเพื่อไม่ให้ยาไหลออกมา', 'similarity_score': tensor(0.8214), 'topic': 31, 'score': 0.5}, {'checklist_item': 'ยาหยอดหูหากเก็บไว้ในตู้เย็นก่อนใช้ยาให้กำหลอดยาไว้ในอุ้งมือสักครู่', 'matched_sentence': 'สำลีใส่ในรูหูไว้อีกระยะหนึ่งเพื่อไม่ให้ยาไหลออกมา', 'similarity_score': tensor(0.7029), 'topic': 32, 'score': 0.5}, {'checklist_item': 'เพื่อปรับอุณหภูมิให้ใกล้เคียงกับร่างกายก่อนหยอด', 'matched_sentence': 'สำลีใส่ในรูหูไว้อีกระยะหนึ่งเพื่อไม่ให้ยาไหลออกมา', 'similarity_score': tensor(0.3125), 'topic': 33, 'score': 0.5}, {'checklist_item': 'ผมเป็นเภสัชกร', 'matched_sentence': 'หากเก็บยาหยอดหูไว้ในตู้เย็นก่อนใช้ยาให้กำหยอดยาไว้ในอุ้งมือสักครู่', 'similarity_score': tensor(0.4530), 'topic': 0, 'score': 1.0}, {'checklist_item': 'ผู้ป่วยชื่ออะไร', 'matched_sentence': 'หากเก็บยาหยอดหูไว้ในตู้เย็นก่อนใช้ยาให้กำหยอดยาไว้ในอุ้งมือสักครู่', 'similarity_score': tensor(0.1801), 'topic': 1, 'score': 1.0}, {'checklist_item': 'ผู้ป่วยชื่อชาตินามสกุลอะไร', 'matched_sentence': 'หากเก็บยาหยอดหูไว้ในตู้เย็นก่อนใช้ยาให้กำหยอดยาไว้ในอุ้งมือสักครู่', 'similarity_score': tensor(0.1585), 'topic': 1, 'score': 0.5}, {'checklist_item': 'ผู้ป่วยชื่อชาติตระการตาใช่ไหม', 'matched_sentence': 'หากเก็บยาหยอดหูไว้ในตู้เย็นก่อนใช้ยาให้กำหยอดยาไว้ในอุ้งมือสักครู่', 'similarity_score': tensor(0.3118), 'topic': 1, 'score': 0.25}, {'checklist_item': 'ผู้ป่วยชื่อนามสกุลอะไร', 'matched_sentence': 'หากเก็บยาหยอดหูไว้ในตู้เย็นก่อนใช้ยาให้กำหยอดยาไว้ในอุ้งมือสักครู่', 'similarity_score': tensor(0.1515), 'topic': 1, 'score': 1.0}, {'checklist_item': 'ไอบูโปรเพน', 'matched_sentence': 'หากเก็บยาหยอดหูไว้ในตู้เย็นก่อนใช้ยาให้กำหยอดยาไว้ในอุ้งมือสักครู่', 'similarity_score': tensor(0.2811), 'topic': 2, 'score': 0.0}, {'checklist_item': 'ความแรง400มิลลิกรัม', 'matched_sentence': 'หากเก็บยาหยอดหูไว้ในตู้เย็นก่อนใช้ยาให้กำหยอดยาไว้ในอุ้งมือสักครู่', 'similarity_score': tensor(0.0247), 'topic': 3, 'score': 0.0}, {'checklist_item': 'จำนวน10เม็ด', 'matched_sentence': 'หากเก็บยาหยอดหูไว้ในตู้เย็นก่อนใช้ยาให้กำหยอดยาไว้ในอุ้งมือสักครู่', 'similarity_score': tensor(0.2164), 'topic': 4, 'score': 0.0}, {'checklist_item': 'ใช้เพื่อบรรเทาอาการปวด', 'matched_sentence': 'หากเก็บยาหยอดหูไว้ในตู้เย็นก่อนใช้ยาให้กำหยอดยาไว้ในอุ้งมือสักครู่', 'similarity_score': tensor(0.3783), 'topic': 5, 'score': 0.0}, {'checklist_item': 'รับประทานครั้งละ1เม็ด', 'matched_sentence': 'หากเก็บยาหยอดหูไว้ในตู้เย็นก่อนใช้ยาให้กำหยอดยาไว้ในอุ้งมือสักครู่', 'similarity_score': tensor(0.3388), 'topic': 6, 'score': 0.0}, {'checklist_item': 'วันละ3ครั้ง', 'matched_sentence': 'หากเก็บยาหยอดหูไว้ในตู้เย็นก่อนใช้ยาให้กำหยอดยาไว้ในอุ้งมือสักครู่', 'similarity_score': tensor(0.3347), 'topic': 7, 'score': 0.0}, {'checklist_item': 'หลังอาหารเช้ากลางวันเย็น', 'matched_sentence': 'หากเก็บยาหยอดหูไว้ในตู้เย็นก่อนใช้ยาให้กำหยอดยาไว้ในอุ้งมือสักครู่', 'similarity_score': tensor(0.1835), 'topic': 8, 'score': 0.0}, {'checklist_item': 'ควรรับประทานหลังอาหารทันที', 'matched_sentence': 'หากเก็บยาหยอดหูไว้ในตู้เย็นก่อนใช้ยาให้กำหยอดยาไว้ในอุ้งมือสักครู่', 'similarity_score': tensor(0.2804), 'topic': 9, 'score': 0.0}, {'checklist_item': 'อะมอกซีซิลิน', 'matched_sentence': 'หากเก็บยาหยอดหูไว้ในตู้เย็นก่อนใช้ยาให้กำหยอดยาไว้ในอุ้งมือสักครู่', 'similarity_score': tensor(0.3497), 'topic': 10, 'score': 0.0}, {'checklist_item': 'ความแรง500มิลลิกรัม', 'matched_sentence': 'หากเก็บยาหยอดหูไว้ในตู้เย็นก่อนใช้ยาให้กำหยอดยาไว้ในอุ้งมือสักครู่', 'similarity_score': tensor(0.0705), 'topic': 11, 'score': 0.0}, {'checklist_item': 'จำนวน30เม็ด', 'matched_sentence': 'หากเก็บยาหยอดหูไว้ในตู้เย็นก่อนใช้ยาให้กำหยอดยาไว้ในอุ้งมือสักครู่', 'similarity_score': tensor(0.2199), 'topic': 12, 'score': 0.0}, {'checklist_item': 'ใช้รักษาอาการติดเชื้อที่หู', 'matched_sentence': 'หากเก็บยาหยอดหูไว้ในตู้เย็นก่อนใช้ยาให้กำหยอดยาไว้ในอุ้งมือสักครู่', 'similarity_score': tensor(0.5265), 'topic': 13, 'score': 0.0}, {'checklist_item': 'รับประทานครั้งละ1เม็ด', 'matched_sentence': 'หากเก็บยาหยอดหูไว้ในตู้เย็นก่อนใช้ยาให้กำหยอดยาไว้ในอุ้งมือสักครู่', 'similarity_score': tensor(0.3388), 'topic': 14, 'score': 0.0}, {'checklist_item': 'วันละ3ครั้ง', 'matched_sentence': 'หากเก็บยาหยอดหูไว้ในตู้เย็นก่อนใช้ยาให้กำหยอดยาไว้ในอุ้งมือสักครู่', 'similarity_score': tensor(0.3347), 'topic': 15, 'score': 0.0}, {'checklist_item': 'หลังอาหารเช้ากลางวันเย็น', 'matched_sentence': 'หากเก็บยาหยอดหูไว้ในตู้เย็นก่อนใช้ยาให้กำหยอดยาไว้ในอุ้งมือสักครู่', 'similarity_score': tensor(0.1835), 'topic': 16, 'score': 0.0}, {'checklist_item': 'ควรรับประทานติดต่อกันทุกวันจนหมด', 'matched_sentence': 'หากเก็บยาหยอดหูไว้ในตู้เย็นก่อนใช้ยาให้กำหยอดยาไว้ในอุ้งมือสักครู่', 'similarity_score': tensor(0.2362), 'topic': 17, 'score': 0.0}, {'checklist_item': 'เด็กซ์ออฟ', 'matched_sentence': 'หากเก็บยาหยอดหูไว้ในตู้เย็นก่อนใช้ยาให้กำหยอดยาไว้ในอุ้งมือสักครู่', 'similarity_score': tensor(0.2784), 'topic': 18, 'score': 0.0}, {'checklist_item': 'ใช้รักษาหูชั้นกลางอักเสบ', 'matched_sentence': 'หากเก็บยาหยอดหูไว้ในตู้เย็นก่อนใช้ยาให้กำหยอดยาไว้ในอุ้งมือสักครู่', 'similarity_score': tensor(0.4793), 'topic': 19, 'score': 0.25}, {'checklist_item': 'หยอดหูซ้าย3หยด', 'matched_sentence': 'หากเก็บยาหยอดหูไว้ในตู้เย็นก่อนใช้ยาให้กำหยอดยาไว้ในอุ้งมือสักครู่', 'similarity_score': tensor(0.5437), 'topic': 20, 'score': 0.25}, {'checklist_item': 'วันละ3ครั้ง', 'matched_sentence': 'หากเก็บยาหยอดหูไว้ในตู้เย็นก่อนใช้ยาให้กำหยอดยาไว้ในอุ้งมือสักครู่', 'similarity_score': tensor(0.3347), 'topic': 21, 'score': 0.25}, {'checklist_item': 'หลังอาหารเช้ากลางวันเย็น', 'matched_sentence': 'หากเก็บยาหยอดหูไว้ในตู้เย็นก่อนใช้ยาให้กำหยอดยาไว้ในอุ้งมือสักครู่', 'similarity_score': tensor(0.1835), 'topic': 22, 'score': 0.25}, {'checklist_item': 'ล้างมือให้สะอาด', 'matched_sentence': 'หากเก็บยาหยอดหูไว้ในตู้เย็นก่อนใช้ยาให้กำหยอดยาไว้ในอุ้งมือสักครู่', 'similarity_score': tensor(0.4106), 'topic': 23, 'score': 1.0}, {'checklist_item': 'นอนตะแคงหรือนั่งเอียงศีรษะให้หูข้างที่จะหยอดยาอยู่ด้านบน', 'matched_sentence': 'หากเก็บยาหยอดหูไว้ในตู้เย็นก่อนใช้ยาให้กำหยอดยาไว้ในอุ้งมือสักครู่', 'similarity_score': tensor(0.6006), 'topic': 24, 'score': 1.0}, {'checklist_item': 'ให้ดึงใบหูข้างที่จะหยอดยาไปด้านหลังและดึงขึ้นด้านบน', 'matched_sentence': 'หากเก็บยาหยอดหูไว้ในตู้เย็นก่อนใช้ยาให้กำหยอดยาไว้ในอุ้งมือสักครู่', 'similarity_score': tensor(0.6737), 'topic': 25, 'score': 0.5}, {'checklist_item': 'หยอดยาเข้าไปในหูตามที่แพทย์สั่ง', 'matched_sentence': 'หากเก็บยาหยอดหูไว้ในตู้เย็นก่อนใช้ยาให้กำหยอดยาไว้ในอุ้งมือสักครู่', 'similarity_score': tensor(0.6767), 'topic': 26, 'score': 0.5}, {'checklist_item': 'ระวังอย่าเอาหลอดหยดสอดเข้าไปในรูหู', 'matched_sentence': 'หากเก็บยาหยอดหูไว้ในตู้เย็นก่อนใช้ยาให้กำหยอดยาไว้ในอุ้งมือสักครู่', 'similarity_score': tensor(0.6469), 'topic': 27, 'score': 1.0}, {'checklist_item': 'เอียงตะแคงอยู่ท่าเดิมประมาณ3ถึง5นาที', 'matched_sentence': 'หากเก็บยาหยอดหูไว้ในตู้เย็นก่อนใช้ยาให้กำหยอดยาไว้ในอุ้งมือสักครู่', 'similarity_score': tensor(0.3505), 'topic': 28, 'score': 0.5}, {'checklist_item': 'อาจเอาสำลีใส่ในรูหูไว้อีกระยะหนึ่งเพื่อไม่ให้ยาไหลออกมา', 'matched_sentence': 'หากเก็บยาหยอดหูไว้ในตู้เย็นก่อนใช้ยาให้กำหยอดยาไว้ในอุ้งมือสักครู่', 'similarity_score': tensor(0.8182), 'topic': 29, 'score': 0.5}, {'checklist_item': 'ให้เขย่าขวดก่อนใช้ทุกครั้ง', 'matched_sentence': 'หากเก็บยาหยอดหูไว้ในตู้เย็นก่อนใช้ยาให้กำหยอดยาไว้ในอุ้งมือสักครู่', 'similarity_score': tensor(0.6437), 'topic': 30, 'score': 0.5}, {'checklist_item': 'ใช้ไม้พันสำลีเช็ดหนองในใบหูหรือรูหูให้สะอาดก่อนและหลังหยอดยา', 'matched_sentence': 'หากเก็บยาหยอดหูไว้ในตู้เย็นก่อนใช้ยาให้กำหยอดยาไว้ในอุ้งมือสักครู่', 'similarity_score': tensor(0.6323), 'topic': 31, 'score': 0.5}, {'checklist_item': 'ยาหยอดหูหากเก็บไว้ในตู้เย็นก่อนใช้ยาให้กำหลอดยาไว้ในอุ้งมือสักครู่', 'matched_sentence': 'หากเก็บยาหยอดหูไว้ในตู้เย็นก่อนใช้ยาให้กำหยอดยาไว้ในอุ้งมือสักครู่', 'similarity_score': tensor(0.9278), 'topic': 32, 'score': 0.5}, {'checklist_item': 'เพื่อปรับอุณหภูมิให้ใกล้เคียงกับร่างกายก่อนหยอด', 'matched_sentence': 'หากเก็บยาหยอดหูไว้ในตู้เย็นก่อนใช้ยาให้กำหยอดยาไว้ในอุ้งมือสักครู่', 'similarity_score': tensor(0.3129), 'topic': 33, 'score': 0.5}, {'checklist_item': 'ผมเป็นเภสัชกร', 'matched_sentence': 'เพื่อปรับอุณหภูมิให้ใกล้เคียงกับร่างกายก่อนหยอด', 'similarity_score': tensor(0.2050), 'topic': 0, 'score': 1.0}, {'checklist_item': 'ผู้ป่วยชื่ออะไร', 'matched_sentence': 'เพื่อปรับอุณหภูมิให้ใกล้เคียงกับร่างกายก่อนหยอด', 'similarity_score': tensor(0.0599), 'topic': 1, 'score': 1.0}, {'checklist_item': 'ผู้ป่วยชื่อชาตินามสกุลอะไร', 'matched_sentence': 'เพื่อปรับอุณหภูมิให้ใกล้เคียงกับร่างกายก่อนหยอด', 'similarity_score': tensor(0.0449), 'topic': 1, 'score': 0.5}, {'checklist_item': 'ผู้ป่วยชื่อชาติตระการตาใช่ไหม', 'matched_sentence': 'เพื่อปรับอุณหภูมิให้ใกล้เคียงกับร่างกายก่อนหยอด', 'similarity_score': tensor(0.0738), 'topic': 1, 'score': 0.25}, {'checklist_item': 'ผู้ป่วยชื่อนามสกุลอะไร', 'matched_sentence': 'เพื่อปรับอุณหภูมิให้ใกล้เคียงกับร่างกายก่อนหยอด', 'similarity_score': tensor(0.0387), 'topic': 1, 'score': 1.0}, {'checklist_item': 'ไอบูโปรเพน', 'matched_sentence': 'เพื่อปรับอุณหภูมิให้ใกล้เคียงกับร่างกายก่อนหยอด', 'similarity_score': tensor(0.1610), 'topic': 2, 'score': 0.0}, {'checklist_item': 'ความแรง400มิลลิกรัม', 'matched_sentence': 'เพื่อปรับอุณหภูมิให้ใกล้เคียงกับร่างกายก่อนหยอด', 'similarity_score': tensor(0.2301), 'topic': 3, 'score': 0.0}, {'checklist_item': 'จำนวน10เม็ด', 'matched_sentence': 'เพื่อปรับอุณหภูมิให้ใกล้เคียงกับร่างกายก่อนหยอด', 'similarity_score': tensor(0.1654), 'topic': 4, 'score': 0.0}, {'checklist_item': 'ใช้เพื่อบรรเทาอาการปวด', 'matched_sentence': 'เพื่อปรับอุณหภูมิให้ใกล้เคียงกับร่างกายก่อนหยอด', 'similarity_score': tensor(0.3779), 'topic': 5, 'score': 0.0}, {'checklist_item': 'รับประทานครั้งละ1เม็ด', 'matched_sentence': 'เพื่อปรับอุณหภูมิให้ใกล้เคียงกับร่างกายก่อนหยอด', 'similarity_score': tensor(0.2743), 'topic': 6, 'score': 0.0}, {'checklist_item': 'วันละ3ครั้ง', 'matched_sentence': 'เพื่อปรับอุณหภูมิให้ใกล้เคียงกับร่างกายก่อนหยอด', 'similarity_score': tensor(0.1616), 'topic': 7, 'score': 0.0}, {'checklist_item': 'หลังอาหารเช้ากลางวันเย็น', 'matched_sentence': 'เพื่อปรับอุณหภูมิให้ใกล้เคียงกับร่างกายก่อนหยอด', 'similarity_score': tensor(0.2169), 'topic': 8, 'score': 0.0}, {'checklist_item': 'ควรรับประทานหลังอาหารทันที', 'matched_sentence': 'เพื่อปรับอุณหภูมิให้ใกล้เคียงกับร่างกายก่อนหยอด', 'similarity_score': tensor(0.2982), 'topic': 9, 'score': 0.0}, {'checklist_item': 'อะมอกซีซิลิน', 'matched_sentence': 'เพื่อปรับอุณหภูมิให้ใกล้เคียงกับร่างกายก่อนหยอด', 'similarity_score': tensor(0.2541), 'topic': 10, 'score': 0.0}, {'checklist_item': 'ความแรง500มิลลิกรัม', 'matched_sentence': 'เพื่อปรับอุณหภูมิให้ใกล้เคียงกับร่างกายก่อนหยอด', 'similarity_score': tensor(0.2642), 'topic': 11, 'score': 0.0}, {'checklist_item': 'จำนวน30เม็ด', 'matched_sentence': 'เพื่อปรับอุณหภูมิให้ใกล้เคียงกับร่างกายก่อนหยอด', 'similarity_score': tensor(0.1361), 'topic': 12, 'score': 0.0}, {'checklist_item': 'ใช้รักษาอาการติดเชื้อที่หู', 'matched_sentence': 'เพื่อปรับอุณหภูมิให้ใกล้เคียงกับร่างกายก่อนหยอด', 'similarity_score': tensor(0.1512), 'topic': 13, 'score': 0.0}, {'checklist_item': 'รับประทานครั้งละ1เม็ด', 'matched_sentence': 'เพื่อปรับอุณหภูมิให้ใกล้เคียงกับร่างกายก่อนหยอด', 'similarity_score': tensor(0.2743), 'topic': 14, 'score': 0.0}, {'checklist_item': 'วันละ3ครั้ง', 'matched_sentence': 'เพื่อปรับอุณหภูมิให้ใกล้เคียงกับร่างกายก่อนหยอด', 'similarity_score': tensor(0.1616), 'topic': 15, 'score': 0.0}, {'checklist_item': 'หลังอาหารเช้ากลางวันเย็น', 'matched_sentence': 'เพื่อปรับอุณหภูมิให้ใกล้เคียงกับร่างกายก่อนหยอด', 'similarity_score': tensor(0.2169), 'topic': 16, 'score': 0.0}, {'checklist_item': 'ควรรับประทานติดต่อกันทุกวันจนหมด', 'matched_sentence': 'เพื่อปรับอุณหภูมิให้ใกล้เคียงกับร่างกายก่อนหยอด', 'similarity_score': tensor(0.2262), 'topic': 17, 'score': 0.0}, {'checklist_item': 'เด็กซ์ออฟ', 'matched_sentence': 'เพื่อปรับอุณหภูมิให้ใกล้เคียงกับร่างกายก่อนหยอด', 'similarity_score': tensor(0.2170), 'topic': 18, 'score': 0.0}, {'checklist_item': 'ใช้รักษาหูชั้นกลางอักเสบ', 'matched_sentence': 'เพื่อปรับอุณหภูมิให้ใกล้เคียงกับร่างกายก่อนหยอด', 'similarity_score': tensor(0.1606), 'topic': 19, 'score': 0.25}, {'checklist_item': 'หยอดหูซ้าย3หยด', 'matched_sentence': 'เพื่อปรับอุณหภูมิให้ใกล้เคียงกับร่างกายก่อนหยอด', 'similarity_score': tensor(0.1840), 'topic': 20, 'score': 0.25}, {'checklist_item': 'วันละ3ครั้ง', 'matched_sentence': 'เพื่อปรับอุณหภูมิให้ใกล้เคียงกับร่างกายก่อนหยอด', 'similarity_score': tensor(0.1616), 'topic': 21, 'score': 0.25}, {'checklist_item': 'หลังอาหารเช้ากลางวันเย็น', 'matched_sentence': 'เพื่อปรับอุณหภูมิให้ใกล้เคียงกับร่างกายก่อนหยอด', 'similarity_score': tensor(0.2169), 'topic': 22, 'score': 0.25}, {'checklist_item': 'ล้างมือให้สะอาด', 'matched_sentence': 'เพื่อปรับอุณหภูมิให้ใกล้เคียงกับร่างกายก่อนหยอด', 'similarity_score': tensor(0.3091), 'topic': 23, 'score': 1.0}, {'checklist_item': 'นอนตะแคงหรือนั่งเอียงศีรษะให้หูข้างที่จะหยอดยาอยู่ด้านบน', 'matched_sentence': 'เพื่อปรับอุณหภูมิให้ใกล้เคียงกับร่างกายก่อนหยอด', 'similarity_score': tensor(0.2916), 'topic': 24, 'score': 1.0}, {'checklist_item': 'ให้ดึงใบหูข้างที่จะหยอดยาไปด้านหลังและดึงขึ้นด้านบน', 'matched_sentence': 'เพื่อปรับอุณหภูมิให้ใกล้เคียงกับร่างกายก่อนหยอด', 'similarity_score': tensor(0.2856), 'topic': 25, 'score': 0.5}, {'checklist_item': 'หยอดยาเข้าไปในหูตามที่แพทย์สั่ง', 'matched_sentence': 'เพื่อปรับอุณหภูมิให้ใกล้เคียงกับร่างกายก่อนหยอด', 'similarity_score': tensor(0.1460), 'topic': 26, 'score': 0.5}, {'checklist_item': 'ระวังอย่าเอาหลอดหยดสอดเข้าไปในรูหู', 'matched_sentence': 'เพื่อปรับอุณหภูมิให้ใกล้เคียงกับร่างกายก่อนหยอด', 'similarity_score': tensor(0.2695), 'topic': 27, 'score': 1.0}, {'checklist_item': 'เอียงตะแคงอยู่ท่าเดิมประมาณ3ถึง5นาที', 'matched_sentence': 'เพื่อปรับอุณหภูมิให้ใกล้เคียงกับร่างกายก่อนหยอด', 'similarity_score': tensor(0.2228), 'topic': 28, 'score': 0.5}, {'checklist_item': 'อาจเอาสำลีใส่ในรูหูไว้อีกระยะหนึ่งเพื่อไม่ให้ยาไหลออกมา', 'matched_sentence': 'เพื่อปรับอุณหภูมิให้ใกล้เคียงกับร่างกายก่อนหยอด', 'similarity_score': tensor(0.3015), 'topic': 29, 'score': 0.5}, {'checklist_item': 'ให้เขย่าขวดก่อนใช้ทุกครั้ง', 'matched_sentence': 'เพื่อปรับอุณหภูมิให้ใกล้เคียงกับร่างกายก่อนหยอด', 'similarity_score': tensor(0.3348), 'topic': 30, 'score': 0.5}, {'checklist_item': 'ใช้ไม้พันสำลีเช็ดหนองในใบหูหรือรูหูให้สะอาดก่อนและหลังหยอดยา', 'matched_sentence': 'เพื่อปรับอุณหภูมิให้ใกล้เคียงกับร่างกายก่อนหยอด', 'similarity_score': tensor(0.2668), 'topic': 31, 'score': 0.5}, {'checklist_item': 'ยาหยอดหูหากเก็บไว้ในตู้เย็นก่อนใช้ยาให้กำหลอดยาไว้ในอุ้งมือสักครู่', 'matched_sentence': 'เพื่อปรับอุณหภูมิให้ใกล้เคียงกับร่างกายก่อนหยอด', 'similarity_score': tensor(0.3423), 'topic': 32, 'score': 0.5}, {'checklist_item': 'เพื่อปรับอุณหภูมิให้ใกล้เคียงกับร่างกายก่อนหยอด', 'matched_sentence': 'เพื่อปรับอุณหภูมิให้ใกล้เคียงกับร่างกายก่อนหยอด', 'similarity_score': tensor(1.), 'topic': 33, 'score': 0.5}]\n"
     ]
    }
   ],
   "source": [
    "from sentence_transformers import SentenceTransformer, util\n",
    "import pandas as pd\n",
    "\n",
    "model = SentenceTransformer('paraphrase-multilingual-MiniLM-L12-v2')\n",
    "recording = []\n",
    "\n",
    "# Encode the checklist sentences\n",
    "checklit_embeddings = model.encode(checklist)\n",
    "\n",
    "# Iterate through split_sent and check for similarity\n",
    "for sent in split_sent:\n",
    "    sent_embedding = model.encode(sent)\n",
    "    similarities = util.cos_sim(sent_embedding, checklit_embeddings)\n",
    "\n",
    "    # อัปเดตผลลัพธ์หากเจอข้อความที่ตรงกับขั้นตอนมาตรฐาน\n",
    "    for i, step in enumerate(checklist):\n",
    "      \n",
    "        recording.append({\n",
    "            \"checklist_item\": checklist[i],\n",
    "            \"matched_sentence\": sent,\n",
    "            \"similarity_score\": similarities[0][i],\n",
    "            \"topic\": topic[i],\n",
    "            \"score\": score[i],\n",
    "        })\n",
    "\n",
    "# Save results to an Excel file\n",
    "df = pd.DataFrame(recording)\n",
    "df.to_excel(\"recording_results.xlsx\", index=False)\n",
    "\n",
    "# Print the recorded matches\n",
    "print(recording)"
   ]
  },
  {
   "cell_type": "markdown",
   "metadata": {},
   "source": [
    "# try to using fine tuning model"
   ]
  },
  {
   "cell_type": "code",
   "execution_count": 10,
   "metadata": {},
   "outputs": [],
   "source": [
    "import psycopg2\n",
    "from psycopg2.extras import RealDictCursor\n",
    "\n",
    "def get_db_connection():\n",
    "    conn = psycopg2.connect(\n",
    "        dbname='Testing',\n",
    "        user='postgres',\n",
    "        password='123456789',\n",
    "        host='localhost'\n",
    "    )\n",
    "    return conn"
   ]
  },
  {
   "cell_type": "code",
   "execution_count": 11,
   "metadata": {},
   "outputs": [],
   "source": [
    "def get_data():\n",
    "    conn = get_db_connection()\n",
    "    cursor = conn.cursor(cursor_factory=RealDictCursor)\n",
    "    cursor.execute('SELECT * FROM processing order by topic')\n",
    "    processing = cursor.fetchall()\n",
    "    cursor.close()\n",
    "    conn.close()\n",
    "    return processing"
   ]
  },
  {
   "cell_type": "code",
   "execution_count": 12,
   "metadata": {},
   "outputs": [],
   "source": [
    "data = get_data()\n",
    "checklist = [item['checklist'] for item in data]\n",
    "topic = [item['topic'] for item in data]\n",
    "score = [item['score'] for item in data]\n",
    "request = [item['prerequest'] for item in data]"
   ]
  },
  {
   "cell_type": "code",
   "execution_count": 13,
   "metadata": {},
   "outputs": [],
   "source": [
    "from pythainlp.tokenize import word_tokenize\n",
    "from pythainlp.util import Trie"
   ]
  },
  {
   "cell_type": "code",
   "execution_count": 14,
   "metadata": {},
   "outputs": [],
   "source": [
    "text = [\n",
    "    \"สวัสดีค่ะหนูเป็นเภสัชกรชื่อสมหญิงใจดีคนไข้ชื่อนามสกุลอะไรคะ\",\n",
    "    \"คนไข้มาด้วยอาการปวดหูใช่ไหมคะ\",\n",
    "    \"\"\"วันนี้มารับยา3ตัวนะค่ะยานี้ชื่อไอบูโปรเพนความแรง400มิลลิกรัมจำนวน10เม็ดใช้เพื่อบรรเทาอาการปวดรับประทานครั้งละ1เม็ดวันละ3ครั้งหลังอาหารเช้ากลางวันเย็นยานี้ควรรับประทานหลังอาหารทันทีส่วนยานี้ชื่ออะมอกซีซิลินความแรง500มิลลิกรัมจำนวน30เม็ดใช้รักษาอาการติดเชื้อที่หูรับประทานครั้งละ1เม็ดวันละ3ครั้งหลังอาหารเช้ากลางวันเย็นยานี้ควรรับประทานติดต่อกันทุกวันจนหมดและยานี้ชื่อเด็กซ์ออฟจำนวน1ขวดใช้สำหรับหยอดหูเพื่อรักษาอาการติดเชื้อที่หูหยอด3หยดที่หูข้างซ้ายวันละ3ครั้งหลังอาหารเช้ากลางวันเย็นซึ่งยานี้มีวิธีการใช้ในลักษณะพิเศษเดี๋ยวฉันสอนวิธีการใช้งานให้นะคะเริ่มด้วยการล้างมือให้สะอาดก่อนใช้ยาจากนั้นใช้ไม้พันสำลีเช็ดหนองในใบหูหรือรูหูให้สะอาดก่อนและหลังหยอดยาต่อมาให้หยิบยาจากกล่องมาถือไว้ที่มือและเขย่าขวดก่อนใช้ทุกครั้งถัดไปให้คนไข้นอนตะแคงหรือนั่งเอียงศีรษะให้หูข้างที่จะหยอดยาอยู่ด้านบนถัดมาให้ดึงใบหูข้างที่จะหยอดยาไปด้านหลังและดึงขึ้นด้านบนโดยหยอดยาเข้าไปในหูตามที่แพทย์สั่งระวังอย่าเอาหลอดหยดสอดเข้าไปในรูหูให้คนไข้เอียงตะแคงอยู่ท่าเดิมประมาณ3ถึง5นาทีซึ่งอาจจะเอาสำลีใส่ในรูหูไว้อีกระยะหนึ่งเพื่อไม่ให้ยาไหลออกมาหากเก็บยาหยอดหูไว้ในตู้เย็นก่อนใช้ยาให้กำหยอดยาไว้ในอุ้งมือสักครู่เพื่อปรับอุณหภูมิให้ใกล้เคียงกับร่างกายก่อนหยอด\"\"\",\n",
    "]"
   ]
  },
  {
   "cell_type": "code",
   "execution_count": 15,
   "metadata": {},
   "outputs": [],
   "source": [
    "# Define custom words\n",
    "custom_words = [\n",
    "    \"คนไข้ชื่อนามสกุลอะไร\",\"สวัสดี\",\"ไอบูโปรเพน\",\"ความแรง400มิลลิกรัม\",\"จำนวน10เม็ด\",\"รับประทานครั้งละ1เม็ด\",\"วันละ3ครั้ง\",\"หลังอาหารเช้ากลางวันเย็น\",\n",
    "    \"ควรรับประทานหลังอาหารทันที\",\"อะมอกซีซิลิน\",\"ความแรง500มิลลิกรัม\",\"จำนวน30เม็ด\",\"ควรรับประทานติดต่อกันทุกวันจนหมด\",\"เด็กซ์ออฟ\",\"จำนวน1ขวด\",\n",
    "    \"หยอด3หยดที่หูข้างซ้าย\",\"ล้างมือให้สะอาด\",\"นอนตะแคงหรือนั่งเอียงศีรษะให้หูข้างที่จะหยอดยาอยู่ด้านบน\",\"ให้ดึงใบหูข้างที่จะหยอดยาไปด้านหลังและดึงขึ้นด้านบน\",\n",
    "    \"หยอดยาเข้าไปในหูตามที่แพทย์สั่ง\",\"ระวังอย่าเอาหลอดหยดสอดเข้าไปในรูหู\",\"เอียงตะแคงอยู่ท่าเดิมประมาณ3ถึง5นาที\",\"สำลีใส่ในรูหูไว้อีกระยะหนึ่งเพื่อไม่ให้ยาไหลออกมา\",\n",
    "    \"ให้เขย่าขวดก่อนใช้ทุกครั้ง\",\"ใช้ไม้พันสำลีเช็ดหนองในใบหูหรือรูหูให้สะอาดก่อนและหลังหยอดยา\",\"หากเก็บไว้ในตู้เย็นก่อนใช้ยาให้กำหลอดยาไว้ในอุ้งมือสักครู่\",\n",
    "    \"เพื่อปรับอุณหภูมิให้ใกล้เคียงกับร่างกายก่อนหยอด\",\"เขย่าขวดก่อนใช้ทุกครั้ง\",\n",
    "    ]\n",
    "# Create a Trie for custom dictionary\n",
    "trie = Trie(custom_words)"
   ]
  },
  {
   "cell_type": "code",
   "execution_count": 16,
   "metadata": {},
   "outputs": [
    {
     "name": "stdout",
     "output_type": "stream",
     "text": [
      "['วันนี้มารับยา', '3', 'ตัวนะค่ะยานี้ชื่อ', 'ไอบูโปรเพน', 'ความแรง400มิลลิกรัม', 'จำนวน10เม็ด', 'ใช้เพื่อบรรเทาอาการปวด', 'รับประทานครั้งละ1เม็ด', 'วันละ3ครั้ง', 'หลังอาหารเช้ากลางวันเย็น', 'ยานี้', 'ควรรับประทานหลังอาหารทันที', 'ส่วนยานี้ชื่อ', 'อะมอกซีซิลิน', 'ความแรง500มิลลิกรัม', 'จำนวน30เม็ด', 'ใช้รักษาอาการติดเชื้อที่หู', 'รับประทานครั้งละ1เม็ด', 'วันละ3ครั้ง', 'หลังอาหารเช้ากลางวันเย็น', 'ยานี้', 'ควรรับประทานติดต่อกันทุกวันจนหมด', 'และยานี้ชื่อ', 'เด็กซ์ออฟ', 'จำนวน1ขวด', 'ใช้สำหรับหยอดหูเพื่อรักษาอาการติดเชื้อที่หู', 'หยอด3หยดที่หูข้างซ้าย', 'วันละ3ครั้ง', 'หลังอาหารเช้ากลางวันเย็น', 'ซึ่งยานี้มีวิธีการใช้ในลักษณะพิเศษเดี๋ยวฉันสอนวิธีการใช้งานให้นะคะเริ่มด้วยการ', 'ล้างมือให้สะอาด', 'ก่อนใช้ยาจากนั้น', 'ใช้ไม้พันสำลีเช็ดหนองในใบหูหรือรูหูให้สะอาดก่อนและหลังหยอดยา', 'ต่อมาให้หยิบยาจากกล่องมาถือไว้ที่มือและ', 'เขย่าขวดก่อนใช้ทุกครั้ง', 'ถัดไปให้คนไข้', 'นอนตะแคงหรือนั่งเอียงศีรษะให้หูข้างที่จะหยอดยาอยู่ด้านบน', 'ถัดมา', 'ให้ดึงใบหูข้างที่จะหยอดยาไปด้านหลังและดึงขึ้นด้านบน', 'โดย', 'หยอดยาเข้าไปในหูตามที่แพทย์สั่ง', 'ระวังอย่าเอาหลอดหยดสอดเข้าไปในรูหู', 'ให้คนไข้', 'เอียงตะแคงอยู่ท่าเดิมประมาณ3ถึง5นาที', 'ซึ่งอาจจะเอา', 'สำลีใส่ในรูหูไว้อีกระยะหนึ่งเพื่อไม่ให้ยาไหลออกมา', 'หากเก็บยาหยอดหูไว้ในตู้เย็นก่อนใช้ยาให้กำหยอดยาไว้ในอุ้งมือสักครู่', 'เพื่อปรับอุณหภูมิให้ใกล้เคียงกับร่างกายก่อนหยอด']\n"
     ]
    }
   ],
   "source": [
    "split_sent = word_tokenize(text[2], custom_dict=trie)\n",
    "print(split_sent)"
   ]
  },
  {
   "cell_type": "code",
   "execution_count": 20,
   "metadata": {},
   "outputs": [
    {
     "name": "stdout",
     "output_type": "stream",
     "text": [
      "[{'checklist_item': 'ไอบูโปรเพน', 'matched_sentence': 'ไอบูโปรเพน', 'similarity_score': tensor(1.0000), 'topic': 2, 'score': 0.0}, {'checklist_item': 'ความแรง400มิลลิกรัม', 'matched_sentence': 'ความแรง400มิลลิกรัม', 'similarity_score': tensor(1.0000), 'topic': 3, 'score': 0.0}, {'checklist_item': 'จำนวน10เม็ด', 'matched_sentence': 'จำนวน10เม็ด', 'similarity_score': tensor(1.0000), 'topic': 4, 'score': 0.0}, {'checklist_item': 'ใช้เพื่อบรรเทาอาการปวด', 'matched_sentence': 'ใช้เพื่อบรรเทาอาการปวด', 'similarity_score': tensor(1.), 'topic': 5, 'score': 0.0}, {'checklist_item': 'รับประทานครั้งละ1เม็ด', 'matched_sentence': 'รับประทานครั้งละ1เม็ด', 'similarity_score': tensor(1.), 'topic': 6, 'score': 0.0}, {'checklist_item': 'วันละ3ครั้ง', 'matched_sentence': 'วันละ3ครั้ง', 'similarity_score': tensor(1.), 'topic': 7, 'score': 0.0}, {'checklist_item': 'หลังอาหารเช้ากลางวันเย็น', 'matched_sentence': 'หลังอาหารเช้ากลางวันเย็น', 'similarity_score': tensor(1.0000), 'topic': 8, 'score': 0.0}, {'checklist_item': 'ควรรับประทานหลังอาหารทันที', 'matched_sentence': 'ควรรับประทานหลังอาหารทันที', 'similarity_score': tensor(1.0000), 'topic': 9, 'score': 0.0}, {'checklist_item': 'อะมอกซีซิลิน', 'matched_sentence': 'อะมอกซีซิลิน', 'similarity_score': tensor(1.0000), 'topic': 10, 'score': 0.0}, {'checklist_item': 'ความแรง500มิลลิกรัม', 'matched_sentence': 'ความแรง500มิลลิกรัม', 'similarity_score': tensor(1.0000), 'topic': 11, 'score': 0.0}, {'checklist_item': 'จำนวน30เม็ด', 'matched_sentence': 'จำนวน30เม็ด', 'similarity_score': tensor(1.), 'topic': 12, 'score': 0.0}, {'checklist_item': 'ใช้รักษาอาการติดเชื้อที่หู', 'matched_sentence': 'ใช้รักษาอาการติดเชื้อที่หู', 'similarity_score': tensor(1.), 'topic': 13, 'score': 0.0}, {'checklist_item': 'รับประทานครั้งละ1เม็ด', 'matched_sentence': 'รับประทานครั้งละ1เม็ด', 'similarity_score': tensor(1.), 'topic': 6, 'score': 0.0}, {'checklist_item': 'รับประทานครั้งละ1เม็ด', 'matched_sentence': 'รับประทานครั้งละ1เม็ด', 'similarity_score': tensor(1.), 'topic': 14, 'score': 0.0}, {'checklist_item': 'วันละ3ครั้ง', 'matched_sentence': 'วันละ3ครั้ง', 'similarity_score': tensor(1.), 'topic': 7, 'score': 0.0}, {'checklist_item': 'วันละ3ครั้ง', 'matched_sentence': 'วันละ3ครั้ง', 'similarity_score': tensor(1.), 'topic': 15, 'score': 0.0}, {'checklist_item': 'หลังอาหารเช้ากลางวันเย็น', 'matched_sentence': 'หลังอาหารเช้ากลางวันเย็น', 'similarity_score': tensor(1.0000), 'topic': 8, 'score': 0.0}, {'checklist_item': 'หลังอาหารเช้ากลางวันเย็น', 'matched_sentence': 'หลังอาหารเช้ากลางวันเย็น', 'similarity_score': tensor(1.0000), 'topic': 16, 'score': 0.0}, {'checklist_item': 'ควรรับประทานติดต่อกันทุกวันจนหมด', 'matched_sentence': 'ควรรับประทานติดต่อกันทุกวันจนหมด', 'similarity_score': tensor(1.), 'topic': 17, 'score': 0.0}, {'checklist_item': 'เด็กซ์ออฟ', 'matched_sentence': 'เด็กซ์ออฟ', 'similarity_score': tensor(1.0000), 'topic': 18, 'score': 0.0}, {'checklist_item': 'ใช้รักษาหูชั้นกลางอักเสบ', 'matched_sentence': 'ใช้สำหรับหยอดหูเพื่อรักษาอาการติดเชื้อที่หู', 'similarity_score': tensor(0.8255), 'topic': 19, 'score': 0.25}, {'checklist_item': 'หยอดหูซ้าย3หยด', 'matched_sentence': 'หยอด3หยดที่หูข้างซ้าย', 'similarity_score': tensor(0.8441), 'topic': 20, 'score': 0.25}, {'checklist_item': 'วันละ3ครั้ง', 'matched_sentence': 'วันละ3ครั้ง', 'similarity_score': tensor(1.), 'topic': 7, 'score': 0.0}, {'checklist_item': 'วันละ3ครั้ง', 'matched_sentence': 'วันละ3ครั้ง', 'similarity_score': tensor(1.), 'topic': 15, 'score': 0.0}, {'checklist_item': 'วันละ3ครั้ง', 'matched_sentence': 'วันละ3ครั้ง', 'similarity_score': tensor(1.), 'topic': 21, 'score': 0.25}, {'checklist_item': 'หลังอาหารเช้ากลางวันเย็น', 'matched_sentence': 'หลังอาหารเช้ากลางวันเย็น', 'similarity_score': tensor(1.0000), 'topic': 8, 'score': 0.0}, {'checklist_item': 'หลังอาหารเช้ากลางวันเย็น', 'matched_sentence': 'หลังอาหารเช้ากลางวันเย็น', 'similarity_score': tensor(1.0000), 'topic': 16, 'score': 0.0}, {'checklist_item': 'หลังอาหารเช้ากลางวันเย็น', 'matched_sentence': 'หลังอาหารเช้ากลางวันเย็น', 'similarity_score': tensor(1.0000), 'topic': 22, 'score': 0.25}, {'checklist_item': 'ล้างมือให้สะอาด', 'matched_sentence': 'ล้างมือให้สะอาด', 'similarity_score': tensor(1.0000), 'topic': 23, 'score': 1.0}, {'checklist_item': 'ใช้ไม้พันสำลีเช็ดหนองในใบหูหรือรูหูให้สะอาดก่อนและหลังหยอดยา', 'matched_sentence': 'ใช้ไม้พันสำลีเช็ดหนองในใบหูหรือรูหูให้สะอาดก่อนและหลังหยอดยา', 'similarity_score': tensor(1.0000), 'topic': 31, 'score': 0.5}, {'checklist_item': 'ให้เขย่าขวดก่อนใช้ทุกครั้ง', 'matched_sentence': 'เขย่าขวดก่อนใช้ทุกครั้ง', 'similarity_score': tensor(0.9787), 'topic': 30, 'score': 0.5}, {'checklist_item': 'นอนตะแคงหรือนั่งเอียงศีรษะให้หูข้างที่จะหยอดยาอยู่ด้านบน', 'matched_sentence': 'นอนตะแคงหรือนั่งเอียงศีรษะให้หูข้างที่จะหยอดยาอยู่ด้านบน', 'similarity_score': tensor(1.0000), 'topic': 24, 'score': 1.0}, {'checklist_item': 'ให้ดึงใบหูข้างที่จะหยอดยาไปด้านหลังและดึงขึ้นด้านบน', 'matched_sentence': 'ให้ดึงใบหูข้างที่จะหยอดยาไปด้านหลังและดึงขึ้นด้านบน', 'similarity_score': tensor(1.), 'topic': 25, 'score': 0.5}, {'checklist_item': 'หยอดยาเข้าไปในหูตามที่แพทย์สั่ง', 'matched_sentence': 'ให้ดึงใบหูข้างที่จะหยอดยาไปด้านหลังและดึงขึ้นด้านบน', 'similarity_score': tensor(0.8265), 'topic': 26, 'score': 0.5}, {'checklist_item': 'ให้ดึงใบหูข้างที่จะหยอดยาไปด้านหลังและดึงขึ้นด้านบน', 'matched_sentence': 'หยอดยาเข้าไปในหูตามที่แพทย์สั่ง', 'similarity_score': tensor(0.8265), 'topic': 25, 'score': 0.5}, {'checklist_item': 'หยอดยาเข้าไปในหูตามที่แพทย์สั่ง', 'matched_sentence': 'หยอดยาเข้าไปในหูตามที่แพทย์สั่ง', 'similarity_score': tensor(1.), 'topic': 26, 'score': 0.5}, {'checklist_item': 'ระวังอย่าเอาหลอดหยดสอดเข้าไปในรูหู', 'matched_sentence': 'ระวังอย่าเอาหลอดหยดสอดเข้าไปในรูหู', 'similarity_score': tensor(1.0000), 'topic': 27, 'score': 1.0}, {'checklist_item': 'เอียงตะแคงอยู่ท่าเดิมประมาณ3ถึง5นาที', 'matched_sentence': 'เอียงตะแคงอยู่ท่าเดิมประมาณ3ถึง5นาที', 'similarity_score': tensor(1.), 'topic': 28, 'score': 0.5}, {'checklist_item': 'อาจเอาสำลีใส่ในรูหูไว้อีกระยะหนึ่งเพื่อไม่ให้ยาไหลออกมา', 'matched_sentence': 'สำลีใส่ในรูหูไว้อีกระยะหนึ่งเพื่อไม่ให้ยาไหลออกมา', 'similarity_score': tensor(0.8316), 'topic': 29, 'score': 0.5}, {'checklist_item': 'ยาหยอดหูหากเก็บไว้ในตู้เย็นก่อนใช้ยาให้กำหลอดยาไว้ในอุ้งมือสักครู่', 'matched_sentence': 'หากเก็บยาหยอดหูไว้ในตู้เย็นก่อนใช้ยาให้กำหยอดยาไว้ในอุ้งมือสักครู่', 'similarity_score': tensor(0.8210), 'topic': 32, 'score': 0.5}, {'checklist_item': 'เพื่อปรับอุณหภูมิให้ใกล้เคียงกับร่างกายก่อนหยอด', 'matched_sentence': 'เพื่อปรับอุณหภูมิให้ใกล้เคียงกับร่างกายก่อนหยอด', 'similarity_score': tensor(1.), 'topic': 33, 'score': 0.5}]\n",
      "Checklist Status:\n",
      "ผมเป็นเภสัชกร : False\n",
      "ผู้ป่วยชื่ออะไร : False\n",
      "ผู้ป่วยชื่อชาตินามสกุลอะไร : False\n",
      "ผู้ป่วยชื่อชาติตระการตาใช่ไหม : False\n",
      "ผู้ป่วยชื่อนามสกุลอะไร : False\n",
      "ไอบูโปรเพน : True\n",
      "ความแรง400มิลลิกรัม : True\n",
      "จำนวน10เม็ด : True\n",
      "ใช้เพื่อบรรเทาอาการปวด : True\n",
      "รับประทานครั้งละ1เม็ด : True\n",
      "วันละ3ครั้ง : True\n",
      "หลังอาหารเช้ากลางวันเย็น : True\n",
      "ควรรับประทานหลังอาหารทันที : True\n",
      "อะมอกซีซิลิน : True\n",
      "ความแรง500มิลลิกรัม : True\n",
      "จำนวน30เม็ด : True\n",
      "ใช้รักษาอาการติดเชื้อที่หู : True\n",
      "รับประทานครั้งละ1เม็ด : True\n",
      "วันละ3ครั้ง : True\n",
      "หลังอาหารเช้ากลางวันเย็น : True\n",
      "ควรรับประทานติดต่อกันทุกวันจนหมด : True\n",
      "เด็กซ์ออฟ : True\n",
      "ใช้รักษาหูชั้นกลางอักเสบ : True\n",
      "หยอดหูซ้าย3หยด : True\n",
      "วันละ3ครั้ง : True\n",
      "หลังอาหารเช้ากลางวันเย็น : True\n",
      "ล้างมือให้สะอาด : True\n",
      "นอนตะแคงหรือนั่งเอียงศีรษะให้หูข้างที่จะหยอดยาอยู่ด้านบน : True\n",
      "ให้ดึงใบหูข้างที่จะหยอดยาไปด้านหลังและดึงขึ้นด้านบน : True\n",
      "หยอดยาเข้าไปในหูตามที่แพทย์สั่ง : True\n",
      "ระวังอย่าเอาหลอดหยดสอดเข้าไปในรูหู : True\n",
      "เอียงตะแคงอยู่ท่าเดิมประมาณ3ถึง5นาที : True\n",
      "อาจเอาสำลีใส่ในรูหูไว้อีกระยะหนึ่งเพื่อไม่ให้ยาไหลออกมา : True\n",
      "ให้เขย่าขวดก่อนใช้ทุกครั้ง : True\n",
      "ใช้ไม้พันสำลีเช็ดหนองในใบหูหรือรูหูให้สะอาดก่อนและหลังหยอดยา : True\n",
      "ยาหยอดหูหากเก็บไว้ในตู้เย็นก่อนใช้ยาให้กำหลอดยาไว้ในอุ้งมือสักครู่ : True\n",
      "เพื่อปรับอุณหภูมิให้ใกล้เคียงกับร่างกายก่อนหยอด : True\n",
      "Total Score: 8.0\n"
     ]
    }
   ],
   "source": [
    "from sentence_transformers import SentenceTransformer, util\n",
    "import pandas as pd\n",
    "\n",
    "model = SentenceTransformer(\"trained_model\")\n",
    "threshold = 0.75\n",
    "recording = []\n",
    "count = 0\n",
    "matched_topics = {-1} # Track matched topics to avoid duplicate scoring\n",
    "\n",
    "# Track whether each checklist item is matched\n",
    "checklist_status = [False] * len(checklist)\n",
    "\n",
    "# Encode the checklist sentences\n",
    "checklit_embeddings = model.encode(checklist)\n",
    "\n",
    "# Iterate through split_sent and check for similarity\n",
    "for sent in split_sent:\n",
    "    sent_embedding = model.encode(sent)\n",
    "    similarities = util.cos_sim(sent_embedding, checklit_embeddings)\n",
    "\n",
    "    # best_match_index = similarities[0].argmax().item()  # Get index of highest similarity\n",
    "    # best_score = similarities[0][best_match_index].item()\n",
    "\n",
    "    for i, check in enumerate(checklist):\n",
    "        if similarities[0][i] > threshold:\n",
    "            best_match_index = i\n",
    "            matched_checklist_item = checklist[best_match_index]\n",
    "            matched_topic = topic[best_match_index]\n",
    "            matched_score = score[best_match_index]\n",
    "            required_topic = request[best_match_index]\n",
    "\n",
    "            # Ensure dependencies are met\n",
    "            if required_topic != -1 and required_topic not in matched_topics:\n",
    "                continue  # Skip if required topic was not mentioned first\n",
    "\n",
    "            checklist_status[best_match_index] = True  # Mark as matched\n",
    "\n",
    "            # Add score only if the topic has not been counted before\n",
    "            if matched_topic not in matched_topics:\n",
    "                count += matched_score\n",
    "                matched_topics.add(matched_topic)\n",
    "\n",
    "            recording.append({\n",
    "                \"checklist_item\": matched_checklist_item,\n",
    "                \"matched_sentence\": sent,\n",
    "                \"similarity_score\": similarities[0][i],\n",
    "                \"topic\": matched_topic,\n",
    "                \"score\": matched_score\n",
    "            })\n",
    "\n",
    "# Save results to an Excel file\n",
    "df = pd.DataFrame(recording)\n",
    "df.to_excel(\"recording_results.xlsx\", index=False)\n",
    "\n",
    "# Print the recorded matches\n",
    "print(recording)\n",
    "print(\"Checklist Status:\")\n",
    "for i,check in enumerate(checklist):\n",
    "    print(check,\":\",checklist_status[i])\n",
    "print(\"Total Score:\", count)"
   ]
  },
  {
   "cell_type": "code",
   "execution_count": 60,
   "metadata": {},
   "outputs": [
    {
     "data": {
      "text/plain": [
       "{-1,\n",
       " 2,\n",
       " 3,\n",
       " 4,\n",
       " 5,\n",
       " 6,\n",
       " 7,\n",
       " 8,\n",
       " 9,\n",
       " 10,\n",
       " 11,\n",
       " 12,\n",
       " 13,\n",
       " 14,\n",
       " 15,\n",
       " 16,\n",
       " 17,\n",
       " 18,\n",
       " 19,\n",
       " 20,\n",
       " 21,\n",
       " 22,\n",
       " 23,\n",
       " 24,\n",
       " 25,\n",
       " 26,\n",
       " 27,\n",
       " 28,\n",
       " 29,\n",
       " 30,\n",
       " 31,\n",
       " 32,\n",
       " 33}"
      ]
     },
     "execution_count": 60,
     "metadata": {},
     "output_type": "execute_result"
    }
   ],
   "source": [
    "matched_topics"
   ]
  },
  {
   "cell_type": "markdown",
   "metadata": {},
   "source": [
    "# Nomic v2"
   ]
  },
  {
   "cell_type": "code",
   "execution_count": 4,
   "metadata": {},
   "outputs": [
    {
     "name": "stdout",
     "output_type": "stream",
     "text": [
      "(2, 768)\n",
      "tensor([[0.8261]])\n"
     ]
    }
   ],
   "source": [
    "from sentence_transformers import SentenceTransformer\n",
    "\n",
    "model = SentenceTransformer(\"nomic-ai/nomic-embed-text-v2-moe\", trust_remote_code=True)\n",
    "sentences = ['ผู้ป่วยชื่ออะไร', \"ให้คนไข้\"]\n",
    "embeddings = model.encode(sentences, prompt_name=\"passage\")\n",
    "print(embeddings.shape)\n",
    "# (2, 768)\n",
    "\n",
    "similarity = model.similarity(embeddings[0], embeddings[1])\n",
    "print(similarity)\n",
    "# tensor([[0.9118]])"
   ]
  },
  {
   "cell_type": "code",
   "execution_count": 5,
   "metadata": {},
   "outputs": [
    {
     "data": {
      "text/plain": [
       "SentenceTransformer(\n",
       "  (0): Transformer({'max_seq_length': 512, 'do_lower_case': False}) with Transformer model: NomicBertModel \n",
       "  (1): Pooling({'word_embedding_dimension': 768, 'pooling_mode_cls_token': False, 'pooling_mode_mean_tokens': True, 'pooling_mode_max_tokens': False, 'pooling_mode_mean_sqrt_len_tokens': False, 'pooling_mode_weightedmean_tokens': False, 'pooling_mode_lasttoken': False, 'include_prompt': True})\n",
       "  (2): Normalize()\n",
       ")"
      ]
     },
     "execution_count": 5,
     "metadata": {},
     "output_type": "execute_result"
    }
   ],
   "source": [
    "model.eval()"
   ]
  },
  {
   "cell_type": "code",
   "execution_count": 6,
   "metadata": {},
   "outputs": [
    {
     "data": {
      "text/plain": [
       "SentenceTransformer(\n",
       "  (0): Transformer({'max_seq_length': 128, 'do_lower_case': False}) with Transformer model: BertModel \n",
       "  (1): Pooling({'word_embedding_dimension': 384, 'pooling_mode_cls_token': False, 'pooling_mode_mean_tokens': True, 'pooling_mode_max_tokens': False, 'pooling_mode_mean_sqrt_len_tokens': False, 'pooling_mode_weightedmean_tokens': False, 'pooling_mode_lasttoken': False, 'include_prompt': True})\n",
       ")"
      ]
     },
     "execution_count": 6,
     "metadata": {},
     "output_type": "execute_result"
    }
   ],
   "source": [
    "from sentence_transformers import SentenceTransformer, util\n",
    "import pandas as pd\n",
    "\n",
    "model = SentenceTransformer('paraphrase-multilingual-MiniLM-L12-v2')\n",
    "model.eval()"
   ]
  },
  {
   "cell_type": "code",
   "execution_count": null,
   "metadata": {},
   "outputs": [],
   "source": []
  },
  {
   "cell_type": "markdown",
   "metadata": {},
   "source": [
    "# save data to database"
   ]
  },
  {
   "cell_type": "code",
   "execution_count": 1,
   "metadata": {},
   "outputs": [
    {
     "ename": "UniqueViolation",
     "evalue": "duplicate key value violates unique constraint \"having_pkey\"\nDETAIL:  Key (\"ID_having\")=(738) already exists.\n",
     "output_type": "error",
     "traceback": [
      "\u001b[31m---------------------------------------------------------------------------\u001b[39m",
      "\u001b[31mUniqueViolation\u001b[39m                           Traceback (most recent call last)",
      "\u001b[36mCell\u001b[39m\u001b[36m \u001b[39m\u001b[32mIn[1]\u001b[39m\u001b[32m, line 24\u001b[39m\n\u001b[32m     21\u001b[39m arr = [\u001b[32m1\u001b[39m, \u001b[32m2\u001b[39m, \u001b[32m3\u001b[39m, \u001b[32m4\u001b[39m, \u001b[32m5\u001b[39m, \u001b[32m6\u001b[39m,\u001b[32m175\u001b[39m,\u001b[32m426\u001b[39m,\u001b[32m177\u001b[39m,\u001b[32m208\u001b[39m,\u001b[32m179\u001b[39m,\u001b[32m180\u001b[39m,\u001b[32m181\u001b[39m,*\u001b[38;5;28mrange\u001b[39m(\u001b[32m401\u001b[39m,\u001b[32m425\u001b[39m)]\n\u001b[32m     23\u001b[39m \u001b[38;5;28;01mfor\u001b[39;00m id_checklist \u001b[38;5;129;01min\u001b[39;00m \u001b[38;5;28mrange\u001b[39m(\u001b[32m0\u001b[39m, \u001b[38;5;28mlen\u001b[39m(arr)):  \u001b[38;5;66;03m# 1 to 27 inclusive\u001b[39;00m\n\u001b[32m---> \u001b[39m\u001b[32m24\u001b[39m     \u001b[43mcur\u001b[49m\u001b[43m.\u001b[49m\u001b[43mexecute\u001b[49m\u001b[43m(\u001b[49m\n\u001b[32m     25\u001b[39m \u001b[43m        \u001b[49m\u001b[33;43m'\u001b[39;49m\u001b[33;43mINSERT INTO \u001b[39;49m\u001b[33;43m\"\u001b[39;49m\u001b[33;43mhaving\u001b[39;49m\u001b[33;43m\"\u001b[39;49m\u001b[33;43m (\u001b[39;49m\u001b[33;43m\"\u001b[39;49m\u001b[33;43mID_having\u001b[39;49m\u001b[33;43m\"\u001b[39;49m\u001b[33;43m, \u001b[39;49m\u001b[33;43m\"\u001b[39;49m\u001b[33;43mID_situ\u001b[39;49m\u001b[33;43m\"\u001b[39;49m\u001b[33;43m, \u001b[39;49m\u001b[33;43m\"\u001b[39;49m\u001b[33;43mID_checklist\u001b[39;49m\u001b[33;43m\"\u001b[39;49m\u001b[33;43m) VALUES (\u001b[39;49m\u001b[38;5;132;43;01m%s\u001b[39;49;00m\u001b[33;43m, \u001b[39;49m\u001b[38;5;132;43;01m%s\u001b[39;49;00m\u001b[33;43m, \u001b[39;49m\u001b[38;5;132;43;01m%s\u001b[39;49;00m\u001b[33;43m)\u001b[39;49m\u001b[33;43m'\u001b[39;49m\u001b[43m,\u001b[49m\n\u001b[32m     26\u001b[39m \u001b[43m        \u001b[49m\u001b[43m(\u001b[49m\u001b[43mid_checklist\u001b[49m\u001b[43m+\u001b[49m\u001b[32;43m738\u001b[39;49m\u001b[43m,\u001b[49m\u001b[43m \u001b[49m\u001b[43mid_situ\u001b[49m\u001b[43m,\u001b[49m\u001b[43m \u001b[49m\u001b[43marr\u001b[49m\u001b[43m[\u001b[49m\u001b[43mid_checklist\u001b[49m\u001b[43m]\u001b[49m\u001b[43m)\u001b[49m\n\u001b[32m     27\u001b[39m \u001b[43m    \u001b[49m\u001b[43m)\u001b[49m\n\u001b[32m     29\u001b[39m \u001b[38;5;66;03m# Commit and close the connection\u001b[39;00m\n\u001b[32m     30\u001b[39m conn.commit()\n",
      "\u001b[31mUniqueViolation\u001b[39m: duplicate key value violates unique constraint \"having_pkey\"\nDETAIL:  Key (\"ID_having\")=(738) already exists.\n"
     ]
    }
   ],
   "source": [
    "import psycopg2\n",
    "from psycopg2.extras import RealDictCursor\n",
    "\n",
    "def get_db_connection():\n",
    "    conn = psycopg2.connect(\n",
    "        dbname='ScoringT',\n",
    "        user='postgres',\n",
    "        password='123456789',\n",
    "        host='localhost'\n",
    "    )\n",
    "    return conn\n",
    "\n",
    "conn = get_db_connection()\n",
    "\n",
    "cur = conn.cursor()\n",
    "\n",
    "# Insert multiple rows with ID_checklist from 1 to 27\n",
    "id_situ = 24\n",
    "#6 แพ้\n",
    "#40 โรคประจำตัว\n",
    "arr = [1, 2, 3, 4, 5, 6,175,426,177,208,179,180,181,*range(401,425)]\n",
    "\n",
    "for id_checklist in range(0, len(arr)):  # 1 to 27 inclusive\n",
    "    cur.execute(\n",
    "        'INSERT INTO \"having\" (\"ID_having\", \"ID_situ\", \"ID_checklist\") VALUES (%s, %s, %s)',\n",
    "        (id_checklist+738, id_situ, arr[id_checklist])\n",
    "    )\n",
    "\n",
    "# Commit and close the connection\n",
    "conn.commit()\n",
    "cur.close()\n",
    "conn.close()"
   ]
  },
  {
   "cell_type": "code",
   "execution_count": 2,
   "metadata": {},
   "outputs": [
    {
     "ename": "NameError",
     "evalue": "name 'custom_words' is not defined",
     "output_type": "error",
     "traceback": [
      "\u001b[31m---------------------------------------------------------------------------\u001b[39m",
      "\u001b[31mNameError\u001b[39m                                 Traceback (most recent call last)",
      "\u001b[36mCell\u001b[39m\u001b[36m \u001b[39m\u001b[32mIn[2]\u001b[39m\u001b[32m, line 20\u001b[39m\n\u001b[32m     17\u001b[39m \u001b[38;5;66;03m# Insert multiple rows with ID_checklist from 1 to 27\u001b[39;00m\n\u001b[32m     18\u001b[39m id_situ = \u001b[32m24\u001b[39m\n\u001b[32m---> \u001b[39m\u001b[32m20\u001b[39m \u001b[38;5;28;01mfor\u001b[39;00m id_checklist \u001b[38;5;129;01min\u001b[39;00m \u001b[38;5;28mrange\u001b[39m(\u001b[32m0\u001b[39m,\u001b[38;5;28mlen\u001b[39m(\u001b[43mcustom_words\u001b[49m)):  \u001b[38;5;66;03m# 1 to 27 inclusive\u001b[39;00m\n\u001b[32m     21\u001b[39m     cur.execute(\n\u001b[32m     22\u001b[39m         \u001b[33m'\u001b[39m\u001b[33mINSERT INTO public.semantic_token_situ(\u001b[39m\u001b[33m\"\u001b[39m\u001b[33mID_token\u001b[39m\u001b[33m\"\u001b[39m\u001b[33m, sem_word_token, \u001b[39m\u001b[33m\"\u001b[39m\u001b[33mID_situ\u001b[39m\u001b[33m\"\u001b[39m\u001b[33m) VALUES(\u001b[39m\u001b[38;5;132;01m%s\u001b[39;00m\u001b[33m, \u001b[39m\u001b[38;5;132;01m%s\u001b[39;00m\u001b[33m, \u001b[39m\u001b[38;5;132;01m%s\u001b[39;00m\u001b[33m);\u001b[39m\u001b[33m'\u001b[39m,(id_checklist+\u001b[32m588\u001b[39m, custom_words[id_checklist], id_situ)\n\u001b[32m     23\u001b[39m     )\n\u001b[32m     25\u001b[39m \u001b[38;5;66;03m# Commit and close the connection\u001b[39;00m\n",
      "\u001b[31mNameError\u001b[39m: name 'custom_words' is not defined"
     ]
    }
   ],
   "source": [
    "import psycopg2\n",
    "from psycopg2.extras import RealDictCursor\n",
    "\n",
    "def get_db_connection():\n",
    "    conn = psycopg2.connect(\n",
    "        dbname='ScoringT',\n",
    "        user='postgres',\n",
    "        password='123456789',\n",
    "        host='localhost'\n",
    "    )\n",
    "    return conn\n",
    "\n",
    "conn = get_db_connection()\n",
    "\n",
    "cur = conn.cursor()\n",
    "\n",
    "# Insert multiple rows with ID_checklist from 1 to 27\n",
    "id_situ = 24\n",
    "\n",
    "for id_checklist in range(0,len(custom_words)):  # 1 to 27 inclusive\n",
    "    cur.execute(\n",
    "        'INSERT INTO public.semantic_token_situ(\"ID_token\", sem_word_token, \"ID_situ\") VALUES(%s, %s, %s);',(id_checklist+588, custom_words[id_checklist], id_situ)\n",
    "    )\n",
    "\n",
    "# Commit and close the connection\n",
    "conn.commit()\n",
    "cur.close()\n",
    "conn.close()"
   ]
  },
  {
   "cell_type": "code",
   "execution_count": 3,
   "metadata": {},
   "outputs": [
    {
     "ename": "NameError",
     "evalue": "name 'new_words' is not defined",
     "output_type": "error",
     "traceback": [
      "\u001b[31m---------------------------------------------------------------------------\u001b[39m",
      "\u001b[31mNameError\u001b[39m                                 Traceback (most recent call last)",
      "\u001b[36mCell\u001b[39m\u001b[36m \u001b[39m\u001b[32mIn[3]\u001b[39m\u001b[32m, line 20\u001b[39m\n\u001b[32m     17\u001b[39m \u001b[38;5;66;03m# Insert multiple rows with ID_checklist from 1 to 27\u001b[39;00m\n\u001b[32m     18\u001b[39m id_situ = \u001b[32m24\u001b[39m\n\u001b[32m---> \u001b[39m\u001b[32m20\u001b[39m \u001b[38;5;28;01mfor\u001b[39;00m id_checklist \u001b[38;5;129;01min\u001b[39;00m \u001b[38;5;28mrange\u001b[39m(\u001b[32m0\u001b[39m,\u001b[38;5;28mlen\u001b[39m(\u001b[43mnew_words\u001b[49m)):  \u001b[38;5;66;03m# 1 to 27 inclusive\u001b[39;00m\n\u001b[32m     21\u001b[39m     cur.execute(\n\u001b[32m     22\u001b[39m         \u001b[33m'\u001b[39m\u001b[33mINSERT INTO public.token_situ(\u001b[39m\u001b[33m\"\u001b[39m\u001b[33mID_token\u001b[39m\u001b[33m\"\u001b[39m\u001b[33m, word_token, \u001b[39m\u001b[33m\"\u001b[39m\u001b[33mID_situ\u001b[39m\u001b[33m\"\u001b[39m\u001b[33m) VALUES (\u001b[39m\u001b[38;5;132;01m%s\u001b[39;00m\u001b[33m, \u001b[39m\u001b[38;5;132;01m%s\u001b[39;00m\u001b[33m, \u001b[39m\u001b[38;5;132;01m%s\u001b[39;00m\u001b[33m);\u001b[39m\u001b[33m'\u001b[39m,(id_checklist+\u001b[32m715\u001b[39m, new_words[id_checklist], id_situ)\n\u001b[32m     23\u001b[39m     )\n\u001b[32m     25\u001b[39m \u001b[38;5;66;03m# Commit and close the connection\u001b[39;00m\n",
      "\u001b[31mNameError\u001b[39m: name 'new_words' is not defined"
     ]
    }
   ],
   "source": [
    "import psycopg2\n",
    "from psycopg2.extras import RealDictCursor\n",
    "\n",
    "def get_db_connection():\n",
    "    conn = psycopg2.connect(\n",
    "        dbname='ScoringT',\n",
    "        user='postgres',\n",
    "        password='123456789',\n",
    "        host='localhost'\n",
    "    )\n",
    "    return conn\n",
    "\n",
    "conn = get_db_connection()\n",
    "\n",
    "cur = conn.cursor()\n",
    "\n",
    "# Insert multiple rows with ID_checklist from 1 to 27\n",
    "id_situ = 24\n",
    "\n",
    "for id_checklist in range(0,len(new_words)):  # 1 to 27 inclusive\n",
    "    cur.execute(\n",
    "        'INSERT INTO public.token_situ(\"ID_token\", word_token, \"ID_situ\") VALUES (%s, %s, %s);',(id_checklist+715, new_words[id_checklist], id_situ)\n",
    "    )\n",
    "\n",
    "# Commit and close the connection\n",
    "conn.commit()\n",
    "cur.close()\n",
    "conn.close()"
   ]
  },
  {
   "cell_type": "code",
   "execution_count": 23,
   "metadata": {},
   "outputs": [],
   "source": [
    "import psycopg2\n",
    "from psycopg2.extras import RealDictCursor\n",
    "import pandas as pd\n",
    "from itertools import combinations\n",
    "\n",
    "# Connect to PostgreSQL\n",
    "def get_db_connection():\n",
    "    return psycopg2.connect(\n",
    "        dbname='ScoringT',\n",
    "        user='postgres',\n",
    "        password='123456789',\n",
    "        host='localhost'\n",
    "    )\n",
    "\n",
    "# Step 1: ดึงข้อมูลจาก checklist ที่ topic = 4\n",
    "conn = get_db_connection()\n",
    "cur = conn.cursor(cursor_factory=RealDictCursor)\n",
    "cur.execute('SELECT * FROM public.checklist WHERE topic = 4 ORDER BY \"ID_checklist\" ASC')\n",
    "rows = cur.fetchall()\n",
    "\n",
    "# Step 2: สร้างคู่ที่ไม่ซ้ำกันแบบ (A,B) เท่านั้น (ไม่มี (B,A))\n",
    "pairs = list(combinations(rows, 2))  # combinations จาก itertools จับแบบไม่ซ้ำ\n",
    "\n",
    "# Step 3: เตรียมข้อมูลสำหรับ Excel\n",
    "pair_data = []\n",
    "for a, b in pairs:\n",
    "    pair_data.append({\n",
    "        \"ID_checklist_1\": a[\"ID_checklist\"],\n",
    "        \"Detail_1\": a[\"check_sent\"],\n",
    "        \"ID_checklist_2\": b[\"ID_checklist\"],\n",
    "        \"Detail_2\": b[\"check_sent\"]\n",
    "    })\n",
    "\n",
    "# Step 4: สร้าง DataFrame และบันทึกลง Excel\n",
    "df = pd.DataFrame(pair_data)\n",
    "df.to_excel(\"checklist_pairs.xlsx\", index=False)\n",
    "\n",
    "# ปิดการเชื่อมต่อ\n",
    "cur.close()\n",
    "conn.close()"
   ]
  },
  {
   "cell_type": "markdown",
   "metadata": {},
   "source": [
    "# new word for save into database all situ"
   ]
  },
  {
   "cell_type": "code",
   "execution_count": 120,
   "metadata": {},
   "outputs": [],
   "source": [
    "import psycopg2\n",
    "from psycopg2.extras import RealDictCursor\n",
    "\n",
    "def get_db_connection():\n",
    "    conn = psycopg2.connect(\n",
    "        dbname='ScoringT',\n",
    "        user='postgres',\n",
    "        password='123456789',\n",
    "        host='localhost'\n",
    "    )\n",
    "    return conn\n",
    "\n",
    "conn = get_db_connection()\n",
    "cur = conn.cursor()\n",
    "\n",
    "new_word = 'มีความแรงของยา'\n",
    "\n",
    "for ID_situ in range(1, 25):\n",
    "    cur.execute(\n",
    "        '''\n",
    "        INSERT INTO public.token_situ(word_token, \"ID_situ\")\n",
    "        VALUES (%s, %s);\n",
    "        ''',\n",
    "        (new_word, ID_situ)\n",
    "    )\n",
    "\n",
    "conn.commit()\n",
    "cur.close()\n",
    "conn.close()"
   ]
  },
  {
   "cell_type": "code",
   "execution_count": 121,
   "metadata": {},
   "outputs": [],
   "source": [
    "import psycopg2\n",
    "from psycopg2.extras import RealDictCursor\n",
    "\n",
    "def get_db_connection():\n",
    "    conn = psycopg2.connect(\n",
    "        dbname='ScoringT',\n",
    "        user='postgres',\n",
    "        password='123456789',\n",
    "        host='localhost'\n",
    "    )\n",
    "    return conn\n",
    "\n",
    "conn = get_db_connection()\n",
    "cur = conn.cursor()\n",
    "\n",
    "new_word = 'มีความแรงของยา'\n",
    "\n",
    "for ID_situ in range(1, 25):\n",
    "    cur.execute(\n",
    "        '''\n",
    "        INSERT INTO public.semantic_token_situ(sem_word_token, \"ID_situ\")\n",
    "        VALUES (%s, %s);\n",
    "        ''',\n",
    "        (new_word, ID_situ)\n",
    "    )\n",
    "\n",
    "conn.commit()\n",
    "cur.close()\n",
    "conn.close()"
   ]
  },
  {
   "cell_type": "code",
   "execution_count": 6,
   "metadata": {},
   "outputs": [],
   "source": [
    "import psycopg2\n",
    "from psycopg2.extras import RealDictCursor\n",
    "import pandas as pd\n",
    "\n",
    "def get_db_connection():\n",
    "    conn = psycopg2.connect(\n",
    "        dbname='ScoringT',\n",
    "        user='postgres',\n",
    "        password='123456789',\n",
    "        host='localhost'\n",
    "    )\n",
    "    return conn\n",
    "\n",
    "# อ่านข้อมูลจากไฟล์ Excel\n",
    "df = pd.read_excel('./data/new_vocab.xlsx')\n",
    "\n",
    "# เชื่อมต่อกับฐานข้อมูล\n",
    "conn = get_db_connection()\n",
    "cur = conn.cursor()\n",
    "\n",
    "# วนลูปแต่ละคำจาก Excel และสถานการณ์ ID_situ\n",
    "for new_word in df['Vocab']:\n",
    "    for ID_situ in range(1, 25):\n",
    "        # ตรวจสอบว่าคำนี้มีอยู่แล้วกับ ID_situ นี้หรือยัง\n",
    "        cur.execute(\n",
    "            '''\n",
    "            SELECT 1 FROM public.token_situ\n",
    "            WHERE word_token = %s AND \"ID_situ\" = %s;\n",
    "            ''',\n",
    "            (new_word, ID_situ)\n",
    "        )\n",
    "        exists = cur.fetchone()\n",
    "\n",
    "        # ถ้าไม่พบ (None) จึงค่อยเพิ่มข้อมูล\n",
    "        if not exists:\n",
    "            cur.execute(\n",
    "                '''\n",
    "                INSERT INTO public.token_situ(word_token, \"ID_situ\")\n",
    "                VALUES (%s, %s);\n",
    "                ''',\n",
    "                (new_word, ID_situ)\n",
    "            )\n",
    "\n",
    "# บันทึกการเปลี่ยนแปลง\n",
    "conn.commit()\n",
    "\n",
    "# ปิด cursor และการเชื่อมต่อ\n",
    "cur.close()\n",
    "conn.close()"
   ]
  },
  {
   "cell_type": "markdown",
   "metadata": {},
   "source": [
    "# problem of model"
   ]
  },
  {
   "cell_type": "code",
   "execution_count": 1,
   "metadata": {},
   "outputs": [],
   "source": [
    "import psycopg2\n",
    "from psycopg2.extras import RealDictCursor\n",
    "import pandas as pd\n",
    "from itertools import combinations\n",
    "\n",
    "# Connect to PostgreSQL\n",
    "def get_db_connection():\n",
    "    return psycopg2.connect(\n",
    "        dbname='ScoringT',\n",
    "        user='postgres',\n",
    "        password='123456789',\n",
    "        host='localhost'\n",
    "    )\n",
    "\n",
    "# Step 1: ดึงข้อมูลจาก checklist ที่ topic = 4\n",
    "conn = get_db_connection()\n",
    "cur = conn.cursor(cursor_factory=RealDictCursor)\n",
    "cur.execute('SELECT * FROM public.checklist WHERE topic = 4 ORDER BY \"ID_checklist\" ASC')\n",
    "rows = cur.fetchall()\n",
    "\n",
    "# Step 2: สร้างคู่ที่ไม่ซ้ำกันแบบ (A,B) เท่านั้น (ไม่มี (B,A))\n",
    "pairs = list(combinations(rows, 2))  # combinations จาก itertools จับแบบไม่ซ้ำ\n",
    "\n",
    "# Step 3: เตรียมข้อมูลสำหรับ Excel\n",
    "pair_data = []\n",
    "for a, b in pairs:\n",
    "    pair_data.append({\n",
    "        \"ID_checklist_1\": a[\"ID_checklist\"],\n",
    "        \"Detail_1\": a[\"check_sent\"],\n",
    "        \"ID_checklist_2\": b[\"ID_checklist\"],\n",
    "        \"Detail_2\": b[\"check_sent\"]\n",
    "    })\n",
    "\n",
    "# ปิดการเชื่อมต่อ\n",
    "cur.close()\n",
    "conn.close()"
   ]
  },
  {
   "cell_type": "code",
   "execution_count": 3,
   "metadata": {},
   "outputs": [
    {
     "name": "stdout",
     "output_type": "stream",
     "text": [
      "Saved similarity results to checklist_similarity.xlsx\n"
     ]
    }
   ],
   "source": [
    "from sentence_transformers import SentenceTransformer, util\n",
    "\n",
    "# โหลดโมเดล\n",
    "model = SentenceTransformer('paraphrase-multilingual-MiniLM-L12-v2')\n",
    "\n",
    "# สร้าง similarity สำหรับทุกคู่\n",
    "for pair in pair_data:\n",
    "    sent1 = pair['Detail_1']\n",
    "    sent2 = pair['Detail_2']\n",
    "    \n",
    "    # สร้าง embedding\n",
    "    embeddings = model.encode([sent1, sent2], convert_to_tensor=True)\n",
    "\n",
    "    # คำนวณ similarity\n",
    "    similarity = util.pytorch_cos_sim(embeddings[0], embeddings[1]).item()\n",
    "    \n",
    "    # เพิ่มลงใน dictionary\n",
    "    pair['similarity'] = similarity\n",
    "\n",
    "# แปลงเป็น DataFrame และส่งออก Excel\n",
    "df = pd.DataFrame(pair_data)\n",
    "df.to_excel(\"checklist_similarity.xlsx\", index=False)\n",
    "\n",
    "print(\"Saved similarity results to checklist_similarity.xlsx\")"
   ]
  },
  {
   "cell_type": "code",
   "execution_count": null,
   "metadata": {},
   "outputs": [],
   "source": []
  },
  {
   "cell_type": "markdown",
   "metadata": {},
   "source": [
    "# save image in situ"
   ]
  },
  {
   "cell_type": "code",
   "execution_count": 7,
   "metadata": {},
   "outputs": [
    {
     "name": "stdout",
     "output_type": "stream",
     "text": [
      "Updating image for: การจ่ายยาคุมกำเนิด1\n",
      "Updating image for: การจ่ายยาคุมกำเนิด2\n",
      "Updating image for: การจ่ายยาฉีดอินซูลิน1\n",
      "Updating image for: การจ่ายยาฉีดอินซูลิน2\n",
      "Updating image for: การจ่ายยาน้ำเกลือล้างจมูก1\n",
      "Updating image for: การจ่ายยาน้ำเกลือล้างจมูก2\n",
      "Updating image for: การจ่ายยาผงผสมน้ำ1\n",
      "Updating image for: การจ่ายยาผงผสมน้ำ2\n",
      "Updating image for: การจ่ายยาพ่นจมูก1\n",
      "Updating image for: การจ่ายยาพ่นจมูก2\n",
      "Updating image for: การจ่ายยาพ่นรูปแบบDPI1(accuhaler)\n",
      "Updating image for: การจ่ายยาพ่นรูปแบบDPI2(turbuhaler)\n",
      "Updating image for: การจ่ายยาพ่นรูปแบบMDI1\n",
      "Updating image for: การจ่ายยาพ่นรูปแบบMDI2\n",
      "Updating image for: การจ่ายยาหยอดตา1\n",
      "Updating image for: การจ่ายยาหยอดตา2\n",
      "Updating image for: การจ่ายยาหยอดหู1\n",
      "Updating image for: การจ่ายยาหยอดหู2\n",
      "Updating image for: การจ่ายยาเหน็บช่องคลอด1\n",
      "Updating image for: การจ่ายยาเหน็บช่องคลอด2\n",
      "Updating image for: การจ่ายยาเหน็บทวาร1\n",
      "Updating image for: การจ่ายยาเหน็บทวาร2\n",
      "Updating image for: การจ่ายยาแผ่นแปะ1\n",
      "Updating image for: การจ่ายยาแผ่นแปะ2\n",
      "Image updates completed successfully.\n"
     ]
    }
   ],
   "source": [
    "from PIL import Image\n",
    "from glob import glob\n",
    "import os\n",
    "import psycopg2\n",
    "from psycopg2.extras import RealDictCursor\n",
    "\n",
    "def get_db_connection():\n",
    "    conn = psycopg2.connect(\n",
    "        dbname='ScoringT',\n",
    "        user='postgres',\n",
    "        password='123456789',\n",
    "        host='localhost'\n",
    "    )\n",
    "    return conn\n",
    "\n",
    "# Connect to the database\n",
    "conn = get_db_connection()\n",
    "cur = conn.cursor()\n",
    "\n",
    "# Folder containing the images\n",
    "path = r'C:\\Users\\LENOVO\\Desktop\\DemoP\\VC\\image_ใบสั่งยา'\n",
    "\n",
    "# Get all PNG image file paths\n",
    "image_files = glob(os.path.join(path, '*.png'))\n",
    "\n",
    "# Loop through each image file and update the database\n",
    "for img_path in image_files:\n",
    "    with open(img_path, 'rb') as f:\n",
    "        binary_data = f.read()\n",
    "\n",
    "    # Extract the situation name from the filename (without extension)\n",
    "    name_situ = os.path.splitext(os.path.basename(img_path))[0]\n",
    "\n",
    "    # Print to confirm what’s being processed\n",
    "    print(f\"Updating image for: {name_situ}\")\n",
    "\n",
    "    # Update the 'image' field in the 'public.situation' table\n",
    "    cur.execute(\n",
    "        \"\"\"\n",
    "        UPDATE public.situation\n",
    "        SET image = %s\n",
    "        WHERE name_situ = %s\n",
    "        \"\"\",\n",
    "        (binary_data, name_situ)\n",
    "    )\n",
    "\n",
    "# Commit changes and close the connection\n",
    "conn.commit()\n",
    "cur.close()\n",
    "conn.close()\n",
    "\n",
    "print(\"Image updates completed successfully.\")"
   ]
  },
  {
   "cell_type": "code",
   "execution_count": null,
   "metadata": {},
   "outputs": [],
   "source": []
  }
 ],
 "metadata": {
  "kernelspec": {
   "display_name": ".venv",
   "language": "python",
   "name": "python3"
  },
  "language_info": {
   "codemirror_mode": {
    "name": "ipython",
    "version": 3
   },
   "file_extension": ".py",
   "mimetype": "text/x-python",
   "name": "python",
   "nbconvert_exporter": "python",
   "pygments_lexer": "ipython3",
   "version": "3.12.4"
  }
 },
 "nbformat": 4,
 "nbformat_minor": 2
}
