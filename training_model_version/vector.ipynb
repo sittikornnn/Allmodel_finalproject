{
 "cells": [
  {
   "cell_type": "code",
   "execution_count": null,
   "metadata": {},
   "outputs": [],
   "source": [
    "#https://huggingface.co/google/gemma-3-4b-it"
   ]
  },
  {
   "cell_type": "code",
   "execution_count": 1,
   "metadata": {},
   "outputs": [],
   "source": [
    "import numpy as np\n",
    "import matplotlib.pyplot as plt\n",
    "import seaborn as sns\n",
    "from sklearn.decomposition import PCA\n",
    "from sklearn.manifold import TSNE\n",
    "from sentence_transformers import SentenceTransformer,util"
   ]
  },
  {
   "cell_type": "code",
   "execution_count": 2,
   "metadata": {},
   "outputs": [],
   "source": [
    "# Load model\n",
    "model = SentenceTransformer('paraphrase-multilingual-MiniLM-L12-v2')"
   ]
  },
  {
   "cell_type": "code",
   "execution_count": 42,
   "metadata": {},
   "outputs": [],
   "source": [
    "# Thai sentences for testing\n",
    "sentences = [\n",
    "    \"ไอบูโปรเพน\", \n",
    "    \"ไอบูโปรเพน\", \n",
    "    \"ผู้ป่วยชื่ออะไร\",\n",
    "    \"ให้คนไข้\", \n",
    "    \"เด็กซ์ออฟ\", \n",
    "    \"ตัวนะคะยานี้ชื่อ\",\n",
    "]"
   ]
  },
  {
   "cell_type": "code",
   "execution_count": 43,
   "metadata": {},
   "outputs": [
    {
     "name": "stdout",
     "output_type": "stream",
     "text": [
      "Embeddings shape: (6, 384)\n"
     ]
    }
   ],
   "source": [
    "# Generate embeddings\n",
    "embeddings = model.encode(sentences)\n",
    "# Print the shape of embeddings\n",
    "print(\"Embeddings shape:\", embeddings.shape)"
   ]
  },
  {
   "cell_type": "code",
   "execution_count": 44,
   "metadata": {},
   "outputs": [
    {
     "data": {
      "text/plain": [
       "array([[-0.08242241, -0.01143669, -0.1917838 , ..., -0.06754855,\n",
       "         0.2929505 ,  0.01389294],\n",
       "       [-0.08242241, -0.01143669, -0.1917838 , ..., -0.06754855,\n",
       "         0.2929505 ,  0.01389294],\n",
       "       [-0.03856554,  0.02435224, -0.06433328, ...,  0.33249885,\n",
       "         0.20284341,  0.02387432],\n",
       "       [-0.14293893,  0.08785676, -0.05180061, ...,  0.17226374,\n",
       "         0.20388551,  0.09926604],\n",
       "       [ 0.00636343,  0.10727507,  0.01651541, ..., -0.06605734,\n",
       "         0.08029008,  0.09758582],\n",
       "       [-0.1358093 ,  0.0482737 , -0.08653201, ...,  0.04973571,\n",
       "         0.33229676,  0.04663072]], dtype=float32)"
      ]
     },
     "execution_count": 44,
     "metadata": {},
     "output_type": "execute_result"
    }
   ],
   "source": [
    "embeddings"
   ]
  },
  {
   "cell_type": "code",
   "execution_count": 45,
   "metadata": {},
   "outputs": [
    {
     "data": {
      "text/plain": [
       "array([[  55.784298,  -94.60821 ],\n",
       "       [ -13.04219 ,  -17.331392],\n",
       "       [ -23.964994,   85.80754 ],\n",
       "       [-114.32523 ,    4.651573],\n",
       "       [  81.53122 ,   24.428919],\n",
       "       [ -65.36882 , -106.64285 ]], dtype=float32)"
      ]
     },
     "execution_count": 45,
     "metadata": {},
     "output_type": "execute_result"
    }
   ],
   "source": [
    "# Reduce dimensions using t-SNE\n",
    "tsne = TSNE(n_components=2, random_state=42, perplexity=embeddings.shape[0]-1)\n",
    "embeddings_2d_tsne = tsne.fit_transform(embeddings)\n",
    "embeddings_2d_tsne"
   ]
  },
  {
   "cell_type": "code",
   "execution_count": 46,
   "metadata": {},
   "outputs": [
    {
     "data": {
      "text/plain": [
       "tensor([[ 1.0000,  0.3829, -0.9663, -0.5425,  0.2393,  0.4690],\n",
       "        [ 0.3829,  1.0000, -0.6078,  0.5683, -0.8053,  0.9955],\n",
       "        [-0.9663, -0.6078,  1.0000,  0.3079,  0.0188, -0.6806],\n",
       "        [-0.5425,  0.5683,  0.3079,  1.0000, -0.9455,  0.4875],\n",
       "        [ 0.2393, -0.8053,  0.0188, -0.9455,  1.0000, -0.7453],\n",
       "        [ 0.4690,  0.9955, -0.6806,  0.4875, -0.7453,  1.0000]])"
      ]
     },
     "execution_count": 46,
     "metadata": {},
     "output_type": "execute_result"
    }
   ],
   "source": [
    "similarities_2d_tsne = util.cos_sim(embeddings_2d_tsne, embeddings_2d_tsne)\n",
    "similarities_2d_tsne"
   ]
  },
  {
   "cell_type": "code",
   "execution_count": 47,
   "metadata": {},
   "outputs": [
    {
     "data": {
      "text/plain": [
       "array([[-2.04,  1.05],\n",
       "       [-2.04,  1.05],\n",
       "       [ 3.36,  0.92],\n",
       "       [ 1.46, -0.12],\n",
       "       [-0.88, -1.73],\n",
       "       [ 0.14, -1.16]], dtype=float32)"
      ]
     },
     "execution_count": 47,
     "metadata": {},
     "output_type": "execute_result"
    }
   ],
   "source": [
    "pca = PCA(n_components=2, random_state=42)\n",
    "embeddings_2d_pca = pca.fit_transform(embeddings)\n",
    "embeddings_2d_pca_rounded = np.round(embeddings_2d_pca, 2)\n",
    "embeddings_2d_pca_rounded"
   ]
  },
  {
   "cell_type": "code",
   "execution_count": 48,
   "metadata": {},
   "outputs": [
    {
     "data": {
      "text/plain": [
       "tensor([[ 1.0000,  1.0000, -0.7381, -0.9241, -0.0050, -0.5583],\n",
       "        [ 1.0000,  1.0000, -0.7381, -0.9241, -0.0050, -0.5583],\n",
       "        [-0.7381, -0.7381,  1.0000,  0.9399, -0.6710, -0.1477],\n",
       "        [-0.9241, -0.9241,  0.9399,  1.0000, -0.3775,  0.1989],\n",
       "        [-0.0050, -0.0050, -0.6710, -0.3775,  1.0000,  0.8324],\n",
       "        [-0.5583, -0.5583, -0.1477,  0.1989,  0.8324,  1.0000]])"
      ]
     },
     "execution_count": 48,
     "metadata": {},
     "output_type": "execute_result"
    }
   ],
   "source": [
    "similarities_2d_pca = util.cos_sim(embeddings_2d_pca, embeddings_2d_pca)\n",
    "similarities_2d_pca"
   ]
  },
  {
   "cell_type": "code",
   "execution_count": 49,
   "metadata": {},
   "outputs": [
    {
     "data": {
      "image/png": "[encoded data removed]",
      "text/plain": [
       "<Figure size 800x600 with 1 Axes>"
      ]
     },
     "metadata": {},
     "output_type": "display_data"
    }
   ],
   "source": [
    "# Generate unique colors for each point\n",
    "num_points = len(sentences)\n",
    "colors = sns.color_palette(\"husl\", num_points)\n",
    "\n",
    "plt.rcParams['font.family'] = 'Tahoma'\n",
    "plt.figure(figsize=(8, 6))\n",
    "\n",
    "# Plot with different colors and transparency\n",
    "sns.scatterplot(x=embeddings_2d_pca_rounded[:, 0], y=embeddings_2d_pca_rounded[:, 1], hue=np.arange(num_points), palette=colors, alpha=0.6, edgecolor='black',s=100)\n",
    "\n",
    "# Annotate points with sentences\n",
    "for i, text in enumerate(sentences):\n",
    "    plt.annotate(text, (embeddings_2d_pca_rounded[i, 0], embeddings_2d_pca_rounded[i, 1]), fontsize=12)\n",
    "\n",
    "plt.grid(True, linestyle='--', alpha=0.7)\n",
    "plt.title(\"t-SNE Visualization of Thai Sentence Embeddings\")\n",
    "plt.xlabel(\"t-SNE Dimension 1\")\n",
    "plt.ylabel(\"t-SNE Dimension 2\")\n",
    "plt.legend([],[], frameon=False)  # Hide legend since we use colors just for differentiation\n",
    "plt.show()\n"
   ]
  },
  {
   "cell_type": "code",
   "execution_count": 50,
   "metadata": {},
   "outputs": [],
   "source": [
    "similarities = util.cos_sim(embeddings, embeddings)"
   ]
  },
  {
   "cell_type": "code",
   "execution_count": 51,
   "metadata": {},
   "outputs": [
    {
     "data": {
      "text/plain": [
       "tensor([[1.0000, 1.0000, 0.2202, 0.3659, 0.4831, 0.4341],\n",
       "        [1.0000, 1.0000, 0.2202, 0.3659, 0.4831, 0.4341],\n",
       "        [0.2202, 0.2202, 1.0000, 0.7705, 0.2761, 0.5874],\n",
       "        [0.3659, 0.3659, 0.7705, 1.0000, 0.4858, 0.5883],\n",
       "        [0.4831, 0.4831, 0.2761, 0.4858, 1.0000, 0.6054],\n",
       "        [0.4341, 0.4341, 0.5874, 0.5883, 0.6054, 1.0000]])"
      ]
     },
     "execution_count": 51,
     "metadata": {},
     "output_type": "execute_result"
    }
   ],
   "source": [
    "similarities"
   ]
  },
  {
   "cell_type": "code",
   "execution_count": 52,
   "metadata": {},
   "outputs": [
    {
     "name": "stdout",
     "output_type": "stream",
     "text": [
      "Cosine similarity scores:\n",
      "Sentence 0 and Sentence 1: 1.000\n",
      "Sentence 0 and Sentence 2: 0.220\n",
      "Sentence 0 and Sentence 3: 0.366\n",
      "Sentence 0 and Sentence 4: 0.483\n",
      "Sentence 0 and Sentence 5: 0.434\n",
      "Sentence 1 and Sentence 2: 0.220\n",
      "Sentence 1 and Sentence 3: 0.366\n",
      "Sentence 1 and Sentence 4: 0.483\n",
      "Sentence 1 and Sentence 5: 0.434\n",
      "Sentence 2 and Sentence 3: 0.771\n",
      "Sentence 2 and Sentence 4: 0.276\n",
      "Sentence 2 and Sentence 5: 0.587\n",
      "Sentence 3 and Sentence 4: 0.486\n",
      "Sentence 3 and Sentence 5: 0.588\n",
      "Sentence 4 and Sentence 5: 0.605\n"
     ]
    }
   ],
   "source": [
    "print(\"Cosine similarity scores:\")\n",
    "for i in range(num_points):\n",
    "    for j in range(i + 1, num_points):\n",
    "        print(f\"Sentence {i} and Sentence {j}: {similarities[i][j]:.3f}\")"
   ]
  }
 ],
 "metadata": {
  "kernelspec": {
   "display_name": ".venv",
   "language": "python",
   "name": "python3"
  },
  "language_info": {
   "codemirror_mode": {
    "name": "ipython",
    "version": 3
   },
   "file_extension": ".py",
   "mimetype": "text/x-python",
   "name": "python",
   "nbconvert_exporter": "python",
   "pygments_lexer": "ipython3",
   "version": "3.12.4"
  }
 },
 "nbformat": 4,
 "nbformat_minor": 2
}
